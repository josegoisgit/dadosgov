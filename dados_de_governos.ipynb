{
  "nbformat": 4,
  "nbformat_minor": 0,
  "metadata": {
    "colab": {
      "name": "dados de governos.ipynb",
      "provenance": [],
      "collapsed_sections": [],
      "toc_visible": true,
      "authorship_tag": "ABX9TyPZYFf9s08YWdLeAFwYmvup",
      "include_colab_link": true
    },
    "kernelspec": {
      "name": "python3",
      "display_name": "Python 3"
    },
    "language_info": {
      "name": "python"
    }
  },
  "cells": [
    {
      "cell_type": "markdown",
      "metadata": {
        "id": "view-in-github",
        "colab_type": "text"
      },
      "source": [
        "<a href=\"https://colab.research.google.com/github/josegoisgit/dadosgov/blob/main/dados_de_governos.ipynb\" target=\"_parent\"><img src=\"https://colab.research.google.com/assets/colab-badge.svg\" alt=\"Open In Colab\"/></a>"
      ]
    },
    {
      "cell_type": "markdown",
      "metadata": {
        "id": "95593vmn10w2"
      },
      "source": [
        "Bandeiras\n",
        "\n",
        "1.   Transparência digital\n",
        "2.   Dados abertos\n",
        "\n"
      ]
    },
    {
      "cell_type": "markdown",
      "metadata": {
        "id": "_Uape97265nK"
      },
      "source": [
        "Informações\n",
        "\n",
        "https://dados.gov.br/pagina/sobre\n",
        "\n",
        "https://www.oecd.org/gov/open-government-data-report-9789264305847-en.htm\n",
        "\n",
        "http://www.oecd.org/gov/digital-government/open-government-data.htm\n",
        "\n",
        "https://en.wikipedia.org/wiki/Open_by_default\n",
        "\n",
        "https://theunitedstates.io/licensing\n",
        "\n",
        "https://www.w3.org/2017/12/odi-study/\n",
        "\n",
        "https://www.w3.org/TR/vocab-dcat/"
      ]
    },
    {
      "cell_type": "code",
      "metadata": {
        "id": "wIy5u2OSQDwV"
      },
      "source": [
        "# alias_url = {\n",
        "#     'Australia' : 'data.gov.au',\n",
        "#     'Austria' : 'data.gv.at',\n",
        "#     'Belgium' : 'data.gov.be',\n",
        "#     'Brazil'  : 'dados.gov.br',\n",
        "#     'Canada' : 'open.canada.ca',\n",
        "#     'Chile' : 'datos.gob.cl',\n",
        "#     'Colombia' :'datos.gob.co',\n",
        "#     'Denmark' : 'www.digitaliser.dk/cataloues',\n",
        "#     'Dominican Republic' : 'www.datos.gob.do',\n",
        "#     'Estonia' : 'opendata.riik.ee',\n",
        "#     'Finland' : 'avoindata.fi/fi',\n",
        "#     'France' : 'data.gouv.fr',\n",
        "#     'Germany' : 'govdata.de',\n",
        "#     'Greece' : 'data.gov.gr',\n",
        "#     'Ireland' : 'data.gov.ie',\n",
        "#     'Israel' : 'data.gov.il',\n",
        "#     'Italy' : 'dati.gov.it',\n",
        "#     'Japan' : 'data.go.jp',\n",
        "#     'Korea' : 'data.go.kr',\n",
        "#     'Latvia' : 'data.gov.lv',\n",
        "#     'Lithuania' : 'data.gov.lt',\n",
        "#     'Mexico' : 'datos.gob.mx',\n",
        "#     'Netherlands' : 'data.overheid.nl',\n",
        "#     'Norway' : 'data.norge.no',\n",
        "#     'Peru' : 'datosabiertos.gob.pe',\n",
        "#     'Poland' : 'danepubliczene.gov.pl',\n",
        "#     'Portugal' : 'dados.gov.pt',\n",
        "#     'Slovenia' : 'data.gov.si',\n",
        "#     'Spain' : 'datos.gob.es',\n",
        "#     'Sweden' : 'oppnadata.se',\n",
        "#     'Switzeland' : 'opendata.swiss',\n",
        "#     'Czech Republic' : 'data.gov.cz',\n",
        "#     'New Zealand' : 'data.govt.nz',\n",
        "#     'Slovak Republic' : 'data.gov.sk',\n",
        "#     'United Kingdom' : 'data.gov.uk',\n",
        "#     'Uniteds States' : 'data.gov'\n",
        "# }"
      ],
      "execution_count": 36,
      "outputs": []
    },
    {
      "cell_type": "code",
      "metadata": {
        "id": "44nMLbUzCfTZ"
      },
      "source": [
        "alias_url = {\n",
        "    'Brazil'  : 'dados.gov.br',\n",
        "    'Dominican Republic' : 'www.datos.gob.do',\n",
        "}"
      ],
      "execution_count": 37,
      "outputs": []
    },
    {
      "cell_type": "code",
      "metadata": {
        "id": "97yABAJMnhje"
      },
      "source": [
        "#alias = 'Dominican Republic'\n",
        "#query     = 'estudio'"
      ],
      "execution_count": 38,
      "outputs": []
    },
    {
      "cell_type": "code",
      "metadata": {
        "id": "DLVO6Bq8DIhg"
      },
      "source": [
        "alias = 'Brazil'\n",
        "query = 'biblioteca'"
      ],
      "execution_count": 39,
      "outputs": []
    },
    {
      "cell_type": "code",
      "metadata": {
        "id": "XL-2914QDQxe"
      },
      "source": [
        "hyperlink = 'https://'+alias_url[alias]"
      ],
      "execution_count": 40,
      "outputs": []
    },
    {
      "cell_type": "markdown",
      "metadata": {
        "id": "fvdY4S2Yq6z8"
      },
      "source": [
        "![Screenshot 2021-04-25 075702.png](data:image/png;base64,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)"
      ]
    },
    {
      "cell_type": "markdown",
      "metadata": {
        "id": "JcHzt8iVLLgy"
      },
      "source": [
        "![image.png](data:image/png;base64,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)"
      ]
    },
    {
      "cell_type": "markdown",
      "metadata": {
        "id": "CDzisQM3LZ3X"
      },
      "source": [
        "![image.png](data:image/png;base64,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)"
      ]
    },
    {
      "cell_type": "markdown",
      "metadata": {
        "id": "UrOkZJCFx3OT"
      },
      "source": [
        "# Módulos e pacotes"
      ]
    },
    {
      "cell_type": "markdown",
      "metadata": {
        "id": "V4IG3zlMn8tV"
      },
      "source": [
        "## Instalação"
      ]
    },
    {
      "cell_type": "code",
      "metadata": {
        "id": "-2_riDgSq_w0",
        "colab": {
          "base_uri": "https://localhost:8080/"
        },
        "outputId": "60832e90-c82d-42d4-d5d9-7ffc5c6ffb56"
      },
      "source": [
        "!pip install unidecode\n",
        "!pip install pymupdf\n"
      ],
      "execution_count": 41,
      "outputs": [
        {
          "output_type": "stream",
          "text": [
            "Requirement already satisfied: unidecode in /usr/local/lib/python3.7/dist-packages (1.2.0)\n"
          ],
          "name": "stdout"
        }
      ]
    },
    {
      "cell_type": "markdown",
      "metadata": {
        "id": "D0mCIUWOoLjL"
      },
      "source": [
        "## Importação"
      ]
    },
    {
      "cell_type": "code",
      "metadata": {
        "id": "9YGE8e28pa8e"
      },
      "source": [
        "import re\n",
        "import fitz\n",
        "import requests\n",
        "import pandas\n",
        "\n",
        "from unidecode import unidecode\n",
        "\n",
        "from itertools import chain\n",
        "from lxml.etree import HTML\n",
        "\n",
        "import IPython\n",
        "import ipywidgets\n",
        "import google.colab"
      ],
      "execution_count": 42,
      "outputs": []
    },
    {
      "cell_type": "markdown",
      "metadata": {
        "id": "AbLc4GnFx5Dq"
      },
      "source": [
        "# Funções"
      ]
    },
    {
      "cell_type": "markdown",
      "metadata": {
        "id": "CWc14YGDoaGk"
      },
      "source": [
        "## auxiliares"
      ]
    },
    {
      "cell_type": "markdown",
      "metadata": {
        "id": "9eZfjn-D5PNM"
      },
      "source": [
        "#### lambdas"
      ]
    },
    {
      "cell_type": "markdown",
      "metadata": {
        "id": "g1o9gIGQ5WbM"
      },
      "source": [
        "##### strip"
      ]
    },
    {
      "cell_type": "code",
      "metadata": {
        "id": "7m5wrzf75Y0U"
      },
      "source": [
        "strip_ = lambda T: set( t.strip() for t in T if t.strip() )\n",
        "strip  = lambda T: '\\n'.join( strip_( T ) ).strip()"
      ],
      "execution_count": 43,
      "outputs": []
    },
    {
      "cell_type": "markdown",
      "metadata": {
        "id": "TqQs5czp5ZQb"
      },
      "source": [
        "##### plain"
      ]
    },
    {
      "cell_type": "code",
      "metadata": {
        "id": "frgu1nD3qCxc"
      },
      "source": [
        "\n",
        "\n",
        "plain  = lambda I: list( chain.from_iterable( I ) )\n"
      ],
      "execution_count": 44,
      "outputs": []
    },
    {
      "cell_type": "markdown",
      "metadata": {
        "id": "4flb2Nv1opzk"
      },
      "source": [
        "## get_url_html"
      ]
    },
    {
      "cell_type": "code",
      "metadata": {
        "id": "eJhufngCqCQM"
      },
      "source": [
        "def get_url_html(url):\n",
        "    requested         = requests.request('GET', url)\n",
        "    html              = HTML(requested.text)    \n",
        "    html.nsmap['url'] = url\n",
        "\n",
        "    return html\n"
      ],
      "execution_count": 45,
      "outputs": []
    },
    {
      "cell_type": "markdown",
      "metadata": {
        "id": "FGczy-3ypgTT"
      },
      "source": [
        "## xpath"
      ]
    },
    {
      "cell_type": "markdown",
      "metadata": {
        "id": "XpDHRaKhpwu7"
      },
      "source": [
        "### contains_clause"
      ]
    },
    {
      "cell_type": "code",
      "metadata": {
        "id": "cZQ8-Om_qBtE"
      },
      "source": [
        "def contains_clause(dic, operator='OR'):\n",
        "    predicados = [\"contains(@{k},'{v}')\".format(k=k,v=v) for k,v in dic.items()]\n",
        "\n",
        "    return operator.join(predicados)\n"
      ],
      "execution_count": 46,
      "outputs": []
    },
    {
      "cell_type": "markdown",
      "metadata": {
        "id": "uzUmdjFgp3_7"
      },
      "source": [
        "### compose_xpath"
      ]
    },
    {
      "cell_type": "code",
      "metadata": {
        "id": "AIU4h78ZqBEc"
      },
      "source": [
        "\n",
        "def compose_xpath(element,attribute,content):\n",
        "    dictionary = contains_clause({attribute:content})\n",
        "\n",
        "    str_dict = {\n",
        "        'element' : element,\n",
        "        'dictionary' : dictionary \n",
        "    }\n",
        "\n",
        "    return \"{element}[{dictionary}]\".format(**str_dict)\n"
      ],
      "execution_count": 47,
      "outputs": []
    },
    {
      "cell_type": "markdown",
      "metadata": {
        "id": "7Xh_L4Vnp8Cr"
      },
      "source": [
        "### get_xnodes"
      ]
    },
    {
      "cell_type": "code",
      "metadata": {
        "id": "NdaFErYzp-L9"
      },
      "source": [
        "\n",
        "def get_xnodes(html, element, attribute='class', content='', complement=''):\n",
        "    if complement:\n",
        "        xnode = html.xpath(compose_xpath(element,attribute,content) + complement)\n",
        "    else:\n",
        "        xnode = html.xpath(compose_xpath(element,attribute,content) )\n",
        "    return xnode if xnode else None\n"
      ],
      "execution_count": 48,
      "outputs": []
    },
    {
      "cell_type": "markdown",
      "metadata": {
        "id": "5QAe2IePqBA7"
      },
      "source": [
        "### get_xnode"
      ]
    },
    {
      "cell_type": "code",
      "metadata": {
        "id": "Mje8LSF0p9qc"
      },
      "source": [
        "\n",
        "def get_xnode(html, element, attribute='class', content='', complement=''):\n",
        "    xnodes = get_xnodes(html, element, attribute, content, complement)\n",
        "    return xnodes[0] if xnodes else None\n"
      ],
      "execution_count": 49,
      "outputs": []
    },
    {
      "cell_type": "markdown",
      "metadata": {
        "id": "KT5FdFGGyjdK"
      },
      "source": [
        "## datasets"
      ]
    },
    {
      "cell_type": "markdown",
      "metadata": {
        "id": "BgH8HhVKqHdr"
      },
      "source": [
        "### get_html_page_count"
      ]
    },
    {
      "cell_type": "code",
      "metadata": {
        "id": "JXuWP7cbp9R0"
      },
      "source": [
        " \n",
        "def get_html_page_count(html):\n",
        "    xnode = get_xnode( html, '//div', 'class', 'pagination' ) \n",
        "    \n",
        "    if xnode is None:\n",
        "        return 1\n",
        "    \n",
        "    pdiv = xnode.xpath( '//li/a/text()' )\n",
        "    \n",
        "    def pmax(pdiv):\n",
        "        V = [1]\n",
        "        for p in pdiv:\n",
        "            try:\n",
        "                v = int(p)\n",
        "                V.append(v)       \n",
        "            except:\n",
        "                continue\n",
        "        return max(V)    \n",
        "    return pmax(pdiv)"
      ],
      "execution_count": 50,
      "outputs": []
    },
    {
      "cell_type": "markdown",
      "metadata": {
        "id": "gyCmBNOyqKxL"
      },
      "source": [
        "### get_query_page_count"
      ]
    },
    {
      "cell_type": "code",
      "metadata": {
        "id": "B_81PAJRp8GF"
      },
      "source": [
        "\n",
        "def get_query_page_count(hyperlink,query):\n",
        "    html = get_url_html( hyperlink + '/dataset?q=%s' % query)\n",
        "    return get_html_page_count( html )\n"
      ],
      "execution_count": 51,
      "outputs": []
    },
    {
      "cell_type": "markdown",
      "metadata": {
        "id": "LmOKgNVfqL_D"
      },
      "source": [
        "### get_html_items_href\n",
        "\n",
        "\n",
        "\n",
        "\n"
      ]
    },
    {
      "cell_type": "code",
      "metadata": {
        "id": "rYf9ogE9p7V0"
      },
      "source": [
        "\n",
        "def get_html_items_href(html):\n",
        "    xnodes = get_xnodes( html, './/h3', 'class', 'dataset-heading' , '//a/@href' ) \n",
        "    return xnodes\n"
      ],
      "execution_count": 52,
      "outputs": []
    },
    {
      "cell_type": "markdown",
      "metadata": {
        "id": "A1JwakD7qrsj"
      },
      "source": [
        "### get_html_dataset"
      ]
    },
    {
      "cell_type": "code",
      "metadata": {
        "id": "tSe2-_Slp67V"
      },
      "source": [
        "\n",
        "def get_html_dataset(html):    \n",
        "    article_html = get_xnode(html , '//article')\n",
        "    \n",
        "    dataset = dict()\n",
        "    \n",
        "    dataset['organization'] = ' '.join([x.strip() for x in get_xnodes(html, './/section','class','module-content','//h1//text()')])\n",
        "    dataset['title']        = strip( get_xnodes( article_html , 'div/h1/text()') ) \n",
        "    dataset['key']          = re.sub('[^\\w]','_',unidecode(dataset['title']).lower())\n",
        "    z = get_xnodes(article_html,'//div','class','notes','//p/text()')\n",
        "    dataset['text'] = strip(z) if z else ''\n",
        "    dataset['url']          = get_xnodes( article_html, '//ol', 'class', 'breadcrumb', '//li/a/@href')\n",
        "\n",
        "    return dataset\n"
      ],
      "execution_count": 53,
      "outputs": []
    },
    {
      "cell_type": "markdown",
      "metadata": {
        "id": "39PWBSKmqwaz"
      },
      "source": [
        "### get_html_dataset_license"
      ]
    },
    {
      "cell_type": "code",
      "metadata": {
        "id": "E-HcpP3ip6aV"
      },
      "source": [
        "\n",
        "def get_html_dataset_license(html,hyperlink='https://dados.gov.br'):\n",
        "    xnode = get_xnode( html, '//section','class','license') \n",
        "\n",
        "    if not xnode: return dict(title='NA',href='',text='',logo='')\n",
        "\n",
        "    license_title = xnode.xpath( './/@title' )\n",
        "    license_href  = xnode.xpath( './/@href')\n",
        "    license_text  = [ text.strip() for text in xnode.xpath( './/text()' ) if text.strip() ]\n",
        "    license_logo  = [ hyperlink + p for p in xnode.xpath( './/img//@src' ) ]\n",
        "    \n",
        "    license_dict          = dict()\n",
        "    license_dict['title'] = license_title\n",
        "    license_dict['href']  = license_href\n",
        "    license_dict['text']  = license_text\n",
        "    license_dict['logo']  = license_logo\n",
        "\n",
        "    return license_dict\n"
      ],
      "execution_count": 54,
      "outputs": []
    },
    {
      "cell_type": "markdown",
      "metadata": {
        "id": "I1IjZx5eq0rU"
      },
      "source": [
        "### get_html_dataset_resources_href"
      ]
    },
    {
      "cell_type": "code",
      "metadata": {
        "id": "d-fGhsAop5JU"
      },
      "source": [
        "\n",
        "def get_html_dataset_resources_href(html):\n",
        "    return get_xnodes(html,'//a','class','heading','/@href')\n"
      ],
      "execution_count": 55,
      "outputs": []
    },
    {
      "cell_type": "markdown",
      "metadata": {
        "id": "0CZwsdnWyQeS"
      },
      "source": [
        "### get_html_resource_info\n",
        "\n",
        "\n",
        "\n"
      ]
    },
    {
      "cell_type": "code",
      "metadata": {
        "id": "5clS2Cq7p5uF"
      },
      "source": [
        "def get_html_resource_info(html):\n",
        "    \n",
        "    ths     = get_xnodes( html, '//table', 'class', 'table-condensed','/tbody//th/text()')\n",
        "    headers = [re.sub('[^\\w]','_',unidecode(th.lower())) for th in ths]\n",
        "    tds     = get_xnodes( html, '//table', 'class', 'table-condensed','/tbody//td')\n",
        "    data    = [strip(get_xnodes(td, './/text()')).strip() for td in tds]\n",
        "\n",
        "\n",
        "\n",
        "    content = get_xnode( html, '//div','class','module-content')\n",
        "\n",
        "\n",
        "    info_dict        = {h:d for h,d in zip(headers,data)}\n",
        "    info_dict['url'] = str(get_xnode( html, '//a','class','resource-url-analytic','/@href'))\n",
        "    \n",
        "    info_dict['title'] = str(get_xnode( content, './/h1', 'class', 'page-heading','//text()'))\n",
        "    info_dict['description'] = str(get_xnode( content, './/div', 'class', 'prose notes','//text()'))\n",
        "\n",
        "    return info_dict"
      ],
      "execution_count": 211,
      "outputs": []
    },
    {
      "cell_type": "code",
      "metadata": {
        "id": "ZBoZDn-4ybs7"
      },
      "source": [
        ""
      ],
      "execution_count": 56,
      "outputs": []
    },
    {
      "cell_type": "markdown",
      "metadata": {
        "id": "mKdqeEW-y7hq"
      },
      "source": [
        "### auxiliares"
      ]
    },
    {
      "cell_type": "markdown",
      "metadata": {
        "id": "gPLdRY-Q5C-M"
      },
      "source": [
        "#### \\_\\_dir_repr\\_\\_"
      ]
    },
    {
      "cell_type": "code",
      "metadata": {
        "id": "j6PWvTCpp3F9"
      },
      "source": [
        "\n",
        "def __dir_repr__(variable=dict,pattern=''):\n",
        "    dir_type_dict = dict()\n",
        "    \n",
        "    for attribute in dir(variable):\n",
        "        if not re.findall(pattern, attribute): continue\n",
        "        value = getattr(variable,attribute)\n",
        "        typename = type(value).__name__\n",
        "        \n",
        "        if typename not in dir_type_dict:\n",
        "            dir_type_dict[typename] = [(attribute,value)]\n",
        "        else:\n",
        "            dir_type_dict[typename].append((attribute,value))\n",
        "        \n",
        "    for key, items in dir_type_dict.items():\n",
        "        print(key)\n",
        "        print()\n",
        "        for attribute,value in items:\n",
        "            print('\\t',attribute)\n",
        "        print()\n",
        "        #print('{: <30s}{:<20s}'.format(typename, attribute))\n"
      ],
      "execution_count": 57,
      "outputs": []
    },
    {
      "cell_type": "markdown",
      "metadata": {
        "id": "kxiedcP_5ATW"
      },
      "source": [
        "#### show_url"
      ]
    },
    {
      "cell_type": "code",
      "metadata": {
        "id": "aKQwCMedp_T1"
      },
      "source": [
        "\n",
        "def show_url( url='https://'+hyperlink ):\n",
        "    dadosgov_frame = IPython.display.IFrame(src=url,width='100%',height='500px')\n",
        "    display(dadosgov_frame)\n",
        "    return\n"
      ],
      "execution_count": 58,
      "outputs": []
    },
    {
      "cell_type": "markdown",
      "metadata": {
        "id": "pdUh6Vgd5Kqz"
      },
      "source": [
        "#### query_site"
      ]
    },
    {
      "cell_type": "code",
      "metadata": {
        "id": "_tGdDMDPqADM"
      },
      "source": [
        "\n",
        "def query_site( query=''):\n",
        "    query = query.lower()\n",
        "    query = unidecode.unidecode(query)\n",
        "    query = re.sub('[^a-z\\s\\'\\\"]','',query)\n",
        "    query = re.sub('\\s+','+',query)\n",
        "    \n",
        "    url = hyperlink='/dataset?q=%s' % query\n",
        "    dadosgov_frame = IPython.display.IFrame(src=url,width='100%',height='500px')\n",
        "    display(dadosgov_frame)\n",
        "    return dadosgov_frame\n",
        "\n"
      ],
      "execution_count": 59,
      "outputs": []
    },
    {
      "cell_type": "markdown",
      "metadata": {
        "id": "2ZIG9JvF5NxE"
      },
      "source": [
        "#### lambdas"
      ]
    },
    {
      "cell_type": "markdown",
      "metadata": {
        "id": "h__vXJ9y5gpk"
      },
      "source": [
        "##### get_query_page_url"
      ]
    },
    {
      "cell_type": "code",
      "metadata": {
        "id": "CdMqtsek5f6U"
      },
      "source": [
        "get_query_page_url   = lambda h, q, p : h + '/dataset' + '?q=' + q + ( ( '&page=' + str(p) ) if ( p > 1 ) else '' )"
      ],
      "execution_count": 60,
      "outputs": []
    },
    {
      "cell_type": "markdown",
      "metadata": {
        "id": "v8Xus5wqwaI7"
      },
      "source": [
        "##### get_query_page_html"
      ]
    },
    {
      "cell_type": "code",
      "metadata": {
        "id": "M0fyng0F5kIN"
      },
      "source": [
        "get_query_page_html  = lambda h, q, p : get_url_html( get_query_page_url( h, q, p ) )\n"
      ],
      "execution_count": 61,
      "outputs": []
    },
    {
      "cell_type": "markdown",
      "metadata": {
        "id": "OekW9keY5laM"
      },
      "source": [
        "##### get_query_page_items"
      ]
    },
    {
      "cell_type": "code",
      "metadata": {
        "id": "D8AcC3Xf5keU"
      },
      "source": [
        "get_query_page_items = lambda h, q, p : get_html_items_href( get_query_page_html( h, q, p ) )\n"
      ],
      "execution_count": 62,
      "outputs": []
    },
    {
      "cell_type": "markdown",
      "metadata": {
        "id": "67s3yGmu5l_c"
      },
      "source": [
        "##### get_query_items_href"
      ]
    },
    {
      "cell_type": "code",
      "metadata": {
        "id": "CFNLFNbf5ksU"
      },
      "source": [
        "get_query_items_href = lambda h, q    : plain([ get_query_page_items( h, q, p+1 ) for p in range( get_query_page_count( h, q ) ) ])\n"
      ],
      "execution_count": 63,
      "outputs": []
    },
    {
      "cell_type": "markdown",
      "metadata": {
        "id": "4gtGqwUlre5U"
      },
      "source": [
        "# Leitura"
      ]
    },
    {
      "cell_type": "markdown",
      "metadata": {
        "id": "3J3ny2yXrsDV"
      },
      "source": [
        "## argumentos"
      ]
    },
    {
      "cell_type": "code",
      "metadata": {
        "colab": {
          "base_uri": "https://localhost:8080/",
          "height": 36
        },
        "id": "kGxIRsl0_r10",
        "outputId": "c9b36c59-9624-431b-9c67-8de6f9ce3e10"
      },
      "source": [
        "query   = re.sub('[^\\w]',' ',unidecode(query))\n",
        "query   = re.sub('\\s+'  ,' ',query)\n",
        "query   = re.sub('\\s'   ,'+',query)\n",
        "\n",
        "query"
      ],
      "execution_count": 64,
      "outputs": [
        {
          "output_type": "execute_result",
          "data": {
            "application/vnd.google.colaboratory.intrinsic+json": {
              "type": "string"
            },
            "text/plain": [
              "'biblioteca'"
            ]
          },
          "metadata": {
            "tags": []
          },
          "execution_count": 64
        }
      ]
    },
    {
      "cell_type": "code",
      "metadata": {
        "id": "huOvlIK65hSw"
      },
      "source": [
        "query_url = get_query_page_url(hyperlink,query,1)"
      ],
      "execution_count": 65,
      "outputs": []
    },
    {
      "cell_type": "code",
      "metadata": {
        "colab": {
          "base_uri": "https://localhost:8080/"
        },
        "id": "O0O-hBmZfqMt",
        "outputId": "91a19f35-1d80-415f-bada-de5cfaeeb132"
      },
      "source": [
        "print(query_url)\n"
      ],
      "execution_count": 66,
      "outputs": [
        {
          "output_type": "stream",
          "text": [
            "https://dados.gov.br/dataset?q=biblioteca\n"
          ],
          "name": "stdout"
        }
      ]
    },
    {
      "cell_type": "code",
      "metadata": {
        "id": "POFmG501zWdK",
        "colab": {
          "base_uri": "https://localhost:8080/",
          "height": 521
        },
        "outputId": "4b106494-4ab1-4f0d-ddde-d6e1874186ba"
      },
      "source": [
        "show_url(query_url)"
      ],
      "execution_count": 67,
      "outputs": [
        {
          "output_type": "display_data",
          "data": {
            "text/html": [
              "\n",
              "        <iframe\n",
              "            width=\"100%\"\n",
              "            height=\"500px\"\n",
              "            src=\"https://dados.gov.br/dataset?q=biblioteca\"\n",
              "            frameborder=\"0\"\n",
              "            allowfullscreen\n",
              "        ></iframe>\n",
              "        "
            ],
            "text/plain": [
              "<IPython.lib.display.IFrame at 0x7fa0eb264d10>"
            ]
          },
          "metadata": {
            "tags": []
          }
        }
      ]
    },
    {
      "cell_type": "markdown",
      "metadata": {
        "id": "xON07H_IrPOM"
      },
      "source": [
        "## visualização"
      ]
    },
    {
      "cell_type": "code",
      "metadata": {
        "id": "s-r8DtUz-wKZ"
      },
      "source": [
        "resources = []"
      ],
      "execution_count": 77,
      "outputs": []
    },
    {
      "cell_type": "code",
      "metadata": {
        "colab": {
          "base_uri": "https://localhost:8080/"
        },
        "id": "9Gtfj0Ncm08m",
        "outputId": "d557b4c8-894a-4f60-d835-4e7be3bbb3d1"
      },
      "source": [
        "items_href = []\n",
        "page_count = get_query_page_count( hyperlink , query )\n",
        "page_count"
      ],
      "execution_count": 78,
      "outputs": [
        {
          "output_type": "execute_result",
          "data": {
            "text/plain": [
              "7"
            ]
          },
          "metadata": {
            "tags": []
          },
          "execution_count": 78
        }
      ]
    },
    {
      "cell_type": "code",
      "metadata": {
        "colab": {
          "base_uri": "https://localhost:8080/"
        },
        "id": "lB3s4L6rnZOW",
        "outputId": "fb28eff1-99ae-4a18-9a44-af698d2f0ed7"
      },
      "source": [
        "for page in range( page_count ):\n",
        "    print('page {page} of {page_count}'.format(page_count=page_count,page=page+1) )\n",
        "    html = get_query_page_html( hyperlink, query, page+1 )\n",
        "    html_items = get_html_items_href(html)\n",
        "    tuple(map(lambda item: print('\\t',item[9:]), html_items));\n",
        "    items_href += html_items"
      ],
      "execution_count": 79,
      "outputs": [
        {
          "output_type": "stream",
          "text": [
            "page 1 of 7\n",
            "\t biblioteca\n",
            "\t unipampa-bibliotecas\n",
            "\t acervo-da-biblioteca\n",
            "\t acervo-biblioteca\n",
            "\t biblioteca-digital-funag-2020\n",
            "\t biblioteca-digital-funag-2019\n",
            "\t biblioteca-digital-funag-2018\n",
            "\t acervo-da-real-biblioteca\n",
            "\t biblioteca-digital-funag-2017\n",
            "\t biblioteca-digital-funag-2016\n",
            "\t sistema-nacional-de-bibliotecas-publicas\n",
            "\t emprestimos-acervos-das-bibliotecas\n",
            "\t biblioteca-total-de-titulos-e-exemplares\n",
            "\t biblioteca-total-de-emprestimos-por-vinculo\n",
            "\t base-de-dados-da-biblioteca-curt-nimuendaju\n",
            "\t acervo-aquisicao\n",
            "\t acervo-bibliografico\n",
            "\t unipampa-acervo-bibliografico\n",
            "\t quantidade-de-teses-e-dissertacoes\n",
            "\t bibliotecas-do-ifsp\n",
            "page 2 of 7\n",
            "\t acervo-biblioteca-edimundo-moniz\n",
            "\t existencia-de-biblioteca-nos-estabelecimentos-prisionais-segundo-uf-2018\n",
            "\t arca-das-letras-bibliotecas-para-o-brasil-rural\n",
            "\t acervo-bibliografico1\n",
            "\t acervo-digital\n",
            "\t acervo-impresso\n",
            "\t bolsas-de-extensao-cultura-e-sibi\n",
            "\t acervo-bibliografico-adquirido\n",
            "\t repositorio-institucional\n",
            "\t equipamentos-mantidos-pela-gestao-estadual-2014\n",
            "\t siagrad-plano-ensino-bibliografia-equivalentes\n",
            "\t siagrad-plano-ensino-bibliografia-volumes\n",
            "\t pnld\n",
            "\t iv-diagnostico-defensoria-publica\n",
            "\t acesso-ao-portal-de-periodicos-capes-2013-a-2016\n",
            "\t agenda-de-dirigentes-da-anatel\n",
            "\t censo-da-educacao-superior\n",
            "\t cren_geologiapontosi22\n",
            "\t cren_geologiapontosh22\n",
            "\t cren_geologiapontosh21\n",
            "page 3 of 7\n",
            "\t cren_geologiapontosf21\n",
            "\t cren_geologiapontose24\n",
            "\t cren_geologiapontose23\n",
            "\t cren_geologiapontose22\n",
            "\t cren_geologiapontose21\n",
            "\t cren_geologiapontosd24\n",
            "\t cren_geologiapontosd23\n",
            "\t cren_geologiapontosc24\n",
            "\t cren_geologiapontosc23\n",
            "\t cren_geologiapontosb23\n",
            "\t cren_geologiapontosa24\n",
            "\t cren_geologiapontosa23\n",
            "\t cren_geologiapontosb24\n",
            "\t cren_pontogeologicoamazonialegal_250\n",
            "\t cren_geologiase23\n",
            "\t cren_geologiasb23\n",
            "\t cren_geologiasf21\n",
            "\t cren_geologiase24\n",
            "\t cren_geologiase22\n",
            "\t cren_geologiase21\n",
            "page 4 of 7\n",
            "\t cren_geologiasd24\n",
            "\t cren_geologiasd23\n",
            "\t cren_geologiasc24\n",
            "\t cren_geologiasb24\n",
            "\t cren_geologialineamentosd23\n",
            "\t cren_geologiafraturasi22\n",
            "\t cren_geologiafraturash22\n",
            "\t cren_geologiafraturash21\n",
            "\t cren_geologiafraturasf21\n",
            "\t cren_geologiafraturase24\n",
            "\t cren_geologiafraturase23\n",
            "\t cren_geologiafraturase21\n",
            "\t cren_geologiafraturasd24\n",
            "\t cren_geologiafraturasd23\n",
            "\t cren_geologiafraturasc24\n",
            "\t cren_geologiafraturasc23\n",
            "\t cren_geologiafraturasb23\n",
            "\t cren_geologiafraturasb24\n",
            "\t cren_geologiafraturasa23\n",
            "\t cren_geologiafalhasi22\n",
            "page 5 of 7\n",
            "\t cren_geologiafalhash22\n",
            "\t cren_geologiafalhash21\n",
            "\t cren_geologiafalhasf21\n",
            "\t cren_geologiafalhase24\n",
            "\t cren_geologiafalhase23\n",
            "\t cren_geologiafalhase22\n",
            "\t cren_geologiafalhase21\n",
            "\t cren_geologiafalhasd24\n",
            "\t cren_geologiafalhasd23\n",
            "\t cren_geologiafalhasc24\n",
            "\t cren_geologiafalhasc23\n",
            "\t cren_geologiafalhasb23\n",
            "\t cren_geologiafalhasb24\n",
            "\t cren_geologiafalhasa24\n",
            "\t cren_geologiafalhasa23\n",
            "\t cren_geologiadobrasf21\n",
            "\t cren_geologiadobrase24\n",
            "\t cren_geologiadobrase23\n",
            "\t cren_geologiadobrase21\n",
            "\t cren_geologiadobrasd24\n",
            "page 6 of 7\n",
            "\t cren_geologiadobrasd23\n",
            "\t cren_geologiadobrasc24\n",
            "\t cren_geologiadobrasc23\n",
            "\t cren_geologiadobrasb24\n",
            "\t cren_geologiadobrasb23\n",
            "\t cren_geologiadobrasa24\n",
            "\t cren_geologiadobrasa23\n",
            "\t mapa-da-cultura\n",
            "\t siagrad-plano-ensino-bibliografia\n",
            "\t cren_geologiapontosd22\n",
            "\t cren_geologiasc23\n",
            "\t cren_geologiasi22\n",
            "\t cren_geologiash22\n",
            "\t cren_geologiash21\n",
            "\t cren_geologiasd22\n",
            "\t cren_geologiasa24\n",
            "\t cren_geologiasa23\n",
            "\t cren_geologiaamazonialegal_250\n",
            "\t cren_geologiafraturasd22\n",
            "\t cren_fraturageologicaamazonialegal_250\n",
            "page 7 of 7\n",
            "\t cren_geologiafalhasd22\n",
            "\t cren_falhageologicaamazonialegal_250\n",
            "\t cren_geologiadobrasd22\n",
            "\t cren_dobrageologicaamazonialegal_250\n",
            "\t cren_climadobrasil_5000\n",
            "\t microdados-do-censo-escolar\n",
            "\t museus-br\n"
          ],
          "name": "stdout"
        }
      ]
    },
    {
      "cell_type": "code",
      "metadata": {
        "id": "55V8Pwrqrqnc",
        "colab": {
          "base_uri": "https://localhost:8080/",
          "height": 539
        },
        "outputId": "9b3a007e-d569-4945-9a43-df85645f1c0e"
      },
      "source": [
        "ih = 0\n",
        " \n",
        "print(hyperlink + items_href[ih])\n",
        "show_url(hyperlink + items_href[ih])"
      ],
      "execution_count": 80,
      "outputs": [
        {
          "output_type": "stream",
          "text": [
            "https://dados.gov.br/dataset/biblioteca\n"
          ],
          "name": "stdout"
        },
        {
          "output_type": "display_data",
          "data": {
            "text/html": [
              "\n",
              "        <iframe\n",
              "            width=\"100%\"\n",
              "            height=\"500px\"\n",
              "            src=\"https://dados.gov.br/dataset/biblioteca\"\n",
              "            frameborder=\"0\"\n",
              "            allowfullscreen\n",
              "        ></iframe>\n",
              "        "
            ],
            "text/plain": [
              "<IPython.lib.display.IFrame at 0x7fa0e6fc17d0>"
            ]
          },
          "metadata": {
            "tags": []
          }
        }
      ]
    },
    {
      "cell_type": "markdown",
      "metadata": {
        "id": "NLug4b6G_anI"
      },
      "source": [
        "## arquivos"
      ]
    },
    {
      "cell_type": "code",
      "metadata": {
        "id": "MUggTpxR_Gap"
      },
      "source": [
        "import time"
      ],
      "execution_count": 81,
      "outputs": []
    },
    {
      "cell_type": "code",
      "metadata": {
        "id": "-Y6YqmrGqirM",
        "colab": {
          "base_uri": "https://localhost:8080/"
        },
        "outputId": "7b2f772f-4209-45a2-a507-05823ca73354"
      },
      "source": [
        "import pandas\n",
        "resources = []\n",
        "for item_href in items_href:\n",
        "    item_url = hyperlink + item_href\n",
        " \n",
        "    print('\\n\\n\\t', item_url, end='\\n\\n')\n",
        "    dataset_html   = get_url_html( item_url )\n",
        " \n",
        "    dataset        = get_html_dataset( dataset_html )\n",
        "    license        = get_html_dataset_license ( dataset_html )\n",
        "    resources_href = get_html_dataset_resources_href( dataset_html )\n",
        " \n",
        "    for resource_href in resources_href:\n",
        "        resource_url  = hyperlink + resource_href \n",
        " \n",
        "        resource_html = get_url_html( resource_url )  \n",
        "        resource_dict = get_html_resource_info(resource_html)\n",
        " \n",
        "        a = 'http://landpage-h.cgu.gov.br/dadosabertos/index.php?url='\n",
        "        resource_dict['url_out'] = resource_dict['url'].replace(a,'') if resource_dict['url'] else None        \n",
        "\n",
        "        resource_dict.update({('dataset_'+k):v for k,v in dataset.items()})\n",
        "        resource_dict.update({('license_'+k):v for k,v in license.items()})\n",
        " \n",
        "        resource_dict['havested'] = time.ctime()\n",
        "        \n",
        "        print('\\t\\t',resource_dict['url_out'], end='\\n')\n",
        " \n",
        "        resources.append( resource_dict )"
      ],
      "execution_count": 82,
      "outputs": [
        {
          "output_type": "stream",
          "text": [
            "\n",
            "\n",
            "\t https://dados.gov.br/dataset/biblioteca\n",
            "\n"
          ],
          "name": "stdout"
        },
        {
          "output_type": "stream",
          "text": [
            "/usr/local/lib/python3.7/dist-packages/ipykernel_launcher.py:5: FutureWarning: The behavior of this method will change in future versions. Use specific 'len(elem)' or 'elem is not None' test instead.\n",
            "  \"\"\"\n"
          ],
          "name": "stderr"
        },
        {
          "output_type": "stream",
          "text": [
            "\t\t http://api.ufersa.edu.br:8080/apiufersa/rest/pda/biblioteca-materiais-tipo\n",
            "\t\t http://api.ufersa.edu.br:8080/apiufersa/rest/pda/biblioteca-materiais-emprestados\n",
            "\t\t http://dadosabertos.ufersa.edu.br/dataset/72c37142-a727-4e77-bf00-8a2062968334/resource/37686a75-52e0-4386-bb32-94ece1ffb585/download/pda-ufersa-2019_2021-dicionario-de-dados-tipologiaacervobot.csv\n",
            "\t\t http://dadosabertos.ufersa.edu.br/dataset/72c37142-a727-4e77-bf00-8a2062968334/resource/5bc39829-f18d-48dc-9191-409a5bda0943/download/pda-ufersa-2019_2021-dicionario-de-dados-emprestimos_bot.csv\n",
            "\n",
            "\n",
            "\t https://dados.gov.br/dataset/unipampa-bibliotecas\n",
            "\n",
            "\t\t https://dados.unipampa.edu.br/dataset/d7682c0d-9293-43e3-8fdc-2818ab5699de/resource/f4009d81-81ed-4c03-bf4a-551ed03e0934/download/biblioteca.csv\n",
            "\t\t https://dados.unipampa.edu.br/dataset/d7682c0d-9293-43e3-8fdc-2818ab5699de/resource/2861f7dc-787b-48e5-a25e-ddd0f9210db3/download/bibliotecas-dicionario-de-dados.pdf\n",
            "\t\t https://dados.unipampa.edu.br/dataset/d7682c0d-9293-43e3-8fdc-2818ab5699de/resource/8084d71c-e6d9-4cc2-939f-bda08804cdc9/download/horarios_bib.csv\n",
            "\t\t https://dados.unipampa.edu.br/dataset/d7682c0d-9293-43e3-8fdc-2818ab5699de/resource/03ee8f2e-df37-48e9-b0f1-5d95bb0331e4/download/horarios-das-bibliotecas-dicionario-de-dados.pdf\n",
            "\n",
            "\n",
            "\t https://dados.gov.br/dataset/acervo-da-biblioteca\n",
            "\n",
            "\t\t https://drive.google.com/file/d/1dY1vlK3-LqBZKQjRuDQ1nLRPHb8lm4vm/view?usp=sharing\n",
            "\n",
            "\n",
            "\t https://dados.gov.br/dataset/acervo-biblioteca\n",
            "\n",
            "\t\t http://dados.ufrn.br/dataset/06641eab-7f73-46a4-85b7-181ab55dcae0/resource/e3d3e784-1349-4a8f-ad09-86e893328f9e/download/exemplares.csv\n",
            "\t\t http://dados.ufrn.br/dataset/06641eab-7f73-46a4-85b7-181ab55dcae0/resource/2a05076a-44e9-4d7f-8c8f-7c64c7bf3c48/download/acervo.csv\n",
            "\t\t http://dados.ufrn.br/dataset/06641eab-7f73-46a4-85b7-181ab55dcae0/resource/63bbe02b-5202-47c8-a1de-7b7b1f337a27/download/exemplares--dicionario.pdf\n",
            "\t\t http://dados.ufrn.br/dataset/06641eab-7f73-46a4-85b7-181ab55dcae0/resource/db444528-9d13-470f-a14e-e495bd886993/download/exemplares-acervo.csv\n",
            "\t\t http://dados.ufrn.br/dataset/06641eab-7f73-46a4-85b7-181ab55dcae0/resource/538b8875-aa27-4988-bc61-2d0c19db839d/download/acervo-exemplares-dicionario.pdf\n",
            "\n",
            "\n",
            "\t https://dados.gov.br/dataset/biblioteca-digital-funag-2020\n",
            "\n",
            "\t\t http://funag.gov.br/images/dados-abertos/dados-biblioteca-digital-2020-funag.docx\n",
            "\t\t http://funag.gov.br/images/dados-abertos/dados-biblioteca-digital-2020-funag.odt\n",
            "\t\t http://funag.gov.br/index.php/pt-br/images/dados-abertos/dados-biblioteca-digital-2020-funag.xml\n",
            "\n",
            "\n",
            "\t https://dados.gov.br/dataset/biblioteca-digital-funag-2019\n",
            "\n",
            "\t\t http://funag.gov.br/images/dados-abertos/dados-biblioteca-digital-funag-2019.odt\n",
            "\n",
            "\n",
            "\t https://dados.gov.br/dataset/biblioteca-digital-funag-2018\n",
            "\n",
            "\t\t http://funag.gov.br/images/dados-abertos/dados-biblioteca-digital-funag-2018.odt\n",
            "\n",
            "\n",
            "\t https://dados.gov.br/dataset/acervo-da-real-biblioteca\n",
            "\n",
            "\t\t http://dados.cultura.gov.br/dataset/33188795-8db0-45e9-9401-658a8db78290/resource/a3103f3a-7d95-4205-80d2-17247f052faa/download/realbiblioteca.xml.zip\n",
            "\t\t http://dados.cultura.gov.br/dataset/33188795-8db0-45e9-9401-658a8db78290/resource/81b7fa28-674b-4fde-b748-939f79aa8988/download/realbiblioteca.csv.zip\n",
            "\n",
            "\n",
            "\t https://dados.gov.br/dataset/biblioteca-digital-funag-2017\n",
            "\n",
            "\t\t http://funag.gov.br/images/dados-abertos/dados-biblioteca-digital-funag-2017.odt\n",
            "\n",
            "\n",
            "\t https://dados.gov.br/dataset/biblioteca-digital-funag-2016\n",
            "\n",
            "\t\t http://funag.gov.br/images/dados-abertos/biblioteca-digital.odt\n",
            "\n",
            "\n",
            "\t https://dados.gov.br/dataset/sistema-nacional-de-bibliotecas-publicas\n",
            "\n",
            "\t\t https://github.com/hacklabr/mapasculturais/blob/develop/documentation/docs/mc_config_api.md\n",
            "\t\t http://bibliotecas.cultura.gov.br/api/space/describe\n",
            "\t\t http://bibliotecas.cultura.gov.br/api/agent/describe\n",
            "\t\t http://bibliotecas.cultura.gov.br/api/event/describe\n",
            "\t\t http://bibliotecas.cultura.gov.br/api/project/describe\n",
            "\t\t http://bibliotecas.cultura.gov.br/api/space/find?@select=id,name\n",
            "\t\t http://bibliotecas.cultura.gov.br/api/agent/find?@select=id,name,email\n",
            "\t\t http://bibliotecas.cultura.gov.br/api/event/find?@select=id,name\n",
            "\t\t http://bibliotecas.cultura.gov.br/api/project/find?@select=id,name\n",
            "\n",
            "\n",
            "\t https://dados.gov.br/dataset/emprestimos-acervos-das-bibliotecas\n",
            "\n",
            "\t\t http://dados.ufrn.br/dataset/1e596793-1ac3-4b59-9ae8-f053eda6b698/resource/66f1737b-5732-4029-8b22-2698be3e24ca/download/emprestimos-20191.csv\n",
            "\t\t http://dados.ufrn.br/dataset/1e596793-1ac3-4b59-9ae8-f053eda6b698/resource/02a9e1d6-900c-450e-8e8f-90fac8125a96/download/emprestimos-20182.csv\n",
            "\t\t http://dados.ufrn.br/dataset/1e596793-1ac3-4b59-9ae8-f053eda6b698/resource/5cac670e-a90f-4ba3-95f5-65b7d82a538a/download/emprestimos-20181.csv\n",
            "\t\t http://dados.ufrn.br/dataset/1e596793-1ac3-4b59-9ae8-f053eda6b698/resource/79d668de-5d2a-4c1e-ad62-5f2933d36600/download/emprestimos-20172.csv\n",
            "\t\t http://dados.ufrn.br/dataset/1e596793-1ac3-4b59-9ae8-f053eda6b698/resource/54f56d6f-a5cc-41d9-88d6-4f4292fe26bc/download/emprestimos-20171.csv\n",
            "\t\t http://dados.ufrn.br/dataset/1e596793-1ac3-4b59-9ae8-f053eda6b698/resource/04ed856a-c6bd-4c67-a08b-ad7f382dcd7e/download/emprestimos-20162.csv\n",
            "\t\t http://dados.ufrn.br/dataset/1e596793-1ac3-4b59-9ae8-f053eda6b698/resource/17955462-aa54-45c7-9820-e9ab7d128be4/download/emprestimos-20161.csv\n",
            "\t\t http://dados.ufrn.br/dataset/1e596793-1ac3-4b59-9ae8-f053eda6b698/resource/f07e4501-8632-487f-adf0-116d5b6fb4fe/download/emprestimos-20152.csv\n",
            "\t\t http://dados.ufrn.br/dataset/1e596793-1ac3-4b59-9ae8-f053eda6b698/resource/2d18b7a9-b458-4668-8858-037c55049d40/download/emprestimos-20151.csv\n",
            "\t\t http://dados.ufrn.br/dataset/1e596793-1ac3-4b59-9ae8-f053eda6b698/resource/832df6b3-ccb0-4370-832b-193a2fe90085/download/emprestimos-20142.csv\n",
            "\t\t http://dados.ufrn.br/dataset/1e596793-1ac3-4b59-9ae8-f053eda6b698/resource/8e97f632-a6fe-4349-b06b-f650e804a7b9/download/emprestimos-20141.csv\n",
            "\t\t http://dados.ufrn.br/dataset/1e596793-1ac3-4b59-9ae8-f053eda6b698/resource/043d7156-67e9-4492-9ec7-8b7353b47bfa/download/emprestimos-20132.csv\n",
            "\t\t http://dados.ufrn.br/dataset/1e596793-1ac3-4b59-9ae8-f053eda6b698/resource/c54c4556-1ca2-4918-963d-f066082e4ee0/download/emprestimos-20131.csv\n",
            "\t\t http://dados.ufrn.br/dataset/1e596793-1ac3-4b59-9ae8-f053eda6b698/resource/7bec7701-0778-43f8-a327-540c6ec94fb6/download/emprestimos-20122.csv\n",
            "\t\t http://dados.ufrn.br/dataset/1e596793-1ac3-4b59-9ae8-f053eda6b698/resource/f9540095-6894-4ffa-b10d-b0ffbb17aa5f/download/emprestimos-20121.csv\n",
            "\t\t http://dados.ufrn.br/dataset/1e596793-1ac3-4b59-9ae8-f053eda6b698/resource/629c232f-7249-4dbd-8928-0c53af7e9b2a/download/emprestimos-20112.csv\n",
            "\t\t http://dados.ufrn.br/dataset/1e596793-1ac3-4b59-9ae8-f053eda6b698/resource/bae6ed0a-9430-4d5c-9b90-72ffe6e023df/download/emprestimos-20111.csv\n",
            "\t\t http://dados.ufrn.br/dataset/1e596793-1ac3-4b59-9ae8-f053eda6b698/resource/b954b071-5d8f-43d0-b956-e47c9922cc1a/download/emprestimos-20102.csv\n",
            "\t\t http://dados.ufrn.br/dataset/1e596793-1ac3-4b59-9ae8-f053eda6b698/resource/36a2c54d-0ed6-46bd-a3e9-161c39c0eac6/download/emprestimos-20101.csv\n",
            "\t\t http://dados.ufrn.br/dataset/1e596793-1ac3-4b59-9ae8-f053eda6b698/resource/e940d9fd-9135-4f6b-8a03-546fe33c2165/download/emprestimos-20092.csv\n",
            "\t\t http://dados.ufrn.br/dataset/1e596793-1ac3-4b59-9ae8-f053eda6b698/resource/f1fbe3a8-d0fb-4574-80d4-d68aaf3b139e/download/emprestimos-20091.csv\n",
            "\t\t http://dados.ufrn.br/dataset/1e596793-1ac3-4b59-9ae8-f053eda6b698/resource/746a7636-4daa-497a-836d-3ea66d0018e8/download/emprestimos-20082.csv\n",
            "\t\t http://dados.ufrn.br/dataset/1e596793-1ac3-4b59-9ae8-f053eda6b698/resource/7f738e2d-6d78-4616-ae37-f805132a124d/download/emprestimos-20081.csv\n",
            "\t\t http://dados.ufrn.br/dataset/1e596793-1ac3-4b59-9ae8-f053eda6b698/resource/df89b1de-4aa7-4308-9f32-6a2dfc42c0ed/download/emprestimos-20072.csv\n",
            "\t\t http://dados.ufrn.br/dataset/1e596793-1ac3-4b59-9ae8-f053eda6b698/resource/a6edee19-57df-452a-8340-219014507a3c/download/emprestimos-20071.csv\n",
            "\t\t http://dados.ufrn.br/dataset/1e596793-1ac3-4b59-9ae8-f053eda6b698/resource/dc8a3ded-c73a-4d48-9017-25d9753a4205/download/emprestimos-20062.csv\n",
            "\t\t http://dados.ufrn.br/dataset/1e596793-1ac3-4b59-9ae8-f053eda6b698/resource/7d437d68-6133-4c74-8796-2bbb0f9b6a26/download/emprestimos-20061.csv\n",
            "\t\t http://dados.ufrn.br/dataset/1e596793-1ac3-4b59-9ae8-f053eda6b698/resource/05df566b-c4c2-4b96-8283-1a2401a7b9c0/download/emprestimos-20052.csv\n",
            "\t\t http://dados.ufrn.br/dataset/1e596793-1ac3-4b59-9ae8-f053eda6b698/resource/6da3f43e-d11b-4ce2-a04d-1fa59ee16e84/download/emprestimos-20051.csv\n",
            "\t\t http://dados.ufrn.br/dataset/1e596793-1ac3-4b59-9ae8-f053eda6b698/resource/f9a7d563-b78e-493d-bdca-3f0555eb015a/download/emprestimos-20042.csv\n",
            "\t\t http://dados.ufrn.br/dataset/1e596793-1ac3-4b59-9ae8-f053eda6b698/resource/e0a9b0e6-e2a2-473d-919b-9bbea2250003/download/emprestimos-20041.csv\n",
            "\t\t http://dados.ufrn.br/dataset/1e596793-1ac3-4b59-9ae8-f053eda6b698/resource/28d5067c-ab66-4568-87ac-1beccbe2b21d/download/emprestimos-20032.csv\n",
            "\t\t http://dados.ufrn.br/dataset/1e596793-1ac3-4b59-9ae8-f053eda6b698/resource/805121b1-1e72-4ed8-9cd7-418410c747c6/download/emprestimos-20031.csv\n",
            "\t\t http://dados.ufrn.br/dataset/1e596793-1ac3-4b59-9ae8-f053eda6b698/resource/90d42242-3235-4386-ab7c-b39f72c21a03/download/emprestimos-20022.csv\n",
            "\t\t http://dados.ufrn.br/dataset/1e596793-1ac3-4b59-9ae8-f053eda6b698/resource/76b44c83-399f-455b-857e-f7944652046b/download/emprestimos-20021.csv\n",
            "\t\t http://dados.ufrn.br/dataset/1e596793-1ac3-4b59-9ae8-f053eda6b698/resource/afaf51a4-59b5-4bc0-b192-4365dbc19026/download/emprestimos-20012.csv\n",
            "\t\t http://dados.ufrn.br/dataset/1e596793-1ac3-4b59-9ae8-f053eda6b698/resource/a82309d2-cfd9-4a8e-a661-8e9464ebe63f/download/emprestimos-20011.csv\n",
            "\t\t http://dados.ufrn.br/dataset/1e596793-1ac3-4b59-9ae8-f053eda6b698/resource/b568c69b-ef3b-4ddb-b9e6-640ba8926a35/download/emprestimos-20002.csv\n",
            "\t\t http://dados.ufrn.br/dataset/1e596793-1ac3-4b59-9ae8-f053eda6b698/resource/8c7148d8-f496-4fb0-9810-7d75bf6ac5f0/download/emprestimos-dicionario.pdf\n",
            "\t\t http://dados.ufrn.br/dataset/1e596793-1ac3-4b59-9ae8-f053eda6b698/resource/51786bd8-e61c-4e4d-8ff9-51602f4e37e3/download/emprestimos-20192.csv\n",
            "\t\t http://dados.ufrn.br/dataset/1e596793-1ac3-4b59-9ae8-f053eda6b698/resource/c7e609a6-0daf-449b-8564-1876be6e69d5/download/emprestimos-20201.csv\n",
            "\n",
            "\n",
            "\t https://dados.gov.br/dataset/biblioteca-total-de-titulos-e-exemplares\n",
            "\n",
            "\t\t http://dados.cpd.ufsm.br/dataset/1b97d835-1623-4bb9-add7-7a4bcbd9db63/resource/baae286f-73af-4cd9-a6e2-c04f13b0ed7b/download/biblioteca-total-titulos-exemplares.csv\n",
            "\t\t http://dados.cpd.ufsm.br/dataset/1b97d835-1623-4bb9-add7-7a4bcbd9db63/resource/33079830-d0c6-42db-8b00-90a9f596f118/download/dicionario-de-dados-biblioteca-total-titulos-exemplares.pdf\n",
            "\n",
            "\n",
            "\t https://dados.gov.br/dataset/biblioteca-total-de-emprestimos-por-vinculo\n",
            "\n",
            "\t\t http://dados.cpd.ufsm.br/dataset/e6c64853-c36b-4046-999d-53decb355ec2/resource/d6fc5743-9430-4faf-8d09-64c493f66d50/download/biblioteca-total-de-emprestimos-por-vinculo.csv\n",
            "\t\t http://dados.cpd.ufsm.br/dataset/e6c64853-c36b-4046-999d-53decb355ec2/resource/7553c58a-78cf-449c-90da-4b0107ca0d89/download/dicionario-de-dados-biblioteca-total-emprestimos-vinculo.pdf\n",
            "\n",
            "\n",
            "\t https://dados.gov.br/dataset/base-de-dados-da-biblioteca-curt-nimuendaju\n",
            "\n",
            "\t\t http://biblioteca.funai.gov.br/cgi-bin/wxis.exe?IsisScript=phl81.xis&cipar=phl81.cip&lang=por\n",
            "\n",
            "\n",
            "\t https://dados.gov.br/dataset/acervo-aquisicao\n",
            "\n",
            "\t\t http://dados.ufrn.br/dataset/1d5de1c1-f029-4a26-bb67-8b4dbe750195/resource/3bbc6e06-d5e4-4b78-a713-bf8619ea526f/download/acervo-aquisicao-dicionario.pdf\n",
            "\t\t http://dados.ufrn.br/dataset/1d5de1c1-f029-4a26-bb67-8b4dbe750195/resource/42355191-a278-4ea3-ab36-902cb2031f60/download/acervoaquisicao.csv\n",
            "\n",
            "\n",
            "\t https://dados.gov.br/dataset/acervo-bibliografico\n",
            "\n",
            "\t\t http://www.cp2.g12.br/images/comunicacao/2017/dados_abertos/Acervo%20Bibliogr%C3%A1fico.csv\n",
            "\n",
            "\n",
            "\t https://dados.gov.br/dataset/unipampa-acervo-bibliografico\n",
            "\n",
            "\t\t https://dados.unipampa.edu.br/dataset/f0664450-ac2b-46c6-9604-a34ff68cd3fe/resource/7933e68f-01c5-497a-a1a7-62b1cc4d337c/download/itens.csv\n",
            "\t\t https://dados.unipampa.edu.br/dataset/f0664450-ac2b-46c6-9604-a34ff68cd3fe/resource/340d0aad-3a82-4695-8a2b-631277f0ce39/download/itens-dicionario-de-dados.pdf\n",
            "\t\t https://dados.unipampa.edu.br/dataset/f0664450-ac2b-46c6-9604-a34ff68cd3fe/resource/78b4873c-1355-4ca2-9702-fb0439afd8a7/download/reg_bibliografico.csv\n",
            "\t\t https://dados.unipampa.edu.br/dataset/f0664450-ac2b-46c6-9604-a34ff68cd3fe/resource/2fa0c9a1-3695-49cb-825f-fc15c67431a2/download/registros-bibliograficos-dicionario-de-dados.pdf\n",
            "\t\t https://dados.unipampa.edu.br/dataset/f0664450-ac2b-46c6-9604-a34ff68cd3fe/resource/fa70c88b-3d7d-4ed1-a9f2-7da2e2d865d1/download/registros.csv\n",
            "\t\t https://dados.unipampa.edu.br/dataset/f0664450-ac2b-46c6-9604-a34ff68cd3fe/resource/21df8a19-f4fb-40de-8ac2-28b8591b7b6f/download/registros-dicionario-de-dados.pdf\n",
            "\n",
            "\n",
            "\t https://dados.gov.br/dataset/quantidade-de-teses-e-dissertacoes\n",
            "\n",
            "\t\t https://dadosabertos.ufam.edu.br/dataset/76b42d41-2f13-4ea3-a0c5-9c2a41145453/resource/7b3fcecc-e969-47dd-8548-2c781a4daa0c/download/qtd_teses_e_dissertacoes-2018.csv\n",
            "\t\t https://dadosabertos.ufam.edu.br/dataset/76b42d41-2f13-4ea3-a0c5-9c2a41145453/resource/894fe1e5-bbc2-411c-bc20-a638f669395e/download/qtd_teses_e_dissertacoes-2017.csv\n",
            "\n",
            "\n",
            "\t https://dados.gov.br/dataset/bibliotecas-do-ifsp\n",
            "\n",
            "\t\t https://drive.ifsp.edu.br/s/DXZtc5bODQ79jfZ/download\n",
            "\t\t https://drive.ifsp.edu.br/s/PKvGpFpGTUMiIiQ/download\n",
            "\t\t https://drive.ifsp.edu.br/s/btgCbzTOO9k0B2z/download\n",
            "\t\t https://drive.ifsp.edu.br/s/QtWygycG59fCvGp/download\n",
            "\t\t https://drive.ifsp.edu.br/s/T7tJ0yzOGz3LnV0/download\n",
            "\t\t https://drive.ifsp.edu.br/s/p98qBQTycbQtZeL/download\n",
            "\t\t https://drive.ifsp.edu.br/s/T1UgZqWn7Ur4lll/download\n",
            "\t\t https://drive.ifsp.edu.br/s/tOsBAfbYDZqckdF/download\n",
            "\t\t https://drive.ifsp.edu.br/s/Q066xW5c8AzjpQg/download\n",
            "\t\t https://drive.ifsp.edu.br/s/6ZFZDbbykkd8LaI/download\n",
            "\t\t https://drive.ifsp.edu.br/s/yHo2TZguZCPSBrl/download\n",
            "\t\t https://drive.ifsp.edu.br/s/SDNYWRN7OK9dfpp/download\n",
            "\t\t https://drive.ifsp.edu.br/s/XzZjJRsu53ZFboa/download\n",
            "\t\t https://drive.ifsp.edu.br/s/ur3qCHyvVIUX5CN/download\n",
            "\t\t https://drive.ifsp.edu.br/s/YusHs4izft3K4Qs/download\n",
            "\t\t https://drive.ifsp.edu.br/s/NDZFtZ40gBBaVc1/download\n",
            "\t\t https://drive.ifsp.edu.br/s/e4ZpVgOA30fS1B8/download\n",
            "\t\t https://drive.ifsp.edu.br/s/X4ByUTZWLdo4VIl/download\n",
            "\t\t https://drive.ifsp.edu.br/s/eXyKlnimZNPJQqs/download\n",
            "\t\t https://drive.ifsp.edu.br/s/HQbxE03RDYqm3zy/download\n",
            "\t\t https://drive.ifsp.edu.br/s/orNpx8JJyCp7G7R/download\n",
            "\t\t https://drive.ifsp.edu.br/s/ufHa1uOEas6mPhv/download\n",
            "\n",
            "\n",
            "\t https://dados.gov.br/dataset/acervo-biblioteca-edimundo-moniz\n",
            "\n",
            "\t\t http://dados.cultura.gov.br/dataset/5e98f1bc-5064-4b32-a477-fa886a27502f/resource/94e103dc-dd19-4088-9973-627c12ac3f2b/download/colecao-de-periodicos.ods\n",
            "\t\t http://dados.cultura.gov.br/dataset/5e98f1bc-5064-4b32-a477-fa886a27502f/resource/72970474-ea18-4d30-88c4-d3964032fc60/download/periodicos18.06.19.xlsx\n",
            "\n",
            "\n",
            "\t https://dados.gov.br/dataset/existencia-de-biblioteca-nos-estabelecimentos-prisionais-segundo-uf-2018\n",
            "\n",
            "\t\t https://dadosjuventude.ibict.br/dataset/68b11eab-eb6d-4c33-936a-dbc3c968edbb/resource/10eb9fbe-eec0-43be-b730-c71f48f6f4db/download/eixo10_prisaobiblioteca_2018.csv\n",
            "\n",
            "\n",
            "\t https://dados.gov.br/dataset/arca-das-letras-bibliotecas-para-o-brasil-rural\n",
            "\n",
            "\t\t http://api.pgi.gov.br/api/1/serie/462.xml\n",
            "\t\t http://api.pgi.gov.br/api/1/serie/462.html\n",
            "\t\t http://api.pgi.gov.br/api/1/serie/462.json\n",
            "\n",
            "\n",
            "\t https://dados.gov.br/dataset/acervo-bibliografico1\n",
            "\n",
            "\t\t http://dados.cultura.gov.br/dataset/64ef6b12-6a5e-4b04-af09-ebedb2b436fa/resource/37375526-7e2c-4e3d-96b2-13be369e9442/download/servicobibliotecaqtdobras.csv\n",
            "\t\t http://dados.cultura.gov.br/dataset/64ef6b12-6a5e-4b04-af09-ebedb2b436fa/resource/c4dedd80-d70c-4606-866a-cd366559a2cd/download/servicobibliotecaqtdobras.ods\n",
            "\t\t http://dados.cultura.gov.br/dataset/64ef6b12-6a5e-4b04-af09-ebedb2b436fa/resource/a668074a-3331-4b06-b3c9-b2583e12355a/download/qtdsacessosacervobibliografico.csv\n",
            "\t\t http://dados.cultura.gov.br/dataset/64ef6b12-6a5e-4b04-af09-ebedb2b436fa/resource/b563a6ea-0f4e-4c02-8c95-86d7c6944fb4/download/qtdsacessosacervobibliografico.ods\n",
            "\t\t http://dados.cultura.gov.br/dataset/64ef6b12-6a5e-4b04-af09-ebedb2b436fa/resource/29b387e5-7cbe-428a-b273-9bfe48936e8a/download/visitastecnicas.csv\n",
            "\t\t http://dados.cultura.gov.br/dataset/64ef6b12-6a5e-4b04-af09-ebedb2b436fa/resource/7f737952-5d97-4f1b-926f-664531fb603d/download/visitastecnicas.ods\n",
            "\n",
            "\n",
            "\t https://dados.gov.br/dataset/acervo-digital\n",
            "\n",
            "\t\t https://dados.ufpr.br/dataset/f9fbf14e-d6ae-4215-a888-09a930a7d5ab/resource/d003b42d-56ab-4614-af28-080dd3fbebca/download/sibi_digital_2018.csv\n",
            "\t\t https://dados.ufpr.br/dataset/f9fbf14e-d6ae-4215-a888-09a930a7d5ab/resource/92ca0c91-fddf-495a-b1c0-c8bd36e305be/download/sibi_digital_2019.csv\n",
            "\t\t https://dados.ufpr.br/dataset/f9fbf14e-d6ae-4215-a888-09a930a7d5ab/resource/8dbe96c1-d9a0-43bf-875b-4185159e091b/download/sibi_digital_2020.csv\n",
            "\n",
            "\n",
            "\t https://dados.gov.br/dataset/acervo-impresso\n",
            "\n",
            "\t\t https://dados.ufpr.br/dataset/ef4f4773-ca1c-41a5-9d10-dcac6fbeca08/resource/d550b331-6632-4bba-8b31-ca5ac85afc7a/download/sibi_acervo_2018.csv\n",
            "\t\t https://dados.ufpr.br/dataset/ef4f4773-ca1c-41a5-9d10-dcac6fbeca08/resource/f6edc6a7-49eb-4007-a0d6-8f06312b04ba/download/sibi_acervo_2019.csv\n",
            "\t\t https://dados.ufpr.br/dataset/ef4f4773-ca1c-41a5-9d10-dcac6fbeca08/resource/27e15e0f-ad77-4ee9-b490-15c1b167e9a8/download/sibi_acervo_2020.csv\n",
            "\n",
            "\n",
            "\t https://dados.gov.br/dataset/bolsas-de-extensao-cultura-e-sibi\n",
            "\n",
            "\t\t https://dados.ufpr.br/dataset/32025b3a-061a-4b34-a6d3-5ee20eeda104/resource/38d1efe4-9a49-4010-850f-5dff7bda4422/download/bolsas_cultura_2018.csv\n",
            "\t\t https://dados.ufpr.br/dataset/32025b3a-061a-4b34-a6d3-5ee20eeda104/resource/79b01115-db4f-4120-a155-96b63eae852c/download/bolsas_cultura_2019.csv\n",
            "\t\t https://dados.ufpr.br/dataset/32025b3a-061a-4b34-a6d3-5ee20eeda104/resource/e6916d3a-091f-41ac-a512-0ec7296ef348/download/bolsas_cultura_2020.csv\n",
            "\n",
            "\n",
            "\t https://dados.gov.br/dataset/acervo-bibliografico-adquirido\n",
            "\n",
            "\t\t http://ckan.unifesspa.edu.br/dataset/70f60b2a-7b79-44e0-9685-ae52cb16610f/resource/a27d8e6d-53f6-448a-ae29-c095b9a4f089/download/dicionariodedadosacervobibliograficoadquiridosibi.pdf\n",
            "\t\t http://ckan.unifesspa.edu.br/dataset/70f60b2a-7b79-44e0-9685-ae52cb16610f/resource/0bb6b8f4-fa61-443f-a396-6c4f541efcc5/download/acervobibliograficoadquiridocampus2.csv\n",
            "\t\t http://ckan.unifesspa.edu.br/dataset/70f60b2a-7b79-44e0-9685-ae52cb16610f/resource/f58fee97-7546-4ba8-931f-35aa051a042d/download/acervoconsiderandomateriaisativosesembaixa.csv\n",
            "\n",
            "\n",
            "\t https://dados.gov.br/dataset/repositorio-institucional\n",
            "\n",
            "\t\t https://dados.ufcspa.edu.br/dataset/b227bb63-04c1-48b0-8eda-a759ef50ce87/resource/dc783a6e-77b3-428e-95ad-8337abce6379/download/repositorio.csv\n",
            "\t\t https://dados.ufcspa.edu.br/dataset/b227bb63-04c1-48b0-8eda-a759ef50ce87/resource/4779af26-4aa8-41c8-b49d-2db0e837817f/download/dicionario_repositorio_institucional.odt\n",
            "\n",
            "\n",
            "\t https://dados.gov.br/dataset/equipamentos-mantidos-pela-gestao-estadual-2014\n",
            "\n",
            "\t\t https://dadosjuventude.ibict.br/dataset/fcaecef7-ff08-4e1c-8472-f7e465c94ded/resource/2e10ca1f-1120-4016-8ebc-f3f5d6a70326/download/eixo6e7_equipamentos_2014.csv\n",
            "\n",
            "\n",
            "\t https://dados.gov.br/dataset/siagrad-plano-ensino-bibliografia-equivalentes\n",
            "\n",
            "\t\t https://sistemas.furg.br/sistemas/dados_abertos/arquivos/siagrad-plano-ensino-bibliografia-equivalentes.csv\n",
            "\n",
            "\n",
            "\t https://dados.gov.br/dataset/siagrad-plano-ensino-bibliografia-volumes\n",
            "\n",
            "\t\t https://sistemas.furg.br/sistemas/dados_abertos/arquivos/siagrad-plano-ensino-bibliografia-volumes.csv\n",
            "\n",
            "\n",
            "\t https://dados.gov.br/dataset/pnld\n",
            "\n",
            "\t\t https://www.fnde.gov.br/olinda-ide/servico/PNLD/versao/v1/aplicacao#!/pdaPNLD#\n",
            "\t\t https://www.fnde.gov.br/olinda-ide/servico/PNLD/versao/v1/odata/pdaPNLD?$format=text/csv\n",
            "\t\t https://www.fnde.gov.br/olinda-ide/servico/PNLD/versao/v1/odata/pdaPNLD?$format=xml\n",
            "\t\t https://www.fnde.gov.br/olinda-ide/servico/PNLD/versao/v1/odata/pdaPNLD?$format=json\n",
            "\t\t https://www.fnde.gov.br/olinda-ide/servico/PNLD/versao/v1/aplicacao#!/Distribuicao_Anterior_2019\n",
            "\t\t https://www.fnde.gov.br/olinda-ide/servico/PNLD/versao/v1/aplicacao#!/Distribuicao_PDA\n",
            "\n",
            "\n",
            "\t https://dados.gov.br/dataset/iv-diagnostico-defensoria-publica\n",
            "\n",
            "\t\t http://dados.mj.gov.br/dataset/33919e2b-3695-4879-8a7f-8f80bb3e48a1/resource/0dea14f6-99c3-4f1a-9108-3f6f00a805b1/download/oklivrocodigosdefens.ods\n",
            "\t\t http://dados.mj.gov.br/dataset/33919e2b-3695-4879-8a7f-8f80bb3e48a1/resource/eec988a6-870b-4238-ba35-88e680146200/download/okpubbdivdiagndpe1.ods\n",
            "\t\t http://dados.mj.gov.br/dataset/33919e2b-3695-4879-8a7f-8f80bb3e48a1/resource/8a37b924-34ac-4515-8310-61a321040d87/download/okpubbdivdiagndpe2.ods\n",
            "\t\t http://dados.mj.gov.br/dataset/33919e2b-3695-4879-8a7f-8f80bb3e48a1/resource/4f9783d9-0dd3-4b0e-8d85-4440afc20e0b/download/okpubbdivdiagndpf1.ods\n",
            "\t\t http://dados.mj.gov.br/dataset/33919e2b-3695-4879-8a7f-8f80bb3e48a1/resource/221459b4-9ccc-4049-a40d-c8f6c545ee91/download/okpubbdivdiagndpf2.ods\n",
            "\t\t http://dados.mj.gov.br/dataset/33919e2b-3695-4879-8a7f-8f80bb3e48a1/resource/ace37834-0578-4f03-a7b3-47dbe940c19e/download/okpubbdivdiagndpge1.ods\n",
            "\t\t http://dados.mj.gov.br/dataset/33919e2b-3695-4879-8a7f-8f80bb3e48a1/resource/1719c73c-843d-4895-978d-a5cce3f46b98/download/okpubbdivdiagndpge2.ods\n",
            "\t\t http://dados.mj.gov.br/dataset/33919e2b-3695-4879-8a7f-8f80bb3e48a1/resource/a35f1265-b698-4754-8771-edf4c53d836b/download/okpubbdivdiagndpge3.ods\n",
            "\t\t http://dados.mj.gov.br/dataset/33919e2b-3695-4879-8a7f-8f80bb3e48a1/resource/cba93fc8-8cd5-4b0a-adc2-27a0f12fb224/download/okpubbdivdiagndpgf1.ods\n",
            "\t\t http://dados.mj.gov.br/dataset/33919e2b-3695-4879-8a7f-8f80bb3e48a1/resource/167a34c6-fab8-412b-b34f-c3526a58a9bb/download/okpubbdivdiagndpgf2.ods\n",
            "\t\t http://dados.mj.gov.br/dataset/33919e2b-3695-4879-8a7f-8f80bb3e48a1/resource/8caf3bc3-322f-42e7-a414-ecea79d456e5/download/okpubbdivdiagndpgf3.ods\n",
            "\n",
            "\n",
            "\t https://dados.gov.br/dataset/acesso-ao-portal-de-periodicos-capes-2013-a-2016\n",
            "\n",
            "\t\t https://dadosabertos.capes.gov.br/dataset/521d18c5-1be6-4cba-bbe0-669070b08e09/resource/a5534b0b-d77f-4e9b-8b27-405a1e7a62a9/download/br-capes-acesso-portal-periodicos-2013a2016-2018-10-01.csv\n",
            "\t\t https://dadosabertos.capes.gov.br/dataset/521d18c5-1be6-4cba-bbe0-669070b08e09/resource/ffc662f9-6c27-42c6-a274-16a17c9d2ded/download/br-capes-acesso-portal-periodicos-2013a2016-2018-10-01.xlsx\n",
            "\t\t https://dadosabertos.capes.gov.br/dataset/521d18c5-1be6-4cba-bbe0-669070b08e09/resource/1d8f9ddc-ffda-4913-9367-ebfe5df66e1a/download/br-capes-acesso-portal-periodicos-2013a2016-2018-10-01.csv\n",
            "\t\t https://dadosabertos.capes.gov.br/dataset/521d18c5-1be6-4cba-bbe0-669070b08e09/resource/487f3454-7fa2-4fb3-b5c2-26e06c062fa1/download/br-capes-acesso-portal-periodicos-2013a2016-2018-10-01.xlsx\n",
            "\t\t https://dadosabertos.capes.gov.br/dataset/521d18c5-1be6-4cba-bbe0-669070b08e09/resource/9921b3ae-0d25-40ce-bbaa-9874aaa4356d/download/br-capes-acesso-portal-periodicos-2013a2016-2018-10-01.csv\n",
            "\t\t https://dadosabertos.capes.gov.br/dataset/521d18c5-1be6-4cba-bbe0-669070b08e09/resource/1bd31eb6-f25e-4c75-903d-af0c37828632/download/br-capes-acesso-portal-periodicos-2013a2016-2018-10-01.xlsx\n",
            "\t\t https://dadosabertos.capes.gov.br/dataset/521d18c5-1be6-4cba-bbe0-669070b08e09/resource/2b1b3ffc-813e-45b0-8433-bac3cc9c180e/download/br-capes-acesso-portal-periodicos-2013a2016-2018-10-01.csv\n",
            "\t\t https://dadosabertos.capes.gov.br/dataset/521d18c5-1be6-4cba-bbe0-669070b08e09/resource/3ad27618-0ca3-419f-887a-2d0af4ddc8fa/download/br-capes-acesso-portal-periodicos-2013a2016-2018-10-01.xlsx\n",
            "\t\t https://dadosabertos.capes.gov.br/dataset/521d18c5-1be6-4cba-bbe0-669070b08e09/resource/50637eb3-1f26-4b92-8171-f29859d9656d/download/ddi-documentation-portuguese-134.pdf\n",
            "\t\t https://metadados.capes.gov.br/index.php/catalog/134\n",
            "\n",
            "\n",
            "\t https://dados.gov.br/dataset/agenda-de-dirigentes-da-anatel\n",
            "\n",
            "\t\t https://www.anatel.gov.br\\dadosabertos\\PDA\\Agenda_dirigentes\\Agenda_Dirigentes_11_2020.xls\n",
            "\t\t https://www.anatel.gov.br\\dadosabertos\\PDA\\Agenda_dirigentes\\Agenda_Glossario_e_Metadados.pdf\n",
            "\n",
            "\n",
            "\t https://dados.gov.br/dataset/censo-da-educacao-superior\n",
            "\n",
            "\t\t http://www.ufjf.br/planejamento/files/2013/07/RelatorioConsolidado-UFJF-2011.pdf\n",
            "\t\t http://www.ufjf.br/planejamento/files/2013/07/Relatorio-Consolidado-UFJF-2012.pdf\n",
            "\t\t http://www.ufjf.br/planejamento/files/2013/07/Relat%C3%B3rio-Consolidado-IES.pdf\n",
            "\t\t http://www.ufjf.br/planejamento/files/2013/07/ConsolidadoIES-2014.pdf\n",
            "\t\t http://www.ufjf.br/planejamento/files/2013/07/ANEXO-2.pdf\n",
            "\t\t http://www.ufjf.br/planejamento/files/2013/07/Relat%C3%B3rio-Consolidado-UFJF-2016.pdf\n",
            "\t\t http://www.ufjf.br/planejamento/files/2013/07/ConsolidadoIES-3.pdf\n",
            "\n",
            "\n",
            "\t https://dados.gov.br/dataset/cren_geologiapontosi22\n",
            "\n",
            "\t\t http://www.geoservicos.ibge.gov.br/geoserver/wms?service=WFS&version=1.0.0&request=GetFeature&typeName=CREN:GeologiaPontoSI22&outputFormat=CSV\n",
            "\t\t http://www.geoservicos.ibge.gov.br/geoserver/wms?service=WFS&version=1.0.0&request=GetFeature&typeName=CREN:GeologiaPontoSI22&outputFormat=JSON\n",
            "\t\t http://www.geoservicos.ibge.gov.br/geoserver/wms?service=WFS&version=1.0.0&request=GetFeature&typeName=CREN:GeologiaPontoSI22&outputFormat=SHAPE-ZIP\n",
            "\t\t http://www.geoservicos.ibge.gov.br/geoserver/wms?service=WMS&version=1.1.0&request=GetMap&layers=CREN:GeologiaPontoSI22&width=1024&height=768&bbox=-74,-34,-29,6&format=application/vnd.google-earth.kmz xml\n",
            "\t\t http://visualizador.inde.gov.br/VisualizaCamada/827\n",
            "\n",
            "\n",
            "\t https://dados.gov.br/dataset/cren_geologiapontosh22\n",
            "\n",
            "\t\t http://www.geoservicos.ibge.gov.br/geoserver/wms?service=WFS&version=1.0.0&request=GetFeature&typeName=CREN:GeologiaPontoSH22&outputFormat=CSV\n",
            "\t\t http://www.geoservicos.ibge.gov.br/geoserver/wms?service=WFS&version=1.0.0&request=GetFeature&typeName=CREN:GeologiaPontoSH22&outputFormat=JSON\n",
            "\t\t http://www.geoservicos.ibge.gov.br/geoserver/wms?service=WFS&version=1.0.0&request=GetFeature&typeName=CREN:GeologiaPontoSH22&outputFormat=SHAPE-ZIP\n",
            "\t\t http://www.geoservicos.ibge.gov.br/geoserver/wms?service=WMS&version=1.1.0&request=GetMap&layers=CREN:GeologiaPontoSH22&width=1024&height=768&bbox=-74,-34,-29,6&format=application/vnd.google-earth.kmz xml\n",
            "\t\t http://visualizador.inde.gov.br/VisualizaCamada/826\n",
            "\n",
            "\n",
            "\t https://dados.gov.br/dataset/cren_geologiapontosh21\n",
            "\n",
            "\t\t http://www.geoservicos.ibge.gov.br/geoserver/wms?service=WFS&version=1.0.0&request=GetFeature&typeName=CREN:GeologiaPontoSH21&outputFormat=CSV\n",
            "\t\t http://www.geoservicos.ibge.gov.br/geoserver/wms?service=WFS&version=1.0.0&request=GetFeature&typeName=CREN:GeologiaPontoSH21&outputFormat=JSON\n",
            "\t\t http://www.geoservicos.ibge.gov.br/geoserver/wms?service=WFS&version=1.0.0&request=GetFeature&typeName=CREN:GeologiaPontoSH21&outputFormat=SHAPE-ZIP\n",
            "\t\t http://www.geoservicos.ibge.gov.br/geoserver/wms?service=WMS&version=1.1.0&request=GetMap&layers=CREN:GeologiaPontoSH21&width=1024&height=768&bbox=-74,-34,-29,6&format=application/vnd.google-earth.kmz xml\n",
            "\t\t http://visualizador.inde.gov.br/VisualizaCamada/825\n",
            "\n",
            "\n",
            "\t https://dados.gov.br/dataset/cren_geologiapontosf21\n",
            "\n",
            "\t\t http://www.geoservicos.ibge.gov.br/geoserver/wms/?service=WFS&version=1.0.0&request=GetFeature&typeName=CREN:GeologiaPontoSF21&outputFormat=CSV\n",
            "\t\t http://www.geoservicos.ibge.gov.br/geoserver/wms/?service=WFS&version=1.0.0&request=GetFeature&typeName=CREN:GeologiaPontoSF21&outputFormat=JSON\n",
            "\t\t http://www.geoservicos.ibge.gov.br/geoserver/wms/?service=WFS&version=1.0.0&request=GetFeature&typeName=CREN:GeologiaPontoSF21&outputFormat=SHAPE-ZIP\n",
            "\t\t http://www.geoservicos.ibge.gov.br/geoserver/wms/?service=WMS&version=1.1.0&request=GetMap&layers=CREN:GeologiaPontoSF21&width=1024&height=768&bbox=-74,-34,-29,6&format=application/vnd.google-earth.kmz xml\n",
            "\t\t http://visualizador.inde.gov.br/VisualizaCamada/1410\n",
            "\n",
            "\n",
            "\t https://dados.gov.br/dataset/cren_geologiapontose24\n",
            "\n",
            "\t\t http://www.geoservicos.ibge.gov.br/geoserver/wms?service=WFS&version=1.0.0&request=GetFeature&typeName=CREN:GeologiaPontoSE24&outputFormat=CSV\n",
            "\t\t http://www.geoservicos.ibge.gov.br/geoserver/wms?service=WFS&version=1.0.0&request=GetFeature&typeName=CREN:GeologiaPontoSE24&outputFormat=JSON\n",
            "\t\t http://www.geoservicos.ibge.gov.br/geoserver/wms?service=WFS&version=1.0.0&request=GetFeature&typeName=CREN:GeologiaPontoSE24&outputFormat=SHAPE-ZIP\n",
            "\t\t http://www.geoservicos.ibge.gov.br/geoserver/wms?service=WMS&version=1.1.0&request=GetMap&layers=CREN:GeologiaPontoSE24&width=1024&height=768&bbox=-74,-34,-29,6&format=application/vnd.google-earth.kmz xml\n",
            "\t\t http://visualizador.inde.gov.br/VisualizaCamada/1180\n",
            "\n",
            "\n",
            "\t https://dados.gov.br/dataset/cren_geologiapontose23\n",
            "\n",
            "\t\t http://www.geoservicos.ibge.gov.br/geoserver/wms?service=WFS&version=1.0.0&request=GetFeature&typeName=CREN:GeologiaPontoSE23&outputFormat=CSV\n",
            "\t\t http://www.geoservicos.ibge.gov.br/geoserver/wms?service=WFS&version=1.0.0&request=GetFeature&typeName=CREN:GeologiaPontoSE23&outputFormat=JSON\n",
            "\t\t http://www.geoservicos.ibge.gov.br/geoserver/wms?service=WFS&version=1.0.0&request=GetFeature&typeName=CREN:GeologiaPontoSE23&outputFormat=SHAPE-ZIP\n",
            "\t\t http://www.geoservicos.ibge.gov.br/geoserver/wms?service=WMS&version=1.1.0&request=GetMap&layers=CREN:GeologiaPontoSE23&width=1024&height=768&bbox=-74,-34,-29,6&format=application/vnd.google-earth.kmz xml\n",
            "\t\t http://visualizador.inde.gov.br/VisualizaCamada/1179\n",
            "\n",
            "\n",
            "\t https://dados.gov.br/dataset/cren_geologiapontose22\n",
            "\n",
            "\t\t http://www.geoservicos.ibge.gov.br/geoserver/wms?service=WFS&version=1.0.0&request=GetFeature&typeName=CREN:GeologiaPontoSE22&outputFormat=CSV\n",
            "\t\t http://www.geoservicos.ibge.gov.br/geoserver/wms?service=WFS&version=1.0.0&request=GetFeature&typeName=CREN:GeologiaPontoSE22&outputFormat=JSON\n",
            "\t\t http://www.geoservicos.ibge.gov.br/geoserver/wms?service=WFS&version=1.0.0&request=GetFeature&typeName=CREN:GeologiaPontoSE22&outputFormat=SHAPE-ZIP\n",
            "\t\t http://www.geoservicos.ibge.gov.br/geoserver/wms?service=WMS&version=1.1.0&request=GetMap&layers=CREN:GeologiaPontoSE22&width=1024&height=768&bbox=-74,-34,-29,6&format=application/vnd.google-earth.kmz xml\n",
            "\t\t http://visualizador.inde.gov.br/VisualizaCamada/1177\n",
            "\n",
            "\n",
            "\t https://dados.gov.br/dataset/cren_geologiapontose21\n",
            "\n",
            "\t\t http://www.geoservicos.ibge.gov.br/geoserver/wms/?service=WFS&version=1.0.0&request=GetFeature&typeName=CREN:GeologiaPontoSE21&outputFormat=CSV\n",
            "\t\t http://www.geoservicos.ibge.gov.br/geoserver/wms/?service=WFS&version=1.0.0&request=GetFeature&typeName=CREN:GeologiaPontoSE21&outputFormat=JSON\n",
            "\t\t http://www.geoservicos.ibge.gov.br/geoserver/wms/?service=WFS&version=1.0.0&request=GetFeature&typeName=CREN:GeologiaPontoSE21&outputFormat=SHAPE-ZIP\n",
            "\t\t http://www.geoservicos.ibge.gov.br/geoserver/wms/?service=WMS&version=1.1.0&request=GetMap&layers=CREN:GeologiaPontoSE21&width=1024&height=768&bbox=-74,-34,-29,6&format=application/vnd.google-earth.kmz xml\n",
            "\t\t http://visualizador.inde.gov.br/VisualizaCamada/1407\n",
            "\n",
            "\n",
            "\t https://dados.gov.br/dataset/cren_geologiapontosd24\n",
            "\n",
            "\t\t http://www.geoservicos.ibge.gov.br/geoserver/wms/?service=WFS&version=1.0.0&request=GetFeature&typeName=CREN:GeologiaPontoSD24&outputFormat=CSV\n",
            "\t\t http://www.geoservicos.ibge.gov.br/geoserver/wms/?service=WFS&version=1.0.0&request=GetFeature&typeName=CREN:GeologiaPontoSD24&outputFormat=JSON\n",
            "\t\t http://www.geoservicos.ibge.gov.br/geoserver/wms/?service=WFS&version=1.0.0&request=GetFeature&typeName=CREN:GeologiaPontoSD24&outputFormat=SHAPE-ZIP\n",
            "\t\t http://www.geoservicos.ibge.gov.br/geoserver/wms/?service=WMS&version=1.1.0&request=GetMap&layers=CREN:GeologiaPontoSD24&width=1024&height=768&bbox=-74,-34,-29,6&format=application/vnd.google-earth.kmz xml\n",
            "\t\t http://visualizador.inde.gov.br/VisualizaCamada/1402\n",
            "\n",
            "\n",
            "\t https://dados.gov.br/dataset/cren_geologiapontosd23\n",
            "\n",
            "\t\t http://www.geoservicos.ibge.gov.br/geoserver/wms?service=WFS&version=1.0.0&request=GetFeature&typeName=CREN:GeologiaPontoSD23&outputFormat=CSV\n",
            "\t\t http://www.geoservicos.ibge.gov.br/geoserver/wms?service=WFS&version=1.0.0&request=GetFeature&typeName=CREN:GeologiaPontoSD23&outputFormat=JSON\n",
            "\t\t http://www.geoservicos.ibge.gov.br/geoserver/wms?service=WFS&version=1.0.0&request=GetFeature&typeName=CREN:GeologiaPontoSD23&outputFormat=SHAPE-ZIP\n",
            "\t\t http://www.geoservicos.ibge.gov.br/geoserver/wms?service=WMS&version=1.1.0&request=GetMap&layers=CREN:GeologiaPontoSD23&width=1024&height=768&bbox=-74,-34,-29,6&format=application/vnd.google-earth.kmz xml\n",
            "\t\t http://visualizador.inde.gov.br/VisualizaCamada/1087\n",
            "\n",
            "\n",
            "\t https://dados.gov.br/dataset/cren_geologiapontosc24\n",
            "\n",
            "\t\t http://www.geoservicos.ibge.gov.br/geoserver/wms?service=WFS&version=1.0.0&request=GetFeature&typeName=CREN:GeologiaPontoSC24&outputFormat=CSV\n",
            "\t\t http://www.geoservicos.ibge.gov.br/geoserver/wms?service=WFS&version=1.0.0&request=GetFeature&typeName=CREN:GeologiaPontoSC24&outputFormat=JSON\n",
            "\t\t http://www.geoservicos.ibge.gov.br/geoserver/wms?service=WFS&version=1.0.0&request=GetFeature&typeName=CREN:GeologiaPontoSC24&outputFormat=SHAPE-ZIP\n",
            "\t\t http://www.geoservicos.ibge.gov.br/geoserver/wms?service=WMS&version=1.1.0&request=GetMap&layers=CREN:GeologiaPontoSC24&width=1024&height=768&bbox=-74,-34,-29,6&format=application/vnd.google-earth.kmz xml\n",
            "\t\t http://visualizador.inde.gov.br/VisualizaCamada/1178\n",
            "\n",
            "\n",
            "\t https://dados.gov.br/dataset/cren_geologiapontosc23\n",
            "\n",
            "\t\t http://www.geoservicos.ibge.gov.br/geoserver/wms?service=WFS&version=1.0.0&request=GetFeature&typeName=CREN:GeologiaPontoSC23&outputFormat=CSV\n",
            "\t\t http://www.geoservicos.ibge.gov.br/geoserver/wms?service=WFS&version=1.0.0&request=GetFeature&typeName=CREN:GeologiaPontoSC23&outputFormat=JSON\n",
            "\t\t http://www.geoservicos.ibge.gov.br/geoserver/wms?service=WFS&version=1.0.0&request=GetFeature&typeName=CREN:GeologiaPontoSC23&outputFormat=SHAPE-ZIP\n",
            "\t\t http://www.geoservicos.ibge.gov.br/geoserver/wms?service=WMS&version=1.1.0&request=GetMap&layers=CREN:GeologiaPontoSC23&width=1024&height=768&bbox=-74,-34,-29,6&format=application/vnd.google-earth.kmz xml\n",
            "\t\t http://visualizador.inde.gov.br/VisualizaCamada/824\n",
            "\n",
            "\n",
            "\t https://dados.gov.br/dataset/cren_geologiapontosb23\n",
            "\n",
            "\t\t http://www.geoservicos.ibge.gov.br/geoserver/wms?service=WFS&version=1.0.0&request=GetFeature&typeName=CREN:GeologiaPontoSB23&outputFormat=CSV\n",
            "\t\t http://www.geoservicos.ibge.gov.br/geoserver/wms?service=WFS&version=1.0.0&request=GetFeature&typeName=CREN:GeologiaPontoSB23&outputFormat=JSON\n",
            "\t\t http://www.geoservicos.ibge.gov.br/geoserver/wms?service=WFS&version=1.0.0&request=GetFeature&typeName=CREN:GeologiaPontoSB23&outputFormat=SHAPE-ZIP\n",
            "\t\t http://www.geoservicos.ibge.gov.br/geoserver/wms?service=WMS&version=1.1.0&request=GetMap&layers=CREN:GeologiaPontoSB23&width=1024&height=768&bbox=-74,-34,-29,6&format=application/vnd.google-earth.kmz xml\n",
            "\t\t http://visualizador.inde.gov.br/VisualizaCamada/822\n",
            "\n",
            "\n",
            "\t https://dados.gov.br/dataset/cren_geologiapontosa24\n",
            "\n",
            "\t\t http://www.geoservicos.ibge.gov.br/geoserver/wms?service=WFS&version=1.0.0&request=GetFeature&typeName=CREN:GeologiaPontoSA24&outputFormat=CSV\n",
            "\t\t http://www.geoservicos.ibge.gov.br/geoserver/wms?service=WFS&version=1.0.0&request=GetFeature&typeName=CREN:GeologiaPontoSA24&outputFormat=JSON\n",
            "\t\t http://www.geoservicos.ibge.gov.br/geoserver/wms?service=WFS&version=1.0.0&request=GetFeature&typeName=CREN:GeologiaPontoSA24&outputFormat=SHAPE-ZIP\n",
            "\t\t http://www.geoservicos.ibge.gov.br/geoserver/wms?service=WMS&version=1.1.0&request=GetMap&layers=CREN:GeologiaPontoSA24&width=1024&height=768&bbox=-74,-34,-29,6&format=application/vnd.google-earth.kmz xml\n",
            "\t\t http://visualizador.inde.gov.br/VisualizaCamada/823\n",
            "\n",
            "\n",
            "\t https://dados.gov.br/dataset/cren_geologiapontosa23\n",
            "\n",
            "\t\t http://www.geoservicos.ibge.gov.br/geoserver/wms?service=WFS&version=1.0.0&request=GetFeature&typeName=CREN:GeologiaPontoSA23&outputFormat=CSV\n",
            "\t\t http://www.geoservicos.ibge.gov.br/geoserver/wms?service=WFS&version=1.0.0&request=GetFeature&typeName=CREN:GeologiaPontoSA23&outputFormat=JSON\n",
            "\t\t http://www.geoservicos.ibge.gov.br/geoserver/wms?service=WFS&version=1.0.0&request=GetFeature&typeName=CREN:GeologiaPontoSA23&outputFormat=SHAPE-ZIP\n",
            "\t\t http://www.geoservicos.ibge.gov.br/geoserver/wms?service=WMS&version=1.1.0&request=GetMap&layers=CREN:GeologiaPontoSA23&width=1024&height=768&bbox=-74,-34,-29,6&format=application/vnd.google-earth.kmz xml\n",
            "\t\t http://visualizador.inde.gov.br/VisualizaCamada/821\n",
            "\n",
            "\n",
            "\t https://dados.gov.br/dataset/cren_geologiapontosb24\n",
            "\n",
            "\t\t http://www.geoservicos.ibge.gov.br/geoserver/wms/?service=WFS&version=1.0.0&request=GetFeature&typeName=CREN:GeologiaPontoSB24&outputFormat=CSV\n",
            "\t\t http://www.geoservicos.ibge.gov.br/geoserver/wms/?service=WFS&version=1.0.0&request=GetFeature&typeName=CREN:GeologiaPontoSB24&outputFormat=JSON\n",
            "\t\t http://www.geoservicos.ibge.gov.br/geoserver/wms/?service=WFS&version=1.0.0&request=GetFeature&typeName=CREN:GeologiaPontoSB24&outputFormat=SHAPE-ZIP\n",
            "\t\t http://www.geoservicos.ibge.gov.br/geoserver/wms/?service=WMS&version=1.1.0&request=GetMap&layers=CREN:GeologiaPontoSB24&width=1024&height=768&bbox=-74,-34,-29,6&format=application/vnd.google-earth.kmz xml\n",
            "\t\t http://visualizador.inde.gov.br/VisualizaCamada/1398\n",
            "\n",
            "\n",
            "\t https://dados.gov.br/dataset/cren_pontogeologicoamazonialegal_250\n",
            "\n",
            "\t\t http://www.geoservicos.ibge.gov.br/geoserver/wms?service=WFS&version=1.0.0&request=GetFeature&typeName=CREN:PontoGeologicoAmazoniaLegal_250&outputFormat=CSV\n",
            "\t\t http://www.geoservicos.ibge.gov.br/geoserver/wms?service=WFS&version=1.0.0&request=GetFeature&typeName=CREN:PontoGeologicoAmazoniaLegal_250&outputFormat=JSON\n",
            "\t\t http://www.geoservicos.ibge.gov.br/geoserver/wms?service=WFS&version=1.0.0&request=GetFeature&typeName=CREN:PontoGeologicoAmazoniaLegal_250&outputFormat=SHAPE-ZIP\n",
            "\t\t http://www.geoservicos.ibge.gov.br/geoserver/wms?service=WMS&version=1.1.0&request=GetMap&layers=CREN:PontoGeologicoAmazoniaLegal_250&width=1024&height=768&bbox=-74,-34,-29,6&format=application/vnd.google-earth.kmz xml\n",
            "\t\t http://visualizador.inde.gov.br/VisualizaCamada/579\n",
            "\n",
            "\n",
            "\t https://dados.gov.br/dataset/cren_geologiase23\n",
            "\n",
            "\t\t http://www.geoservicos.ibge.gov.br/geoserver/wms?service=WFS&version=1.0.0&request=GetFeature&typeName=CREN:GeologiaSE23&outputFormat=CSV\n",
            "\t\t http://www.geoservicos.ibge.gov.br/geoserver/wms?service=WFS&version=1.0.0&request=GetFeature&typeName=CREN:GeologiaSE23&outputFormat=JSON\n",
            "\t\t http://www.geoservicos.ibge.gov.br/geoserver/wms?service=WFS&version=1.0.0&request=GetFeature&typeName=CREN:GeologiaSE23&outputFormat=SHAPE-ZIP\n",
            "\t\t http://www.geoservicos.ibge.gov.br/geoserver/wms?service=WMS&version=1.1.0&request=GetMap&layers=CREN:GeologiaSE23&width=1024&height=768&bbox=-74,-34,-29,6&format=application/vnd.google-earth.kmz xml\n",
            "\t\t http://visualizador.inde.gov.br/VisualizaCamada/1209\n",
            "\n",
            "\n",
            "\t https://dados.gov.br/dataset/cren_geologiasb23\n",
            "\n",
            "\t\t http://www.geoservicos.ibge.gov.br/geoserver/wms?service=WFS&version=1.0.0&request=GetFeature&typeName=CREN:GeologiaSB23&outputFormat=CSV\n",
            "\t\t http://www.geoservicos.ibge.gov.br/geoserver/wms?service=WFS&version=1.0.0&request=GetFeature&typeName=CREN:GeologiaSB23&outputFormat=JSON\n",
            "\t\t http://www.geoservicos.ibge.gov.br/geoserver/wms?service=WFS&version=1.0.0&request=GetFeature&typeName=CREN:GeologiaSB23&outputFormat=SHAPE-ZIP\n",
            "\t\t http://www.geoservicos.ibge.gov.br/geoserver/wms?service=WMS&version=1.1.0&request=GetMap&layers=CREN:GeologiaSB23&width=1024&height=768&bbox=-74,-34,-29,6&format=application/vnd.google-earth.kmz xml\n",
            "\t\t http://visualizador.inde.gov.br/VisualizaCamada/816\n",
            "\n",
            "\n",
            "\t https://dados.gov.br/dataset/cren_geologiasf21\n",
            "\n",
            "\t\t http://www.geoservicos.ibge.gov.br/geoserver/wms/?service=WFS&version=1.0.0&request=GetFeature&typeName=CREN:GeologiaSF21&outputFormat=CSV\n",
            "\t\t http://www.geoservicos.ibge.gov.br/geoserver/wms/?service=WFS&version=1.0.0&request=GetFeature&typeName=CREN:GeologiaSF21&outputFormat=JSON\n",
            "\t\t http://www.geoservicos.ibge.gov.br/geoserver/wms/?service=WFS&version=1.0.0&request=GetFeature&typeName=CREN:GeologiaSF21&outputFormat=SHAPE-ZIP\n",
            "\t\t http://www.geoservicos.ibge.gov.br/geoserver/wms/?service=WMS&version=1.1.0&request=GetMap&layers=CREN:GeologiaSF21&width=1024&height=768&bbox=-74,-34,-29,6&format=application/vnd.google-earth.kmz xml\n",
            "\t\t http://visualizador.inde.gov.br/VisualizaCamada/1409\n",
            "\n",
            "\n",
            "\t https://dados.gov.br/dataset/cren_geologiase24\n",
            "\n",
            "\t\t http://www.geoservicos.ibge.gov.br/geoserver/wms?service=WFS&version=1.0.0&request=GetFeature&typeName=CREN:GeologiaSE24&outputFormat=CSV\n",
            "\t\t http://www.geoservicos.ibge.gov.br/geoserver/wms?service=WFS&version=1.0.0&request=GetFeature&typeName=CREN:GeologiaSE24&outputFormat=JSON\n",
            "\t\t http://www.geoservicos.ibge.gov.br/geoserver/wms?service=WFS&version=1.0.0&request=GetFeature&typeName=CREN:GeologiaSE24&outputFormat=SHAPE-ZIP\n",
            "\t\t http://www.geoservicos.ibge.gov.br/geoserver/wms?service=WMS&version=1.1.0&request=GetMap&layers=CREN:GeologiaSE24&width=1024&height=768&bbox=-74,-34,-29,6&format=application/vnd.google-earth.kmz xml\n",
            "\t\t http://visualizador.inde.gov.br/VisualizaCamada/1211\n",
            "\n",
            "\n",
            "\t https://dados.gov.br/dataset/cren_geologiase22\n",
            "\n",
            "\t\t http://geoservicos.ibge.gov.br/geoserver/wms?service=WFS&version=1.0.0&request=GetFeature&typeName=CREN:GeologiaSE22&outputFormat=CSV\n",
            "\t\t http://geoservicos.ibge.gov.br/geoserver/wms?service=WFS&version=1.0.0&request=GetFeature&typeName=CREN:GeologiaSE22&outputFormat=JSON\n",
            "\t\t http://geoservicos.ibge.gov.br/geoserver/wms?service=WFS&version=1.0.0&request=GetFeature&typeName=CREN:GeologiaSE22&outputFormat=SHAPE-ZIP\n",
            "\t\t http://geoservicos.ibge.gov.br/geoserver/wms?service=WMS&version=1.1.0&request=GetMap&layers=CREN:GeologiaSE22&width=1024&height=768&bbox=-74,-34,-29,6&format=application/vnd.google-earth.kmz xml\n",
            "\t\t http://visualizador.inde.gov.br/VisualizaCamada/1208\n",
            "\n",
            "\n",
            "\t https://dados.gov.br/dataset/cren_geologiase21\n",
            "\n",
            "\t\t http://www.geoservicos.ibge.gov.br/geoserver/wms/?service=WFS&version=1.0.0&request=GetFeature&typeName=CREN:GeologiaSE21&outputFormat=CSV\n",
            "\t\t http://www.geoservicos.ibge.gov.br/geoserver/wms/?service=WFS&version=1.0.0&request=GetFeature&typeName=CREN:GeologiaSE21&outputFormat=JSON\n",
            "\t\t http://www.geoservicos.ibge.gov.br/geoserver/wms/?service=WFS&version=1.0.0&request=GetFeature&typeName=CREN:GeologiaSE21&outputFormat=SHAPE-ZIP\n",
            "\t\t http://www.geoservicos.ibge.gov.br/geoserver/wms/?service=WMS&version=1.1.0&request=GetMap&layers=CREN:GeologiaSE21&width=1024&height=768&bbox=-74,-34,-29,6&format=application/vnd.google-earth.kmz xml\n",
            "\t\t http://visualizador.inde.gov.br/VisualizaCamada/1408\n",
            "\n",
            "\n",
            "\t https://dados.gov.br/dataset/cren_geologiasd24\n",
            "\n",
            "\t\t http://www.geoservicos.ibge.gov.br/geoserver/wms/?service=WFS&version=1.0.0&request=GetFeature&typeName=CREN:GeologiaSD24&outputFormat=CSV\n",
            "\t\t http://www.geoservicos.ibge.gov.br/geoserver/wms/?service=WFS&version=1.0.0&request=GetFeature&typeName=CREN:GeologiaSD24&outputFormat=JSON\n",
            "\t\t http://www.geoservicos.ibge.gov.br/geoserver/wms/?service=WFS&version=1.0.0&request=GetFeature&typeName=CREN:GeologiaSD24&outputFormat=SHAPE-ZIP\n",
            "\t\t http://www.geoservicos.ibge.gov.br/geoserver/wms/?service=WMS&version=1.1.0&request=GetMap&layers=CREN:GeologiaSD24&width=1024&height=768&bbox=-74,-34,-29,6&format=application/vnd.google-earth.kmz xml\n",
            "\t\t http://visualizador.inde.gov.br/VisualizaCamada/1403\n",
            "\n",
            "\n",
            "\t https://dados.gov.br/dataset/cren_geologiasd23\n",
            "\n",
            "\t\t http://www.geoservicos.ibge.gov.br/geoserver/wms?service=WFS&version=1.0.0&request=GetFeature&typeName=CREN:GeologiaSD23&outputFormat=CSV\n",
            "\t\t http://www.geoservicos.ibge.gov.br/geoserver/wms?service=WFS&version=1.0.0&request=GetFeature&typeName=CREN:GeologiaSD23&outputFormat=JSON\n",
            "\t\t http://www.geoservicos.ibge.gov.br/geoserver/wms?service=WFS&version=1.0.0&request=GetFeature&typeName=CREN:GeologiaSD23&outputFormat=SHAPE-ZIP\n",
            "\t\t http://www.geoservicos.ibge.gov.br/geoserver/wms?service=WMS&version=1.1.0&request=GetMap&layers=CREN:GeologiaSD23&width=1024&height=768&bbox=-74,-34,-29,6&format=application/vnd.google-earth.kmz xml\n",
            "\t\t http://visualizador.inde.gov.br/VisualizaCamada/1082\n",
            "\n",
            "\n",
            "\t https://dados.gov.br/dataset/cren_geologiasc24\n",
            "\n",
            "\t\t http://www.geoservicos.ibge.gov.br/geoserver/wms?service=WFS&version=1.0.0&request=GetFeature&typeName=CREN:GeologiaSC24&outputFormat=CSV\n",
            "\t\t http://www.geoservicos.ibge.gov.br/geoserver/wms?service=WFS&version=1.0.0&request=GetFeature&typeName=CREN:GeologiaSC24&outputFormat=JSON\n",
            "\t\t http://www.geoservicos.ibge.gov.br/geoserver/wms?service=WFS&version=1.0.0&request=GetFeature&typeName=CREN:GeologiaSC24&outputFormat=SHAPE-ZIP\n",
            "\t\t http://www.geoservicos.ibge.gov.br/geoserver/wms?service=WMS&version=1.1.0&request=GetMap&layers=CREN:GeologiaSC24&width=1024&height=768&bbox=-74,-34,-29,6&format=application/vnd.google-earth.kmz xml\n",
            "\t\t http://visualizador.inde.gov.br/VisualizaCamada/1299\n",
            "\n",
            "\n",
            "\t https://dados.gov.br/dataset/cren_geologiasb24\n",
            "\n",
            "\t\t http://www.geoservicos.ibge.gov.br/geoserver/wms/?service=WFS&version=1.0.0&request=GetFeature&typeName=CREN:GeologiaSB24&outputFormat=CSV\n",
            "\t\t http://www.geoservicos.ibge.gov.br/geoserver/wms/?service=WFS&version=1.0.0&request=GetFeature&typeName=CREN:GeologiaSB24&outputFormat=JSON\n",
            "\t\t http://www.geoservicos.ibge.gov.br/geoserver/wms/?service=WFS&version=1.0.0&request=GetFeature&typeName=CREN:GeologiaSB24&outputFormat=SHAPE-ZIP\n",
            "\t\t http://www.geoservicos.ibge.gov.br/geoserver/wms/?service=WMS&version=1.1.0&request=GetMap&layers=CREN:GeologiaSB24&width=1024&height=768&bbox=-74,-34,-29,6&format=application/vnd.google-earth.kmz xml\n",
            "\t\t http://visualizador.inde.gov.br/VisualizaCamada/1399\n",
            "\n",
            "\n",
            "\t https://dados.gov.br/dataset/cren_geologialineamentosd23\n",
            "\n",
            "\t\t http://www.geoservicos.ibge.gov.br/geoserver/wms?service=WFS&version=1.0.0&request=GetFeature&typeName=CREN:GeologiaLineamentoSD23&outputFormat=CSV\n",
            "\t\t http://www.geoservicos.ibge.gov.br/geoserver/wms?service=WFS&version=1.0.0&request=GetFeature&typeName=CREN:GeologiaLineamentoSD23&outputFormat=JSON\n",
            "\t\t http://www.geoservicos.ibge.gov.br/geoserver/wms?service=WFS&version=1.0.0&request=GetFeature&typeName=CREN:GeologiaLineamentoSD23&outputFormat=SHAPE-ZIP\n",
            "\t\t http://www.geoservicos.ibge.gov.br/geoserver/wms?service=WMS&version=1.1.0&request=GetMap&layers=CREN:GeologiaLineamentoSD23&width=1024&height=768&bbox=-74,-34,-29,6&format=application/vnd.google-earth.kmz xml\n",
            "\t\t http://visualizador.inde.gov.br/VisualizaCamada/1086\n",
            "\n",
            "\n",
            "\t https://dados.gov.br/dataset/cren_geologiafraturasi22\n",
            "\n",
            "\t\t http://www.geoservicos.ibge.gov.br/geoserver/wms?service=WFS&version=1.0.0&request=GetFeature&typeName=CREN:GeologiaFraturaSI22&outputFormat=CSV\n",
            "\t\t http://www.geoservicos.ibge.gov.br/geoserver/wms?service=WFS&version=1.0.0&request=GetFeature&typeName=CREN:GeologiaFraturaSI22&outputFormat=JSON\n",
            "\t\t http://www.geoservicos.ibge.gov.br/geoserver/wms?service=WFS&version=1.0.0&request=GetFeature&typeName=CREN:GeologiaFraturaSI22&outputFormat=SHAPE-ZIP\n",
            "\t\t http://www.geoservicos.ibge.gov.br/geoserver/wms?service=WMS&version=1.1.0&request=GetMap&layers=CREN:GeologiaFraturaSI22&width=1024&height=768&bbox=-74,-34,-29,6&format=application/vnd.google-earth.kmz xml\n",
            "\t\t http://visualizador.inde.gov.br/VisualizaCamada/834\n",
            "\n",
            "\n",
            "\t https://dados.gov.br/dataset/cren_geologiafraturash22\n",
            "\n",
            "\t\t http://www.geoservicos.ibge.gov.br/geoserver/wms?service=WFS&version=1.0.0&request=GetFeature&typeName=CREN:GeologiaFraturaSH22&outputFormat=CSV\n",
            "\t\t http://www.geoservicos.ibge.gov.br/geoserver/wms?service=WFS&version=1.0.0&request=GetFeature&typeName=CREN:GeologiaFraturaSH22&outputFormat=JSON\n",
            "\t\t http://www.geoservicos.ibge.gov.br/geoserver/wms?service=WFS&version=1.0.0&request=GetFeature&typeName=CREN:GeologiaFraturaSH22&outputFormat=SHAPE-ZIP\n",
            "\t\t http://www.geoservicos.ibge.gov.br/geoserver/wms?service=WMS&version=1.1.0&request=GetMap&layers=CREN:GeologiaFraturaSH22&width=1024&height=768&bbox=-74,-34,-29,6&format=application/vnd.google-earth.kmz xml\n",
            "\t\t http://visualizador.inde.gov.br/VisualizaCamada/833\n",
            "\n",
            "\n",
            "\t https://dados.gov.br/dataset/cren_geologiafraturash21\n",
            "\n",
            "\t\t http://www.geoservicos.ibge.gov.br/geoserver/wms?service=WFS&version=1.0.0&request=GetFeature&typeName=CREN:GeologiaFraturaSH21&outputFormat=CSV\n",
            "\t\t http://www.geoservicos.ibge.gov.br/geoserver/wms?service=WFS&version=1.0.0&request=GetFeature&typeName=CREN:GeologiaFraturaSH21&outputFormat=JSON\n",
            "\t\t http://www.geoservicos.ibge.gov.br/geoserver/wms?service=WFS&version=1.0.0&request=GetFeature&typeName=CREN:GeologiaFraturaSH21&outputFormat=SHAPE-ZIP\n",
            "\t\t http://www.geoservicos.ibge.gov.br/geoserver/wms?service=WMS&version=1.1.0&request=GetMap&layers=CREN:GeologiaFraturaSH21&width=1024&height=768&bbox=-74,-34,-29,6&format=application/vnd.google-earth.kmz xml\n",
            "\t\t http://visualizador.inde.gov.br/VisualizaCamada/832\n",
            "\n",
            "\n",
            "\t https://dados.gov.br/dataset/cren_geologiafraturasf21\n",
            "\n",
            "\t\t http://www.geoservicos.ibge.gov.br/geoserver/wms/?service=WFS&version=1.0.0&request=GetFeature&typeName=CREN:GeologiaFraturaSF21&outputFormat=CSV\n",
            "\t\t http://www.geoservicos.ibge.gov.br/geoserver/wms/?service=WFS&version=1.0.0&request=GetFeature&typeName=CREN:GeologiaFraturaSF21&outputFormat=JSON\n",
            "\t\t http://www.geoservicos.ibge.gov.br/geoserver/wms/?service=WFS&version=1.0.0&request=GetFeature&typeName=CREN:GeologiaFraturaSF21&outputFormat=SHAPE-ZIP\n",
            "\t\t http://www.geoservicos.ibge.gov.br/geoserver/wms/?service=WMS&version=1.1.0&request=GetMap&layers=CREN:GeologiaFraturaSF21&width=1024&height=768&bbox=-74,-34,-29,6&format=application/vnd.google-earth.kmz xml\n",
            "\t\t http://visualizador.inde.gov.br/VisualizaCamada/1412\n",
            "\n",
            "\n",
            "\t https://dados.gov.br/dataset/cren_geologiafraturase24\n",
            "\n",
            "\t\t http://www.geoservicos.ibge.gov.br/geoserver/wms?service=WFS&version=1.0.0&request=GetFeature&typeName=CREN:GeologiaFraturaSE24&outputFormat=CSV\n",
            "\t\t http://www.geoservicos.ibge.gov.br/geoserver/wms?service=WFS&version=1.0.0&request=GetFeature&typeName=CREN:GeologiaFraturaSE24&outputFormat=JSON\n",
            "\t\t http://www.geoservicos.ibge.gov.br/geoserver/wms?service=WFS&version=1.0.0&request=GetFeature&typeName=CREN:GeologiaFraturaSE24&outputFormat=SHAPE-ZIP\n",
            "\t\t http://www.geoservicos.ibge.gov.br/geoserver/wms?service=WMS&version=1.1.0&request=GetMap&layers=CREN:GeologiaFraturaSE24&width=1024&height=768&bbox=-74,-34,-29,6&format=application/vnd.google-earth.kmz xml\n",
            "\t\t http://visualizador.inde.gov.br/VisualizaCamada/1186\n",
            "\n",
            "\n",
            "\t https://dados.gov.br/dataset/cren_geologiafraturase23\n",
            "\n",
            "\t\t http://www.geoservicos.ibge.gov.br/geoserver/wms?service=WFS&version=1.0.0&request=GetFeature&typeName=CREN:GeologiaFraturaSE23&outputFormat=CSV\n",
            "\t\t http://www.geoservicos.ibge.gov.br/geoserver/wms?service=WFS&version=1.0.0&request=GetFeature&typeName=CREN:GeologiaFraturaSE23&outputFormat=JSON\n",
            "\t\t http://www.geoservicos.ibge.gov.br/geoserver/wms?service=WFS&version=1.0.0&request=GetFeature&typeName=CREN:GeologiaFraturaSE23&outputFormat=SHAPE-ZIP\n",
            "\t\t http://www.geoservicos.ibge.gov.br/geoserver/wms?service=WMS&version=1.1.0&request=GetMap&layers=CREN:GeologiaFraturaSE23&width=1024&height=768&bbox=-74,-34,-29,6&format=application/vnd.google-earth.kmz xml\n",
            "\t\t http://visualizador.inde.gov.br/VisualizaCamada/1185\n",
            "\n",
            "\n",
            "\t https://dados.gov.br/dataset/cren_geologiafraturase21\n",
            "\n",
            "\t\t http://www.geoservicos.ibge.gov.br/geoserver/wms/?service=WFS&version=1.0.0&request=GetFeature&typeName=CREN:GeologiaFraturaSE21&outputFormat=CSV\n",
            "\t\t http://www.geoservicos.ibge.gov.br/geoserver/wms/?service=WFS&version=1.0.0&request=GetFeature&typeName=CREN:GeologiaFraturaSE21&outputFormat=JSON\n",
            "\t\t http://www.geoservicos.ibge.gov.br/geoserver/wms/?service=WFS&version=1.0.0&request=GetFeature&typeName=CREN:GeologiaFraturaSE21&outputFormat=SHAPE-ZIP\n",
            "\t\t http://www.geoservicos.ibge.gov.br/geoserver/wms/?service=WMS&version=1.1.0&request=GetMap&layers=CREN:GeologiaFraturaSE21&width=1024&height=768&bbox=-74,-34,-29,6&format=application/vnd.google-earth.kmz xml\n",
            "\t\t http://visualizador.inde.gov.br/VisualizaCamada/1406\n",
            "\n",
            "\n",
            "\t https://dados.gov.br/dataset/cren_geologiafraturasd24\n",
            "\n",
            "\t\t http://www.geoservicos.ibge.gov.br/geoserver/wms/?service=WFS&version=1.0.0&request=GetFeature&typeName=CREN:GeologiaFraturaSD24&outputFormat=CSV\n",
            "\t\t http://www.geoservicos.ibge.gov.br/geoserver/wms/?service=WFS&version=1.0.0&request=GetFeature&typeName=CREN:GeologiaFraturaSD24&outputFormat=JSON\n",
            "\t\t http://www.geoservicos.ibge.gov.br/geoserver/wms/?service=WFS&version=1.0.0&request=GetFeature&typeName=CREN:GeologiaFraturaSD24&outputFormat=SHAPE-ZIP\n",
            "\t\t http://www.geoservicos.ibge.gov.br/geoserver/wms/?service=WMS&version=1.1.0&request=GetMap&layers=CREN:GeologiaFraturaSD24&width=1024&height=768&bbox=-74,-34,-29,6&format=application/vnd.google-earth.kmz xml\n",
            "\t\t http://visualizador.inde.gov.br/VisualizaCamada/1401\n",
            "\n",
            "\n",
            "\t https://dados.gov.br/dataset/cren_geologiafraturasd23\n",
            "\n",
            "\t\t http://www.geoservicos.ibge.gov.br/geoserver/wms?service=WFS&version=1.0.0&request=GetFeature&typeName=CREN:GeologiaFraturaSD23&outputFormat=CSV\n",
            "\t\t http://www.geoservicos.ibge.gov.br/geoserver/wms?service=WFS&version=1.0.0&request=GetFeature&typeName=CREN:GeologiaFraturaSD23&outputFormat=JSON\n",
            "\t\t http://www.geoservicos.ibge.gov.br/geoserver/wms?service=WFS&version=1.0.0&request=GetFeature&typeName=CREN:GeologiaFraturaSD23&outputFormat=SHAPE-ZIP\n",
            "\t\t http://www.geoservicos.ibge.gov.br/geoserver/wms?service=WMS&version=1.1.0&request=GetMap&layers=CREN:GeologiaFraturaSD23&width=1024&height=768&bbox=-74,-34,-29,6&format=application/vnd.google-earth.kmz xml\n",
            "\t\t http://visualizador.inde.gov.br/VisualizaCamada/1084\n",
            "\n",
            "\n",
            "\t https://dados.gov.br/dataset/cren_geologiafraturasc24\n",
            "\n",
            "\t\t http://www.geoservicos.ibge.gov.br/geoserver/wms?service=WFS&version=1.0.0&request=GetFeature&typeName=CREN:GeologiaFraturaSC24&outputFormat=CSV\n",
            "\t\t http://www.geoservicos.ibge.gov.br/geoserver/wms?service=WFS&version=1.0.0&request=GetFeature&typeName=CREN:GeologiaFraturaSC24&outputFormat=JSON\n",
            "\t\t http://www.geoservicos.ibge.gov.br/geoserver/wms?service=WFS&version=1.0.0&request=GetFeature&typeName=CREN:GeologiaFraturaSC24&outputFormat=SHAPE-ZIP\n",
            "\t\t http://www.geoservicos.ibge.gov.br/geoserver/wms?service=WMS&version=1.1.0&request=GetMap&layers=CREN:GeologiaFraturaSC24&width=1024&height=768&bbox=-74,-34,-29,6&format=application/vnd.google-earth.kmz xml\n",
            "\t\t http://visualizador.inde.gov.br/VisualizaCamada/1309\n",
            "\n",
            "\n",
            "\t https://dados.gov.br/dataset/cren_geologiafraturasc23\n",
            "\n",
            "\t\t http://www.geoservicos.ibge.gov.br/geoserver/wms?service=WFS&version=1.0.0&request=GetFeature&typeName=CREN:GeologiaFraturaSC23&outputFormat=CSV\n",
            "\t\t http://www.geoservicos.ibge.gov.br/geoserver/wms?service=WFS&version=1.0.0&request=GetFeature&typeName=CREN:GeologiaFraturaSC23&outputFormat=JSON\n",
            "\t\t http://www.geoservicos.ibge.gov.br/geoserver/wms?service=WFS&version=1.0.0&request=GetFeature&typeName=CREN:GeologiaFraturaSC23&outputFormat=SHAPE-ZIP\n",
            "\t\t http://www.geoservicos.ibge.gov.br/geoserver/wms?service=WMS&version=1.1.0&request=GetMap&layers=CREN:GeologiaFraturaSC23&width=1024&height=768&bbox=-74,-34,-29,6&format=application/vnd.google-earth.kmz xml\n",
            "\t\t http://visualizador.inde.gov.br/VisualizaCamada/831\n",
            "\n",
            "\n",
            "\t https://dados.gov.br/dataset/cren_geologiafraturasb23\n",
            "\n",
            "\t\t http://www.geoservicos.ibge.gov.br/geoserver/wms?service=WFS&version=1.0.0&request=GetFeature&typeName=CREN:GeologiaFraturaSB23&outputFormat=CSV\n",
            "\t\t http://www.geoservicos.ibge.gov.br/geoserver/wms?service=WFS&version=1.0.0&request=GetFeature&typeName=CREN:GeologiaFraturaSB23&outputFormat=JSON\n",
            "\t\t http://www.geoservicos.ibge.gov.br/geoserver/wms?service=WFS&version=1.0.0&request=GetFeature&typeName=CREN:GeologiaFraturaSB23&outputFormat=SHAPE-ZIP\n",
            "\t\t http://www.geoservicos.ibge.gov.br/geoserver/wms?service=WMS&version=1.1.0&request=GetMap&layers=CREN:GeologiaFraturaSB23&width=1024&height=768&bbox=-74,-34,-29,6&format=application/vnd.google-earth.kmz xml\n",
            "\t\t http://visualizador.inde.gov.br/VisualizaCamada/830\n",
            "\n",
            "\n",
            "\t https://dados.gov.br/dataset/cren_geologiafraturasb24\n",
            "\n",
            "\t\t http://www.geoservicos.ibge.gov.br/geoserver/wms/?service=WFS&version=1.0.0&request=GetFeature&typeName=CREN:GeologiaFraturaSB24&outputFormat=CSV\n",
            "\t\t http://www.geoservicos.ibge.gov.br/geoserver/wms/?service=WFS&version=1.0.0&request=GetFeature&typeName=CREN:GeologiaFraturaSB24&outputFormat=JSON\n",
            "\t\t http://www.geoservicos.ibge.gov.br/geoserver/wms/?service=WFS&version=1.0.0&request=GetFeature&typeName=CREN:GeologiaFraturaSB24&outputFormat=SHAPE-ZIP\n",
            "\t\t http://www.geoservicos.ibge.gov.br/geoserver/wms/?service=WMS&version=1.1.0&request=GetMap&layers=CREN:GeologiaFraturaSB24&width=1024&height=768&bbox=-74,-34,-29,6&format=application/vnd.google-earth.kmz xml\n",
            "\t\t http://visualizador.inde.gov.br/VisualizaCamada/1397\n",
            "\n",
            "\n",
            "\t https://dados.gov.br/dataset/cren_geologiafraturasa23\n",
            "\n",
            "\t\t http://www.geoservicos.ibge.gov.br/geoserver/wms?service=WFS&version=1.0.0&request=GetFeature&typeName=CREN:GeologiaFraturaSA23&outputFormat=CSV\n",
            "\t\t http://www.geoservicos.ibge.gov.br/geoserver/wms?service=WFS&version=1.0.0&request=GetFeature&typeName=CREN:GeologiaFraturaSA23&outputFormat=JSON\n",
            "\t\t http://www.geoservicos.ibge.gov.br/geoserver/wms?service=WFS&version=1.0.0&request=GetFeature&typeName=CREN:GeologiaFraturaSA23&outputFormat=SHAPE-ZIP\n",
            "\t\t http://www.geoservicos.ibge.gov.br/geoserver/wms?service=WMS&version=1.1.0&request=GetMap&layers=CREN:GeologiaFraturaSA23&width=1024&height=768&bbox=-74,-34,-29,6&format=application/vnd.google-earth.kmz xml\n",
            "\t\t http://visualizador.inde.gov.br/VisualizaCamada/828\n",
            "\n",
            "\n",
            "\t https://dados.gov.br/dataset/cren_geologiafalhasi22\n",
            "\n",
            "\t\t http://www.geoservicos.ibge.gov.br/geoserver/wms?service=WFS&version=1.0.0&request=GetFeature&typeName=CREN:GeologiaFalhaSI22&outputFormat=CSV\n",
            "\t\t http://www.geoservicos.ibge.gov.br/geoserver/wms?service=WFS&version=1.0.0&request=GetFeature&typeName=CREN:GeologiaFalhaSI22&outputFormat=JSON\n",
            "\t\t http://www.geoservicos.ibge.gov.br/geoserver/wms?service=WFS&version=1.0.0&request=GetFeature&typeName=CREN:GeologiaFalhaSI22&outputFormat=SHAPE-ZIP\n",
            "\t\t http://www.geoservicos.ibge.gov.br/geoserver/wms?service=WMS&version=1.1.0&request=GetMap&layers=CREN:GeologiaFalhaSI22&width=1024&height=768&bbox=-74,-34,-29,6&format=application/vnd.google-earth.kmz xml\n",
            "\t\t http://visualizador.inde.gov.br/VisualizaCamada/841\n",
            "\n",
            "\n",
            "\t https://dados.gov.br/dataset/cren_geologiafalhash22\n",
            "\n",
            "\t\t http://www.geoservicos.ibge.gov.br/geoserver/wms?service=WFS&version=1.0.0&request=GetFeature&typeName=CREN:GeologiaFalhaSH22&outputFormat=CSV\n",
            "\t\t http://www.geoservicos.ibge.gov.br/geoserver/wms?service=WFS&version=1.0.0&request=GetFeature&typeName=CREN:GeologiaFalhaSH22&outputFormat=JSON\n",
            "\t\t http://www.geoservicos.ibge.gov.br/geoserver/wms?service=WFS&version=1.0.0&request=GetFeature&typeName=CREN:GeologiaFalhaSH22&outputFormat=SHAPE-ZIP\n",
            "\t\t http://www.geoservicos.ibge.gov.br/geoserver/wms?service=WMS&version=1.1.0&request=GetMap&layers=CREN:GeologiaFalhaSH22&width=1024&height=768&bbox=-74,-34,-29,6&format=application/vnd.google-earth.kmz xml\n",
            "\t\t http://visualizador.inde.gov.br/VisualizaCamada/840\n",
            "\n",
            "\n",
            "\t https://dados.gov.br/dataset/cren_geologiafalhash21\n",
            "\n",
            "\t\t http://www.geoservicos.ibge.gov.br/geoserver/wms?service=WFS&version=1.0.0&request=GetFeature&typeName=CREN:GeologiaFalhaSH21&outputFormat=CSV\n",
            "\t\t http://www.geoservicos.ibge.gov.br/geoserver/wms?service=WFS&version=1.0.0&request=GetFeature&typeName=CREN:GeologiaFalhaSH21&outputFormat=JSON\n",
            "\t\t http://www.geoservicos.ibge.gov.br/geoserver/wms?service=WFS&version=1.0.0&request=GetFeature&typeName=CREN:GeologiaFalhaSH21&outputFormat=SHAPE-ZIP\n",
            "\t\t http://www.geoservicos.ibge.gov.br/geoserver/wms?service=WMS&version=1.1.0&request=GetMap&layers=CREN:GeologiaFalhaSH21&width=1024&height=768&bbox=-74,-34,-29,6&format=application/vnd.google-earth.kmz xml\n",
            "\t\t http://visualizador.inde.gov.br/VisualizaCamada/839\n",
            "\n",
            "\n",
            "\t https://dados.gov.br/dataset/cren_geologiafalhasf21\n",
            "\n",
            "\t\t http://www.geoservicos.ibge.gov.br/geoserver/wms/?service=WFS&version=1.0.0&request=GetFeature&typeName=CREN:GeologiaFalhaSF21&outputFormat=CSV\n",
            "\t\t http://www.geoservicos.ibge.gov.br/geoserver/wms/?service=WFS&version=1.0.0&request=GetFeature&typeName=CREN:GeologiaFalhaSF21&outputFormat=JSON\n",
            "\t\t http://www.geoservicos.ibge.gov.br/geoserver/wms/?service=WFS&version=1.0.0&request=GetFeature&typeName=CREN:GeologiaFalhaSF21&outputFormat=SHAPE-ZIP\n",
            "\t\t http://www.geoservicos.ibge.gov.br/geoserver/wms/?service=WMS&version=1.1.0&request=GetMap&layers=CREN:GeologiaFalhaSF21&width=1024&height=768&bbox=-74,-34,-29,6&format=application/vnd.google-earth.kmz xml\n",
            "\t\t http://visualizador.inde.gov.br/VisualizaCamada/1411\n",
            "\n",
            "\n",
            "\t https://dados.gov.br/dataset/cren_geologiafalhase24\n",
            "\n",
            "\t\t http://www.geoservicos.ibge.gov.br/geoserver/wms?service=WFS&version=1.0.0&request=GetFeature&typeName=CREN:GeologiaFalhaSE24&outputFormat=CSV\n",
            "\t\t http://www.geoservicos.ibge.gov.br/geoserver/wms?service=WFS&version=1.0.0&request=GetFeature&typeName=CREN:GeologiaFalhaSE24&outputFormat=JSON\n",
            "\t\t http://www.geoservicos.ibge.gov.br/geoserver/wms?service=WFS&version=1.0.0&request=GetFeature&typeName=CREN:GeologiaFalhaSE24&outputFormat=SHAPE-ZIP\n",
            "\t\t http://www.geoservicos.ibge.gov.br/geoserver/wms?service=WMS&version=1.1.0&request=GetMap&layers=CREN:GeologiaFalhaSE24&width=1024&height=768&bbox=-74,-34,-29,6&format=application/vnd.google-earth.kmz xml\n",
            "\t\t http://visualizador.inde.gov.br/VisualizaCamada/1176\n",
            "\n",
            "\n",
            "\t https://dados.gov.br/dataset/cren_geologiafalhase23\n",
            "\n",
            "\t\t http://www.geoservicos.ibge.gov.br/geoserver/wms?service=WFS&version=1.0.0&request=GetFeature&typeName=CREN:GeologiaFalhaSE23&outputFormat=CSV\n",
            "\t\t http://www.geoservicos.ibge.gov.br/geoserver/wms?service=WFS&version=1.0.0&request=GetFeature&typeName=CREN:GeologiaFalhaSE23&outputFormat=JSON\n",
            "\t\t http://www.geoservicos.ibge.gov.br/geoserver/wms?service=WFS&version=1.0.0&request=GetFeature&typeName=CREN:GeologiaFalhaSE23&outputFormat=SHAPE-ZIP\n",
            "\t\t http://www.geoservicos.ibge.gov.br/geoserver/wms?service=WMS&version=1.1.0&request=GetMap&layers=CREN:GeologiaFalhaSE23&width=1024&height=768&bbox=-74,-34,-29,6&format=application/vnd.google-earth.kmz xml\n",
            "\t\t http://visualizador.inde.gov.br/VisualizaCamada/1174\n",
            "\n",
            "\n",
            "\t https://dados.gov.br/dataset/cren_geologiafalhase22\n",
            "\n",
            "\t\t http://www.geoservicos.ibge.gov.br/geoserver/wms?service=WFS&version=1.0.0&request=GetFeature&typeName=CREN:GeologiaFalhaSE22&outputFormat=CSV\n",
            "\t\t http://www.geoservicos.ibge.gov.br/geoserver/wms?service=WFS&version=1.0.0&request=GetFeature&typeName=CREN:GeologiaFalhaSE22&outputFormat=JSON\n",
            "\t\t http://www.geoservicos.ibge.gov.br/geoserver/wms?service=WFS&version=1.0.0&request=GetFeature&typeName=CREN:GeologiaFalhaSE22&outputFormat=SHAPE-ZIP\n",
            "\t\t http://www.geoservicos.ibge.gov.br/geoserver/wms?service=WMS&version=1.1.0&request=GetMap&layers=CREN:GeologiaFalhaSE22&width=1024&height=768&bbox=-74,-34,-29,6&format=application/vnd.google-earth.kmz xml\n",
            "\t\t http://visualizador.inde.gov.br/VisualizaCamada/1172\n",
            "\n",
            "\n",
            "\t https://dados.gov.br/dataset/cren_geologiafalhase21\n",
            "\n",
            "\t\t http://www.geoservicos.ibge.gov.br/geoserver/wms/?service=WFS&version=1.0.0&request=GetFeature&typeName=CREN:GeologiaFalhaSE21&outputFormat=CSV\n",
            "\t\t http://www.geoservicos.ibge.gov.br/geoserver/wms/?service=WFS&version=1.0.0&request=GetFeature&typeName=CREN:GeologiaFalhaSE21&outputFormat=JSON\n",
            "\t\t http://www.geoservicos.ibge.gov.br/geoserver/wms/?service=WFS&version=1.0.0&request=GetFeature&typeName=CREN:GeologiaFalhaSE21&outputFormat=SHAPE-ZIP\n",
            "\t\t http://www.geoservicos.ibge.gov.br/geoserver/wms/?service=WMS&version=1.1.0&request=GetMap&layers=CREN:GeologiaFalhaSE21&width=1024&height=768&bbox=-74,-34,-29,6&format=application/vnd.google-earth.kmz xml\n",
            "\t\t http://visualizador.inde.gov.br/VisualizaCamada/1405\n",
            "\n",
            "\n",
            "\t https://dados.gov.br/dataset/cren_geologiafalhasd24\n",
            "\n",
            "\t\t http://www.geoservicos.ibge.gov.br/geoserver/wms/?service=WFS&version=1.0.0&request=GetFeature&typeName=CREN:GeologiaFalhaSD24&outputFormat=CSV\n",
            "\t\t http://www.geoservicos.ibge.gov.br/geoserver/wms/?service=WFS&version=1.0.0&request=GetFeature&typeName=CREN:GeologiaFalhaSD24&outputFormat=JSON\n",
            "\t\t http://www.geoservicos.ibge.gov.br/geoserver/wms/?service=WFS&version=1.0.0&request=GetFeature&typeName=CREN:GeologiaFalhaSD24&outputFormat=SHAPE-ZIP\n",
            "\t\t http://www.geoservicos.ibge.gov.br/geoserver/wms/?service=WMS&version=1.1.0&request=GetMap&layers=CREN:GeologiaFalhaSD24&width=1024&height=768&bbox=-74,-34,-29,6&format=application/vnd.google-earth.kmz xml\n",
            "\t\t http://visualizador.inde.gov.br/VisualizaCamada/1455\n",
            "\n",
            "\n",
            "\t https://dados.gov.br/dataset/cren_geologiafalhasd23\n",
            "\n",
            "\t\t http://www.geoservicos.ibge.gov.br/geoserver/wms?service=WFS&version=1.0.0&request=GetFeature&typeName=CREN:GeologiaFalhaSD23&outputFormat=CSV\n",
            "\t\t http://www.geoservicos.ibge.gov.br/geoserver/wms?service=WFS&version=1.0.0&request=GetFeature&typeName=CREN:GeologiaFalhaSD23&outputFormat=JSON\n",
            "\t\t http://www.geoservicos.ibge.gov.br/geoserver/wms?service=WFS&version=1.0.0&request=GetFeature&typeName=CREN:GeologiaFalhaSD23&outputFormat=SHAPE-ZIP\n",
            "\t\t http://www.geoservicos.ibge.gov.br/geoserver/wms?service=WMS&version=1.1.0&request=GetMap&layers=CREN:GeologiaFalhaSD23&width=1024&height=768&bbox=-74,-34,-29,6&format=application/vnd.google-earth.kmz xml\n",
            "\t\t http://visualizador.inde.gov.br/VisualizaCamada/1085\n",
            "\n",
            "\n",
            "\t https://dados.gov.br/dataset/cren_geologiafalhasc24\n",
            "\n",
            "\t\t http://www.geoservicos.ibge.gov.br/geoserver/wms?service=WFS&version=1.0.0&request=GetFeature&typeName=CREN:GeologiaFalhaSC24&outputFormat=CSV\n",
            "\t\t http://www.geoservicos.ibge.gov.br/geoserver/wms?service=WFS&version=1.0.0&request=GetFeature&typeName=CREN:GeologiaFalhaSC24&outputFormat=JSON\n",
            "\t\t http://www.geoservicos.ibge.gov.br/geoserver/wms?service=WFS&version=1.0.0&request=GetFeature&typeName=CREN:GeologiaFalhaSC24&outputFormat=SHAPE-ZIP\n",
            "\t\t http://www.geoservicos.ibge.gov.br/geoserver/wms?service=WMS&version=1.1.0&request=GetMap&layers=CREN:GeologiaFalhaSC24&width=1024&height=768&bbox=-74,-34,-29,6&format=application/vnd.google-earth.kmz xml\n",
            "\t\t http://visualizador.inde.gov.br/VisualizaCamada/1308\n",
            "\n",
            "\n",
            "\t https://dados.gov.br/dataset/cren_geologiafalhasc23\n",
            "\n",
            "\t\t http://www.geoservicos.ibge.gov.br/geoserver/wms?service=WFS&version=1.0.0&request=GetFeature&typeName=CREN:GeologiaFalhaSC23&outputFormat=CSV\n",
            "\t\t http://www.geoservicos.ibge.gov.br/geoserver/wms?service=WFS&version=1.0.0&request=GetFeature&typeName=CREN:GeologiaFalhaSC23&outputFormat=JSON\n",
            "\t\t http://www.geoservicos.ibge.gov.br/geoserver/wms?service=WFS&version=1.0.0&request=GetFeature&typeName=CREN:GeologiaFalhaSC23&outputFormat=SHAPE-ZIP\n",
            "\t\t http://www.geoservicos.ibge.gov.br/geoserver/wms?service=WMS&version=1.1.0&request=GetMap&layers=CREN:GeologiaFalhaSC23&width=1024&height=768&bbox=-74,-34,-29,6&format=application/vnd.google-earth.kmz xml\n",
            "\t\t http://visualizador.inde.gov.br/VisualizaCamada/838\n",
            "\n",
            "\n",
            "\t https://dados.gov.br/dataset/cren_geologiafalhasb23\n",
            "\n",
            "\t\t http://www.geoservicos.ibge.gov.br/geoserver/wms?service=WFS&version=1.0.0&request=GetFeature&typeName=CREN:GeologiaFalhaSB23&outputFormat=CSV\n",
            "\t\t http://www.geoservicos.ibge.gov.br/geoserver/wms?service=WFS&version=1.0.0&request=GetFeature&typeName=CREN:GeologiaFalhaSB23&outputFormat=JSON\n",
            "\t\t http://www.geoservicos.ibge.gov.br/geoserver/wms?service=WFS&version=1.0.0&request=GetFeature&typeName=CREN:GeologiaFalhaSB23&outputFormat=SHAPE-ZIP\n",
            "\t\t http://www.geoservicos.ibge.gov.br/geoserver/wms?service=WMS&version=1.1.0&request=GetMap&layers=CREN:GeologiaFalhaSB23&width=1024&height=768&bbox=-74,-34,-29,6&format=application/vnd.google-earth.kmz xml\n",
            "\t\t http://visualizador.inde.gov.br/VisualizaCamada/837\n",
            "\n",
            "\n",
            "\t https://dados.gov.br/dataset/cren_geologiafalhasb24\n",
            "\n",
            "\t\t http://www.geoservicos.ibge.gov.br/geoserver/wms/?service=WFS&version=1.0.0&request=GetFeature&typeName=CREN:GeologiaFalhaSB24&outputFormat=CSV\n",
            "\t\t http://www.geoservicos.ibge.gov.br/geoserver/wms/?service=WFS&version=1.0.0&request=GetFeature&typeName=CREN:GeologiaFalhaSB24&outputFormat=JSON\n",
            "\t\t http://www.geoservicos.ibge.gov.br/geoserver/wms/?service=WFS&version=1.0.0&request=GetFeature&typeName=CREN:GeologiaFalhaSB24&outputFormat=SHAPE-ZIP\n",
            "\t\t http://www.geoservicos.ibge.gov.br/geoserver/wms/?service=WMS&version=1.1.0&request=GetMap&layers=CREN:GeologiaFalhaSB24&width=1024&height=768&bbox=-74,-34,-29,6&format=application/vnd.google-earth.kmz xml\n",
            "\t\t http://visualizador.inde.gov.br/VisualizaCamada/1396\n",
            "\n",
            "\n",
            "\t https://dados.gov.br/dataset/cren_geologiafalhasa24\n",
            "\n",
            "\t\t http://www.geoservicos.ibge.gov.br/geoserver/wms?service=WFS&version=1.0.0&request=GetFeature&typeName=CREN:GeologiaFalhaSA24&outputFormat=CSV\n",
            "\t\t http://www.geoservicos.ibge.gov.br/geoserver/wms?service=WFS&version=1.0.0&request=GetFeature&typeName=CREN:GeologiaFalhaSA24&outputFormat=JSON\n",
            "\t\t http://www.geoservicos.ibge.gov.br/geoserver/wms?service=WFS&version=1.0.0&request=GetFeature&typeName=CREN:GeologiaFalhaSA24&outputFormat=SHAPE-ZIP\n",
            "\t\t http://www.geoservicos.ibge.gov.br/geoserver/wms?service=WMS&version=1.1.0&request=GetMap&layers=CREN:GeologiaFalhaSA24&width=1024&height=768&bbox=-74,-34,-29,6&format=application/vnd.google-earth.kmz xml\n",
            "\t\t http://visualizador.inde.gov.br/VisualizaCamada/836\n",
            "\n",
            "\n",
            "\t https://dados.gov.br/dataset/cren_geologiafalhasa23\n",
            "\n",
            "\t\t http://www.geoservicos.ibge.gov.br/geoserver/wms?service=WFS&version=1.0.0&request=GetFeature&typeName=CREN:GeologiaFalhaSA23&outputFormat=CSV\n",
            "\t\t http://www.geoservicos.ibge.gov.br/geoserver/wms?service=WFS&version=1.0.0&request=GetFeature&typeName=CREN:GeologiaFalhaSA23&outputFormat=JSON\n",
            "\t\t http://www.geoservicos.ibge.gov.br/geoserver/wms?service=WFS&version=1.0.0&request=GetFeature&typeName=CREN:GeologiaFalhaSA23&outputFormat=SHAPE-ZIP\n",
            "\t\t http://www.geoservicos.ibge.gov.br/geoserver/wms?service=WMS&version=1.1.0&request=GetMap&layers=CREN:GeologiaFalhaSA23&width=1024&height=768&bbox=-74,-34,-29,6&format=application/vnd.google-earth.kmz xml\n",
            "\t\t http://visualizador.inde.gov.br/VisualizaCamada/835\n",
            "\n",
            "\n",
            "\t https://dados.gov.br/dataset/cren_geologiadobrasf21\n",
            "\n",
            "\t\t http://www.geoservicos.ibge.gov.br/geoserver/wms/?service=WFS&version=1.0.0&request=GetFeature&typeName=CREN:GeologiaDobraSF21&outputFormat=CSV\n",
            "\t\t http://www.geoservicos.ibge.gov.br/geoserver/wms/?service=WFS&version=1.0.0&request=GetFeature&typeName=CREN:GeologiaDobraSF21&outputFormat=JSON\n",
            "\t\t http://www.geoservicos.ibge.gov.br/geoserver/wms/?service=WFS&version=1.0.0&request=GetFeature&typeName=CREN:GeologiaDobraSF21&outputFormat=SHAPE-ZIP\n",
            "\t\t http://www.geoservicos.ibge.gov.br/geoserver/wms/?service=WMS&version=1.1.0&request=GetMap&layers=CREN:GeologiaDobraSF21&width=1024&height=768&bbox=-74,-34,-29,6&format=application/vnd.google-earth.kmz xml\n",
            "\t\t http://visualizador.inde.gov.br/VisualizaCamada/1413\n",
            "\n",
            "\n",
            "\t https://dados.gov.br/dataset/cren_geologiadobrase24\n",
            "\n",
            "\t\t http://www.geoservicos.ibge.gov.br/geoserver/wms?service=WFS&version=1.0.0&request=GetFeature&typeName=CREN:GeologiaDobraSE24&outputFormat=CSV\n",
            "\t\t http://www.geoservicos.ibge.gov.br/geoserver/wms?service=WFS&version=1.0.0&request=GetFeature&typeName=CREN:GeologiaDobraSE24&outputFormat=JSON\n",
            "\t\t http://www.geoservicos.ibge.gov.br/geoserver/wms?service=WFS&version=1.0.0&request=GetFeature&typeName=CREN:GeologiaDobraSE24&outputFormat=SHAPE-ZIP\n",
            "\t\t http://www.geoservicos.ibge.gov.br/geoserver/wms?service=WMS&version=1.1.0&request=GetMap&layers=CREN:GeologiaDobraSE24&width=1024&height=768&bbox=-74,-34,-29,6&format=application/vnd.google-earth.kmz xml\n",
            "\t\t http://visualizador.inde.gov.br/VisualizaCamada/1183\n",
            "\n",
            "\n",
            "\t https://dados.gov.br/dataset/cren_geologiadobrase23\n",
            "\n",
            "\t\t http://www.geoservicos.ibge.gov.br/geoserver/wms?service=WFS&version=1.0.0&request=GetFeature&typeName=CREN:GeologiaDobraSE23&outputFormat=CSV\n",
            "\t\t http://www.geoservicos.ibge.gov.br/geoserver/wms?service=WFS&version=1.0.0&request=GetFeature&typeName=CREN:GeologiaDobraSE23&outputFormat=JSON\n",
            "\t\t http://www.geoservicos.ibge.gov.br/geoserver/wms?service=WFS&version=1.0.0&request=GetFeature&typeName=CREN:GeologiaDobraSE23&outputFormat=SHAPE-ZIP\n",
            "\t\t http://www.geoservicos.ibge.gov.br/geoserver/wms?service=WMS&version=1.1.0&request=GetMap&layers=CREN:GeologiaDobraSE23&width=1024&height=768&bbox=-74,-34,-29,6&format=application/vnd.google-earth.kmz xml\n",
            "\t\t http://visualizador.inde.gov.br/VisualizaCamada/1182\n",
            "\n",
            "\n",
            "\t https://dados.gov.br/dataset/cren_geologiadobrase21\n",
            "\n",
            "\t\t http://www.geoservicos.ibge.gov.br/geoserver/wms/?service=WFS&version=1.0.0&request=GetFeature&typeName=CREN:GeologiaDobraSE21&outputFormat=CSV\n",
            "\t\t http://www.geoservicos.ibge.gov.br/geoserver/wms/?service=WFS&version=1.0.0&request=GetFeature&typeName=CREN:GeologiaDobraSE21&outputFormat=JSON\n",
            "\t\t http://www.geoservicos.ibge.gov.br/geoserver/wms/?service=WFS&version=1.0.0&request=GetFeature&typeName=CREN:GeologiaDobraSE21&outputFormat=SHAPE-ZIP\n",
            "\t\t http://www.geoservicos.ibge.gov.br/geoserver/wms/?service=WMS&version=1.1.0&request=GetMap&layers=CREN:GeologiaDobraSE21&width=1024&height=768&bbox=-74,-34,-29,6&format=application/vnd.google-earth.kmz xml\n",
            "\t\t http://visualizador.inde.gov.br/VisualizaCamada/1404\n",
            "\n",
            "\n",
            "\t https://dados.gov.br/dataset/cren_geologiadobrasd24\n",
            "\n",
            "\t\t http://www.geoservicos.ibge.gov.br/geoserver/wms/?service=WFS&version=1.0.0&request=GetFeature&typeName=CREN:GeologiaDobraSD24&outputFormat=CSV\n",
            "\t\t http://www.geoservicos.ibge.gov.br/geoserver/wms/?service=WFS&version=1.0.0&request=GetFeature&typeName=CREN:GeologiaDobraSD24&outputFormat=JSON\n",
            "\t\t http://www.geoservicos.ibge.gov.br/geoserver/wms/?service=WFS&version=1.0.0&request=GetFeature&typeName=CREN:GeologiaDobraSD24&outputFormat=SHAPE-ZIP\n",
            "\t\t http://www.geoservicos.ibge.gov.br/geoserver/wms/?service=WMS&version=1.1.0&request=GetMap&layers=CREN:GeologiaDobraSD24&width=1024&height=768&bbox=-74,-34,-29,6&format=application/vnd.google-earth.kmz xml\n",
            "\t\t http://visualizador.inde.gov.br/VisualizaCamada/1400\n",
            "\n",
            "\n",
            "\t https://dados.gov.br/dataset/cren_geologiadobrasd23\n",
            "\n",
            "\t\t http://www.geoservicos.ibge.gov.br/geoserver/wms?service=WFS&version=1.0.0&request=GetFeature&typeName=CREN:GeologiaDobraSD23&outputFormat=CSV\n",
            "\t\t http://www.geoservicos.ibge.gov.br/geoserver/wms?service=WFS&version=1.0.0&request=GetFeature&typeName=CREN:GeologiaDobraSD23&outputFormat=JSON\n",
            "\t\t http://www.geoservicos.ibge.gov.br/geoserver/wms?service=WFS&version=1.0.0&request=GetFeature&typeName=CREN:GeologiaDobraSD23&outputFormat=SHAPE-ZIP\n",
            "\t\t http://www.geoservicos.ibge.gov.br/geoserver/wms?service=WMS&version=1.1.0&request=GetMap&layers=CREN:GeologiaDobraSD23&width=1024&height=768&bbox=-74,-34,-29,6&format=application/vnd.google-earth.kmz xml\n",
            "\t\t http://visualizador.inde.gov.br/VisualizaCamada/1083\n",
            "\n",
            "\n",
            "\t https://dados.gov.br/dataset/cren_geologiadobrasc24\n",
            "\n",
            "\t\t http://www.geoservicos.ibge.gov.br/geoserver/wms?service=WFS&version=1.0.0&request=GetFeature&typeName=CREN:GeologiaDobraSC24&outputFormat=CSV\n",
            "\t\t http://www.geoservicos.ibge.gov.br/geoserver/wms?service=WFS&version=1.0.0&request=GetFeature&typeName=CREN:GeologiaDobraSC24&outputFormat=JSON\n",
            "\t\t http://www.geoservicos.ibge.gov.br/geoserver/wms?service=WFS&version=1.0.0&request=GetFeature&typeName=CREN:GeologiaDobraSC24&outputFormat=SHAPE-ZIP\n",
            "\t\t http://www.geoservicos.ibge.gov.br/geoserver/wms?service=WMS&version=1.1.0&request=GetMap&layers=CREN:GeologiaDobraSC24&width=1024&height=768&bbox=-74,-34,-29,6&format=application/vnd.google-earth.kmz xml\n",
            "\t\t http://visualizador.inde.gov.br/VisualizaCamada/1307\n",
            "\n",
            "\n",
            "\t https://dados.gov.br/dataset/cren_geologiadobrasc23\n",
            "\n",
            "\t\t http://www.geoservicos.ibge.gov.br/geoserver/wms?service=WFS&version=1.0.0&request=GetFeature&typeName=CREN:GeologiaDobraSC23&outputFormat=CSV\n",
            "\t\t http://www.geoservicos.ibge.gov.br/geoserver/wms?service=WFS&version=1.0.0&request=GetFeature&typeName=CREN:GeologiaDobraSC23&outputFormat=JSON\n",
            "\t\t http://www.geoservicos.ibge.gov.br/geoserver/wms?service=WFS&version=1.0.0&request=GetFeature&typeName=CREN:GeologiaDobraSC23&outputFormat=SHAPE-ZIP\n",
            "\t\t http://www.geoservicos.ibge.gov.br/geoserver/wms?service=WMS&version=1.1.0&request=GetMap&layers=CREN:GeologiaDobraSC23&width=1024&height=768&bbox=-74,-34,-29,6&format=application/vnd.google-earth.kmz xml\n",
            "\t\t http://visualizador.inde.gov.br/VisualizaCamada/845\n",
            "\n",
            "\n",
            "\t https://dados.gov.br/dataset/cren_geologiadobrasb24\n",
            "\n",
            "\t\t http://www.geoservicos.ibge.gov.br/geoserver/wms/?service=WFS&version=1.0.0&request=GetFeature&typeName=CREN:GeologiaDobraSB24&outputFormat=CSV\n",
            "\t\t http://www.geoservicos.ibge.gov.br/geoserver/wms/?service=WFS&version=1.0.0&request=GetFeature&typeName=CREN:GeologiaDobraSB24&outputFormat=JSON\n",
            "\t\t http://www.geoservicos.ibge.gov.br/geoserver/wms/?service=WFS&version=1.0.0&request=GetFeature&typeName=CREN:GeologiaDobraSB24&outputFormat=SHAPE-ZIP\n",
            "\t\t http://www.geoservicos.ibge.gov.br/geoserver/wms/?service=WMS&version=1.1.0&request=GetMap&layers=CREN:GeologiaDobraSB24&width=1024&height=768&bbox=-74,-34,-29,6&format=application/vnd.google-earth.kmz xml\n",
            "\t\t http://visualizador.inde.gov.br/VisualizaCamada/1395\n",
            "\n",
            "\n",
            "\t https://dados.gov.br/dataset/cren_geologiadobrasb23\n",
            "\n",
            "\t\t http://www.geoservicos.ibge.gov.br/geoserver/wms?service=WFS&version=1.0.0&request=GetFeature&typeName=CREN:GeologiaDobraSB23&outputFormat=CSV\n",
            "\t\t http://www.geoservicos.ibge.gov.br/geoserver/wms?service=WFS&version=1.0.0&request=GetFeature&typeName=CREN:GeologiaDobraSB23&outputFormat=JSON\n",
            "\t\t http://www.geoservicos.ibge.gov.br/geoserver/wms?service=WFS&version=1.0.0&request=GetFeature&typeName=CREN:GeologiaDobraSB23&outputFormat=SHAPE-ZIP\n",
            "\t\t http://www.geoservicos.ibge.gov.br/geoserver/wms?service=WMS&version=1.1.0&request=GetMap&layers=CREN:GeologiaDobraSB23&width=1024&height=768&bbox=-74,-34,-29,6&format=application/vnd.google-earth.kmz xml\n",
            "\t\t http://visualizador.inde.gov.br/VisualizaCamada/844\n",
            "\n",
            "\n",
            "\t https://dados.gov.br/dataset/cren_geologiadobrasa24\n",
            "\n",
            "\t\t http://www.geoservicos.ibge.gov.br/geoserver/wms?service=WFS&version=1.0.0&request=GetFeature&typeName=CREN:GeologiaDobraSA24&outputFormat=CSV\n",
            "\t\t http://www.geoservicos.ibge.gov.br/geoserver/wms?service=WFS&version=1.0.0&request=GetFeature&typeName=CREN:GeologiaDobraSA24&outputFormat=JSON\n",
            "\t\t http://www.geoservicos.ibge.gov.br/geoserver/wms?service=WFS&version=1.0.0&request=GetFeature&typeName=CREN:GeologiaDobraSA24&outputFormat=SHAPE-ZIP\n",
            "\t\t http://www.geoservicos.ibge.gov.br/geoserver/wms?service=WMS&version=1.1.0&request=GetMap&layers=CREN:GeologiaDobraSA24&width=1024&height=768&bbox=-74,-34,-29,6&format=application/vnd.google-earth.kmz xml\n",
            "\t\t http://visualizador.inde.gov.br/VisualizaCamada/843\n",
            "\n",
            "\n",
            "\t https://dados.gov.br/dataset/cren_geologiadobrasa23\n",
            "\n",
            "\t\t http://www.geoservicos.ibge.gov.br/geoserver/wms?service=WFS&version=1.0.0&request=GetFeature&typeName=CREN:GeologiaDobraSA23&outputFormat=CSV\n",
            "\t\t http://www.geoservicos.ibge.gov.br/geoserver/wms?service=WFS&version=1.0.0&request=GetFeature&typeName=CREN:GeologiaDobraSA23&outputFormat=JSON\n",
            "\t\t http://www.geoservicos.ibge.gov.br/geoserver/wms?service=WFS&version=1.0.0&request=GetFeature&typeName=CREN:GeologiaDobraSA23&outputFormat=SHAPE-ZIP\n",
            "\t\t http://www.geoservicos.ibge.gov.br/geoserver/wms?service=WMS&version=1.1.0&request=GetMap&layers=CREN:GeologiaDobraSA23&width=1024&height=768&bbox=-74,-34,-29,6&format=application/vnd.google-earth.kmz xml\n",
            "\t\t http://visualizador.inde.gov.br/VisualizaCamada/842\n",
            "\n",
            "\n",
            "\t https://dados.gov.br/dataset/mapa-da-cultura\n",
            "\n",
            "\t\t https://github.com/hacklabr/mapasculturais/blob/develop/documentation/docs/mc_config_api.md\n",
            "\t\t http://mapas.cultura.gov.br/api/space/describe\n",
            "\t\t http://mapas.cultura.gov.br/api/agent/describe\n",
            "\t\t http://mapas.cultura.gov.br/api/event/describe\n",
            "\t\t http://mapas.cultura.gov.br/api/project/describe\n",
            "\t\t http://mapas.cultura.gov.br/api/space/find?@select=id,name\n",
            "\t\t http://mapas.cultura.gov.br/api/agent/find?@select=id,name,email\n",
            "\t\t http://mapas.cultura.gov.br/api/event/find?@select=id,name\n",
            "\t\t http://mapas.cultura.gov.br/api/project/find?@select=id,name\n",
            "\n",
            "\n",
            "\t https://dados.gov.br/dataset/siagrad-plano-ensino-bibliografia\n",
            "\n",
            "\t\t https://sistemas.furg.br/sistemas/dados_abertos/arquivos/siagrad-plano-ensino-bibliografia.csv\n",
            "\n",
            "\n",
            "\t https://dados.gov.br/dataset/cren_geologiapontosd22\n",
            "\n",
            "\t\t http://www.geoservicos.ibge.gov.br/geoserver/wms?service=WFS&version=1.0.0&request=GetFeature&typeName=CREN:GeologiaPontoSD22&outputFormat=CSV\n",
            "\t\t http://www.geoservicos.ibge.gov.br/geoserver/wms?service=WFS&version=1.0.0&request=GetFeature&typeName=CREN:GeologiaPontoSD22&outputFormat=JSON\n",
            "\t\t http://www.geoservicos.ibge.gov.br/geoserver/wms?service=WFS&version=1.0.0&request=GetFeature&typeName=CREN:GeologiaPontoSD22&outputFormat=SHAPE-ZIP\n",
            "\t\t http://www.geoservicos.ibge.gov.br/geoserver/wms?service=WMS&version=1.1.0&request=GetMap&layers=CREN:GeologiaPontoSD22&width=1024&height=768&bbox=-74,-34,-29,6&format=application/vnd.google-earth.kmz xml\n",
            "\t\t http://visualizador.inde.gov.br/VisualizaCamada/622\n",
            "\n",
            "\n",
            "\t https://dados.gov.br/dataset/cren_geologiasc23\n",
            "\n",
            "\t\t http://www.geoservicos.ibge.gov.br/geoserver/wms?service=WFS&version=1.0.0&request=GetFeature&typeName=CREN:GeologiaSC23&outputFormat=CSV\n",
            "\t\t http://www.geoservicos.ibge.gov.br/geoserver/wms?service=WFS&version=1.0.0&request=GetFeature&typeName=CREN:GeologiaSC23&outputFormat=JSON\n",
            "\t\t http://www.geoservicos.ibge.gov.br/geoserver/wms?service=WFS&version=1.0.0&request=GetFeature&typeName=CREN:GeologiaSC23&outputFormat=SHAPE-ZIP\n",
            "\t\t http://www.geoservicos.ibge.gov.br/geoserver/wms?service=WMS&version=1.1.0&request=GetMap&layers=CREN:GeologiaSC23&width=1024&height=768&bbox=-74,-34,-29,6&format=application/vnd.google-earth.kmz xml\n",
            "\t\t http://visualizador.inde.gov.br/VisualizaCamada/817\n",
            "\n",
            "\n",
            "\t https://dados.gov.br/dataset/cren_geologiasi22\n",
            "\n",
            "\t\t http://www.geoservicos.ibge.gov.br/geoserver/wms?service=WFS&version=1.0.0&request=GetFeature&typeName=CREN:GeologiaSI22&outputFormat=CSV\n",
            "\t\t http://www.geoservicos.ibge.gov.br/geoserver/wms?service=WFS&version=1.0.0&request=GetFeature&typeName=CREN:GeologiaSI22&outputFormat=JSON\n",
            "\t\t http://www.geoservicos.ibge.gov.br/geoserver/wms?service=WFS&version=1.0.0&request=GetFeature&typeName=CREN:GeologiaSI22&outputFormat=SHAPE-ZIP\n",
            "\t\t http://www.geoservicos.ibge.gov.br/geoserver/wms?service=WMS&version=1.1.0&request=GetMap&layers=CREN:GeologiaSI22&width=1024&height=768&bbox=-74,-34,-29,6&format=application/vnd.google-earth.kmz xml\n",
            "\t\t http://visualizador.inde.gov.br/VisualizaCamada/820\n",
            "\n",
            "\n",
            "\t https://dados.gov.br/dataset/cren_geologiash22\n",
            "\n",
            "\t\t http://www.geoservicos.ibge.gov.br/geoserver/wms?service=WFS&version=1.0.0&request=GetFeature&typeName=CREN:GeologiaSH22&outputFormat=CSV\n",
            "\t\t http://www.geoservicos.ibge.gov.br/geoserver/wms?service=WFS&version=1.0.0&request=GetFeature&typeName=CREN:GeologiaSH22&outputFormat=JSON\n",
            "\t\t http://www.geoservicos.ibge.gov.br/geoserver/wms?service=WFS&version=1.0.0&request=GetFeature&typeName=CREN:GeologiaSH22&outputFormat=SHAPE-ZIP\n",
            "\t\t http://www.geoservicos.ibge.gov.br/geoserver/wms?service=WMS&version=1.1.0&request=GetMap&layers=CREN:GeologiaSH22&width=1024&height=768&bbox=-74,-34,-29,6&format=application/vnd.google-earth.kmz xml\n",
            "\t\t http://visualizador.inde.gov.br/VisualizaCamada/819\n",
            "\n",
            "\n",
            "\t https://dados.gov.br/dataset/cren_geologiash21\n",
            "\n",
            "\t\t http://www.geoservicos.ibge.gov.br/geoserver/wms?service=WFS&version=1.0.0&request=GetFeature&typeName=CREN:GeologiaSH21&outputFormat=CSV\n",
            "\t\t http://www.geoservicos.ibge.gov.br/geoserver/wms?service=WFS&version=1.0.0&request=GetFeature&typeName=CREN:GeologiaSH21&outputFormat=JSON\n",
            "\t\t http://www.geoservicos.ibge.gov.br/geoserver/wms?service=WFS&version=1.0.0&request=GetFeature&typeName=CREN:GeologiaSH21&outputFormat=SHAPE-ZIP\n",
            "\t\t http://www.geoservicos.ibge.gov.br/geoserver/wms?service=WMS&version=1.1.0&request=GetMap&layers=CREN:GeologiaSH21&width=1024&height=768&bbox=-74,-34,-29,6&format=application/vnd.google-earth.kmz xml\n",
            "\t\t http://visualizador.inde.gov.br/VisualizaCamada/818\n",
            "\n",
            "\n",
            "\t https://dados.gov.br/dataset/cren_geologiasd22\n",
            "\n",
            "\t\t http://www.geoservicos.ibge.gov.br/geoserver/wms?service=WFS&version=1.0.0&request=GetFeature&typeName=CREN:GeologiaSD22&outputFormat=CSV\n",
            "\t\t http://www.geoservicos.ibge.gov.br/geoserver/wms?service=WFS&version=1.0.0&request=GetFeature&typeName=CREN:GeologiaSD22&outputFormat=JSON\n",
            "\t\t http://www.geoservicos.ibge.gov.br/geoserver/wms?service=WFS&version=1.0.0&request=GetFeature&typeName=CREN:GeologiaSD22&outputFormat=SHAPE-ZIP\n",
            "\t\t http://www.geoservicos.ibge.gov.br/geoserver/wms?service=WMS&version=1.1.0&request=GetMap&layers=CREN:GeologiaSD22&width=1024&height=768&bbox=-74,-34,-29,6&format=application/vnd.google-earth.kmz xml\n",
            "\t\t http://visualizador.inde.gov.br/VisualizaCamada/618\n",
            "\n",
            "\n",
            "\t https://dados.gov.br/dataset/cren_geologiasa24\n",
            "\n",
            "\t\t http://www.geoservicos.ibge.gov.br/geoserver/wms?service=WFS&version=1.0.0&request=GetFeature&typeName=CREN:GeologiaSA24&outputFormat=CSV\n",
            "\t\t http://www.geoservicos.ibge.gov.br/geoserver/wms?service=WFS&version=1.0.0&request=GetFeature&typeName=CREN:GeologiaSA24&outputFormat=JSON\n",
            "\t\t http://www.geoservicos.ibge.gov.br/geoserver/wms?service=WFS&version=1.0.0&request=GetFeature&typeName=CREN:GeologiaSA24&outputFormat=SHAPE-ZIP\n",
            "\t\t http://www.geoservicos.ibge.gov.br/geoserver/wms?service=WMS&version=1.1.0&request=GetMap&layers=CREN:GeologiaSA24&width=1024&height=768&bbox=-74,-34,-29,6&format=application/vnd.google-earth.kmz xml\n",
            "\t\t http://visualizador.inde.gov.br/VisualizaCamada/815\n",
            "\n",
            "\n",
            "\t https://dados.gov.br/dataset/cren_geologiasa23\n",
            "\n",
            "\t\t http://www.geoservicos.ibge.gov.br/geoserver/wms?service=WFS&version=1.0.0&request=GetFeature&typeName=CREN:GeologiaSA23&outputFormat=CSV\n",
            "\t\t http://www.geoservicos.ibge.gov.br/geoserver/wms?service=WFS&version=1.0.0&request=GetFeature&typeName=CREN:GeologiaSA23&outputFormat=JSON\n",
            "\t\t http://www.geoservicos.ibge.gov.br/geoserver/wms?service=WFS&version=1.0.0&request=GetFeature&typeName=CREN:GeologiaSA23&outputFormat=SHAPE-ZIP\n",
            "\t\t http://www.geoservicos.ibge.gov.br/geoserver/wms?service=WMS&version=1.1.0&request=GetMap&layers=CREN:GeologiaSA23&width=1024&height=768&bbox=-74,-34,-29,6&format=application/vnd.google-earth.kmz xml\n",
            "\t\t http://visualizador.inde.gov.br/VisualizaCamada/814\n",
            "\n",
            "\n",
            "\t https://dados.gov.br/dataset/cren_geologiaamazonialegal_250\n",
            "\n",
            "\t\t http://www.geoservicos.ibge.gov.br/geoserver/wms?service=WFS&version=1.0.0&request=GetFeature&typeName=CREN:GeologiaAmazoniaLegal_250&outputFormat=CSV\n",
            "\t\t http://www.geoservicos.ibge.gov.br/geoserver/wms?service=WFS&version=1.0.0&request=GetFeature&typeName=CREN:GeologiaAmazoniaLegal_250&outputFormat=JSON\n",
            "\t\t http://www.geoservicos.ibge.gov.br/geoserver/wms?service=WFS&version=1.0.0&request=GetFeature&typeName=CREN:GeologiaAmazoniaLegal_250&outputFormat=SHAPE-ZIP\n",
            "\t\t http://www.geoservicos.ibge.gov.br/geoserver/wms?service=WMS&version=1.1.0&request=GetMap&layers=CREN:GeologiaAmazoniaLegal_250&width=1024&height=768&bbox=-74,-34,-29,6&format=application/vnd.google-earth.kmz xml\n",
            "\t\t http://visualizador.inde.gov.br/VisualizaCamada/578\n",
            "\n",
            "\n",
            "\t https://dados.gov.br/dataset/cren_geologiafraturasd22\n",
            "\n",
            "\t\t http://www.geoservicos.ibge.gov.br/geoserver/wms?service=WFS&version=1.0.0&request=GetFeature&typeName=CREN:GeologiaFraturaSD22&outputFormat=CSV\n",
            "\t\t http://www.geoservicos.ibge.gov.br/geoserver/wms?service=WFS&version=1.0.0&request=GetFeature&typeName=CREN:GeologiaFraturaSD22&outputFormat=JSON\n",
            "\t\t http://www.geoservicos.ibge.gov.br/geoserver/wms?service=WFS&version=1.0.0&request=GetFeature&typeName=CREN:GeologiaFraturaSD22&outputFormat=SHAPE-ZIP\n",
            "\t\t http://www.geoservicos.ibge.gov.br/geoserver/wms?service=WMS&version=1.1.0&request=GetMap&layers=CREN:GeologiaFraturaSD22&width=1024&height=768&bbox=-74,-34,-29,6&format=application/vnd.google-earth.kmz xml\n",
            "\t\t http://visualizador.inde.gov.br/VisualizaCamada/621\n",
            "\n",
            "\n",
            "\t https://dados.gov.br/dataset/cren_fraturageologicaamazonialegal_250\n",
            "\n",
            "\t\t http://www.geoservicos.ibge.gov.br/geoserver/wms?service=WFS&version=1.0.0&request=GetFeature&typeName=CREN:FraturaGeologicaAmazoniaLegal_250&outputFormat=CSV\n",
            "\t\t http://www.geoservicos.ibge.gov.br/geoserver/wms?service=WFS&version=1.0.0&request=GetFeature&typeName=CREN:FraturaGeologicaAmazoniaLegal_250&outputFormat=JSON\n",
            "\t\t http://www.geoservicos.ibge.gov.br/geoserver/wms?service=WFS&version=1.0.0&request=GetFeature&typeName=CREN:FraturaGeologicaAmazoniaLegal_250&outputFormat=SHAPE-ZIP\n",
            "\t\t http://www.geoservicos.ibge.gov.br/geoserver/wms?service=WMS&version=1.1.0&request=GetMap&layers=CREN:FraturaGeologicaAmazoniaLegal_250&width=1024&height=768&bbox=-74,-34,-29,6&format=application/vnd.google-earth.kmz xml\n",
            "\t\t http://visualizador.inde.gov.br/VisualizaCamada/582\n",
            "\n",
            "\n",
            "\t https://dados.gov.br/dataset/cren_geologiafalhasd22\n",
            "\n",
            "\t\t http://www.geoservicos.ibge.gov.br/geoserver/wms?service=WFS&version=1.0.0&request=GetFeature&typeName=CREN:GeologiaFalhaSD22&outputFormat=CSV\n",
            "\t\t http://www.geoservicos.ibge.gov.br/geoserver/wms?service=WFS&version=1.0.0&request=GetFeature&typeName=CREN:GeologiaFalhaSD22&outputFormat=JSON\n",
            "\t\t http://www.geoservicos.ibge.gov.br/geoserver/wms?service=WFS&version=1.0.0&request=GetFeature&typeName=CREN:GeologiaFalhaSD22&outputFormat=SHAPE-ZIP\n",
            "\t\t http://www.geoservicos.ibge.gov.br/geoserver/wms?service=WMS&version=1.1.0&request=GetMap&layers=CREN:GeologiaFalhaSD22&width=1024&height=768&bbox=-74,-34,-29,6&format=application/vnd.google-earth.kmz xml\n",
            "\t\t http://visualizador.inde.gov.br/VisualizaCamada/620\n",
            "\n",
            "\n",
            "\t https://dados.gov.br/dataset/cren_falhageologicaamazonialegal_250\n",
            "\n",
            "\t\t http://www.geoservicos.ibge.gov.br/geoserver/wms?service=WFS&version=1.0.0&request=GetFeature&typeName=CREN:FalhaGeologicaAmazoniaLegal_250&outputFormat=CSV\n",
            "\t\t http://www.geoservicos.ibge.gov.br/geoserver/wms?service=WFS&version=1.0.0&request=GetFeature&typeName=CREN:FalhaGeologicaAmazoniaLegal_250&outputFormat=JSON\n",
            "\t\t http://www.geoservicos.ibge.gov.br/geoserver/wms?service=WFS&version=1.0.0&request=GetFeature&typeName=CREN:FalhaGeologicaAmazoniaLegal_250&outputFormat=SHAPE-ZIP\n",
            "\t\t http://www.geoservicos.ibge.gov.br/geoserver/wms?service=WMS&version=1.1.0&request=GetMap&layers=CREN:FalhaGeologicaAmazoniaLegal_250&width=1024&height=768&bbox=-74,-34,-29,6&format=application/vnd.google-earth.kmz xml\n",
            "\t\t http://visualizador.inde.gov.br/VisualizaCamada/581\n",
            "\n",
            "\n",
            "\t https://dados.gov.br/dataset/cren_geologiadobrasd22\n",
            "\n",
            "\t\t http://www.geoservicos.ibge.gov.br/geoserver/wms?service=WFS&version=1.0.0&request=GetFeature&typeName=CREN:GeologiaDobraSD22&outputFormat=CSV\n",
            "\t\t http://www.geoservicos.ibge.gov.br/geoserver/wms?service=WFS&version=1.0.0&request=GetFeature&typeName=CREN:GeologiaDobraSD22&outputFormat=JSON\n",
            "\t\t http://www.geoservicos.ibge.gov.br/geoserver/wms?service=WFS&version=1.0.0&request=GetFeature&typeName=CREN:GeologiaDobraSD22&outputFormat=SHAPE-ZIP\n",
            "\t\t http://www.geoservicos.ibge.gov.br/geoserver/wms?service=WMS&version=1.1.0&request=GetMap&layers=CREN:GeologiaDobraSD22&width=1024&height=768&bbox=-74,-34,-29,6&format=application/vnd.google-earth.kmz xml\n",
            "\t\t http://visualizador.inde.gov.br/VisualizaCamada/619\n",
            "\n",
            "\n",
            "\t https://dados.gov.br/dataset/cren_dobrageologicaamazonialegal_250\n",
            "\n",
            "\t\t http://www.geoservicos.ibge.gov.br/geoserver/wms?service=WFS&version=1.0.0&request=GetFeature&typeName=CREN:DobraGeologicaAmazoniaLegal_250&outputFormat=CSV\n",
            "\t\t http://www.geoservicos.ibge.gov.br/geoserver/wms?service=WFS&version=1.0.0&request=GetFeature&typeName=CREN:DobraGeologicaAmazoniaLegal_250&outputFormat=JSON\n",
            "\t\t http://www.geoservicos.ibge.gov.br/geoserver/wms?service=WFS&version=1.0.0&request=GetFeature&typeName=CREN:DobraGeologicaAmazoniaLegal_250&outputFormat=SHAPE-ZIP\n",
            "\t\t http://www.geoservicos.ibge.gov.br/geoserver/wms?service=WMS&version=1.1.0&request=GetMap&layers=CREN:DobraGeologicaAmazoniaLegal_250&width=1024&height=768&bbox=-74,-34,-29,6&format=application/vnd.google-earth.kmz xml\n",
            "\t\t http://visualizador.inde.gov.br/VisualizaCamada/580\n",
            "\n",
            "\n",
            "\t https://dados.gov.br/dataset/cren_climadobrasil_5000\n",
            "\n",
            "\t\t http://www.geoservicos.ibge.gov.br/geoserver/wms?service=WFS&version=1.0.0&request=GetFeature&typeName=CREN:ClimadoBrasil_5000&outputFormat=CSV\n",
            "\t\t http://www.geoservicos.ibge.gov.br/geoserver/wms?service=WFS&version=1.0.0&request=GetFeature&typeName=CREN:ClimadoBrasil_5000&outputFormat=JSON\n",
            "\t\t http://www.geoservicos.ibge.gov.br/geoserver/wms?service=WFS&version=1.0.0&request=GetFeature&typeName=CREN:ClimadoBrasil_5000&outputFormat=SHAPE-ZIP\n",
            "\t\t http://www.geoservicos.ibge.gov.br/geoserver/wms?service=WMS&version=1.1.0&request=GetMap&layers=CREN:ClimadoBrasil_5000&width=1024&height=768&bbox=-74,-34,-29,6&format=application/vnd.google-earth.kmz xml\n",
            "\t\t http://visualizador.inde.gov.br/VisualizaCamada/60\n",
            "\n",
            "\n",
            "\t https://dados.gov.br/dataset/microdados-do-censo-escolar\n",
            "\n",
            "\t\t ftp://ftp.inep.gov.br/microdados/micro_censo_escolar1995.zip\n",
            "\t\t ftp://ftp.inep.gov.br/microdados/micro_censo_escolar1996.zip\n",
            "\t\t ftp://ftp.inep.gov.br/microdados/micro_censo_escolar1997.zip\n",
            "\t\t ftp://ftp.inep.gov.br/microdados/micro_censo_escolar1998.zip\n",
            "\t\t ftp://ftp.inep.gov.br/microdados/micro_censo_escolar1999.zip\n",
            "\t\t ftp://ftp.inep.gov.br/microdados/micro_censo_escolar2000.zip\n",
            "\t\t ftp://ftp.inep.gov.br/microdados/micro_censo_escolar2001.zip\n",
            "\t\t ftp://ftp.inep.gov.br/microdados/micro_censo_escolar2002.zip\n",
            "\t\t ftp://ftp.inep.gov.br/microdados/micro_censo_escolar2003.zip\n",
            "\t\t ftp://ftp.inep.gov.br/microdados/microdados_censo_escolar_2004.zip\n",
            "\t\t ftp://ftp.inep.gov.br/microdados/microdados_censo_escolar_2005.zip\n",
            "\t\t ftp://ftp.inep.gov.br/microdados/microdados_censo_escolar_2006_2.zip\n",
            "\t\t ftp://ftp.inep.gov.br/microdados/Microdados_Censo2007.zip\n",
            "\t\t ftp://ftp.inep.gov.br/microdados/microdados_educacao_basica_2008.zip\n",
            "\t\t ftp://ftp.inep.gov.br/microdados/micro_censo_escolar2009.zip\n",
            "\t\t ftp://ftp.inep.gov.br/microdados/micro_censo_escolar_2010.zip\n",
            "\t\t ftp://ftp.inep.gov.br/microdados/micro_censo_escolar_2011.zip\n",
            "\t\t ftp://ftp.inep.gov.br/microdados/micro_censo_escolar_2012.zip\n",
            "\t\t ftp://ftp.inep.gov.br/microdados/micro_censo_escolar_2013.zip\n",
            "\t\t http://download.inep.gov.br/microdados/micro_censo_escolar_2014.zip\n",
            "\t\t http://download.inep.gov.br/microdados/micro_censo_escolar_2015.zip\n",
            "\n",
            "\n",
            "\t https://dados.gov.br/dataset/museus-br\n",
            "\n",
            "\t\t https://github.com/hacklabr/mapasculturais/blob/develop/documentation/docs/mc_config_api.md\n",
            "\t\t http://museus.cultura.gov.br/api/space/describe\n",
            "\t\t http://museus.cultura.gov.br/api/agent/describe\n",
            "\t\t http://museus.cultura.gov.br/api/event/describe\n",
            "\t\t http://museus.cultura.gov.br/api/project/describe\n",
            "\t\t http://museus.cultura.gov.br/api/space/find?@select=id,name\n",
            "\t\t http://museus.cultura.gov.br/api/agent/find?@select=id,name,email\n",
            "\t\t http://museus.cultura.gov.br/api/event/find?@select=id,name\n",
            "\t\t http://museus.cultura.gov.br/api/project/find?@select=id,name\n"
          ],
          "name": "stdout"
        }
      ]
    },
    {
      "cell_type": "markdown",
      "metadata": {
        "id": "YyEXDWNE_igo"
      },
      "source": [
        "# Dados"
      ]
    },
    {
      "cell_type": "code",
      "metadata": {
        "id": "qtk-Bj44qlgk"
      },
      "source": [
        "df_datagov = pandas.DataFrame(resources)"
      ],
      "execution_count": 83,
      "outputs": []
    },
    {
      "cell_type": "code",
      "metadata": {
        "id": "XPYbbxdZtVnD"
      },
      "source": [
        "df_datagov = df_datagov[sorted(df_datagov.keys())]"
      ],
      "execution_count": 84,
      "outputs": []
    },
    {
      "cell_type": "code",
      "metadata": {
        "id": "xK07hliL9zlB",
        "colab": {
          "base_uri": "https://localhost:8080/",
          "height": 1000
        },
        "outputId": "63d63f8f-bd0e-49d2-f630-29ccd4993168"
      },
      "source": [
        "df_datagov.sample(3).T"
      ],
      "execution_count": 85,
      "outputs": [
        {
          "output_type": "execute_result",
          "data": {
            "text/html": [
              "<div>\n",
              "<style scoped>\n",
              "    .dataframe tbody tr th:only-of-type {\n",
              "        vertical-align: middle;\n",
              "    }\n",
              "\n",
              "    .dataframe tbody tr th {\n",
              "        vertical-align: top;\n",
              "    }\n",
              "\n",
              "    .dataframe thead th {\n",
              "        text-align: right;\n",
              "    }\n",
              "</style>\n",
              "<table border=\"1\" class=\"dataframe\">\n",
              "  <thead>\n",
              "    <tr style=\"text-align: right;\">\n",
              "      <th></th>\n",
              "      <th>550</th>\n",
              "      <th>160</th>\n",
              "      <th>0</th>\n",
              "    </tr>\n",
              "  </thead>\n",
              "  <tbody>\n",
              "    <tr>\n",
              "      <th>created</th>\n",
              "      <td>há mais de 2 anos</td>\n",
              "      <td>há mais de 2 anos</td>\n",
              "      <td>há mais de 1 ano</td>\n",
              "    </tr>\n",
              "    <tr>\n",
              "      <th>criado</th>\n",
              "      <td>12/Junho/2018</td>\n",
              "      <td>6/Novembro/2018</td>\n",
              "      <td>17/Fevereiro/2020</td>\n",
              "    </tr>\n",
              "    <tr>\n",
              "      <th>dataset_key</th>\n",
              "      <td>mapa_geologico_da_folha__si_22___lagoa__mirim_...</td>\n",
              "      <td>_2013_a_2016__acessos_ao_portal_de_periodicos</td>\n",
              "      <td>biblioteca</td>\n",
              "    </tr>\n",
              "    <tr>\n",
              "      <th>dataset_organization</th>\n",
              "      <td>Instituto Brasileiro de Geografia e Estatístic...</td>\n",
              "      <td>Coordenação de Aperfeiçoamento de Pessoal de N...</td>\n",
              "      <td>Universidade Federal Rural do Semi-Árido - UFE...</td>\n",
              "    </tr>\n",
              "    <tr>\n",
              "      <th>dataset_text</th>\n",
              "      <td>Tomando-se como base o mapeamento realizado pe...</td>\n",
              "      <td>O conjunto de dados disponibilizado apresenta ...</td>\n",
              "      <td>Dados referentes ao acervo e serviços do Siste...</td>\n",
              "    </tr>\n",
              "    <tr>\n",
              "      <th>dataset_title</th>\n",
              "      <td>Mapa Geológico da Folha  SI.22 – Lagoa  Mirim ...</td>\n",
              "      <td>[2013 a 2016] Acessos ao Portal de Periódicos</td>\n",
              "      <td>Biblioteca</td>\n",
              "    </tr>\n",
              "    <tr>\n",
              "      <th>dataset_url</th>\n",
              "      <td>[/, /organization, /organization/instituto-bra...</td>\n",
              "      <td>[/, /organization, /organization/coordenacao-d...</td>\n",
              "      <td>[/, /organization, /organization/universidade-...</td>\n",
              "    </tr>\n",
              "    <tr>\n",
              "      <th>datastore_active</th>\n",
              "      <td>NaN</td>\n",
              "      <td>True</td>\n",
              "      <td>True</td>\n",
              "    </tr>\n",
              "    <tr>\n",
              "      <th>format</th>\n",
              "      <td>HTML</td>\n",
              "      <td>XLSX</td>\n",
              "      <td>CSV</td>\n",
              "    </tr>\n",
              "    <tr>\n",
              "      <th>formato</th>\n",
              "      <td>text/html</td>\n",
              "      <td>XLSX</td>\n",
              "      <td>CSV</td>\n",
              "    </tr>\n",
              "    <tr>\n",
              "      <th>hash</th>\n",
              "      <td>NaN</td>\n",
              "      <td>NaN</td>\n",
              "      <td>NaN</td>\n",
              "    </tr>\n",
              "    <tr>\n",
              "      <th>havested</th>\n",
              "      <td>Wed Apr 28 09:39:02 2021</td>\n",
              "      <td>Wed Apr 28 09:27:44 2021</td>\n",
              "      <td>Wed Apr 28 09:23:37 2021</td>\n",
              "    </tr>\n",
              "    <tr>\n",
              "      <th>id</th>\n",
              "      <td>d7567263-df17-48d1-b3d4-0608331f6e79</td>\n",
              "      <td>487f3454-7fa2-4fb3-b5c2-26e06c062fa1</td>\n",
              "      <td>7400120a-930e-4108-8e04-9f808e2a272d</td>\n",
              "    </tr>\n",
              "    <tr>\n",
              "      <th>last_modified</th>\n",
              "      <td>NaN</td>\n",
              "      <td>há mais de 2 anos</td>\n",
              "      <td>NaN</td>\n",
              "    </tr>\n",
              "    <tr>\n",
              "      <th>licenca</th>\n",
              "      <td>License not specified</td>\n",
              "      <td>Creative Commons Attribution</td>\n",
              "      <td>Creative Commons Attribution</td>\n",
              "    </tr>\n",
              "    <tr>\n",
              "      <th>license_href</th>\n",
              "      <td>[]</td>\n",
              "      <td>[http://www.opendefinition.org/licenses/cc-by,...</td>\n",
              "      <td>[http://www.opendefinition.org/licenses/cc-by,...</td>\n",
              "    </tr>\n",
              "    <tr>\n",
              "      <th>license_logo</th>\n",
              "      <td>[]</td>\n",
              "      <td>[https://dados.gov.br/base/images/od_80x15_blu...</td>\n",
              "      <td>[https://dados.gov.br/base/images/od_80x15_blu...</td>\n",
              "    </tr>\n",
              "    <tr>\n",
              "      <th>license_text</th>\n",
              "      <td>[Licença, License not specified]</td>\n",
              "      <td>[Licença, Creative Commons Attribution]</td>\n",
              "      <td>[Licença, Creative Commons Attribution]</td>\n",
              "    </tr>\n",
              "    <tr>\n",
              "      <th>license_title</th>\n",
              "      <td>[]</td>\n",
              "      <td>[Este conjunto de dados satisfaz a Definição d...</td>\n",
              "      <td>[Este conjunto de dados satisfaz a Definição d...</td>\n",
              "    </tr>\n",
              "    <tr>\n",
              "      <th>mimetype</th>\n",
              "      <td>text/html</td>\n",
              "      <td>NaN</td>\n",
              "      <td>NaN</td>\n",
              "    </tr>\n",
              "    <tr>\n",
              "      <th>mimetype_inner</th>\n",
              "      <td>NaN</td>\n",
              "      <td>NaN</td>\n",
              "      <td>NaN</td>\n",
              "    </tr>\n",
              "    <tr>\n",
              "      <th>package_id</th>\n",
              "      <td>76e20883-5b29-40c0-9c70-55ad6cb80be9</td>\n",
              "      <td>521d18c5-1be6-4cba-bbe0-669070b08e09</td>\n",
              "      <td>72c37142-a727-4e77-bf00-8a2062968334</td>\n",
              "    </tr>\n",
              "    <tr>\n",
              "      <th>position</th>\n",
              "      <td>4</td>\n",
              "      <td>3</td>\n",
              "      <td>NaN</td>\n",
              "    </tr>\n",
              "    <tr>\n",
              "      <th>resource_type</th>\n",
              "      <td>NaN</td>\n",
              "      <td>NaN</td>\n",
              "      <td>NaN</td>\n",
              "    </tr>\n",
              "    <tr>\n",
              "      <th>revision_id</th>\n",
              "      <td>444ca217-195b-4bae-b502-919990df6d2b</td>\n",
              "      <td>d84503c8-d1c3-4342-8c58-402bd72382a7</td>\n",
              "      <td>fa9f2e4b-5f80-41b0-92eb-4f101904c1b0</td>\n",
              "    </tr>\n",
              "    <tr>\n",
              "      <th>size</th>\n",
              "      <td>NaN</td>\n",
              "      <td>NaN</td>\n",
              "      <td>NaN</td>\n",
              "    </tr>\n",
              "    <tr>\n",
              "      <th>state</th>\n",
              "      <td>active</td>\n",
              "      <td>active</td>\n",
              "      <td>active</td>\n",
              "    </tr>\n",
              "    <tr>\n",
              "      <th>ultima_atualizacao</th>\n",
              "      <td>12/Junho/2018</td>\n",
              "      <td>6/Novembro/2018</td>\n",
              "      <td>17/Fevereiro/2020</td>\n",
              "    </tr>\n",
              "    <tr>\n",
              "      <th>url</th>\n",
              "      <td>http://landpage-h.cgu.gov.br/dadosabertos/inde...</td>\n",
              "      <td>http://landpage-h.cgu.gov.br/dadosabertos/inde...</td>\n",
              "      <td>http://landpage-h.cgu.gov.br/dadosabertos/inde...</td>\n",
              "    </tr>\n",
              "    <tr>\n",
              "      <th>url_out</th>\n",
              "      <td>http://visualizador.inde.gov.br/VisualizaCamad...</td>\n",
              "      <td>https://dadosabertos.capes.gov.br/dataset/521d...</td>\n",
              "      <td>http://api.ufersa.edu.br:8080/apiufersa/rest/p...</td>\n",
              "    </tr>\n",
              "    <tr>\n",
              "      <th>webstore_last_updated</th>\n",
              "      <td>NaN</td>\n",
              "      <td>NaN</td>\n",
              "      <td>NaN</td>\n",
              "    </tr>\n",
              "    <tr>\n",
              "      <th>webstore_url</th>\n",
              "      <td>NaN</td>\n",
              "      <td>NaN</td>\n",
              "      <td>NaN</td>\n",
              "    </tr>\n",
              "  </tbody>\n",
              "</table>\n",
              "</div>"
            ],
            "text/plain": [
              "                                                                     550  ...                                                0  \n",
              "created                                                há mais de 2 anos  ...                                   há mais de 1 ano\n",
              "criado                                                     12/Junho/2018  ...                                  17/Fevereiro/2020\n",
              "dataset_key            mapa_geologico_da_folha__si_22___lagoa__mirim_...  ...                                         biblioteca\n",
              "dataset_organization   Instituto Brasileiro de Geografia e Estatístic...  ...  Universidade Federal Rural do Semi-Árido - UFE...\n",
              "dataset_text           Tomando-se como base o mapeamento realizado pe...  ...  Dados referentes ao acervo e serviços do Siste...\n",
              "dataset_title          Mapa Geológico da Folha  SI.22 – Lagoa  Mirim ...  ...                                         Biblioteca\n",
              "dataset_url            [/, /organization, /organization/instituto-bra...  ...  [/, /organization, /organization/universidade-...\n",
              "datastore_active                                                     NaN  ...                                               True\n",
              "format                                                              HTML  ...                                                CSV\n",
              "formato                                                        text/html  ...                                                CSV\n",
              "hash                                                                 NaN  ...                                                NaN\n",
              "havested                                        Wed Apr 28 09:39:02 2021  ...                           Wed Apr 28 09:23:37 2021\n",
              "id                                  d7567263-df17-48d1-b3d4-0608331f6e79  ...               7400120a-930e-4108-8e04-9f808e2a272d\n",
              "last_modified                                                        NaN  ...                                                NaN\n",
              "licenca                                            License not specified  ...                       Creative Commons Attribution\n",
              "license_href                                                          []  ...  [http://www.opendefinition.org/licenses/cc-by,...\n",
              "license_logo                                                          []  ...  [https://dados.gov.br/base/images/od_80x15_blu...\n",
              "license_text                            [Licença, License not specified]  ...            [Licença, Creative Commons Attribution]\n",
              "license_title                                                         []  ...  [Este conjunto de dados satisfaz a Definição d...\n",
              "mimetype                                                       text/html  ...                                                NaN\n",
              "mimetype_inner                                                       NaN  ...                                                NaN\n",
              "package_id                          76e20883-5b29-40c0-9c70-55ad6cb80be9  ...               72c37142-a727-4e77-bf00-8a2062968334\n",
              "position                                                               4  ...                                                NaN\n",
              "resource_type                                                        NaN  ...                                                NaN\n",
              "revision_id                         444ca217-195b-4bae-b502-919990df6d2b  ...               fa9f2e4b-5f80-41b0-92eb-4f101904c1b0\n",
              "size                                                                 NaN  ...                                                NaN\n",
              "state                                                             active  ...                                             active\n",
              "ultima_atualizacao                                         12/Junho/2018  ...                                  17/Fevereiro/2020\n",
              "url                    http://landpage-h.cgu.gov.br/dadosabertos/inde...  ...  http://landpage-h.cgu.gov.br/dadosabertos/inde...\n",
              "url_out                http://visualizador.inde.gov.br/VisualizaCamad...  ...  http://api.ufersa.edu.br:8080/apiufersa/rest/p...\n",
              "webstore_last_updated                                                NaN  ...                                                NaN\n",
              "webstore_url                                                         NaN  ...                                                NaN\n",
              "\n",
              "[32 rows x 3 columns]"
            ]
          },
          "metadata": {
            "tags": []
          },
          "execution_count": 85
        }
      ]
    },
    {
      "cell_type": "code",
      "metadata": {
        "id": "8ofdO-dr_xho",
        "colab": {
          "base_uri": "https://localhost:8080/",
          "height": 17
        },
        "outputId": "dfb9265b-531a-40c2-b38d-416b81654770"
      },
      "source": [
        "FN = lambda ext='json' : './dadosgov_{}_{}_query.{}'.format(alias,query.replace('+','_'), ext)\n",
        " \n",
        " \n",
        "df_datagov.to_json(FN('json'))\n",
        "df_datagov.to_csv(FN('csv'))\n",
        "df_datagov.to_excel(FN('xls'))\n",
        "for fn in ['json', 'csv', 'xls']:\n",
        "    google.colab.files.download(FN(fn))"
      ],
      "execution_count": 86,
      "outputs": [
        {
          "output_type": "display_data",
          "data": {
            "application/javascript": [
              "\n",
              "    async function download(id, filename, size) {\n",
              "      if (!google.colab.kernel.accessAllowed) {\n",
              "        return;\n",
              "      }\n",
              "      const div = document.createElement('div');\n",
              "      const label = document.createElement('label');\n",
              "      label.textContent = `Downloading \"${filename}\": `;\n",
              "      div.appendChild(label);\n",
              "      const progress = document.createElement('progress');\n",
              "      progress.max = size;\n",
              "      div.appendChild(progress);\n",
              "      document.body.appendChild(div);\n",
              "\n",
              "      const buffers = [];\n",
              "      let downloaded = 0;\n",
              "\n",
              "      const channel = await google.colab.kernel.comms.open(id);\n",
              "      // Send a message to notify the kernel that we're ready.\n",
              "      channel.send({})\n",
              "\n",
              "      for await (const message of channel.messages) {\n",
              "        // Send a message to notify the kernel that we're ready.\n",
              "        channel.send({})\n",
              "        if (message.buffers) {\n",
              "          for (const buffer of message.buffers) {\n",
              "            buffers.push(buffer);\n",
              "            downloaded += buffer.byteLength;\n",
              "            progress.value = downloaded;\n",
              "          }\n",
              "        }\n",
              "      }\n",
              "      const blob = new Blob(buffers, {type: 'application/binary'});\n",
              "      const a = document.createElement('a');\n",
              "      a.href = window.URL.createObjectURL(blob);\n",
              "      a.download = filename;\n",
              "      div.appendChild(a);\n",
              "      a.click();\n",
              "      div.remove();\n",
              "    }\n",
              "  "
            ],
            "text/plain": [
              "<IPython.core.display.Javascript object>"
            ]
          },
          "metadata": {
            "tags": []
          }
        },
        {
          "output_type": "display_data",
          "data": {
            "application/javascript": [
              "download(\"download_5520a45b-c80f-49e0-9208-d543794c2d2d\", \"dadosgov_Brazil_biblioteca_query.json\", 1486990)"
            ],
            "text/plain": [
              "<IPython.core.display.Javascript object>"
            ]
          },
          "metadata": {
            "tags": []
          }
        },
        {
          "output_type": "display_data",
          "data": {
            "application/javascript": [
              "\n",
              "    async function download(id, filename, size) {\n",
              "      if (!google.colab.kernel.accessAllowed) {\n",
              "        return;\n",
              "      }\n",
              "      const div = document.createElement('div');\n",
              "      const label = document.createElement('label');\n",
              "      label.textContent = `Downloading \"${filename}\": `;\n",
              "      div.appendChild(label);\n",
              "      const progress = document.createElement('progress');\n",
              "      progress.max = size;\n",
              "      div.appendChild(progress);\n",
              "      document.body.appendChild(div);\n",
              "\n",
              "      const buffers = [];\n",
              "      let downloaded = 0;\n",
              "\n",
              "      const channel = await google.colab.kernel.comms.open(id);\n",
              "      // Send a message to notify the kernel that we're ready.\n",
              "      channel.send({})\n",
              "\n",
              "      for await (const message of channel.messages) {\n",
              "        // Send a message to notify the kernel that we're ready.\n",
              "        channel.send({})\n",
              "        if (message.buffers) {\n",
              "          for (const buffer of message.buffers) {\n",
              "            buffers.push(buffer);\n",
              "            downloaded += buffer.byteLength;\n",
              "            progress.value = downloaded;\n",
              "          }\n",
              "        }\n",
              "      }\n",
              "      const blob = new Blob(buffers, {type: 'application/binary'});\n",
              "      const a = document.createElement('a');\n",
              "      a.href = window.URL.createObjectURL(blob);\n",
              "      a.download = filename;\n",
              "      div.appendChild(a);\n",
              "      a.click();\n",
              "      div.remove();\n",
              "    }\n",
              "  "
            ],
            "text/plain": [
              "<IPython.core.display.Javascript object>"
            ]
          },
          "metadata": {
            "tags": []
          }
        },
        {
          "output_type": "display_data",
          "data": {
            "application/javascript": [
              "download(\"download_f5bc979b-a85f-4bd8-9b2f-785c6c9f9134\", \"dadosgov_Brazil_biblioteca_query.csv\", 1211510)"
            ],
            "text/plain": [
              "<IPython.core.display.Javascript object>"
            ]
          },
          "metadata": {
            "tags": []
          }
        },
        {
          "output_type": "display_data",
          "data": {
            "application/javascript": [
              "\n",
              "    async function download(id, filename, size) {\n",
              "      if (!google.colab.kernel.accessAllowed) {\n",
              "        return;\n",
              "      }\n",
              "      const div = document.createElement('div');\n",
              "      const label = document.createElement('label');\n",
              "      label.textContent = `Downloading \"${filename}\": `;\n",
              "      div.appendChild(label);\n",
              "      const progress = document.createElement('progress');\n",
              "      progress.max = size;\n",
              "      div.appendChild(progress);\n",
              "      document.body.appendChild(div);\n",
              "\n",
              "      const buffers = [];\n",
              "      let downloaded = 0;\n",
              "\n",
              "      const channel = await google.colab.kernel.comms.open(id);\n",
              "      // Send a message to notify the kernel that we're ready.\n",
              "      channel.send({})\n",
              "\n",
              "      for await (const message of channel.messages) {\n",
              "        // Send a message to notify the kernel that we're ready.\n",
              "        channel.send({})\n",
              "        if (message.buffers) {\n",
              "          for (const buffer of message.buffers) {\n",
              "            buffers.push(buffer);\n",
              "            downloaded += buffer.byteLength;\n",
              "            progress.value = downloaded;\n",
              "          }\n",
              "        }\n",
              "      }\n",
              "      const blob = new Blob(buffers, {type: 'application/binary'});\n",
              "      const a = document.createElement('a');\n",
              "      a.href = window.URL.createObjectURL(blob);\n",
              "      a.download = filename;\n",
              "      div.appendChild(a);\n",
              "      a.click();\n",
              "      div.remove();\n",
              "    }\n",
              "  "
            ],
            "text/plain": [
              "<IPython.core.display.Javascript object>"
            ]
          },
          "metadata": {
            "tags": []
          }
        },
        {
          "output_type": "display_data",
          "data": {
            "application/javascript": [
              "download(\"download_233e0762-c6f1-4d7a-aa3d-6af48dc829c8\", \"dadosgov_Brazil_biblioteca_query.xls\", 624640)"
            ],
            "text/plain": [
              "<IPython.core.display.Javascript object>"
            ]
          },
          "metadata": {
            "tags": []
          }
        }
      ]
    },
    {
      "cell_type": "markdown",
      "metadata": {
        "id": "OfN6ZsTt4_Ex"
      },
      "source": [
        "# Leitura do banco de dados"
      ]
    },
    {
      "cell_type": "markdown",
      "metadata": {
        "id": "fFnMul1r5N1w"
      },
      "source": [
        "## Funções"
      ]
    },
    {
      "cell_type": "markdown",
      "metadata": {
        "id": "scgbgHKBTuRh"
      },
      "source": [
        "### filter_dataset"
      ]
    },
    {
      "cell_type": "code",
      "metadata": {
        "id": "iyu0dU3pTt1Z"
      },
      "source": [
        "def filter_dataset(pattern,complement=False):\n",
        "    id = numpy.full((df_datagov.shape[0],),False)\n",
        "\n",
        "    dataset_keys = df_datagov.dataset_key.unique()\n",
        "    \n",
        "    if complement:\n",
        "        pattern_keys = [dk for dk in dataset_keys if not re.findall(pattern,dk)]\n",
        "    else:\n",
        "        pattern_keys = [dk for dk in dataset_keys if re.findall(pattern,dk)]\n",
        "\n",
        "    for pk in pattern_keys:\n",
        "        pk_id = ( (df_datagov.dataset_key == pk).values ) | id\n",
        "        id = pk_id\n",
        "    \n",
        "    return df_datagov[id]"
      ],
      "execution_count": 178,
      "outputs": []
    },
    {
      "cell_type": "markdown",
      "metadata": {
        "id": "pxKrQ4fv5QfA"
      },
      "source": [
        "### read_csv"
      ]
    },
    {
      "cell_type": "code",
      "metadata": {
        "id": "GHy0hY6C4-sw"
      },
      "source": [
        "def read_csv(dataset_key = 'discentes'):\n",
        "    df_dataset = filter_dataset('^'+dataset_key+'$')\n",
        "\n",
        "    list_dataset = []\n",
        "    print('dataset '+dataset_key,end='\\n\\n')\n",
        "    for entry in df_dataset.iloc:\n",
        "\n",
        "        if ( ( entry.format == 'CSV' ) is False ) : continue\n",
        "        print('\\t',entry.dataset_title)\n",
        "        _ = pandas.read_csv(entry.url_out,sep=';',decimal=',')\n",
        "        list_dataset += [ _ ]\n",
        "            \n",
        "    dataset = pandas.concat(list_dataset,axis=0)\n",
        "    return dataset"
      ],
      "execution_count": 202,
      "outputs": []
    },
    {
      "cell_type": "markdown",
      "metadata": {
        "id": "XBLP_nqv5JwJ"
      },
      "source": [
        "### read_pdf"
      ]
    },
    {
      "cell_type": "code",
      "metadata": {
        "id": "f3WrkM_V5a3o"
      },
      "source": [
        "def read_pdf(dataset_key = 'discentes'):\n",
        "    id_dataset = df_datagov['dataset_key'] == 'discentes'\n",
        "    df_dataset = df_datagov[id_dataset]\n",
        "    df_dataset\n",
        "\n",
        "    list_dataset = []\n",
        "    print('dataset '+dataset_key,end='\\n\\n')\n",
        "    for url in df_dataset['url_out'].values:\n",
        "        print('\\t',url)\n",
        "        \n",
        "        ext = os.path.splitext(url)[1]\n",
        "\n",
        "        if ( ( ext == '.pdf') is False ) : continue\n",
        "        \n",
        "        list_dataset += [ url ]\n",
        "    \n",
        "    return(list_dataset)\n",
        "            \n",
        "    "
      ],
      "execution_count": 171,
      "outputs": []
    },
    {
      "cell_type": "markdown",
      "metadata": {
        "id": "Hx5vyud2BnPY"
      },
      "source": [
        "# Análises"
      ]
    },
    {
      "cell_type": "code",
      "metadata": {
        "id": "yWzk2_dCU8us",
        "outputId": "89d11d5c-eaf4-4b48-8fbd-32c79670c3fe",
        "colab": {
          "base_uri": "https://localhost:8080/"
        }
      },
      "source": [
        "ds = read_csv('biblioteca')"
      ],
      "execution_count": 203,
      "outputs": [
        {
          "output_type": "stream",
          "text": [
            "dataset biblioteca\n",
            "\n",
            "\t Biblioteca\n",
            "\t Biblioteca\n",
            "\t Biblioteca\n",
            "\t Biblioteca\n"
          ],
          "name": "stdout"
        }
      ]
    },
    {
      "cell_type": "code",
      "metadata": {
        "id": "d5ev3ZyHVwjS",
        "outputId": "0ddb1a88-6d78-40e6-ffb5-76edab1474ec",
        "colab": {
          "base_uri": "https://localhost:8080/"
        }
      },
      "source": [
        "print(hyperlink + df_datagov.iloc[0].dataset_url[-1])"
      ],
      "execution_count": 210,
      "outputs": [
        {
          "output_type": "stream",
          "text": [
            "https://dados.gov.br/dataset/biblioteca\n"
          ],
          "name": "stdout"
        }
      ]
    },
    {
      "cell_type": "code",
      "metadata": {
        "id": "mEDyPWUPVcdJ"
      },
      "source": [
        ""
      ],
      "execution_count": null,
      "outputs": []
    },
    {
      "cell_type": "code",
      "metadata": {
        "id": "Euy5yVtMT37S",
        "outputId": "b8c025bb-8119-463d-e0e0-17f955ed03aa",
        "colab": {
          "base_uri": "https://localhost:8080/",
          "height": 424
        }
      },
      "source": [
        "pandas.read_csv(filter_dataset('^biblioteca$')['url_out'].values[1],sep=',')"
      ],
      "execution_count": 194,
      "outputs": [
        {
          "output_type": "execute_result",
          "data": {
            "text/html": [
              "<div>\n",
              "<style scoped>\n",
              "    .dataframe tbody tr th:only-of-type {\n",
              "        vertical-align: middle;\n",
              "    }\n",
              "\n",
              "    .dataframe tbody tr th {\n",
              "        vertical-align: top;\n",
              "    }\n",
              "\n",
              "    .dataframe thead th {\n",
              "        text-align: right;\n",
              "    }\n",
              "</style>\n",
              "<table border=\"1\" class=\"dataframe\">\n",
              "  <thead>\n",
              "    <tr style=\"text-align: right;\">\n",
              "      <th></th>\n",
              "      <th>biblioteca</th>\n",
              "      <th>tipo_material</th>\n",
              "      <th>tipo_emprestimo</th>\n",
              "      <th>ano</th>\n",
              "      <th>mes</th>\n",
              "      <th>qtde_emprestimos</th>\n",
              "    </tr>\n",
              "  </thead>\n",
              "  <tbody>\n",
              "    <tr>\n",
              "      <th>0</th>\n",
              "      <td>BIBLIOTECA CAMPUS ANGICOS</td>\n",
              "      <td>Livro</td>\n",
              "      <td>NORMAL</td>\n",
              "      <td>2010</td>\n",
              "      <td>9</td>\n",
              "      <td>1</td>\n",
              "    </tr>\n",
              "    <tr>\n",
              "      <th>1</th>\n",
              "      <td>BIBLIOTECA CAMPUS ANGICOS</td>\n",
              "      <td>Livro</td>\n",
              "      <td>NORMAL</td>\n",
              "      <td>2010</td>\n",
              "      <td>10</td>\n",
              "      <td>1</td>\n",
              "    </tr>\n",
              "    <tr>\n",
              "      <th>2</th>\n",
              "      <td>BIBLIOTECA CAMPUS ANGICOS</td>\n",
              "      <td>Livro</td>\n",
              "      <td>NORMAL</td>\n",
              "      <td>2011</td>\n",
              "      <td>2</td>\n",
              "      <td>2</td>\n",
              "    </tr>\n",
              "    <tr>\n",
              "      <th>3</th>\n",
              "      <td>BIBLIOTECA CAMPUS ANGICOS</td>\n",
              "      <td>Livro</td>\n",
              "      <td>FOTOCÓPIA</td>\n",
              "      <td>2011</td>\n",
              "      <td>3</td>\n",
              "      <td>1</td>\n",
              "    </tr>\n",
              "    <tr>\n",
              "      <th>4</th>\n",
              "      <td>BIBLIOTECA CAMPUS ANGICOS</td>\n",
              "      <td>Livro</td>\n",
              "      <td>NORMAL</td>\n",
              "      <td>2011</td>\n",
              "      <td>3</td>\n",
              "      <td>259</td>\n",
              "    </tr>\n",
              "    <tr>\n",
              "      <th>...</th>\n",
              "      <td>...</td>\n",
              "      <td>...</td>\n",
              "      <td>...</td>\n",
              "      <td>...</td>\n",
              "      <td>...</td>\n",
              "      <td>...</td>\n",
              "    </tr>\n",
              "    <tr>\n",
              "      <th>1435</th>\n",
              "      <td>BIBLIOTECA CENTRAL - ORLANDO TEIXEIRA</td>\n",
              "      <td>Livro</td>\n",
              "      <td>NORMAL</td>\n",
              "      <td>2020</td>\n",
              "      <td>11</td>\n",
              "      <td>13</td>\n",
              "    </tr>\n",
              "    <tr>\n",
              "      <th>1436</th>\n",
              "      <td>BIBLIOTECA CENTRAL - ORLANDO TEIXEIRA</td>\n",
              "      <td>Atlas</td>\n",
              "      <td>NORMAL</td>\n",
              "      <td>2021</td>\n",
              "      <td>1</td>\n",
              "      <td>1</td>\n",
              "    </tr>\n",
              "    <tr>\n",
              "      <th>1437</th>\n",
              "      <td>BIBLIOTECA CENTRAL - ORLANDO TEIXEIRA</td>\n",
              "      <td>Livro</td>\n",
              "      <td>NORMAL</td>\n",
              "      <td>2021</td>\n",
              "      <td>1</td>\n",
              "      <td>4</td>\n",
              "    </tr>\n",
              "    <tr>\n",
              "      <th>1438</th>\n",
              "      <td>BIBLIOTECA CENTRAL - ORLANDO TEIXEIRA</td>\n",
              "      <td>Livro</td>\n",
              "      <td>NORMAL</td>\n",
              "      <td>2021</td>\n",
              "      <td>2</td>\n",
              "      <td>3</td>\n",
              "    </tr>\n",
              "    <tr>\n",
              "      <th>1439</th>\n",
              "      <td>BIBLIOTECA CENTRAL - ORLANDO TEIXEIRA</td>\n",
              "      <td>Livro</td>\n",
              "      <td>NORMAL</td>\n",
              "      <td>2021</td>\n",
              "      <td>3</td>\n",
              "      <td>2</td>\n",
              "    </tr>\n",
              "  </tbody>\n",
              "</table>\n",
              "<p>1440 rows × 6 columns</p>\n",
              "</div>"
            ],
            "text/plain": [
              "                                 biblioteca  ... qtde_emprestimos\n",
              "0                 BIBLIOTECA CAMPUS ANGICOS  ...                1\n",
              "1                 BIBLIOTECA CAMPUS ANGICOS  ...                1\n",
              "2                 BIBLIOTECA CAMPUS ANGICOS  ...                2\n",
              "3                 BIBLIOTECA CAMPUS ANGICOS  ...                1\n",
              "4                 BIBLIOTECA CAMPUS ANGICOS  ...              259\n",
              "...                                     ...  ...              ...\n",
              "1435  BIBLIOTECA CENTRAL - ORLANDO TEIXEIRA  ...               13\n",
              "1436  BIBLIOTECA CENTRAL - ORLANDO TEIXEIRA  ...                1\n",
              "1437  BIBLIOTECA CENTRAL - ORLANDO TEIXEIRA  ...                4\n",
              "1438  BIBLIOTECA CENTRAL - ORLANDO TEIXEIRA  ...                3\n",
              "1439  BIBLIOTECA CENTRAL - ORLANDO TEIXEIRA  ...                2\n",
              "\n",
              "[1440 rows x 6 columns]"
            ]
          },
          "metadata": {
            "tags": []
          },
          "execution_count": 194
        }
      ]
    },
    {
      "cell_type": "markdown",
      "metadata": {
        "id": "h2M-LP3Sd-Q2"
      },
      "source": [
        "## Brazil"
      ]
    },
    {
      "cell_type": "markdown",
      "metadata": {
        "id": "Rs8vEFsYeARU"
      },
      "source": [
        "### UFRN+discentes"
      ]
    },
    {
      "cell_type": "code",
      "metadata": {
        "id": "akiYP-PFbvIF"
      },
      "source": [
        "if not query == 'UFRN+discentes':\n",
        "    df_datagov['not default']"
      ],
      "execution_count": null,
      "outputs": []
    },
    {
      "cell_type": "code",
      "metadata": {
        "id": "E9ekV9xEM9RJ"
      },
      "source": [
        "import os"
      ],
      "execution_count": null,
      "outputs": []
    },
    {
      "cell_type": "code",
      "metadata": {
        "id": "PpF50YPyMwEK"
      },
      "source": [
        ""
      ],
      "execution_count": null,
      "outputs": []
    },
    {
      "cell_type": "code",
      "metadata": {
        "id": "mjl4cL7mNWZT"
      },
      "source": [
        "df_csv = pandas.read_csv(fext_dict['.csv'][0],sep=';')"
      ],
      "execution_count": null,
      "outputs": []
    },
    {
      "cell_type": "code",
      "metadata": {
        "id": "zZFbMT8ZNgzT"
      },
      "source": [
        "df_csv"
      ],
      "execution_count": null,
      "outputs": []
    },
    {
      "cell_type": "code",
      "metadata": {
        "id": "Dd46CTYTNgPQ"
      },
      "source": [
        "from matplotlib import pyplot\n",
        "\n",
        "from collections import Counter\n",
        "\n",
        "df_csv_sexo_counter = Counter( df_csv.sexo.values )\n",
        "\n",
        "figura_csv = pyplot.figure(1,(15,5)) # 1 ua = 72 px\n",
        "\n",
        "pyplot.bar(df_csv_sexo_counter.keys(), df_csv_sexo_counter.values())\n"
      ],
      "execution_count": null,
      "outputs": []
    },
    {
      "cell_type": "code",
      "metadata": {
        "id": "u_HIS9VTbBAm"
      },
      "source": [
        "for k in df_datagov.dataset_key.unique():\n",
        "    print(k)"
      ],
      "execution_count": null,
      "outputs": []
    },
    {
      "cell_type": "code",
      "metadata": {
        "colab": {
          "base_uri": "https://localhost:8080/"
        },
        "id": "sUl_yjHymhfG",
        "outputId": "d08d42b5-8ae4-425f-cc31-06ed733670d9"
      },
      "source": [
        ""
      ],
      "execution_count": null,
      "outputs": [
        {
          "output_type": "execute_result",
          "data": {
            "text/plain": [
              "True"
            ]
          },
          "metadata": {
            "tags": []
          },
          "execution_count": 60
        }
      ]
    },
    {
      "cell_type": "code",
      "metadata": {
        "id": "GIJfkqwNa1jt"
      },
      "source": [
        ""
      ],
      "execution_count": null,
      "outputs": []
    },
    {
      "cell_type": "code",
      "metadata": {
        "id": "8YbH1zh2bkVN"
      },
      "source": [
        ""
      ],
      "execution_count": null,
      "outputs": []
    },
    {
      "cell_type": "markdown",
      "metadata": {
        "id": "4WDgOXM9mR1E"
      },
      "source": [
        "### discentes"
      ]
    },
    {
      "cell_type": "code",
      "metadata": {
        "id": "B7OdiZ4LfUWF"
      },
      "source": [
        ""
      ],
      "execution_count": null,
      "outputs": []
    },
    {
      "cell_type": "code",
      "metadata": {
        "id": "Kbc2e5dsgpBs"
      },
      "source": [
        ""
      ],
      "execution_count": null,
      "outputs": []
    },
    {
      "cell_type": "markdown",
      "metadata": {
        "id": "SCge6DNXmUDc"
      },
      "source": [
        "### contagem de registros de anos e gênero sexual"
      ]
    },
    {
      "cell_type": "code",
      "metadata": {
        "id": "383HtZ74f_wd"
      },
      "source": [
        "pyplot.figure?\n",
        "pyplot.bar?\n",
        "pyplot.plot?\n",
        "pyplot.subplots?"
      ],
      "execution_count": null,
      "outputs": []
    },
    {
      "cell_type": "code",
      "metadata": {
        "id": "vL5lrLpyfBxd"
      },
      "source": [
        "gb = discentes[['ano_ingresso','sexo','matricula']].groupby(['ano_ingresso','sexo'])\n",
        "gb['matricula'].count().items()\n",
        "tuple( gb['matricula'].count().items() )  # tuplas de ( tupla de ( tupla de ano e sexo ) e contagem )\n",
        "ano_sexo, contagem = zip(*gb['matricula'].count().items())\n",
        "ano, sexo = zip(*ano_sexo)\n",
        "import numpy\n",
        "\n",
        "ano = numpy.array(ano)\n",
        "contagem = numpy.array(contagem)\n",
        "id_m = [s == 'M' for s in sexo]\n",
        "id_f = [s == 'F' for s in sexo]\n",
        "id_na = [s=='false' for s in sexo]\n",
        "\n",
        "figura, axs = pyplot.subplots(3,1,sharex=True,sharey=True,figsize=(20,8))\n",
        "for ax,(id,cor) in zip(axs,[(id_m,'y'),(id_f,'r'),(id_na,'k')]):\n",
        "    ax.bar(x=ano[id],height=contagem[id],axes=ax,facecolor=cor)\n",
        "figura, axs = pyplot.subplots(3,1,sharex=True,sharey=True,figsize=(20,8))\n",
        "for ax,(id,cor) in zip(axs,[(id_m,'y'),(id_f,'r'),(id_na,'k')]):\n",
        "    ax.bar(x=ano[id],height=numpy.log10(contagem[id]),axes=ax,facecolor=cor)\n"
      ],
      "execution_count": null,
      "outputs": []
    },
    {
      "cell_type": "code",
      "metadata": {
        "id": "b_9AZzxco6f4"
      },
      "source": [
        ""
      ],
      "execution_count": null,
      "outputs": []
    }
  ]
}