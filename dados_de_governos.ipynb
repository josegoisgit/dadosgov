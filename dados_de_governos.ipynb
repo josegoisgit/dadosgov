{
  "nbformat": 4,
  "nbformat_minor": 0,
  "metadata": {
    "colab": {
      "name": "dados de governos.ipynb",
      "provenance": [],
      "collapsed_sections": [
        "CWc14YGDoaGk",
        "9eZfjn-D5PNM",
        "g1o9gIGQ5WbM",
        "4flb2Nv1opzk",
        "FGczy-3ypgTT",
        "XpDHRaKhpwu7",
        "uzUmdjFgp3_7",
        "7Xh_L4Vnp8Cr",
        "5QAe2IePqBA7",
        "BgH8HhVKqHdr",
        "gyCmBNOyqKxL",
        "LmOKgNVfqL_D",
        "A1JwakD7qrsj",
        "39PWBSKmqwaz",
        "I1IjZx5eq0rU",
        "0CZwsdnWyQeS"
      ],
      "toc_visible": true,
      "authorship_tag": "ABX9TyMwtkHm8Cm2I8TGQ6P6GQpb",
      "include_colab_link": true
    },
    "kernelspec": {
      "name": "python3",
      "display_name": "Python 3"
    },
    "language_info": {
      "name": "python"
    }
  },
  "cells": [
    {
      "cell_type": "markdown",
      "metadata": {
        "id": "view-in-github",
        "colab_type": "text"
      },
      "source": [
        "<a href=\"https://colab.research.google.com/github/josegoisgit/dadosgov/blob/main/dados_de_governos.ipynb\" target=\"_parent\"><img src=\"https://colab.research.google.com/assets/colab-badge.svg\" alt=\"Open In Colab\"/></a>"
      ]
    },
    {
      "cell_type": "markdown",
      "metadata": {
        "id": "95593vmn10w2"
      },
      "source": [
        "Bandeiras\n",
        "\n",
        "1.   Transparência digital\n",
        "2.   Dados abertos\n",
        "\n"
      ]
    },
    {
      "cell_type": "markdown",
      "metadata": {
        "id": "_Uape97265nK"
      },
      "source": [
        "Informações\n",
        "\n",
        "https://dados.gov.br/pagina/sobre\n",
        "\n",
        "https://www.oecd.org/gov/open-government-data-report-9789264305847-en.htm\n",
        "\n",
        "http://www.oecd.org/gov/digital-government/open-government-data.htm\n",
        "\n",
        "https://en.wikipedia.org/wiki/Open_by_default\n",
        "\n",
        "https://theunitedstates.io/licensing\n",
        "\n",
        "https://www.w3.org/2017/12/odi-study/\n",
        "\n",
        "https://www.w3.org/TR/vocab-dcat/"
      ]
    },
    {
      "cell_type": "code",
      "metadata": {
        "id": "wIy5u2OSQDwV"
      },
      "source": [
        "alias_url = {\n",
        "    'Australia' : 'data.gov.au',\n",
        "    'Austria' : 'data.gv.at',\n",
        "    'Belgium' : 'data.gov.be',\n",
        "    'Brazil'  : 'dados.gov.br',\n",
        "    'Canada' : 'open.canada.ca',\n",
        "    'Chile' : 'datos.gob.cl',\n",
        "    'Colombia' :'datos.gob.co',\n",
        "    'Denmark' : 'www.digitaliser.dk/cataloues',\n",
        "    'Dominican Republic' : 'www.datos.gob.do',\n",
        "    'Estonia' : 'opendata.riik.ee',\n",
        "    'Finland' : 'avoindata.fi/fi',\n",
        "    'France' : 'data.gouv.fr',\n",
        "    'Germany' : 'govdata.de',\n",
        "    'Greece' : 'data.gov.gr',\n",
        "    'Ireland' : 'data.gov.ie',\n",
        "    'Israel' : 'data.gov.il',\n",
        "    'Italy' : 'dati.gov.it',\n",
        "    'Japan' : 'data.go.jp',\n",
        "    'Korea' : 'data.go.kr',\n",
        "    'Latvia' : 'data.gov.lv',\n",
        "    'Lithuania' : 'data.gov.lt',\n",
        "    'Mexico' : 'datos.gob.mx',\n",
        "    'Netherlands' : 'data.overheid.nl',\n",
        "    'Norway' : 'data.norge.no',\n",
        "    'Peru' : 'datosabiertos.gob.pe',\n",
        "    'Poland' : 'danepubliczene.gov.pl',\n",
        "    'Portugal' : 'dados.gov.pt',\n",
        "    'Slovenia' : 'data.gov.si',\n",
        "    'Spain' : 'datos.gob.es',\n",
        "    'Sweden' : 'oppnadata.se',\n",
        "    'Switzeland' : 'opendata.swiss',\n",
        "    'Czech Republic' : 'data.gov.cz',\n",
        "    'New Zealand' : 'data.govt.nz',\n",
        "    'Slovak Republic' : 'data.gov.sk',\n",
        "    'United Kingdom' : 'data.gov.uk',\n",
        "    'Uniteds States' : 'data.gov'\n",
        "}"
      ],
      "execution_count": null,
      "outputs": []
    },
    {
      "cell_type": "code",
      "metadata": {
        "id": "MebnTiycOG1_"
      },
      "source": [
        "'''\n",
        "<html>\n",
        "    <body>\n",
        "        <table>\n",
        "            <th> table header\n",
        "            <tr> table row\n",
        "            <td> table data\n",
        "            \n",
        "        </table>\n",
        "    </body>\n",
        "</html>\n",
        "'''"
      ],
      "execution_count": null,
      "outputs": []
    },
    {
      "cell_type": "code",
      "metadata": {
        "id": "YN00G1LgN_ZA"
      },
      "source": [
        "alias_url = {\n",
        "    'Brazil'  : 'dados.gov.br',\n",
        "    'Dominican Republic' : 'www.datos.gob.do',\n",
        "}"
      ],
      "execution_count": null,
      "outputs": []
    },
    {
      "cell_type": "code",
      "metadata": {
        "id": "DLVO6Bq8DIhg"
      },
      "source": [
        "alias = 'Brazil'\n",
        "hyperlink = 'https://'+alias_url[alias]"
      ],
      "execution_count": 2,
      "outputs": []
    },
    {
      "cell_type": "code",
      "metadata": {
        "id": "XL-2914QDQxe"
      },
      "source": [
        "query     = 'UFRJ discentes'"
      ],
      "execution_count": 3,
      "outputs": []
    },
    {
      "cell_type": "markdown",
      "metadata": {
        "id": "fvdY4S2Yq6z8"
      },
      "source": [
        "![Screenshot 2021-04-25 075702.png](data:image/png;base64,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)"
      ]
    },
    {
      "cell_type": "markdown",
      "metadata": {
        "id": "JcHzt8iVLLgy"
      },
      "source": [
        "![image.png](data:image/png;base64,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)"
      ]
    },
    {
      "cell_type": "markdown",
      "metadata": {
        "id": "CDzisQM3LZ3X"
      },
      "source": [
        "![image.png](data:image/png;base64,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)"
      ]
    },
    {
      "cell_type": "markdown",
      "metadata": {
        "id": "UrOkZJCFx3OT"
      },
      "source": [
        "# Módulos e pacotes"
      ]
    },
    {
      "cell_type": "markdown",
      "metadata": {
        "id": "V4IG3zlMn8tV"
      },
      "source": [
        "## Instalação"
      ]
    },
    {
      "cell_type": "code",
      "metadata": {
        "id": "-2_riDgSq_w0",
        "colab": {
          "base_uri": "https://localhost:8080/"
        },
        "outputId": "5dba01a6-f6f5-4068-f57b-1aece7fa6e50"
      },
      "source": [
        "!pip install unidecode"
      ],
      "execution_count": 4,
      "outputs": [
        {
          "output_type": "stream",
          "text": [
            "Collecting unidecode\n",
            "\u001b[?25l  Downloading https://files.pythonhosted.org/packages/9e/25/723487ca2a52ebcee88a34d7d1f5a4b80b793f179ee0f62d5371938dfa01/Unidecode-1.2.0-py2.py3-none-any.whl (241kB)\n",
            "\r\u001b[K     |█▍                              | 10kB 7.2MB/s eta 0:00:01\r\u001b[K     |██▊                             | 20kB 10.1MB/s eta 0:00:01\r\u001b[K     |████                            | 30kB 12.2MB/s eta 0:00:01\r\u001b[K     |█████▍                          | 40kB 13.8MB/s eta 0:00:01\r\u001b[K     |██████▉                         | 51kB 5.5MB/s eta 0:00:01\r\u001b[K     |████████▏                       | 61kB 5.9MB/s eta 0:00:01\r\u001b[K     |█████████▌                      | 71kB 5.3MB/s eta 0:00:01\r\u001b[K     |██████████▉                     | 81kB 3.6MB/s eta 0:00:01\r\u001b[K     |████████████▏                   | 92kB 4.0MB/s eta 0:00:01\r\u001b[K     |█████████████▋                  | 102kB 4.3MB/s eta 0:00:01\r\u001b[K     |███████████████                 | 112kB 4.3MB/s eta 0:00:01\r\u001b[K     |████████████████▎               | 122kB 4.3MB/s eta 0:00:01\r\u001b[K     |█████████████████▋              | 133kB 4.3MB/s eta 0:00:01\r\u001b[K     |███████████████████             | 143kB 4.3MB/s eta 0:00:01\r\u001b[K     |████████████████████▍           | 153kB 4.3MB/s eta 0:00:01\r\u001b[K     |█████████████████████▊          | 163kB 4.3MB/s eta 0:00:01\r\u001b[K     |███████████████████████         | 174kB 4.3MB/s eta 0:00:01\r\u001b[K     |████████████████████████▍       | 184kB 4.3MB/s eta 0:00:01\r\u001b[K     |█████████████████████████▊      | 194kB 4.3MB/s eta 0:00:01\r\u001b[K     |███████████████████████████▏    | 204kB 4.3MB/s eta 0:00:01\r\u001b[K     |████████████████████████████▌   | 215kB 4.3MB/s eta 0:00:01\r\u001b[K     |█████████████████████████████▉  | 225kB 4.3MB/s eta 0:00:01\r\u001b[K     |███████████████████████████████▏| 235kB 4.3MB/s eta 0:00:01\r\u001b[K     |████████████████████████████████| 245kB 4.3MB/s \n",
            "\u001b[?25hInstalling collected packages: unidecode\n",
            "Successfully installed unidecode-1.2.0\n"
          ],
          "name": "stdout"
        }
      ]
    },
    {
      "cell_type": "markdown",
      "metadata": {
        "id": "D0mCIUWOoLjL"
      },
      "source": [
        "## Importação"
      ]
    },
    {
      "cell_type": "code",
      "metadata": {
        "id": "9YGE8e28pa8e"
      },
      "source": [
        "import re\n",
        "import requests\n",
        "import pandas\n",
        "\n",
        "from unidecode import unidecode\n",
        "\n",
        "from itertools import chain\n",
        "from lxml.etree import HTML\n",
        "\n",
        "import IPython\n",
        "import ipywidgets\n",
        "import google.colab"
      ],
      "execution_count": 5,
      "outputs": []
    },
    {
      "cell_type": "markdown",
      "metadata": {
        "id": "AbLc4GnFx5Dq"
      },
      "source": [
        "# Funções"
      ]
    },
    {
      "cell_type": "markdown",
      "metadata": {
        "id": "CWc14YGDoaGk"
      },
      "source": [
        "## auxiliares"
      ]
    },
    {
      "cell_type": "markdown",
      "metadata": {
        "id": "9eZfjn-D5PNM"
      },
      "source": [
        "#### lambdas"
      ]
    },
    {
      "cell_type": "markdown",
      "metadata": {
        "id": "g1o9gIGQ5WbM"
      },
      "source": [
        "##### strip"
      ]
    },
    {
      "cell_type": "code",
      "metadata": {
        "id": "7m5wrzf75Y0U"
      },
      "source": [
        "strip_ = lambda T: set( t.strip() for t in T if t.strip() )\n",
        "strip  = lambda T: '\\n'.join( strip_( T ) ).strip()"
      ],
      "execution_count": 6,
      "outputs": []
    },
    {
      "cell_type": "markdown",
      "metadata": {
        "id": "TqQs5czp5ZQb"
      },
      "source": [
        "##### plain"
      ]
    },
    {
      "cell_type": "code",
      "metadata": {
        "id": "frgu1nD3qCxc"
      },
      "source": [
        "\n",
        "\n",
        "plain  = lambda I: list( chain.from_iterable( I ) )\n"
      ],
      "execution_count": 7,
      "outputs": []
    },
    {
      "cell_type": "markdown",
      "metadata": {
        "id": "4flb2Nv1opzk"
      },
      "source": [
        "## get_url_html"
      ]
    },
    {
      "cell_type": "code",
      "metadata": {
        "id": "eJhufngCqCQM"
      },
      "source": [
        "def get_url_html(url):\n",
        "    requested         = requests.request('GET', url)\n",
        "    html              = HTML(requested.text)    \n",
        "    html.nsmap['url'] = url\n",
        "\n",
        "    return html\n"
      ],
      "execution_count": 8,
      "outputs": []
    },
    {
      "cell_type": "code",
      "metadata": {
        "colab": {
          "base_uri": "https://localhost:8080/"
        },
        "id": "BFWCbHgjov01",
        "outputId": "2525b337-3b12-4895-f112-5a795fb6272a"
      },
      "source": [
        "#Exemplo:\n",
        "html = get_url_html('https://docs.python.org')\n",
        "html.xpath('.//a/@href')"
      ],
      "execution_count": 9,
      "outputs": [
        {
          "output_type": "execute_result",
          "data": {
            "text/plain": [
              "['genindex.html',\n",
              " 'py-modindex.html',\n",
              " 'https://www.python.org/',\n",
              " '#',\n",
              " 'whatsnew/3.9.html',\n",
              " 'whatsnew/index.html',\n",
              " 'tutorial/index.html',\n",
              " 'library/index.html',\n",
              " 'reference/index.html',\n",
              " 'using/index.html',\n",
              " 'howto/index.html',\n",
              " 'installing/index.html',\n",
              " 'distributing/index.html',\n",
              " 'extending/index.html',\n",
              " 'c-api/index.html',\n",
              " 'faq/index.html',\n",
              " 'py-modindex.html',\n",
              " 'genindex.html',\n",
              " 'glossary.html',\n",
              " 'search.html',\n",
              " 'contents.html',\n",
              " 'bugs.html',\n",
              " 'https://devguide.python.org/docquality/#helping-with-documentation',\n",
              " 'about.html',\n",
              " 'license.html',\n",
              " 'copyright.html',\n",
              " 'download.html',\n",
              " 'https://docs.python.org/3.10/',\n",
              " 'https://docs.python.org/3.9/',\n",
              " 'https://docs.python.org/3.8/',\n",
              " 'https://docs.python.org/3.7/',\n",
              " 'https://docs.python.org/3.6/',\n",
              " 'https://docs.python.org/3.5/',\n",
              " 'https://docs.python.org/2.7/',\n",
              " 'https://www.python.org/doc/versions/',\n",
              " 'https://www.python.org/dev/peps/',\n",
              " 'https://wiki.python.org/moin/BeginnersGuide',\n",
              " 'https://wiki.python.org/moin/PythonBooks',\n",
              " 'https://www.python.org/doc/av/',\n",
              " 'https://devguide.python.org/',\n",
              " 'genindex.html',\n",
              " 'py-modindex.html',\n",
              " 'https://www.python.org/',\n",
              " '#',\n",
              " 'copyright.html',\n",
              " 'https://www.python.org/psf/donations/',\n",
              " 'https://docs.python.org/3/bugs.html',\n",
              " 'https://www.sphinx-doc.org/']"
            ]
          },
          "metadata": {
            "tags": []
          },
          "execution_count": 9
        }
      ]
    },
    {
      "cell_type": "markdown",
      "metadata": {
        "id": "FGczy-3ypgTT"
      },
      "source": [
        "## xpath"
      ]
    },
    {
      "cell_type": "markdown",
      "metadata": {
        "id": "XpDHRaKhpwu7"
      },
      "source": [
        "### contains_clause"
      ]
    },
    {
      "cell_type": "code",
      "metadata": {
        "id": "cZQ8-Om_qBtE"
      },
      "source": [
        "def contains_clause(dic, operator='OR'):\n",
        "    predicados = [\"contains(@{k},'{v}')\".format(k=k,v=v) for k,v in dic.items()]\n",
        "\n",
        "    return operator.join(predicados)\n"
      ],
      "execution_count": 10,
      "outputs": []
    },
    {
      "cell_type": "markdown",
      "metadata": {
        "id": "uzUmdjFgp3_7"
      },
      "source": [
        "### compose_xpath"
      ]
    },
    {
      "cell_type": "code",
      "metadata": {
        "id": "AIU4h78ZqBEc"
      },
      "source": [
        "\n",
        "def compose_xpath( element, attribute, content ):\n",
        "    dictionary = contains_clause( { attribute : content } )\n",
        "\n",
        "    str_dict = {\n",
        "        'element' : element,\n",
        "        'dictionary' : dictionary \n",
        "    }\n",
        "\n",
        "    return \"{element}[{dictionary}]\".format(**str_dict)\n"
      ],
      "execution_count": 11,
      "outputs": []
    },
    {
      "cell_type": "markdown",
      "metadata": {
        "id": "7Xh_L4Vnp8Cr"
      },
      "source": [
        "### get_xnodes"
      ]
    },
    {
      "cell_type": "code",
      "metadata": {
        "id": "NdaFErYzp-L9"
      },
      "source": [
        "\n",
        "def get_xnodes(html, element, attribute='class', content='', complement=''):\n",
        "    if complement:\n",
        "        xnode = html.xpath(compose_xpath(element,attribute,content) + complement)\n",
        "    else:\n",
        "        xnode = html.xpath(compose_xpath(element,attribute,content) )\n",
        "    return xnode if xnode else None\n"
      ],
      "execution_count": 12,
      "outputs": []
    },
    {
      "cell_type": "markdown",
      "metadata": {
        "id": "5QAe2IePqBA7"
      },
      "source": [
        "### get_xnode"
      ]
    },
    {
      "cell_type": "code",
      "metadata": {
        "id": "Mje8LSF0p9qc"
      },
      "source": [
        "\n",
        "def get_xnode(html, element, attribute='class', content='', complement=''):\n",
        "    xnodes = get_xnodes(html, element, attribute, content, complement)\n",
        "    return xnodes[0] if xnodes else None\n"
      ],
      "execution_count": 13,
      "outputs": []
    },
    {
      "cell_type": "markdown",
      "metadata": {
        "id": "KT5FdFGGyjdK"
      },
      "source": [
        "## datasets"
      ]
    },
    {
      "cell_type": "markdown",
      "metadata": {
        "id": "BgH8HhVKqHdr"
      },
      "source": [
        "### get_html_page_count"
      ]
    },
    {
      "cell_type": "code",
      "metadata": {
        "id": "JXuWP7cbp9R0"
      },
      "source": [
        " \n",
        "def get_html_page_count(html):\n",
        "    xnode = get_xnode( html, '//div', 'class', 'pagination' ) \n",
        "    \n",
        "    if xnode is None:\n",
        "        return 1\n",
        "    \n",
        "    pdiv = xnode.xpath( '//li/a/text()' )\n",
        "    \n",
        "    def pmax(pdiv):\n",
        "        V = [1]\n",
        "        for p in pdiv:\n",
        "            try:\n",
        "                v = int(p)\n",
        "                V.append(v)       \n",
        "            except:\n",
        "                continue\n",
        "        return max(V)    \n",
        "    return pmax(pdiv)"
      ],
      "execution_count": 14,
      "outputs": []
    },
    {
      "cell_type": "markdown",
      "metadata": {
        "id": "gyCmBNOyqKxL"
      },
      "source": [
        "### get_query_page_count"
      ]
    },
    {
      "cell_type": "code",
      "metadata": {
        "id": "B_81PAJRp8GF"
      },
      "source": [
        "\n",
        "def get_query_page_count(hyperlink,query):\n",
        "    html = get_url_html( hyperlink + '/dataset?q=%s' % query)\n",
        "    return get_html_page_count( html )\n"
      ],
      "execution_count": 15,
      "outputs": []
    },
    {
      "cell_type": "markdown",
      "metadata": {
        "id": "LmOKgNVfqL_D"
      },
      "source": [
        "### get_html_items_href\n",
        "\n",
        "\n",
        "\n",
        "\n"
      ]
    },
    {
      "cell_type": "code",
      "metadata": {
        "id": "rYf9ogE9p7V0"
      },
      "source": [
        "\n",
        "def get_html_items_href(html):\n",
        "    xnodes = get_xnodes( html, './/h3', 'class', 'dataset-heading' , '//a/@href' ) \n",
        "    return xnodes\n"
      ],
      "execution_count": 16,
      "outputs": []
    },
    {
      "cell_type": "markdown",
      "metadata": {
        "id": "A1JwakD7qrsj"
      },
      "source": [
        "### get_html_dataset"
      ]
    },
    {
      "cell_type": "code",
      "metadata": {
        "id": "tSe2-_Slp67V"
      },
      "source": [
        "\n",
        "def get_html_dataset(html):    \n",
        "    article_html = get_xnode(html , '//article')\n",
        "    \n",
        "    dataset = dict()\n",
        "    \n",
        "    dataset['organization'] = ' '.join([x.strip() for x in get_xnodes(html, './/section','class','module-content','//h1//text()')])\n",
        "    dataset['title']        = strip( get_xnodes( article_html , 'div/h1/text()') ) \n",
        "    dataset['key']          = re.sub('[^\\w]','_',unidecode(dataset['title']).lower())\n",
        "    z = get_xnodes(article_html,'//div','class','notes','//p/text()')\n",
        "    dataset['text'] = strip(z) if z else ''\n",
        "    dataset['url']          = get_xnodes( article_html, '//ol', 'class', 'breadcrumb', '//li/a/@href')\n",
        "\n",
        "    return dataset\n"
      ],
      "execution_count": 17,
      "outputs": []
    },
    {
      "cell_type": "markdown",
      "metadata": {
        "id": "39PWBSKmqwaz"
      },
      "source": [
        "### get_html_dataset_license"
      ]
    },
    {
      "cell_type": "code",
      "metadata": {
        "id": "E-HcpP3ip6aV"
      },
      "source": [
        "\n",
        "def get_html_dataset_license(html,hyperlink='https://dados.gov.br'):\n",
        "    xnode = get_xnode( html, '//section','class','license') \n",
        "\n",
        "    if not xnode: return dict(title='NA',href='',text='',logo='')\n",
        "\n",
        "    license_title = xnode.xpath( './/@title' )\n",
        "    license_href  = xnode.xpath( './/@href')\n",
        "    license_text  = [ text.strip() for text in xnode.xpath( './/text()' ) if text.strip() ]\n",
        "    license_logo  = [ hyperlink + p for p in xnode.xpath( './/img//@src' ) ]\n",
        "    \n",
        "    license_dict          = dict()\n",
        "    license_dict['title'] = license_title\n",
        "    license_dict['href']  = license_href\n",
        "    license_dict['text']  = license_text\n",
        "    license_dict['logo']  = license_logo\n",
        "\n",
        "    return license_dict\n"
      ],
      "execution_count": 18,
      "outputs": []
    },
    {
      "cell_type": "markdown",
      "metadata": {
        "id": "I1IjZx5eq0rU"
      },
      "source": [
        "### get_html_dataset_resources_href"
      ]
    },
    {
      "cell_type": "code",
      "metadata": {
        "id": "d-fGhsAop5JU"
      },
      "source": [
        "\n",
        "def get_html_dataset_resources_href(html):\n",
        "    return get_xnodes(html,'//a','class','heading','/@href')\n"
      ],
      "execution_count": 19,
      "outputs": []
    },
    {
      "cell_type": "markdown",
      "metadata": {
        "id": "0CZwsdnWyQeS"
      },
      "source": [
        "### get_html_resource_info\n",
        "\n",
        "\n",
        "\n"
      ]
    },
    {
      "cell_type": "code",
      "metadata": {
        "id": "5clS2Cq7p5uF"
      },
      "source": [
        "\n",
        "def get_html_resource_info(html):\n",
        "    \n",
        "    ths     = get_xnodes( html, '//table', 'class', 'table-condensed','/tbody//th/text()')\n",
        "    headers = [re.sub('[^\\w]','_',unidecode(th.lower())) for th in ths]\n",
        "    tds     = get_xnodes( html, '//table', 'class', 'table-condensed','/tbody//td')\n",
        "    data    = [strip(get_xnodes(td, './/text()')).strip() for td in tds]\n",
        "\n",
        "    info_dict        = {h:d for h,d in zip(headers,data)}\n",
        "    info_dict['url'] = str(get_xnode( html, '//a','class','resource-url-analytic','/@href'))\n",
        "\n",
        "    return info_dict"
      ],
      "execution_count": 20,
      "outputs": []
    },
    {
      "cell_type": "code",
      "metadata": {
        "id": "ZBoZDn-4ybs7"
      },
      "source": [
        ""
      ],
      "execution_count": 20,
      "outputs": []
    },
    {
      "cell_type": "markdown",
      "metadata": {
        "id": "mKdqeEW-y7hq"
      },
      "source": [
        "### auxiliares"
      ]
    },
    {
      "cell_type": "markdown",
      "metadata": {
        "id": "gPLdRY-Q5C-M"
      },
      "source": [
        "#### \\_\\_dir_repr\\_\\_"
      ]
    },
    {
      "cell_type": "code",
      "metadata": {
        "id": "j6PWvTCpp3F9"
      },
      "source": [
        "\n",
        "def __dir_repr__(variable=dict,pattern=''):\n",
        "    dir_type_dict = dict()\n",
        "    \n",
        "    for attribute in dir(variable):\n",
        "        if not re.findall(pattern, attribute): continue\n",
        "        value = getattr(variable,attribute)\n",
        "        typename = type(value).__name__\n",
        "        \n",
        "        if typename not in dir_type_dict:\n",
        "            dir_type_dict[typename] = [(attribute,value)]\n",
        "        else:\n",
        "            dir_type_dict[typename].append((attribute,value))\n",
        "        \n",
        "    for key, items in dir_type_dict.items():\n",
        "        print(key)\n",
        "        print()\n",
        "        for attribute,value in items:\n",
        "            print('\\t',attribute)\n",
        "        print()\n",
        "        #print('{: <30s}{:<20s}'.format(typename, attribute))\n"
      ],
      "execution_count": 21,
      "outputs": []
    },
    {
      "cell_type": "markdown",
      "metadata": {
        "id": "kxiedcP_5ATW"
      },
      "source": [
        "#### show_url"
      ]
    },
    {
      "cell_type": "code",
      "metadata": {
        "id": "aKQwCMedp_T1"
      },
      "source": [
        "\n",
        "def show_url( url=hyperlink):\n",
        "    dadosgov_frame = IPython.display.IFrame(src=url,width='100%',height='500px')\n",
        "    display(dadosgov_frame)\n",
        "    return\n"
      ],
      "execution_count": 22,
      "outputs": []
    },
    {
      "cell_type": "markdown",
      "metadata": {
        "id": "pdUh6Vgd5Kqz"
      },
      "source": [
        "#### query_site"
      ]
    },
    {
      "cell_type": "code",
      "metadata": {
        "id": "_tGdDMDPqADM"
      },
      "source": [
        "\n",
        "def query_site( query=''):\n",
        "    query = query.lower()\n",
        "    query = unidecode.unidecode(query)\n",
        "    query = re.sub('[^a-z\\s\\'\\\"]','',query)\n",
        "    query = re.sub('\\s+','+',query)\n",
        "    \n",
        "    url = hyperlink + '/dataset?q=%s' % query\n",
        "    dadosgov_frame = IPython.display.IFrame(src=url,width='100%',height='500px')\n",
        "    display(dadosgov_frame)\n",
        "    return dadosgov_frame\n",
        "\n"
      ],
      "execution_count": 23,
      "outputs": []
    },
    {
      "cell_type": "markdown",
      "metadata": {
        "id": "2ZIG9JvF5NxE"
      },
      "source": [
        "#### lambdas"
      ]
    },
    {
      "cell_type": "markdown",
      "metadata": {
        "id": "h__vXJ9y5gpk"
      },
      "source": [
        "##### get_query_page_url"
      ]
    },
    {
      "cell_type": "code",
      "metadata": {
        "id": "CdMqtsek5f6U"
      },
      "source": [
        "get_query_page_url   = lambda h, q, p : h + '/dataset' + '?q=' + q + '&page=' + str(p)"
      ],
      "execution_count": 24,
      "outputs": []
    },
    {
      "cell_type": "markdown",
      "metadata": {
        "id": "v8Xus5wqwaI7"
      },
      "source": [
        "##### get_query_page_html"
      ]
    },
    {
      "cell_type": "code",
      "metadata": {
        "id": "M0fyng0F5kIN"
      },
      "source": [
        "get_query_page_html  = lambda h, q, p : get_url_html( get_query_page_url( h, q, p ) )\n"
      ],
      "execution_count": 25,
      "outputs": []
    },
    {
      "cell_type": "markdown",
      "metadata": {
        "id": "OekW9keY5laM"
      },
      "source": [
        "##### get_query_page_items"
      ]
    },
    {
      "cell_type": "code",
      "metadata": {
        "id": "D8AcC3Xf5keU"
      },
      "source": [
        "get_query_page_items = lambda h, q, p : get_html_items_href( get_query_page_html( h, q, p ) )\n"
      ],
      "execution_count": 26,
      "outputs": []
    },
    {
      "cell_type": "markdown",
      "metadata": {
        "id": "67s3yGmu5l_c"
      },
      "source": [
        "##### get_query_items_href"
      ]
    },
    {
      "cell_type": "code",
      "metadata": {
        "id": "CFNLFNbf5ksU"
      },
      "source": [
        "get_query_items_href = lambda h, q    : plain([ get_query_page_items( h, q, p+1 ) for p in range( get_query_page_count( h, q ) ) ])\n"
      ],
      "execution_count": 27,
      "outputs": []
    },
    {
      "cell_type": "markdown",
      "metadata": {
        "id": "4gtGqwUlre5U"
      },
      "source": [
        "# Leitura"
      ]
    },
    {
      "cell_type": "markdown",
      "metadata": {
        "id": "3J3ny2yXrsDV"
      },
      "source": [
        "## argumentos"
      ]
    },
    {
      "cell_type": "code",
      "metadata": {
        "colab": {
          "base_uri": "https://localhost:8080/",
          "height": 36
        },
        "id": "kGxIRsl0_r10",
        "outputId": "369d457d-9a97-4637-f27b-6b3fb528f541"
      },
      "source": [
        "query   = re.sub('[^\\w]',' ',unidecode(query))\n",
        "query   = re.sub('\\s+'  ,' ',query)\n",
        "query   = re.sub('\\s'   ,'+',query)\n",
        "\n",
        "query"
      ],
      "execution_count": 28,
      "outputs": [
        {
          "output_type": "execute_result",
          "data": {
            "application/vnd.google.colaboratory.intrinsic+json": {
              "type": "string"
            },
            "text/plain": [
              "'UFRN+discentes'"
            ]
          },
          "metadata": {
            "tags": []
          },
          "execution_count": 28
        }
      ]
    },
    {
      "cell_type": "code",
      "metadata": {
        "id": "huOvlIK65hSw"
      },
      "source": [
        "query_url = get_query_page_url(hyperlink,query,1)"
      ],
      "execution_count": 29,
      "outputs": []
    },
    {
      "cell_type": "code",
      "metadata": {
        "id": "POFmG501zWdK",
        "colab": {
          "base_uri": "https://localhost:8080/",
          "height": 521
        },
        "outputId": "5315952b-283f-4867-e895-cb0aae8d2144"
      },
      "source": [
        "show_url(query_url)"
      ],
      "execution_count": 30,
      "outputs": [
        {
          "output_type": "display_data",
          "data": {
            "text/html": [
              "\n",
              "        <iframe\n",
              "            width=\"100%\"\n",
              "            height=\"500px\"\n",
              "            src=\"https://dados.gov.br/dataset?q=UFRN+discentes&page=1\"\n",
              "            frameborder=\"0\"\n",
              "            allowfullscreen\n",
              "        ></iframe>\n",
              "        "
            ],
            "text/plain": [
              "<IPython.lib.display.IFrame at 0x7f5c1ddc4410>"
            ]
          },
          "metadata": {
            "tags": []
          }
        }
      ]
    },
    {
      "cell_type": "markdown",
      "metadata": {
        "id": "xON07H_IrPOM"
      },
      "source": [
        "## visualização"
      ]
    },
    {
      "cell_type": "code",
      "metadata": {
        "id": "s-r8DtUz-wKZ"
      },
      "source": [
        "resources = []\n",
        "items_href = get_query_items_href(hyperlink,query)"
      ],
      "execution_count": 31,
      "outputs": []
    },
    {
      "cell_type": "code",
      "metadata": {
        "id": "55V8Pwrqrqnc",
        "colab": {
          "base_uri": "https://localhost:8080/",
          "height": 539
        },
        "outputId": "0338c324-534a-43c8-8a9a-23508ca22991"
      },
      "source": [
        "ih = 0\n",
        " \n",
        "print(hyperlink + items_href[ih])\n",
        "show_url(hyperlink + items_href[ih])"
      ],
      "execution_count": 32,
      "outputs": [
        {
          "output_type": "stream",
          "text": [
            "https://dados.gov.br/dataset/discentes\n"
          ],
          "name": "stdout"
        },
        {
          "output_type": "display_data",
          "data": {
            "text/html": [
              "\n",
              "        <iframe\n",
              "            width=\"100%\"\n",
              "            height=\"500px\"\n",
              "            src=\"https://dados.gov.br/dataset/discentes\"\n",
              "            frameborder=\"0\"\n",
              "            allowfullscreen\n",
              "        ></iframe>\n",
              "        "
            ],
            "text/plain": [
              "<IPython.lib.display.IFrame at 0x7f5c1e256850>"
            ]
          },
          "metadata": {
            "tags": []
          }
        }
      ]
    },
    {
      "cell_type": "markdown",
      "metadata": {
        "id": "NLug4b6G_anI"
      },
      "source": [
        "## arquivos"
      ]
    },
    {
      "cell_type": "code",
      "metadata": {
        "id": "MUggTpxR_Gap"
      },
      "source": [
        "import time"
      ],
      "execution_count": 33,
      "outputs": []
    },
    {
      "cell_type": "code",
      "metadata": {
        "id": "-Y6YqmrGqirM",
        "colab": {
          "base_uri": "https://localhost:8080/"
        },
        "outputId": "bc3dd871-8e8b-4b33-9a9b-42ac68b8ee0f"
      },
      "source": [
        "import pandas\n",
        "resources = []\n",
        "for item_href in items_href:\n",
        "    item_url = hyperlink + item_href\n",
        " \n",
        "    print('\\n\\n\\t', item_url, end='\\n\\n')\n",
        "    dataset_html   = get_url_html( item_url )\n",
        " \n",
        "    dataset        = get_html_dataset( dataset_html )\n",
        "    license        = get_html_dataset_license ( dataset_html )\n",
        "    resources_href = get_html_dataset_resources_href( dataset_html )\n",
        " \n",
        "    for resource_href in resources_href:\n",
        "        resource_url  = hyperlink + resource_href \n",
        " \n",
        "        resource_html = get_url_html( resource_url )  \n",
        "        resource_dict = get_html_resource_info(resource_html)\n",
        " \n",
        "        a = 'http://landpage-h.cgu.gov.br/dadosabertos/index.php?url='\n",
        "        resource_dict['url_out'] = resource_dict['url'].replace(a,'') if resource_dict['url'] else None        \n",
        "\n",
        "        resource_dict.update({('dataset_'+k):v for k,v in dataset.items()})\n",
        "        resource_dict.update({('license_'+k):v for k,v in license.items()})\n",
        " \n",
        "        resource_dict['havested'] = time.ctime()\n",
        "        \n",
        "        print('\\t\\t',resource_dict['url_out'], end='\\n')\n",
        " \n",
        "        resources.append( resource_dict )"
      ],
      "execution_count": 34,
      "outputs": [
        {
          "output_type": "stream",
          "text": [
            "\n",
            "\n",
            "\t https://dados.gov.br/dataset/discentes\n",
            "\n"
          ],
          "name": "stdout"
        },
        {
          "output_type": "stream",
          "text": [
            "/usr/local/lib/python3.7/dist-packages/ipykernel_launcher.py:5: FutureWarning: The behavior of this method will change in future versions. Use specific 'len(elem)' or 'elem is not None' test instead.\n",
            "  \"\"\"\n"
          ],
          "name": "stderr"
        },
        {
          "output_type": "stream",
          "text": [
            "\t\t http://dados.ufrn.br/dataset/554c2d41-cfce-4278-93c6-eb9aa49c5d16/resource/a55aef81-e094-4267-8643-f283524e3dd7/download/discentes-2019.csv\n",
            "\t\t http://dados.ufrn.br/dataset/554c2d41-cfce-4278-93c6-eb9aa49c5d16/resource/146b749b-b9d0-49b2-b114-ac6cc82a4051/download/discentes-2018.csv\n",
            "\t\t http://dados.ufrn.br/dataset/554c2d41-cfce-4278-93c6-eb9aa49c5d16/resource/dc732572-a51a-4d4a-a39d-2db37cbe5382/download/discentes-2017.csv\n",
            "\t\t http://dados.ufrn.br/dataset/554c2d41-cfce-4278-93c6-eb9aa49c5d16/resource/7d2fa5b3-743f-465f-8450-91719b34a002/download/discentes-2016.csv\n",
            "\t\t http://dados.ufrn.br/dataset/554c2d41-cfce-4278-93c6-eb9aa49c5d16/resource/e2b5b843-4f58-497e-8979-44daf8df8f94/download/discentes-2015.csv\n",
            "\t\t http://dados.ufrn.br/dataset/554c2d41-cfce-4278-93c6-eb9aa49c5d16/resource/6c23a430-9a7c-4d0f-9602-1d5d97d40e6a/download/discentes-2014.csv\n",
            "\t\t http://dados.ufrn.br/dataset/554c2d41-cfce-4278-93c6-eb9aa49c5d16/resource/dba208c2-822f-4e26-adc3-b61d4cb110b6/download/discentes-2013.csv\n",
            "\t\t http://dados.ufrn.br/dataset/554c2d41-cfce-4278-93c6-eb9aa49c5d16/resource/fc283aa9-61a7-4cf0-91fb-c403c0817b48/download/discentes-2012.csv\n",
            "\t\t http://dados.ufrn.br/dataset/554c2d41-cfce-4278-93c6-eb9aa49c5d16/resource/2bb3dec9-7f23-434c-a179-21515f91abc8/download/discentes-2011.csv\n",
            "\t\t http://dados.ufrn.br/dataset/554c2d41-cfce-4278-93c6-eb9aa49c5d16/resource/5fc61f78-19b4-4020-9f3c-c298cb8a63aa/download/discentes-2010.csv\n",
            "\t\t http://dados.ufrn.br/dataset/554c2d41-cfce-4278-93c6-eb9aa49c5d16/resource/861b96a8-5304-4e6a-a8c4-068533ec7cb9/download/discentes-2009.csv\n",
            "\t\t http://dados.ufrn.br/dataset/554c2d41-cfce-4278-93c6-eb9aa49c5d16/resource/b5144c99-81f3-4cfc-8938-18adb81ae3c0/download/discentesdicionario.pdf\n",
            "\t\t http://dados.ufrn.br/dataset/554c2d41-cfce-4278-93c6-eb9aa49c5d16/resource/7795c538-86fc-483f-9da9-67b2fcc834ae/download/discentes-2020.csv\n",
            "\n",
            "\n",
            "\t https://dados.gov.br/dataset/dados-complementares-de-discentes\n",
            "\n",
            "\t\t http://dados.ufrn.br/dataset/80b1a8e9-2e40-4c6c-97ea-d595a3c8b8f5/resource/0e287fe5-badb-4b34-b1bf-8815db5dfbeb/download/dados-pessoais-discentes.csv\n",
            "\t\t http://dados.ufrn.br/dataset/80b1a8e9-2e40-4c6c-97ea-d595a3c8b8f5/resource/c49d5f58-41e4-4ec0-8774-cc0da45f149d/download/dicionario-de-dados---discentes-da-instituicao.pdf\n",
            "\n",
            "\n",
            "\t https://dados.gov.br/dataset/dados-socio-economicos-de-discentes\n",
            "\n",
            "\t\t http://dados.ufrn.br/dataset/8e0cb3ac-b6fa-48ef-a1ee-f2df0b893b72/resource/2b8de259-1674-4713-bbf5-167e644af5d9/download/dados-socioeconomicos-discentes-20191.csv\n",
            "\t\t http://dados.ufrn.br/dataset/8e0cb3ac-b6fa-48ef-a1ee-f2df0b893b72/resource/333ba797-a810-4265-b189-2887d0f77dfe/download/dados-socioeconomicos-discentes-20182.csv\n",
            "\t\t http://dados.ufrn.br/dataset/8e0cb3ac-b6fa-48ef-a1ee-f2df0b893b72/resource/365454a6-0f0e-4028-a418-ac20f18339f6/download/dados-socioeconomicos-discentes-20181.csv\n",
            "\t\t http://dados.ufrn.br/dataset/8e0cb3ac-b6fa-48ef-a1ee-f2df0b893b72/resource/15353bfe-dbae-4b92-ba72-095dca8c086d/download/dados-socio-economicos-20172.csv\n",
            "\t\t http://dados.ufrn.br/dataset/8e0cb3ac-b6fa-48ef-a1ee-f2df0b893b72/resource/07eb5987-63c4-4848-acc6-550e2390b405/download/dados-socioeconomicos-discentes-20171.csv\n",
            "\t\t http://dados.ufrn.br/dataset/8e0cb3ac-b6fa-48ef-a1ee-f2df0b893b72/resource/bb3f78da-55a7-4b23-abdc-9de974dc1e31/download/dados-socioeconomicos-discentes-20162.csv\n",
            "\t\t http://dados.ufrn.br/dataset/8e0cb3ac-b6fa-48ef-a1ee-f2df0b893b72/resource/2f195ce7-f01a-4b41-acbd-b6245ccf0145/download/dados-socioeconomicos-discentes-20161.csv\n",
            "\t\t http://dados.ufrn.br/dataset/8e0cb3ac-b6fa-48ef-a1ee-f2df0b893b72/resource/c5e502e5-50b3-46be-8185-a1ce30415db5/download/dados-socioeconomicos-discentes-20152.csv\n",
            "\t\t http://dados.ufrn.br/dataset/8e0cb3ac-b6fa-48ef-a1ee-f2df0b893b72/resource/ddb2a4d8-590f-4fd1-8edc-8238d855f47b/download/dados-socioeconomicos-discentes-20151.csv\n",
            "\t\t http://dados.ufrn.br/dataset/8e0cb3ac-b6fa-48ef-a1ee-f2df0b893b72/resource/6a4c927a-150a-4630-b858-a32ec5c6495a/download/dados-socio-economicos-20142.csv\n",
            "\t\t http://dados.ufrn.br/dataset/8e0cb3ac-b6fa-48ef-a1ee-f2df0b893b72/resource/c7204eb0-7202-423f-ae2e-d844fee66492/download/dados-socio-economicos-20141.csv\n",
            "\t\t http://dados.ufrn.br/dataset/8e0cb3ac-b6fa-48ef-a1ee-f2df0b893b72/resource/67c56b36-b036-452c-af5d-f7aaa87fce47/download/dados-socio-economicos-20132.csv\n",
            "\t\t http://dados.ufrn.br/dataset/8e0cb3ac-b6fa-48ef-a1ee-f2df0b893b72/resource/40831ad5-2e94-4110-8eba-bae4da1c9797/download/dados-socio-economicos-20131.csv\n",
            "\t\t http://dados.ufrn.br/dataset/8e0cb3ac-b6fa-48ef-a1ee-f2df0b893b72/resource/3c2ae687-e541-40f0-9494-d005e89a1cb2/download/dados-socio-economicos-20122.csv\n",
            "\t\t http://dados.ufrn.br/dataset/8e0cb3ac-b6fa-48ef-a1ee-f2df0b893b72/resource/7c5957ac-5146-438a-83ac-423c20bd4c57/download/dados-socio-economicos-20121.csv\n",
            "\t\t http://dados.ufrn.br/dataset/8e0cb3ac-b6fa-48ef-a1ee-f2df0b893b72/resource/a54200ea-09fe-4ed5-8d31-44860608de2c/download/dados-socio-economicos-20112.csv\n",
            "\t\t http://dados.ufrn.br/dataset/8e0cb3ac-b6fa-48ef-a1ee-f2df0b893b72/resource/7f819fb4-9a70-4bd7-8a7b-48182ba7ad72/download/dados-socio-economicos-20111.csv\n",
            "\t\t http://dados.ufrn.br/dataset/8e0cb3ac-b6fa-48ef-a1ee-f2df0b893b72/resource/1ebaedfb-280a-4a14-a929-b96f2c0ea2c2/download/dados-socio-economicos-20102.csv\n",
            "\t\t http://dados.ufrn.br/dataset/8e0cb3ac-b6fa-48ef-a1ee-f2df0b893b72/resource/f8e91076-eae7-41e5-8adf-2209e66966eb/download/dados-socio-economicos-discentes.pdf\n",
            "\t\t http://dados.ufrn.br/dataset/8e0cb3ac-b6fa-48ef-a1ee-f2df0b893b72/resource/a947133d-ad21-4907-af12-8f0a91135af4/download/dados-socio-economicos-discentes-2019.2.csv\n",
            "\t\t http://dados.ufrn.br/dataset/8e0cb3ac-b6fa-48ef-a1ee-f2df0b893b72/resource/cf818b90-0867-4d2f-a5db-9c4707db34b7/download/dados-socio-economicos-discentes-2020.1.csv\n",
            "\t\t http://dados.ufrn.br/dataset/8e0cb3ac-b6fa-48ef-a1ee-f2df0b893b72/resource/103ded7f-c045-4e44-9004-4a7f9e465a38/download/dados-socio-economicos-20112.csv\n",
            "\t\t http://dados.ufrn.br/dataset/8e0cb3ac-b6fa-48ef-a1ee-f2df0b893b72/resource/488347cb-6d8d-4bda-8398-46c49f4b075d/download/dados-socioeconomicos-discentes-2020.2.csv\n"
          ],
          "name": "stdout"
        }
      ]
    },
    {
      "cell_type": "markdown",
      "metadata": {
        "id": "YyEXDWNE_igo"
      },
      "source": [
        "# Dados"
      ]
    },
    {
      "cell_type": "code",
      "metadata": {
        "id": "qtk-Bj44qlgk"
      },
      "source": [
        "df_datagov = pandas.DataFrame(resources)"
      ],
      "execution_count": 35,
      "outputs": []
    },
    {
      "cell_type": "code",
      "metadata": {
        "id": "XPYbbxdZtVnD"
      },
      "source": [
        "df_datagov = df_datagov[sorted(df_datagov.keys())]"
      ],
      "execution_count": 36,
      "outputs": []
    },
    {
      "cell_type": "code",
      "metadata": {
        "id": "xK07hliL9zlB",
        "colab": {
          "base_uri": "https://localhost:8080/",
          "height": 897
        },
        "outputId": "4a246d67-5c88-4940-f48c-3ffcb7ce1185"
      },
      "source": [
        "df_datagov.sample(3).T"
      ],
      "execution_count": 37,
      "outputs": [
        {
          "output_type": "execute_result",
          "data": {
            "text/html": [
              "<div>\n",
              "<style scoped>\n",
              "    .dataframe tbody tr th:only-of-type {\n",
              "        vertical-align: middle;\n",
              "    }\n",
              "\n",
              "    .dataframe tbody tr th {\n",
              "        vertical-align: top;\n",
              "    }\n",
              "\n",
              "    .dataframe thead th {\n",
              "        text-align: right;\n",
              "    }\n",
              "</style>\n",
              "<table border=\"1\" class=\"dataframe\">\n",
              "  <thead>\n",
              "    <tr style=\"text-align: right;\">\n",
              "      <th></th>\n",
              "      <th>29</th>\n",
              "      <th>18</th>\n",
              "      <th>15</th>\n",
              "    </tr>\n",
              "  </thead>\n",
              "  <tbody>\n",
              "    <tr>\n",
              "      <th>created</th>\n",
              "      <td>há mais de 3 anos</td>\n",
              "      <td>há mais de 3 anos</td>\n",
              "      <td>há mais de 1 ano</td>\n",
              "    </tr>\n",
              "    <tr>\n",
              "      <th>criado</th>\n",
              "      <td>23/Novembro/2017</td>\n",
              "      <td>24/Novembro/2017</td>\n",
              "      <td>27/Junho/2019</td>\n",
              "    </tr>\n",
              "    <tr>\n",
              "      <th>dataset_key</th>\n",
              "      <td>dados_socio_economicos_de_discentes</td>\n",
              "      <td>dados_socio_economicos_de_discentes</td>\n",
              "      <td>dados_socio_economicos_de_discentes</td>\n",
              "    </tr>\n",
              "    <tr>\n",
              "      <th>dataset_organization</th>\n",
              "      <td>Universidade Federal do Rio Grande do Norte - ...</td>\n",
              "      <td>Universidade Federal do Rio Grande do Norte - ...</td>\n",
              "      <td>Universidade Federal do Rio Grande do Norte - ...</td>\n",
              "    </tr>\n",
              "    <tr>\n",
              "      <th>dataset_text</th>\n",
              "      <td>Apresenta os dados sócio-econômicos dos discen...</td>\n",
              "      <td>Apresenta os dados sócio-econômicos dos discen...</td>\n",
              "      <td>Apresenta os dados sócio-econômicos dos discen...</td>\n",
              "    </tr>\n",
              "    <tr>\n",
              "      <th>dataset_title</th>\n",
              "      <td>Dados Sócio-Econômicos de Discentes</td>\n",
              "      <td>Dados Sócio-Econômicos de Discentes</td>\n",
              "      <td>Dados Sócio-Econômicos de Discentes</td>\n",
              "    </tr>\n",
              "    <tr>\n",
              "      <th>dataset_url</th>\n",
              "      <td>[/, /organization, /organization/universidade-...</td>\n",
              "      <td>[/, /organization, /organization/universidade-...</td>\n",
              "      <td>[/, /organization, /organization/universidade-...</td>\n",
              "    </tr>\n",
              "    <tr>\n",
              "      <th>datastore_active</th>\n",
              "      <td>True</td>\n",
              "      <td>True</td>\n",
              "      <td>True</td>\n",
              "    </tr>\n",
              "    <tr>\n",
              "      <th>format</th>\n",
              "      <td>CSV</td>\n",
              "      <td>CSV</td>\n",
              "      <td>CSV</td>\n",
              "    </tr>\n",
              "    <tr>\n",
              "      <th>formato</th>\n",
              "      <td>CSV</td>\n",
              "      <td>CSV</td>\n",
              "      <td>CSV</td>\n",
              "    </tr>\n",
              "    <tr>\n",
              "      <th>havested</th>\n",
              "      <td>Tue Apr 27 07:19:08 2021</td>\n",
              "      <td>Tue Apr 27 07:19:01 2021</td>\n",
              "      <td>Tue Apr 27 07:18:59 2021</td>\n",
              "    </tr>\n",
              "    <tr>\n",
              "      <th>id</th>\n",
              "      <td>7c5957ac-5146-438a-83ac-423c20bd4c57</td>\n",
              "      <td>15353bfe-dbae-4b92-ba72-095dca8c086d</td>\n",
              "      <td>2b8de259-1674-4713-bbf5-167e644af5d9</td>\n",
              "    </tr>\n",
              "    <tr>\n",
              "      <th>last_modified</th>\n",
              "      <td>há 5 meses</td>\n",
              "      <td>há 7 meses</td>\n",
              "      <td>há 2 meses</td>\n",
              "    </tr>\n",
              "    <tr>\n",
              "      <th>licenca</th>\n",
              "      <td>Other (Open)</td>\n",
              "      <td>Other (Open)</td>\n",
              "      <td>Other (Open)</td>\n",
              "    </tr>\n",
              "    <tr>\n",
              "      <th>license_href</th>\n",
              "      <td>[http://opendefinition.org/okd/]</td>\n",
              "      <td>[http://opendefinition.org/okd/]</td>\n",
              "      <td>[http://opendefinition.org/okd/]</td>\n",
              "    </tr>\n",
              "    <tr>\n",
              "      <th>license_logo</th>\n",
              "      <td>[https://dados.gov.br/base/images/od_80x15_blu...</td>\n",
              "      <td>[https://dados.gov.br/base/images/od_80x15_blu...</td>\n",
              "      <td>[https://dados.gov.br/base/images/od_80x15_blu...</td>\n",
              "    </tr>\n",
              "    <tr>\n",
              "      <th>license_text</th>\n",
              "      <td>[Licença, Other (Open)]</td>\n",
              "      <td>[Licença, Other (Open)]</td>\n",
              "      <td>[Licença, Other (Open)]</td>\n",
              "    </tr>\n",
              "    <tr>\n",
              "      <th>license_title</th>\n",
              "      <td>[Este conjunto de dados satisfaz a Definição d...</td>\n",
              "      <td>[Este conjunto de dados satisfaz a Definição d...</td>\n",
              "      <td>[Este conjunto de dados satisfaz a Definição d...</td>\n",
              "    </tr>\n",
              "    <tr>\n",
              "      <th>package_id</th>\n",
              "      <td>8e0cb3ac-b6fa-48ef-a1ee-f2df0b893b72</td>\n",
              "      <td>8e0cb3ac-b6fa-48ef-a1ee-f2df0b893b72</td>\n",
              "      <td>8e0cb3ac-b6fa-48ef-a1ee-f2df0b893b72</td>\n",
              "    </tr>\n",
              "    <tr>\n",
              "      <th>position</th>\n",
              "      <td>14</td>\n",
              "      <td>3</td>\n",
              "      <td>NaN</td>\n",
              "    </tr>\n",
              "    <tr>\n",
              "      <th>revision_id</th>\n",
              "      <td>2c121c53-cfed-4738-863c-5a31327e581d</td>\n",
              "      <td>4f040a8b-5672-42f6-83a3-87bf071216cf</td>\n",
              "      <td>e52ceed4-466d-42c8-934e-30646f4d889a</td>\n",
              "    </tr>\n",
              "    <tr>\n",
              "      <th>state</th>\n",
              "      <td>active</td>\n",
              "      <td>active</td>\n",
              "      <td>active</td>\n",
              "    </tr>\n",
              "    <tr>\n",
              "      <th>ultima_atualizacao</th>\n",
              "      <td>9/Novembro/2020</td>\n",
              "      <td>24/Setembro/2020</td>\n",
              "      <td>23/Fevereiro/2021</td>\n",
              "    </tr>\n",
              "    <tr>\n",
              "      <th>url</th>\n",
              "      <td>http://landpage-h.cgu.gov.br/dadosabertos/inde...</td>\n",
              "      <td>http://landpage-h.cgu.gov.br/dadosabertos/inde...</td>\n",
              "      <td>http://landpage-h.cgu.gov.br/dadosabertos/inde...</td>\n",
              "    </tr>\n",
              "    <tr>\n",
              "      <th>url_out</th>\n",
              "      <td>http://dados.ufrn.br/dataset/8e0cb3ac-b6fa-48e...</td>\n",
              "      <td>http://dados.ufrn.br/dataset/8e0cb3ac-b6fa-48e...</td>\n",
              "      <td>http://dados.ufrn.br/dataset/8e0cb3ac-b6fa-48e...</td>\n",
              "    </tr>\n",
              "    <tr>\n",
              "      <th>webstore_last_updated</th>\n",
              "      <td>None</td>\n",
              "      <td>None</td>\n",
              "      <td>None</td>\n",
              "    </tr>\n",
              "    <tr>\n",
              "      <th>webstore_url</th>\n",
              "      <td>None</td>\n",
              "      <td>None</td>\n",
              "      <td>None</td>\n",
              "    </tr>\n",
              "  </tbody>\n",
              "</table>\n",
              "</div>"
            ],
            "text/plain": [
              "                                                                      29  ...                                                 15\n",
              "created                                                há mais de 3 anos  ...                                   há mais de 1 ano\n",
              "criado                                                  23/Novembro/2017  ...                                      27/Junho/2019\n",
              "dataset_key                          dados_socio_economicos_de_discentes  ...                dados_socio_economicos_de_discentes\n",
              "dataset_organization   Universidade Federal do Rio Grande do Norte - ...  ...  Universidade Federal do Rio Grande do Norte - ...\n",
              "dataset_text           Apresenta os dados sócio-econômicos dos discen...  ...  Apresenta os dados sócio-econômicos dos discen...\n",
              "dataset_title                        Dados Sócio-Econômicos de Discentes  ...                Dados Sócio-Econômicos de Discentes\n",
              "dataset_url            [/, /organization, /organization/universidade-...  ...  [/, /organization, /organization/universidade-...\n",
              "datastore_active                                                    True  ...                                               True\n",
              "format                                                               CSV  ...                                                CSV\n",
              "formato                                                              CSV  ...                                                CSV\n",
              "havested                                        Tue Apr 27 07:19:08 2021  ...                           Tue Apr 27 07:18:59 2021\n",
              "id                                  7c5957ac-5146-438a-83ac-423c20bd4c57  ...               2b8de259-1674-4713-bbf5-167e644af5d9\n",
              "last_modified                                                 há 5 meses  ...                                         há 2 meses\n",
              "licenca                                                     Other (Open)  ...                                       Other (Open)\n",
              "license_href                            [http://opendefinition.org/okd/]  ...                   [http://opendefinition.org/okd/]\n",
              "license_logo           [https://dados.gov.br/base/images/od_80x15_blu...  ...  [https://dados.gov.br/base/images/od_80x15_blu...\n",
              "license_text                                     [Licença, Other (Open)]  ...                            [Licença, Other (Open)]\n",
              "license_title          [Este conjunto de dados satisfaz a Definição d...  ...  [Este conjunto de dados satisfaz a Definição d...\n",
              "package_id                          8e0cb3ac-b6fa-48ef-a1ee-f2df0b893b72  ...               8e0cb3ac-b6fa-48ef-a1ee-f2df0b893b72\n",
              "position                                                              14  ...                                                NaN\n",
              "revision_id                         2c121c53-cfed-4738-863c-5a31327e581d  ...               e52ceed4-466d-42c8-934e-30646f4d889a\n",
              "state                                                             active  ...                                             active\n",
              "ultima_atualizacao                                       9/Novembro/2020  ...                                  23/Fevereiro/2021\n",
              "url                    http://landpage-h.cgu.gov.br/dadosabertos/inde...  ...  http://landpage-h.cgu.gov.br/dadosabertos/inde...\n",
              "url_out                http://dados.ufrn.br/dataset/8e0cb3ac-b6fa-48e...  ...  http://dados.ufrn.br/dataset/8e0cb3ac-b6fa-48e...\n",
              "webstore_last_updated                                               None  ...                                               None\n",
              "webstore_url                                                        None  ...                                               None\n",
              "\n",
              "[27 rows x 3 columns]"
            ]
          },
          "metadata": {
            "tags": []
          },
          "execution_count": 37
        }
      ]
    },
    {
      "cell_type": "code",
      "metadata": {
        "id": "8ofdO-dr_xho",
        "colab": {
          "base_uri": "https://localhost:8080/",
          "height": 17
        },
        "outputId": "c21d241e-20c6-476e-d8e8-d6bb43e2a1f0"
      },
      "source": [
        "FN = lambda ext='json' : './dadosgov_{}_{}_query.{}'.format(alias,query.replace('+','_'), ext)\n",
        " \n",
        " \n",
        "df_datagov.to_json(FN('json'))\n",
        "df_datagov.to_csv(FN('csv'))\n",
        "df_datagov.to_excel(FN('xls'))\n",
        "for fn in ['json', 'csv', 'xls']:\n",
        "    google.colab.files.download(FN(fn))"
      ],
      "execution_count": 38,
      "outputs": [
        {
          "output_type": "display_data",
          "data": {
            "application/javascript": [
              "\n",
              "    async function download(id, filename, size) {\n",
              "      if (!google.colab.kernel.accessAllowed) {\n",
              "        return;\n",
              "      }\n",
              "      const div = document.createElement('div');\n",
              "      const label = document.createElement('label');\n",
              "      label.textContent = `Downloading \"${filename}\": `;\n",
              "      div.appendChild(label);\n",
              "      const progress = document.createElement('progress');\n",
              "      progress.max = size;\n",
              "      div.appendChild(progress);\n",
              "      document.body.appendChild(div);\n",
              "\n",
              "      const buffers = [];\n",
              "      let downloaded = 0;\n",
              "\n",
              "      const channel = await google.colab.kernel.comms.open(id);\n",
              "      // Send a message to notify the kernel that we're ready.\n",
              "      channel.send({})\n",
              "\n",
              "      for await (const message of channel.messages) {\n",
              "        // Send a message to notify the kernel that we're ready.\n",
              "        channel.send({})\n",
              "        if (message.buffers) {\n",
              "          for (const buffer of message.buffers) {\n",
              "            buffers.push(buffer);\n",
              "            downloaded += buffer.byteLength;\n",
              "            progress.value = downloaded;\n",
              "          }\n",
              "        }\n",
              "      }\n",
              "      const blob = new Blob(buffers, {type: 'application/binary'});\n",
              "      const a = document.createElement('a');\n",
              "      a.href = window.URL.createObjectURL(blob);\n",
              "      a.download = filename;\n",
              "      div.appendChild(a);\n",
              "      a.click();\n",
              "      div.remove();\n",
              "    }\n",
              "  "
            ],
            "text/plain": [
              "<IPython.core.display.Javascript object>"
            ]
          },
          "metadata": {
            "tags": []
          }
        },
        {
          "output_type": "display_data",
          "data": {
            "application/javascript": [
              "download(\"download_82eb80eb-593f-4734-861b-84d6fcc2abce\", \"dadosgov_Brazil_UFRN_discentes_query.json\", 54262)"
            ],
            "text/plain": [
              "<IPython.core.display.Javascript object>"
            ]
          },
          "metadata": {
            "tags": []
          }
        },
        {
          "output_type": "display_data",
          "data": {
            "application/javascript": [
              "\n",
              "    async function download(id, filename, size) {\n",
              "      if (!google.colab.kernel.accessAllowed) {\n",
              "        return;\n",
              "      }\n",
              "      const div = document.createElement('div');\n",
              "      const label = document.createElement('label');\n",
              "      label.textContent = `Downloading \"${filename}\": `;\n",
              "      div.appendChild(label);\n",
              "      const progress = document.createElement('progress');\n",
              "      progress.max = size;\n",
              "      div.appendChild(progress);\n",
              "      document.body.appendChild(div);\n",
              "\n",
              "      const buffers = [];\n",
              "      let downloaded = 0;\n",
              "\n",
              "      const channel = await google.colab.kernel.comms.open(id);\n",
              "      // Send a message to notify the kernel that we're ready.\n",
              "      channel.send({})\n",
              "\n",
              "      for await (const message of channel.messages) {\n",
              "        // Send a message to notify the kernel that we're ready.\n",
              "        channel.send({})\n",
              "        if (message.buffers) {\n",
              "          for (const buffer of message.buffers) {\n",
              "            buffers.push(buffer);\n",
              "            downloaded += buffer.byteLength;\n",
              "            progress.value = downloaded;\n",
              "          }\n",
              "        }\n",
              "      }\n",
              "      const blob = new Blob(buffers, {type: 'application/binary'});\n",
              "      const a = document.createElement('a');\n",
              "      a.href = window.URL.createObjectURL(blob);\n",
              "      a.download = filename;\n",
              "      div.appendChild(a);\n",
              "      a.click();\n",
              "      div.remove();\n",
              "    }\n",
              "  "
            ],
            "text/plain": [
              "<IPython.core.display.Javascript object>"
            ]
          },
          "metadata": {
            "tags": []
          }
        },
        {
          "output_type": "display_data",
          "data": {
            "application/javascript": [
              "download(\"download_d122f72f-64af-43a6-8351-4b1066300e07\", \"dadosgov_Brazil_UFRN_discentes_query.csv\", 44883)"
            ],
            "text/plain": [
              "<IPython.core.display.Javascript object>"
            ]
          },
          "metadata": {
            "tags": []
          }
        },
        {
          "output_type": "display_data",
          "data": {
            "application/javascript": [
              "\n",
              "    async function download(id, filename, size) {\n",
              "      if (!google.colab.kernel.accessAllowed) {\n",
              "        return;\n",
              "      }\n",
              "      const div = document.createElement('div');\n",
              "      const label = document.createElement('label');\n",
              "      label.textContent = `Downloading \"${filename}\": `;\n",
              "      div.appendChild(label);\n",
              "      const progress = document.createElement('progress');\n",
              "      progress.max = size;\n",
              "      div.appendChild(progress);\n",
              "      document.body.appendChild(div);\n",
              "\n",
              "      const buffers = [];\n",
              "      let downloaded = 0;\n",
              "\n",
              "      const channel = await google.colab.kernel.comms.open(id);\n",
              "      // Send a message to notify the kernel that we're ready.\n",
              "      channel.send({})\n",
              "\n",
              "      for await (const message of channel.messages) {\n",
              "        // Send a message to notify the kernel that we're ready.\n",
              "        channel.send({})\n",
              "        if (message.buffers) {\n",
              "          for (const buffer of message.buffers) {\n",
              "            buffers.push(buffer);\n",
              "            downloaded += buffer.byteLength;\n",
              "            progress.value = downloaded;\n",
              "          }\n",
              "        }\n",
              "      }\n",
              "      const blob = new Blob(buffers, {type: 'application/binary'});\n",
              "      const a = document.createElement('a');\n",
              "      a.href = window.URL.createObjectURL(blob);\n",
              "      a.download = filename;\n",
              "      div.appendChild(a);\n",
              "      a.click();\n",
              "      div.remove();\n",
              "    }\n",
              "  "
            ],
            "text/plain": [
              "<IPython.core.display.Javascript object>"
            ]
          },
          "metadata": {
            "tags": []
          }
        },
        {
          "output_type": "display_data",
          "data": {
            "application/javascript": [
              "download(\"download_f68479c4-c3b3-4529-91d5-1736bac7c4e4\", \"dadosgov_Brazil_UFRN_discentes_query.xls\", 38400)"
            ],
            "text/plain": [
              "<IPython.core.display.Javascript object>"
            ]
          },
          "metadata": {
            "tags": []
          }
        }
      ]
    },
    {
      "cell_type": "markdown",
      "metadata": {
        "id": "-KE46tIaMsu9"
      },
      "source": [
        "# Leitura de CSV"
      ]
    },
    {
      "cell_type": "code",
      "metadata": {
        "colab": {
          "base_uri": "https://localhost:8080/",
          "height": 608
        },
        "id": "akiYP-PFbvIF",
        "outputId": "a781a276-c7ff-4de5-d1e3-29be96599285"
      },
      "source": [
        "if not query == 'UFRN+discentes':\n",
        "    df_datagov['not default']"
      ],
      "execution_count": 86,
      "outputs": [
        {
          "output_type": "error",
          "ename": "KeyError",
          "evalue": "ignored",
          "traceback": [
            "\u001b[0;31m---------------------------------------------------------------------------\u001b[0m",
            "\u001b[0;31mKeyError\u001b[0m                                  Traceback (most recent call last)",
            "\u001b[0;32m/usr/local/lib/python3.7/dist-packages/pandas/core/indexes/base.py\u001b[0m in \u001b[0;36mget_loc\u001b[0;34m(self, key, method, tolerance)\u001b[0m\n\u001b[1;32m   2897\u001b[0m             \u001b[0;32mtry\u001b[0m\u001b[0;34m:\u001b[0m\u001b[0;34m\u001b[0m\u001b[0;34m\u001b[0m\u001b[0m\n\u001b[0;32m-> 2898\u001b[0;31m                 \u001b[0;32mreturn\u001b[0m \u001b[0mself\u001b[0m\u001b[0;34m.\u001b[0m\u001b[0m_engine\u001b[0m\u001b[0;34m.\u001b[0m\u001b[0mget_loc\u001b[0m\u001b[0;34m(\u001b[0m\u001b[0mcasted_key\u001b[0m\u001b[0;34m)\u001b[0m\u001b[0;34m\u001b[0m\u001b[0;34m\u001b[0m\u001b[0m\n\u001b[0m\u001b[1;32m   2899\u001b[0m             \u001b[0;32mexcept\u001b[0m \u001b[0mKeyError\u001b[0m \u001b[0;32mas\u001b[0m \u001b[0merr\u001b[0m\u001b[0;34m:\u001b[0m\u001b[0;34m\u001b[0m\u001b[0;34m\u001b[0m\u001b[0m\n",
            "\u001b[0;32mpandas/_libs/index.pyx\u001b[0m in \u001b[0;36mpandas._libs.index.IndexEngine.get_loc\u001b[0;34m()\u001b[0m\n",
            "\u001b[0;32mpandas/_libs/index.pyx\u001b[0m in \u001b[0;36mpandas._libs.index.IndexEngine.get_loc\u001b[0;34m()\u001b[0m\n",
            "\u001b[0;32mpandas/_libs/hashtable_class_helper.pxi\u001b[0m in \u001b[0;36mpandas._libs.hashtable.PyObjectHashTable.get_item\u001b[0;34m()\u001b[0m\n",
            "\u001b[0;32mpandas/_libs/hashtable_class_helper.pxi\u001b[0m in \u001b[0;36mpandas._libs.hashtable.PyObjectHashTable.get_item\u001b[0;34m()\u001b[0m\n",
            "\u001b[0;31mKeyError\u001b[0m: 'not default'",
            "\nThe above exception was the direct cause of the following exception:\n",
            "\u001b[0;31mKeyError\u001b[0m                                  Traceback (most recent call last)",
            "\u001b[0;32m<ipython-input-86-8c7975279f92>\u001b[0m in \u001b[0;36m<module>\u001b[0;34m()\u001b[0m\n\u001b[1;32m      1\u001b[0m \u001b[0;32mif\u001b[0m \u001b[0;32mnot\u001b[0m \u001b[0mquery\u001b[0m \u001b[0;34m==\u001b[0m \u001b[0;34m'UFRN+discentes'\u001b[0m\u001b[0;34m:\u001b[0m\u001b[0;34m\u001b[0m\u001b[0;34m\u001b[0m\u001b[0m\n\u001b[0;32m----> 2\u001b[0;31m     \u001b[0mdf_datagov\u001b[0m\u001b[0;34m[\u001b[0m\u001b[0;34m'not default'\u001b[0m\u001b[0;34m]\u001b[0m\u001b[0;34m\u001b[0m\u001b[0;34m\u001b[0m\u001b[0m\n\u001b[0m",
            "\u001b[0;32m/usr/local/lib/python3.7/dist-packages/pandas/core/frame.py\u001b[0m in \u001b[0;36m__getitem__\u001b[0;34m(self, key)\u001b[0m\n\u001b[1;32m   2904\u001b[0m             \u001b[0;32mif\u001b[0m \u001b[0mself\u001b[0m\u001b[0;34m.\u001b[0m\u001b[0mcolumns\u001b[0m\u001b[0;34m.\u001b[0m\u001b[0mnlevels\u001b[0m \u001b[0;34m>\u001b[0m \u001b[0;36m1\u001b[0m\u001b[0;34m:\u001b[0m\u001b[0;34m\u001b[0m\u001b[0;34m\u001b[0m\u001b[0m\n\u001b[1;32m   2905\u001b[0m                 \u001b[0;32mreturn\u001b[0m \u001b[0mself\u001b[0m\u001b[0;34m.\u001b[0m\u001b[0m_getitem_multilevel\u001b[0m\u001b[0;34m(\u001b[0m\u001b[0mkey\u001b[0m\u001b[0;34m)\u001b[0m\u001b[0;34m\u001b[0m\u001b[0;34m\u001b[0m\u001b[0m\n\u001b[0;32m-> 2906\u001b[0;31m             \u001b[0mindexer\u001b[0m \u001b[0;34m=\u001b[0m \u001b[0mself\u001b[0m\u001b[0;34m.\u001b[0m\u001b[0mcolumns\u001b[0m\u001b[0;34m.\u001b[0m\u001b[0mget_loc\u001b[0m\u001b[0;34m(\u001b[0m\u001b[0mkey\u001b[0m\u001b[0;34m)\u001b[0m\u001b[0;34m\u001b[0m\u001b[0;34m\u001b[0m\u001b[0m\n\u001b[0m\u001b[1;32m   2907\u001b[0m             \u001b[0;32mif\u001b[0m \u001b[0mis_integer\u001b[0m\u001b[0;34m(\u001b[0m\u001b[0mindexer\u001b[0m\u001b[0;34m)\u001b[0m\u001b[0;34m:\u001b[0m\u001b[0;34m\u001b[0m\u001b[0;34m\u001b[0m\u001b[0m\n\u001b[1;32m   2908\u001b[0m                 \u001b[0mindexer\u001b[0m \u001b[0;34m=\u001b[0m \u001b[0;34m[\u001b[0m\u001b[0mindexer\u001b[0m\u001b[0;34m]\u001b[0m\u001b[0;34m\u001b[0m\u001b[0;34m\u001b[0m\u001b[0m\n",
            "\u001b[0;32m/usr/local/lib/python3.7/dist-packages/pandas/core/indexes/base.py\u001b[0m in \u001b[0;36mget_loc\u001b[0;34m(self, key, method, tolerance)\u001b[0m\n\u001b[1;32m   2898\u001b[0m                 \u001b[0;32mreturn\u001b[0m \u001b[0mself\u001b[0m\u001b[0;34m.\u001b[0m\u001b[0m_engine\u001b[0m\u001b[0;34m.\u001b[0m\u001b[0mget_loc\u001b[0m\u001b[0;34m(\u001b[0m\u001b[0mcasted_key\u001b[0m\u001b[0;34m)\u001b[0m\u001b[0;34m\u001b[0m\u001b[0;34m\u001b[0m\u001b[0m\n\u001b[1;32m   2899\u001b[0m             \u001b[0;32mexcept\u001b[0m \u001b[0mKeyError\u001b[0m \u001b[0;32mas\u001b[0m \u001b[0merr\u001b[0m\u001b[0;34m:\u001b[0m\u001b[0;34m\u001b[0m\u001b[0;34m\u001b[0m\u001b[0m\n\u001b[0;32m-> 2900\u001b[0;31m                 \u001b[0;32mraise\u001b[0m \u001b[0mKeyError\u001b[0m\u001b[0;34m(\u001b[0m\u001b[0mkey\u001b[0m\u001b[0;34m)\u001b[0m \u001b[0;32mfrom\u001b[0m \u001b[0merr\u001b[0m\u001b[0;34m\u001b[0m\u001b[0;34m\u001b[0m\u001b[0m\n\u001b[0m\u001b[1;32m   2901\u001b[0m \u001b[0;34m\u001b[0m\u001b[0m\n\u001b[1;32m   2902\u001b[0m         \u001b[0;32mif\u001b[0m \u001b[0mtolerance\u001b[0m \u001b[0;32mis\u001b[0m \u001b[0;32mnot\u001b[0m \u001b[0;32mNone\u001b[0m\u001b[0;34m:\u001b[0m\u001b[0;34m\u001b[0m\u001b[0;34m\u001b[0m\u001b[0m\n",
            "\u001b[0;31mKeyError\u001b[0m: 'not default'"
          ]
        }
      ]
    },
    {
      "cell_type": "code",
      "metadata": {
        "id": "E9ekV9xEM9RJ"
      },
      "source": [
        "import os"
      ],
      "execution_count": 88,
      "outputs": []
    },
    {
      "cell_type": "code",
      "metadata": {
        "id": "PpF50YPyMwEK"
      },
      "source": [
        "fext_dict = dict()\n",
        "for url in df_datagov['url_out']:\n",
        "    _,ext = os.path.splitext(url)\n",
        "    if not ext in fext_dict:\n",
        "        fext_dict[ext] = []\n",
        "    else:\n",
        "        fext_dict[ext].append(url)        "
      ],
      "execution_count": 89,
      "outputs": []
    },
    {
      "cell_type": "code",
      "metadata": {
        "id": "mjl4cL7mNWZT"
      },
      "source": [
        "df_csv = pandas.read_csv(fext_dict['.csv'][0],sep=';')"
      ],
      "execution_count": 90,
      "outputs": []
    },
    {
      "cell_type": "code",
      "metadata": {
        "colab": {
          "base_uri": "https://localhost:8080/",
          "height": 930
        },
        "id": "zZFbMT8ZNgzT",
        "outputId": "2fd678bd-d342-4dc4-9640-43f781f57504"
      },
      "source": [
        "df_csv"
      ],
      "execution_count": 91,
      "outputs": [
        {
          "output_type": "execute_result",
          "data": {
            "text/html": [
              "<div>\n",
              "<style scoped>\n",
              "    .dataframe tbody tr th:only-of-type {\n",
              "        vertical-align: middle;\n",
              "    }\n",
              "\n",
              "    .dataframe tbody tr th {\n",
              "        vertical-align: top;\n",
              "    }\n",
              "\n",
              "    .dataframe thead th {\n",
              "        text-align: right;\n",
              "    }\n",
              "</style>\n",
              "<table border=\"1\" class=\"dataframe\">\n",
              "  <thead>\n",
              "    <tr style=\"text-align: right;\">\n",
              "      <th></th>\n",
              "      <th>matricula</th>\n",
              "      <th>nome_discente</th>\n",
              "      <th>sexo</th>\n",
              "      <th>ano_ingresso</th>\n",
              "      <th>periodo_ingresso</th>\n",
              "      <th>forma_ingresso</th>\n",
              "      <th>tipo_discente</th>\n",
              "      <th>status</th>\n",
              "      <th>sigla_nivel_ensino</th>\n",
              "      <th>nivel_ensino</th>\n",
              "      <th>id_curso</th>\n",
              "      <th>nome_curso</th>\n",
              "      <th>modalidade_educacao</th>\n",
              "      <th>id_unidade</th>\n",
              "      <th>nome_unidade</th>\n",
              "      <th>id_unidade_gestora</th>\n",
              "      <th>nome_unidade_gestora</th>\n",
              "    </tr>\n",
              "  </thead>\n",
              "  <tbody>\n",
              "    <tr>\n",
              "      <th>0</th>\n",
              "      <td>20180057132</td>\n",
              "      <td>AADRIAN ANDREW COSTA BORGES</td>\n",
              "      <td>M</td>\n",
              "      <td>2018</td>\n",
              "      <td>1.0</td>\n",
              "      <td>SiSU</td>\n",
              "      <td>REGULAR</td>\n",
              "      <td>CANCELADO</td>\n",
              "      <td>G</td>\n",
              "      <td>GRADUAÇÃO</td>\n",
              "      <td>2000034.0</td>\n",
              "      <td>ESTATÍSTICA</td>\n",
              "      <td>PRESENCIAL</td>\n",
              "      <td>439.0</td>\n",
              "      <td>CENTRO DE CIÊNCIAS EXATAS E DA TERRA</td>\n",
              "      <td>439.0</td>\n",
              "      <td>CENTRO DE CIÊNCIAS EXATAS E DA TERRA</td>\n",
              "    </tr>\n",
              "    <tr>\n",
              "      <th>1</th>\n",
              "      <td>20183023601</td>\n",
              "      <td>ABDA ROCHA PINHEIRO</td>\n",
              "      <td>F</td>\n",
              "      <td>2018</td>\n",
              "      <td>1.0</td>\n",
              "      <td>PROCESSO SELETIVO</td>\n",
              "      <td>REGULAR</td>\n",
              "      <td>TRANCADO</td>\n",
              "      <td>T</td>\n",
              "      <td>TÉCNICO</td>\n",
              "      <td>5401.0</td>\n",
              "      <td>TÉCNICO DE MÚSICA (REGÊNCIA)</td>\n",
              "      <td>PRESENCIAL</td>\n",
              "      <td>284.0</td>\n",
              "      <td>ESCOLA DE MÚSICA</td>\n",
              "      <td>605.0</td>\n",
              "      <td>UNIVERSIDADE FEDERAL DO RIO GRANDE DO NORTE</td>\n",
              "    </tr>\n",
              "    <tr>\n",
              "      <th>2</th>\n",
              "      <td>20182042550</td>\n",
              "      <td>ABDIEL DE LIRA ROLIM</td>\n",
              "      <td>M</td>\n",
              "      <td>2018</td>\n",
              "      <td>2.0</td>\n",
              "      <td>PROCESSO SELETIVO</td>\n",
              "      <td>REGULAR</td>\n",
              "      <td>ATIVO</td>\n",
              "      <td>L</td>\n",
              "      <td>LATO SENSU</td>\n",
              "      <td>128492008.0</td>\n",
              "      <td>ESPECIALIZAÇÃO EM PRECEPTORIA EM SAÚDE</td>\n",
              "      <td>A DISTÂNCIA</td>\n",
              "      <td>205.0</td>\n",
              "      <td>ESCOLA DE SAÚDE</td>\n",
              "      <td>605.0</td>\n",
              "      <td>UNIVERSIDADE FEDERAL DO RIO GRANDE DO NORTE</td>\n",
              "    </tr>\n",
              "    <tr>\n",
              "      <th>3</th>\n",
              "      <td>20180107403</td>\n",
              "      <td>ABDON FRANCISCO SANTANA NETO</td>\n",
              "      <td>M</td>\n",
              "      <td>2018</td>\n",
              "      <td>2.0</td>\n",
              "      <td>SiSU</td>\n",
              "      <td>REGULAR</td>\n",
              "      <td>CANCELADO</td>\n",
              "      <td>G</td>\n",
              "      <td>GRADUAÇÃO</td>\n",
              "      <td>10320810.0</td>\n",
              "      <td>CIÊNCIAS E TECNOLOGIA</td>\n",
              "      <td>PRESENCIAL</td>\n",
              "      <td>4885.0</td>\n",
              "      <td>ESCOLA DE CIÊNCIAS E TECNOLOGIA</td>\n",
              "      <td>605.0</td>\n",
              "      <td>UNIVERSIDADE FEDERAL DO RIO GRANDE DO NORTE</td>\n",
              "    </tr>\n",
              "    <tr>\n",
              "      <th>4</th>\n",
              "      <td>20182033882</td>\n",
              "      <td>ABDON MOREIRA LUSTOSA</td>\n",
              "      <td>M</td>\n",
              "      <td>2018</td>\n",
              "      <td>2.0</td>\n",
              "      <td>PROCESSO SELETIVO</td>\n",
              "      <td>REGULAR</td>\n",
              "      <td>CANCELADO</td>\n",
              "      <td>L</td>\n",
              "      <td>LATO SENSU</td>\n",
              "      <td>128492008.0</td>\n",
              "      <td>ESPECIALIZAÇÃO EM PRECEPTORIA EM SAÚDE</td>\n",
              "      <td>A DISTÂNCIA</td>\n",
              "      <td>205.0</td>\n",
              "      <td>ESCOLA DE SAÚDE</td>\n",
              "      <td>605.0</td>\n",
              "      <td>UNIVERSIDADE FEDERAL DO RIO GRANDE DO NORTE</td>\n",
              "    </tr>\n",
              "    <tr>\n",
              "      <th>...</th>\n",
              "      <td>...</td>\n",
              "      <td>...</td>\n",
              "      <td>...</td>\n",
              "      <td>...</td>\n",
              "      <td>...</td>\n",
              "      <td>...</td>\n",
              "      <td>...</td>\n",
              "      <td>...</td>\n",
              "      <td>...</td>\n",
              "      <td>...</td>\n",
              "      <td>...</td>\n",
              "      <td>...</td>\n",
              "      <td>...</td>\n",
              "      <td>...</td>\n",
              "      <td>...</td>\n",
              "      <td>...</td>\n",
              "      <td>...</td>\n",
              "    </tr>\n",
              "    <tr>\n",
              "      <th>20241</th>\n",
              "      <td>20185013865</td>\n",
              "      <td>ZIWEN ZHAO</td>\n",
              "      <td>F</td>\n",
              "      <td>2018</td>\n",
              "      <td>2.0</td>\n",
              "      <td>PROCESSO SELETIVO</td>\n",
              "      <td>REGULAR</td>\n",
              "      <td>ATIVO</td>\n",
              "      <td>F</td>\n",
              "      <td>FORMAÇÃO COMPLEMENTAR</td>\n",
              "      <td>87093990.0</td>\n",
              "      <td>CURSO DE CONVERSAÇÃO EM LÍNGUA PORTUGUESA PARA...</td>\n",
              "      <td>PRESENCIAL</td>\n",
              "      <td>6042.0</td>\n",
              "      <td>INSTITUTO ÁGORA - LÍNGUAS, LITERATURAS E CULTU...</td>\n",
              "      <td>442.0</td>\n",
              "      <td>CENTRO DE CIÊNCIAS HUMANAS, LETRAS E ARTES</td>\n",
              "    </tr>\n",
              "    <tr>\n",
              "      <th>20242</th>\n",
              "      <td>20185013168</td>\n",
              "      <td>ZIWEN ZHAO</td>\n",
              "      <td>F</td>\n",
              "      <td>2018</td>\n",
              "      <td>2.0</td>\n",
              "      <td>PROCESSO SELETIVO</td>\n",
              "      <td>REGULAR</td>\n",
              "      <td>CANCELADO</td>\n",
              "      <td>F</td>\n",
              "      <td>FORMAÇÃO COMPLEMENTAR</td>\n",
              "      <td>86980524.0</td>\n",
              "      <td>CURSO DE PORTUGUÊS LÍNGUA ESTRANGEIRA - BÁSICO</td>\n",
              "      <td>PRESENCIAL</td>\n",
              "      <td>6042.0</td>\n",
              "      <td>INSTITUTO ÁGORA - LÍNGUAS, LITERATURAS E CULTU...</td>\n",
              "      <td>442.0</td>\n",
              "      <td>CENTRO DE CIÊNCIAS HUMANAS, LETRAS E ARTES</td>\n",
              "    </tr>\n",
              "    <tr>\n",
              "      <th>20243</th>\n",
              "      <td>20182005064</td>\n",
              "      <td>ZOILA GUETHON SILVA</td>\n",
              "      <td>F</td>\n",
              "      <td>2018</td>\n",
              "      <td>1.0</td>\n",
              "      <td>NAO INFORMADO</td>\n",
              "      <td>REGULAR</td>\n",
              "      <td>CONCLUÍDO</td>\n",
              "      <td>L</td>\n",
              "      <td>LATO SENSU</td>\n",
              "      <td>116293682.0</td>\n",
              "      <td>ESPECIALIZAÇÃO EM SAÚDE DA FAMÍLIA</td>\n",
              "      <td>A DISTÂNCIA</td>\n",
              "      <td>4890.0</td>\n",
              "      <td>FACULDADE DE CIÊNCIAS DA SAÚDE DO TRAIRI - FACISA</td>\n",
              "      <td>605.0</td>\n",
              "      <td>UNIVERSIDADE FEDERAL DO RIO GRANDE DO NORTE</td>\n",
              "    </tr>\n",
              "    <tr>\n",
              "      <th>20244</th>\n",
              "      <td>20182004227</td>\n",
              "      <td>ZURAMY RODRIGUEZ CERVANTES</td>\n",
              "      <td>F</td>\n",
              "      <td>2018</td>\n",
              "      <td>1.0</td>\n",
              "      <td>NAO INFORMADO</td>\n",
              "      <td>REGULAR</td>\n",
              "      <td>CONCLUÍDO</td>\n",
              "      <td>L</td>\n",
              "      <td>LATO SENSU</td>\n",
              "      <td>116293682.0</td>\n",
              "      <td>ESPECIALIZAÇÃO EM SAÚDE DA FAMÍLIA</td>\n",
              "      <td>A DISTÂNCIA</td>\n",
              "      <td>4890.0</td>\n",
              "      <td>FACULDADE DE CIÊNCIAS DA SAÚDE DO TRAIRI - FACISA</td>\n",
              "      <td>605.0</td>\n",
              "      <td>UNIVERSIDADE FEDERAL DO RIO GRANDE DO NORTE</td>\n",
              "    </tr>\n",
              "    <tr>\n",
              "      <th>20245</th>\n",
              "      <td>20180003919</td>\n",
              "      <td>ZYURE MARINHO OLIVEIRA DE MELLO</td>\n",
              "      <td>M</td>\n",
              "      <td>2018</td>\n",
              "      <td>1.0</td>\n",
              "      <td>REOCUPAÇÃO DE VAGAS RESIDUAIS</td>\n",
              "      <td>REGULAR</td>\n",
              "      <td>ATIVO</td>\n",
              "      <td>G</td>\n",
              "      <td>GRADUAÇÃO</td>\n",
              "      <td>111635066.0</td>\n",
              "      <td>MATEMÁTICA</td>\n",
              "      <td>PRESENCIAL</td>\n",
              "      <td>439.0</td>\n",
              "      <td>CENTRO DE CIÊNCIAS EXATAS E DA TERRA</td>\n",
              "      <td>439.0</td>\n",
              "      <td>CENTRO DE CIÊNCIAS EXATAS E DA TERRA</td>\n",
              "    </tr>\n",
              "  </tbody>\n",
              "</table>\n",
              "<p>20246 rows × 17 columns</p>\n",
              "</div>"
            ],
            "text/plain": [
              "         matricula  ...                         nome_unidade_gestora\n",
              "0      20180057132  ...         CENTRO DE CIÊNCIAS EXATAS E DA TERRA\n",
              "1      20183023601  ...  UNIVERSIDADE FEDERAL DO RIO GRANDE DO NORTE\n",
              "2      20182042550  ...  UNIVERSIDADE FEDERAL DO RIO GRANDE DO NORTE\n",
              "3      20180107403  ...  UNIVERSIDADE FEDERAL DO RIO GRANDE DO NORTE\n",
              "4      20182033882  ...  UNIVERSIDADE FEDERAL DO RIO GRANDE DO NORTE\n",
              "...            ...  ...                                          ...\n",
              "20241  20185013865  ...   CENTRO DE CIÊNCIAS HUMANAS, LETRAS E ARTES\n",
              "20242  20185013168  ...   CENTRO DE CIÊNCIAS HUMANAS, LETRAS E ARTES\n",
              "20243  20182005064  ...  UNIVERSIDADE FEDERAL DO RIO GRANDE DO NORTE\n",
              "20244  20182004227  ...  UNIVERSIDADE FEDERAL DO RIO GRANDE DO NORTE\n",
              "20245  20180003919  ...         CENTRO DE CIÊNCIAS EXATAS E DA TERRA\n",
              "\n",
              "[20246 rows x 17 columns]"
            ]
          },
          "metadata": {
            "tags": []
          },
          "execution_count": 91
        }
      ]
    },
    {
      "cell_type": "code",
      "metadata": {
        "colab": {
          "base_uri": "https://localhost:8080/",
          "height": 339
        },
        "id": "Dd46CTYTNgPQ",
        "outputId": "441f3e1b-a09d-4da5-8b8d-168299e96b9a"
      },
      "source": [
        "from matplotlib import pyplot\n",
        "\n",
        "from collections import Counter\n",
        "\n",
        "df_csv_sexo_counter = Counter( df_csv.sexo.values )\n",
        "\n",
        "figura_csv = pyplot.figure(1,(15,5)) # 1 ua = 72 px\n",
        "\n",
        "pyplot.bar(df_csv_sexo_counter.keys(), df_csv_sexo_counter.values())\n"
      ],
      "execution_count": 92,
      "outputs": [
        {
          "output_type": "execute_result",
          "data": {
            "text/plain": [
              "<BarContainer object of 3 artists>"
            ]
          },
          "metadata": {
            "tags": []
          },
          "execution_count": 92
        },
        {
          "output_type": "display_data",
          "data": {
            "image/png": "[encoded data removed]",
            "text/plain": [
              "<Figure size 1080x360 with 1 Axes>"
            ]
          },
          "metadata": {
            "tags": [],
            "needs_background": "light"
          }
        }
      ]
    },
    {
      "cell_type": "code",
      "metadata": {
        "colab": {
          "base_uri": "https://localhost:8080/"
        },
        "id": "u_HIS9VTbBAm",
        "outputId": "7967aa8d-60d1-475b-96d9-d16232c6a774"
      },
      "source": [
        "for k in df_datagov.dataset_key.unique():\n",
        "    print(k)"
      ],
      "execution_count": 93,
      "outputs": [
        {
          "output_type": "stream",
          "text": [
            "discentes\n",
            "dados_complementares_de_discentes\n",
            "dados_socio_economicos_de_discentes\n"
          ],
          "name": "stdout"
        }
      ]
    },
    {
      "cell_type": "code",
      "metadata": {
        "id": "GIJfkqwNa1jt"
      },
      "source": [
        "id_discentes = df_datagov['dataset_key'] == 'discentes'"
      ],
      "execution_count": 94,
      "outputs": []
    },
    {
      "cell_type": "code",
      "metadata": {
        "colab": {
          "base_uri": "https://localhost:8080/",
          "height": 1000
        },
        "id": "8YbH1zh2bkVN",
        "outputId": "b7461e48-ec20-4217-8379-30ca7df5fbd0"
      },
      "source": [
        "df_discentes = df_datagov[id_discentes]\n",
        "df_discentes"
      ],
      "execution_count": 95,
      "outputs": [
        {
          "output_type": "execute_result",
          "data": {
            "text/html": [
              "<div>\n",
              "<style scoped>\n",
              "    .dataframe tbody tr th:only-of-type {\n",
              "        vertical-align: middle;\n",
              "    }\n",
              "\n",
              "    .dataframe tbody tr th {\n",
              "        vertical-align: top;\n",
              "    }\n",
              "\n",
              "    .dataframe thead th {\n",
              "        text-align: right;\n",
              "    }\n",
              "</style>\n",
              "<table border=\"1\" class=\"dataframe\">\n",
              "  <thead>\n",
              "    <tr style=\"text-align: right;\">\n",
              "      <th></th>\n",
              "      <th>created</th>\n",
              "      <th>criado</th>\n",
              "      <th>dataset_key</th>\n",
              "      <th>dataset_organization</th>\n",
              "      <th>dataset_text</th>\n",
              "      <th>dataset_title</th>\n",
              "      <th>dataset_url</th>\n",
              "      <th>datastore_active</th>\n",
              "      <th>format</th>\n",
              "      <th>formato</th>\n",
              "      <th>havested</th>\n",
              "      <th>id</th>\n",
              "      <th>last_modified</th>\n",
              "      <th>licenca</th>\n",
              "      <th>license_href</th>\n",
              "      <th>license_logo</th>\n",
              "      <th>license_text</th>\n",
              "      <th>license_title</th>\n",
              "      <th>package_id</th>\n",
              "      <th>position</th>\n",
              "      <th>revision_id</th>\n",
              "      <th>state</th>\n",
              "      <th>ultima_atualizacao</th>\n",
              "      <th>url</th>\n",
              "      <th>url_out</th>\n",
              "      <th>webstore_last_updated</th>\n",
              "      <th>webstore_url</th>\n",
              "    </tr>\n",
              "  </thead>\n",
              "  <tbody>\n",
              "    <tr>\n",
              "      <th>0</th>\n",
              "      <td>há mais de 2 anos</td>\n",
              "      <td>28/Fevereiro/2019</td>\n",
              "      <td>discentes</td>\n",
              "      <td>Universidade Federal do Rio Grande do Norte - ...</td>\n",
              "      <td>Relação dos discentes da UFRN.</td>\n",
              "      <td>Discentes</td>\n",
              "      <td>[/, /organization, /organization/universidade-...</td>\n",
              "      <td>True</td>\n",
              "      <td>CSV</td>\n",
              "      <td>CSV</td>\n",
              "      <td>Tue Apr 27 07:18:46 2021</td>\n",
              "      <td>a55aef81-e094-4267-8643-f283524e3dd7</td>\n",
              "      <td>12 dias atrás</td>\n",
              "      <td>Other (Open)</td>\n",
              "      <td>[http://opendefinition.org/okd/]</td>\n",
              "      <td>[https://dados.gov.br/base/images/od_80x15_blu...</td>\n",
              "      <td>[Licença, Other (Open)]</td>\n",
              "      <td>[Este conjunto de dados satisfaz a Definição d...</td>\n",
              "      <td>554c2d41-cfce-4278-93c6-eb9aa49c5d16</td>\n",
              "      <td>NaN</td>\n",
              "      <td>fc0d7790-9da2-4e00-87fe-d5c73128a65b</td>\n",
              "      <td>active</td>\n",
              "      <td>14/Abril/2021</td>\n",
              "      <td>http://landpage-h.cgu.gov.br/dadosabertos/inde...</td>\n",
              "      <td>http://dados.ufrn.br/dataset/554c2d41-cfce-427...</td>\n",
              "      <td>None</td>\n",
              "      <td>None</td>\n",
              "    </tr>\n",
              "    <tr>\n",
              "      <th>1</th>\n",
              "      <td>há mais de 3 anos</td>\n",
              "      <td>27/Fevereiro/2018</td>\n",
              "      <td>discentes</td>\n",
              "      <td>Universidade Federal do Rio Grande do Norte - ...</td>\n",
              "      <td>Relação dos discentes da UFRN.</td>\n",
              "      <td>Discentes</td>\n",
              "      <td>[/, /organization, /organization/universidade-...</td>\n",
              "      <td>True</td>\n",
              "      <td>CSV</td>\n",
              "      <td>CSV</td>\n",
              "      <td>Tue Apr 27 07:18:46 2021</td>\n",
              "      <td>146b749b-b9d0-49b2-b114-ac6cc82a4051</td>\n",
              "      <td>19 dias atrás</td>\n",
              "      <td>Other (Open)</td>\n",
              "      <td>[http://opendefinition.org/okd/]</td>\n",
              "      <td>[https://dados.gov.br/base/images/od_80x15_blu...</td>\n",
              "      <td>[Licença, Other (Open)]</td>\n",
              "      <td>[Este conjunto de dados satisfaz a Definição d...</td>\n",
              "      <td>554c2d41-cfce-4278-93c6-eb9aa49c5d16</td>\n",
              "      <td>1</td>\n",
              "      <td>fc0d7790-9da2-4e00-87fe-d5c73128a65b</td>\n",
              "      <td>active</td>\n",
              "      <td>7/Abril/2021</td>\n",
              "      <td>http://landpage-h.cgu.gov.br/dadosabertos/inde...</td>\n",
              "      <td>http://dados.ufrn.br/dataset/554c2d41-cfce-427...</td>\n",
              "      <td>None</td>\n",
              "      <td>None</td>\n",
              "    </tr>\n",
              "    <tr>\n",
              "      <th>2</th>\n",
              "      <td>há mais de 3 anos</td>\n",
              "      <td>27/Outubro/2017</td>\n",
              "      <td>discentes</td>\n",
              "      <td>Universidade Federal do Rio Grande do Norte - ...</td>\n",
              "      <td>Relação dos discentes da UFRN.</td>\n",
              "      <td>Discentes</td>\n",
              "      <td>[/, /organization, /organization/universidade-...</td>\n",
              "      <td>NaN</td>\n",
              "      <td>CSV</td>\n",
              "      <td>CSV</td>\n",
              "      <td>Tue Apr 27 07:18:47 2021</td>\n",
              "      <td>dc732572-a51a-4d4a-a39d-2db37cbe5382</td>\n",
              "      <td>13 dias atrás</td>\n",
              "      <td>Other (Open)</td>\n",
              "      <td>[http://opendefinition.org/okd/]</td>\n",
              "      <td>[https://dados.gov.br/base/images/od_80x15_blu...</td>\n",
              "      <td>[Licença, Other (Open)]</td>\n",
              "      <td>[Este conjunto de dados satisfaz a Definição d...</td>\n",
              "      <td>554c2d41-cfce-4278-93c6-eb9aa49c5d16</td>\n",
              "      <td>2</td>\n",
              "      <td>fc0d7790-9da2-4e00-87fe-d5c73128a65b</td>\n",
              "      <td>active</td>\n",
              "      <td>14/Abril/2021</td>\n",
              "      <td>http://landpage-h.cgu.gov.br/dadosabertos/inde...</td>\n",
              "      <td>http://dados.ufrn.br/dataset/554c2d41-cfce-427...</td>\n",
              "      <td>None</td>\n",
              "      <td>None</td>\n",
              "    </tr>\n",
              "    <tr>\n",
              "      <th>3</th>\n",
              "      <td>há mais de 3 anos</td>\n",
              "      <td>27/Outubro/2017</td>\n",
              "      <td>discentes</td>\n",
              "      <td>Universidade Federal do Rio Grande do Norte - ...</td>\n",
              "      <td>Relação dos discentes da UFRN.</td>\n",
              "      <td>Discentes</td>\n",
              "      <td>[/, /organization, /organization/universidade-...</td>\n",
              "      <td>NaN</td>\n",
              "      <td>CSV</td>\n",
              "      <td>CSV</td>\n",
              "      <td>Tue Apr 27 07:18:48 2021</td>\n",
              "      <td>7d2fa5b3-743f-465f-8450-91719b34a002</td>\n",
              "      <td>13 dias atrás</td>\n",
              "      <td>Other (Open)</td>\n",
              "      <td>[http://opendefinition.org/okd/]</td>\n",
              "      <td>[https://dados.gov.br/base/images/od_80x15_blu...</td>\n",
              "      <td>[Licença, Other (Open)]</td>\n",
              "      <td>[Este conjunto de dados satisfaz a Definição d...</td>\n",
              "      <td>554c2d41-cfce-4278-93c6-eb9aa49c5d16</td>\n",
              "      <td>3</td>\n",
              "      <td>fc0d7790-9da2-4e00-87fe-d5c73128a65b</td>\n",
              "      <td>active</td>\n",
              "      <td>14/Abril/2021</td>\n",
              "      <td>http://landpage-h.cgu.gov.br/dadosabertos/inde...</td>\n",
              "      <td>http://dados.ufrn.br/dataset/554c2d41-cfce-427...</td>\n",
              "      <td>None</td>\n",
              "      <td>None</td>\n",
              "    </tr>\n",
              "    <tr>\n",
              "      <th>4</th>\n",
              "      <td>há mais de 3 anos</td>\n",
              "      <td>27/Outubro/2017</td>\n",
              "      <td>discentes</td>\n",
              "      <td>Universidade Federal do Rio Grande do Norte - ...</td>\n",
              "      <td>Relação dos discentes da UFRN.</td>\n",
              "      <td>Discentes</td>\n",
              "      <td>[/, /organization, /organization/universidade-...</td>\n",
              "      <td>True</td>\n",
              "      <td>CSV</td>\n",
              "      <td>CSV</td>\n",
              "      <td>Tue Apr 27 07:18:48 2021</td>\n",
              "      <td>e2b5b843-4f58-497e-8979-44daf8df8f94</td>\n",
              "      <td>12 dias atrás</td>\n",
              "      <td>Other (Open)</td>\n",
              "      <td>[http://opendefinition.org/okd/]</td>\n",
              "      <td>[https://dados.gov.br/base/images/od_80x15_blu...</td>\n",
              "      <td>[Licença, Other (Open)]</td>\n",
              "      <td>[Este conjunto de dados satisfaz a Definição d...</td>\n",
              "      <td>554c2d41-cfce-4278-93c6-eb9aa49c5d16</td>\n",
              "      <td>4</td>\n",
              "      <td>6fbfac0e-2436-4e00-a0e4-f7d8eecc8214</td>\n",
              "      <td>active</td>\n",
              "      <td>14/Abril/2021</td>\n",
              "      <td>http://landpage-h.cgu.gov.br/dadosabertos/inde...</td>\n",
              "      <td>http://dados.ufrn.br/dataset/554c2d41-cfce-427...</td>\n",
              "      <td>None</td>\n",
              "      <td>None</td>\n",
              "    </tr>\n",
              "    <tr>\n",
              "      <th>5</th>\n",
              "      <td>há mais de 3 anos</td>\n",
              "      <td>27/Outubro/2017</td>\n",
              "      <td>discentes</td>\n",
              "      <td>Universidade Federal do Rio Grande do Norte - ...</td>\n",
              "      <td>Relação dos discentes da UFRN.</td>\n",
              "      <td>Discentes</td>\n",
              "      <td>[/, /organization, /organization/universidade-...</td>\n",
              "      <td>True</td>\n",
              "      <td>CSV</td>\n",
              "      <td>CSV</td>\n",
              "      <td>Tue Apr 27 07:18:49 2021</td>\n",
              "      <td>6c23a430-9a7c-4d0f-9602-1d5d97d40e6a</td>\n",
              "      <td>14 dias atrás</td>\n",
              "      <td>Other (Open)</td>\n",
              "      <td>[http://opendefinition.org/okd/]</td>\n",
              "      <td>[https://dados.gov.br/base/images/od_80x15_blu...</td>\n",
              "      <td>[Licença, Other (Open)]</td>\n",
              "      <td>[Este conjunto de dados satisfaz a Definição d...</td>\n",
              "      <td>554c2d41-cfce-4278-93c6-eb9aa49c5d16</td>\n",
              "      <td>5</td>\n",
              "      <td>0f33ccdc-fdce-46a4-9abe-75fa56705b74</td>\n",
              "      <td>active</td>\n",
              "      <td>12/Abril/2021</td>\n",
              "      <td>http://landpage-h.cgu.gov.br/dadosabertos/inde...</td>\n",
              "      <td>http://dados.ufrn.br/dataset/554c2d41-cfce-427...</td>\n",
              "      <td>None</td>\n",
              "      <td>None</td>\n",
              "    </tr>\n",
              "    <tr>\n",
              "      <th>6</th>\n",
              "      <td>há mais de 3 anos</td>\n",
              "      <td>27/Outubro/2017</td>\n",
              "      <td>discentes</td>\n",
              "      <td>Universidade Federal do Rio Grande do Norte - ...</td>\n",
              "      <td>Relação dos discentes da UFRN.</td>\n",
              "      <td>Discentes</td>\n",
              "      <td>[/, /organization, /organization/universidade-...</td>\n",
              "      <td>NaN</td>\n",
              "      <td>CSV</td>\n",
              "      <td>CSV</td>\n",
              "      <td>Tue Apr 27 07:18:51 2021</td>\n",
              "      <td>dba208c2-822f-4e26-adc3-b61d4cb110b6</td>\n",
              "      <td>13 dias atrás</td>\n",
              "      <td>Other (Open)</td>\n",
              "      <td>[http://opendefinition.org/okd/]</td>\n",
              "      <td>[https://dados.gov.br/base/images/od_80x15_blu...</td>\n",
              "      <td>[Licença, Other (Open)]</td>\n",
              "      <td>[Este conjunto de dados satisfaz a Definição d...</td>\n",
              "      <td>554c2d41-cfce-4278-93c6-eb9aa49c5d16</td>\n",
              "      <td>6</td>\n",
              "      <td>fc0d7790-9da2-4e00-87fe-d5c73128a65b</td>\n",
              "      <td>active</td>\n",
              "      <td>14/Abril/2021</td>\n",
              "      <td>http://landpage-h.cgu.gov.br/dadosabertos/inde...</td>\n",
              "      <td>http://dados.ufrn.br/dataset/554c2d41-cfce-427...</td>\n",
              "      <td>None</td>\n",
              "      <td>None</td>\n",
              "    </tr>\n",
              "    <tr>\n",
              "      <th>7</th>\n",
              "      <td>há mais de 3 anos</td>\n",
              "      <td>27/Outubro/2017</td>\n",
              "      <td>discentes</td>\n",
              "      <td>Universidade Federal do Rio Grande do Norte - ...</td>\n",
              "      <td>Relação dos discentes da UFRN.</td>\n",
              "      <td>Discentes</td>\n",
              "      <td>[/, /organization, /organization/universidade-...</td>\n",
              "      <td>True</td>\n",
              "      <td>CSV</td>\n",
              "      <td>CSV</td>\n",
              "      <td>Tue Apr 27 07:18:51 2021</td>\n",
              "      <td>fc283aa9-61a7-4cf0-91fb-c403c0817b48</td>\n",
              "      <td>13 dias atrás</td>\n",
              "      <td>Other (Open)</td>\n",
              "      <td>[http://opendefinition.org/okd/]</td>\n",
              "      <td>[https://dados.gov.br/base/images/od_80x15_blu...</td>\n",
              "      <td>[Licença, Other (Open)]</td>\n",
              "      <td>[Este conjunto de dados satisfaz a Definição d...</td>\n",
              "      <td>554c2d41-cfce-4278-93c6-eb9aa49c5d16</td>\n",
              "      <td>7</td>\n",
              "      <td>fc0d7790-9da2-4e00-87fe-d5c73128a65b</td>\n",
              "      <td>active</td>\n",
              "      <td>14/Abril/2021</td>\n",
              "      <td>http://landpage-h.cgu.gov.br/dadosabertos/inde...</td>\n",
              "      <td>http://dados.ufrn.br/dataset/554c2d41-cfce-427...</td>\n",
              "      <td>None</td>\n",
              "      <td>None</td>\n",
              "    </tr>\n",
              "    <tr>\n",
              "      <th>8</th>\n",
              "      <td>há mais de 3 anos</td>\n",
              "      <td>27/Outubro/2017</td>\n",
              "      <td>discentes</td>\n",
              "      <td>Universidade Federal do Rio Grande do Norte - ...</td>\n",
              "      <td>Relação dos discentes da UFRN.</td>\n",
              "      <td>Discentes</td>\n",
              "      <td>[/, /organization, /organization/universidade-...</td>\n",
              "      <td>True</td>\n",
              "      <td>CSV</td>\n",
              "      <td>CSV</td>\n",
              "      <td>Tue Apr 27 07:18:52 2021</td>\n",
              "      <td>2bb3dec9-7f23-434c-a179-21515f91abc8</td>\n",
              "      <td>14 dias atrás</td>\n",
              "      <td>Other (Open)</td>\n",
              "      <td>[http://opendefinition.org/okd/]</td>\n",
              "      <td>[https://dados.gov.br/base/images/od_80x15_blu...</td>\n",
              "      <td>[Licença, Other (Open)]</td>\n",
              "      <td>[Este conjunto de dados satisfaz a Definição d...</td>\n",
              "      <td>554c2d41-cfce-4278-93c6-eb9aa49c5d16</td>\n",
              "      <td>8</td>\n",
              "      <td>0f33ccdc-fdce-46a4-9abe-75fa56705b74</td>\n",
              "      <td>active</td>\n",
              "      <td>12/Abril/2021</td>\n",
              "      <td>http://landpage-h.cgu.gov.br/dadosabertos/inde...</td>\n",
              "      <td>http://dados.ufrn.br/dataset/554c2d41-cfce-427...</td>\n",
              "      <td>None</td>\n",
              "      <td>None</td>\n",
              "    </tr>\n",
              "    <tr>\n",
              "      <th>9</th>\n",
              "      <td>há mais de 3 anos</td>\n",
              "      <td>27/Outubro/2017</td>\n",
              "      <td>discentes</td>\n",
              "      <td>Universidade Federal do Rio Grande do Norte - ...</td>\n",
              "      <td>Relação dos discentes da UFRN.</td>\n",
              "      <td>Discentes</td>\n",
              "      <td>[/, /organization, /organization/universidade-...</td>\n",
              "      <td>True</td>\n",
              "      <td>CSV</td>\n",
              "      <td>CSV</td>\n",
              "      <td>Tue Apr 27 07:18:53 2021</td>\n",
              "      <td>5fc61f78-19b4-4020-9f3c-c298cb8a63aa</td>\n",
              "      <td>13 dias atrás</td>\n",
              "      <td>Other (Open)</td>\n",
              "      <td>[http://opendefinition.org/okd/]</td>\n",
              "      <td>[https://dados.gov.br/base/images/od_80x15_blu...</td>\n",
              "      <td>[Licença, Other (Open)]</td>\n",
              "      <td>[Este conjunto de dados satisfaz a Definição d...</td>\n",
              "      <td>554c2d41-cfce-4278-93c6-eb9aa49c5d16</td>\n",
              "      <td>9</td>\n",
              "      <td>fc0d7790-9da2-4e00-87fe-d5c73128a65b</td>\n",
              "      <td>active</td>\n",
              "      <td>14/Abril/2021</td>\n",
              "      <td>http://landpage-h.cgu.gov.br/dadosabertos/inde...</td>\n",
              "      <td>http://dados.ufrn.br/dataset/554c2d41-cfce-427...</td>\n",
              "      <td>None</td>\n",
              "      <td>None</td>\n",
              "    </tr>\n",
              "    <tr>\n",
              "      <th>10</th>\n",
              "      <td>há mais de 3 anos</td>\n",
              "      <td>30/Outubro/2017</td>\n",
              "      <td>discentes</td>\n",
              "      <td>Universidade Federal do Rio Grande do Norte - ...</td>\n",
              "      <td>Relação dos discentes da UFRN.</td>\n",
              "      <td>Discentes</td>\n",
              "      <td>[/, /organization, /organization/universidade-...</td>\n",
              "      <td>True</td>\n",
              "      <td>CSV</td>\n",
              "      <td>CSV</td>\n",
              "      <td>Tue Apr 27 07:18:53 2021</td>\n",
              "      <td>861b96a8-5304-4e6a-a8c4-068533ec7cb9</td>\n",
              "      <td>13 dias atrás</td>\n",
              "      <td>Other (Open)</td>\n",
              "      <td>[http://opendefinition.org/okd/]</td>\n",
              "      <td>[https://dados.gov.br/base/images/od_80x15_blu...</td>\n",
              "      <td>[Licença, Other (Open)]</td>\n",
              "      <td>[Este conjunto de dados satisfaz a Definição d...</td>\n",
              "      <td>554c2d41-cfce-4278-93c6-eb9aa49c5d16</td>\n",
              "      <td>10</td>\n",
              "      <td>fc0d7790-9da2-4e00-87fe-d5c73128a65b</td>\n",
              "      <td>active</td>\n",
              "      <td>14/Abril/2021</td>\n",
              "      <td>http://landpage-h.cgu.gov.br/dadosabertos/inde...</td>\n",
              "      <td>http://dados.ufrn.br/dataset/554c2d41-cfce-427...</td>\n",
              "      <td>None</td>\n",
              "      <td>None</td>\n",
              "    </tr>\n",
              "    <tr>\n",
              "      <th>11</th>\n",
              "      <td>há mais de 3 anos</td>\n",
              "      <td>27/Outubro/2017</td>\n",
              "      <td>discentes</td>\n",
              "      <td>Universidade Federal do Rio Grande do Norte - ...</td>\n",
              "      <td>Relação dos discentes da UFRN.</td>\n",
              "      <td>Discentes</td>\n",
              "      <td>[/, /organization, /organization/universidade-...</td>\n",
              "      <td>NaN</td>\n",
              "      <td>PDF</td>\n",
              "      <td>PDF</td>\n",
              "      <td>Tue Apr 27 07:18:54 2021</td>\n",
              "      <td>b5144c99-81f3-4cfc-8938-18adb81ae3c0</td>\n",
              "      <td>há mais de 1 ano</td>\n",
              "      <td>Other (Open)</td>\n",
              "      <td>[http://opendefinition.org/okd/]</td>\n",
              "      <td>[https://dados.gov.br/base/images/od_80x15_blu...</td>\n",
              "      <td>[Licença, Other (Open)]</td>\n",
              "      <td>[Este conjunto de dados satisfaz a Definição d...</td>\n",
              "      <td>554c2d41-cfce-4278-93c6-eb9aa49c5d16</td>\n",
              "      <td>11</td>\n",
              "      <td>24ed1d0b-851a-497b-a2c2-813e724b4412</td>\n",
              "      <td>active</td>\n",
              "      <td>27/Junho/2019</td>\n",
              "      <td>http://landpage-h.cgu.gov.br/dadosabertos/inde...</td>\n",
              "      <td>http://dados.ufrn.br/dataset/554c2d41-cfce-427...</td>\n",
              "      <td>None</td>\n",
              "      <td>None</td>\n",
              "    </tr>\n",
              "    <tr>\n",
              "      <th>12</th>\n",
              "      <td>há 12 meses</td>\n",
              "      <td>16/Abril/2020</td>\n",
              "      <td>discentes</td>\n",
              "      <td>Universidade Federal do Rio Grande do Norte - ...</td>\n",
              "      <td>Relação dos discentes da UFRN.</td>\n",
              "      <td>Discentes</td>\n",
              "      <td>[/, /organization, /organization/universidade-...</td>\n",
              "      <td>True</td>\n",
              "      <td>CSV</td>\n",
              "      <td>CSV</td>\n",
              "      <td>Tue Apr 27 07:18:55 2021</td>\n",
              "      <td>7795c538-86fc-483f-9da9-67b2fcc834ae</td>\n",
              "      <td>11 dias atrás</td>\n",
              "      <td>Other (Open)</td>\n",
              "      <td>[http://opendefinition.org/okd/]</td>\n",
              "      <td>[https://dados.gov.br/base/images/od_80x15_blu...</td>\n",
              "      <td>[Licença, Other (Open)]</td>\n",
              "      <td>[Este conjunto de dados satisfaz a Definição d...</td>\n",
              "      <td>554c2d41-cfce-4278-93c6-eb9aa49c5d16</td>\n",
              "      <td>12</td>\n",
              "      <td>6fbfac0e-2436-4e00-a0e4-f7d8eecc8214</td>\n",
              "      <td>active</td>\n",
              "      <td>15/Abril/2021</td>\n",
              "      <td>http://landpage-h.cgu.gov.br/dadosabertos/inde...</td>\n",
              "      <td>http://dados.ufrn.br/dataset/554c2d41-cfce-427...</td>\n",
              "      <td>None</td>\n",
              "      <td>None</td>\n",
              "    </tr>\n",
              "  </tbody>\n",
              "</table>\n",
              "</div>"
            ],
            "text/plain": [
              "              created             criado  ... webstore_last_updated webstore_url\n",
              "0   há mais de 2 anos  28/Fevereiro/2019  ...                  None         None\n",
              "1   há mais de 3 anos  27/Fevereiro/2018  ...                  None         None\n",
              "2   há mais de 3 anos    27/Outubro/2017  ...                  None         None\n",
              "3   há mais de 3 anos    27/Outubro/2017  ...                  None         None\n",
              "4   há mais de 3 anos    27/Outubro/2017  ...                  None         None\n",
              "5   há mais de 3 anos    27/Outubro/2017  ...                  None         None\n",
              "6   há mais de 3 anos    27/Outubro/2017  ...                  None         None\n",
              "7   há mais de 3 anos    27/Outubro/2017  ...                  None         None\n",
              "8   há mais de 3 anos    27/Outubro/2017  ...                  None         None\n",
              "9   há mais de 3 anos    27/Outubro/2017  ...                  None         None\n",
              "10  há mais de 3 anos    30/Outubro/2017  ...                  None         None\n",
              "11  há mais de 3 anos    27/Outubro/2017  ...                  None         None\n",
              "12        há 12 meses      16/Abril/2020  ...                  None         None\n",
              "\n",
              "[13 rows x 27 columns]"
            ]
          },
          "metadata": {
            "tags": []
          },
          "execution_count": 95
        }
      ]
    },
    {
      "cell_type": "code",
      "metadata": {
        "colab": {
          "base_uri": "https://localhost:8080/"
        },
        "id": "Sq9AlD_zeTfc",
        "outputId": "f39529c3-da2d-4707-8571-d52698c4578d"
      },
      "source": [
        "os.path.splitext"
      ],
      "execution_count": 106,
      "outputs": [
        {
          "output_type": "execute_result",
          "data": {
            "text/plain": [
              "<module 'os' from '/usr/lib/python3.7/os.py'>"
            ]
          },
          "metadata": {
            "tags": []
          },
          "execution_count": 106
        }
      ]
    },
    {
      "cell_type": "code",
      "metadata": {
        "colab": {
          "base_uri": "https://localhost:8080/"
        },
        "id": "vK5NyZNqe9-b",
        "outputId": "a7152204-bf1c-4627-e76d-c22cbac207ec"
      },
      "source": [
        "os.path.splitext(url)[1] == '.pdf'"
      ],
      "execution_count": 115,
      "outputs": [
        {
          "output_type": "execute_result",
          "data": {
            "text/plain": [
              "True"
            ]
          },
          "metadata": {
            "tags": []
          },
          "execution_count": 115
        }
      ]
    },
    {
      "cell_type": "code",
      "metadata": {
        "colab": {
          "base_uri": "https://localhost:8080/"
        },
        "id": "B7OdiZ4LfUWF",
        "outputId": "2aefad6a-79f0-4dd2-d3c2-1693a5910cf8"
      },
      "source": [
        "discentes = []\n",
        "print('discentes',end='\\n\\n')\n",
        "for url in df_discentes['url_out'].values:\n",
        "    print('\\t',url)\n",
        "    if os.path.splitext(url)[1] == '.pdf': continue\n",
        "    _ = pandas.read_csv(url,sep=';',decimal=',')\n",
        "    if len(discentes):\n",
        "        discentes.append( _ )\n",
        "    else:\n",
        "        discentes = [ _ ]\n"
      ],
      "execution_count": 146,
      "outputs": [
        {
          "output_type": "stream",
          "text": [
            "discentes\n",
            "\n",
            "\t http://dados.ufrn.br/dataset/554c2d41-cfce-4278-93c6-eb9aa49c5d16/resource/a55aef81-e094-4267-8643-f283524e3dd7/download/discentes-2019.csv\n",
            "\t http://dados.ufrn.br/dataset/554c2d41-cfce-4278-93c6-eb9aa49c5d16/resource/146b749b-b9d0-49b2-b114-ac6cc82a4051/download/discentes-2018.csv\n",
            "\t http://dados.ufrn.br/dataset/554c2d41-cfce-4278-93c6-eb9aa49c5d16/resource/dc732572-a51a-4d4a-a39d-2db37cbe5382/download/discentes-2017.csv\n",
            "\t http://dados.ufrn.br/dataset/554c2d41-cfce-4278-93c6-eb9aa49c5d16/resource/7d2fa5b3-743f-465f-8450-91719b34a002/download/discentes-2016.csv\n",
            "\t http://dados.ufrn.br/dataset/554c2d41-cfce-4278-93c6-eb9aa49c5d16/resource/e2b5b843-4f58-497e-8979-44daf8df8f94/download/discentes-2015.csv\n",
            "\t http://dados.ufrn.br/dataset/554c2d41-cfce-4278-93c6-eb9aa49c5d16/resource/6c23a430-9a7c-4d0f-9602-1d5d97d40e6a/download/discentes-2014.csv\n",
            "\t http://dados.ufrn.br/dataset/554c2d41-cfce-4278-93c6-eb9aa49c5d16/resource/dba208c2-822f-4e26-adc3-b61d4cb110b6/download/discentes-2013.csv\n",
            "\t http://dados.ufrn.br/dataset/554c2d41-cfce-4278-93c6-eb9aa49c5d16/resource/fc283aa9-61a7-4cf0-91fb-c403c0817b48/download/discentes-2012.csv\n",
            "\t http://dados.ufrn.br/dataset/554c2d41-cfce-4278-93c6-eb9aa49c5d16/resource/2bb3dec9-7f23-434c-a179-21515f91abc8/download/discentes-2011.csv\n",
            "\t http://dados.ufrn.br/dataset/554c2d41-cfce-4278-93c6-eb9aa49c5d16/resource/5fc61f78-19b4-4020-9f3c-c298cb8a63aa/download/discentes-2010.csv\n",
            "\t http://dados.ufrn.br/dataset/554c2d41-cfce-4278-93c6-eb9aa49c5d16/resource/861b96a8-5304-4e6a-a8c4-068533ec7cb9/download/discentes-2009.csv\n",
            "\t http://dados.ufrn.br/dataset/554c2d41-cfce-4278-93c6-eb9aa49c5d16/resource/b5144c99-81f3-4cfc-8938-18adb81ae3c0/download/discentesdicionario.pdf\n",
            "\t http://dados.ufrn.br/dataset/554c2d41-cfce-4278-93c6-eb9aa49c5d16/resource/7795c538-86fc-483f-9da9-67b2fcc834ae/download/discentes-2020.csv\n"
          ],
          "name": "stdout"
        }
      ]
    },
    {
      "cell_type": "code",
      "metadata": {
        "id": "Kbc2e5dsgpBs"
      },
      "source": [
        "discentes = pandas.concat(discentes,axis=0)"
      ],
      "execution_count": 147,
      "outputs": []
    },
    {
      "cell_type": "code",
      "metadata": {
        "id": "vL5lrLpyfBxd"
      },
      "source": [
        "gb = discentes[['ano_ingresso','sexo','matricula']].groupby(['ano_ingresso','sexo'])"
      ],
      "execution_count": 154,
      "outputs": []
    },
    {
      "cell_type": "code",
      "metadata": {
        "colab": {
          "base_uri": "https://localhost:8080/"
        },
        "id": "IP2LeWBijtZz",
        "outputId": "1abd8c1e-9745-4d0c-9781-894c548285b4"
      },
      "source": [
        "gb['matricula'].count().items()"
      ],
      "execution_count": 179,
      "outputs": [
        {
          "output_type": "execute_result",
          "data": {
            "text/plain": [
              "<zip at 0x7f5c18fd6d20>"
            ]
          },
          "metadata": {
            "tags": []
          },
          "execution_count": 179
        }
      ]
    },
    {
      "cell_type": "code",
      "metadata": {
        "colab": {
          "base_uri": "https://localhost:8080/"
        },
        "id": "ny33H6bFjsoc",
        "outputId": "a60690c7-75a1-407d-875d-45e4ec538839"
      },
      "source": [
        "tuple( gb['matricula'].count().items() )  # tuplas de ( tupla de ( tupla de ano e sexo ) e contagem )"
      ],
      "execution_count": 183,
      "outputs": [
        {
          "output_type": "execute_result",
          "data": {
            "text/plain": [
              "(((2009, 'F'), 5391),\n",
              " ((2009, 'M'), 5208),\n",
              " ((2010, 'F'), 7832),\n",
              " ((2010, 'M'), 7831),\n",
              " ((2010, 'false'), 2),\n",
              " ((2011, 'F'), 7284),\n",
              " ((2011, 'M'), 7014),\n",
              " ((2011, 'false'), 4),\n",
              " ((2012, 'F'), 8716),\n",
              " ((2012, 'M'), 8784),\n",
              " ((2012, 'false'), 8),\n",
              " ((2013, 'F'), 11660),\n",
              " ((2013, 'M'), 10841),\n",
              " ((2013, 'false'), 9),\n",
              " ((2014, 'F'), 10159),\n",
              " ((2014, 'M'), 10444),\n",
              " ((2014, 'false'), 3),\n",
              " ((2015, 'F'), 8963),\n",
              " ((2015, 'M'), 10239),\n",
              " ((2015, 'false'), 5),\n",
              " ((2016, 'F'), 8569),\n",
              " ((2016, 'M'), 9656),\n",
              " ((2016, 'false'), 6),\n",
              " ((2017, 'F'), 10495),\n",
              " ((2017, 'M'), 12379),\n",
              " ((2017, 'false'), 8),\n",
              " ((2018, 'F'), 10790),\n",
              " ((2018, 'M'), 9455),\n",
              " ((2018, 'false'), 1),\n",
              " ((2019, 'F'), 7396),\n",
              " ((2019, 'M'), 8626),\n",
              " ((2019, 'false'), 4),\n",
              " ((2020, 'F'), 8341),\n",
              " ((2020, 'M'), 8526))"
            ]
          },
          "metadata": {
            "tags": []
          },
          "execution_count": 183
        }
      ]
    },
    {
      "cell_type": "code",
      "metadata": {
        "id": "30QPOQHcjitl"
      },
      "source": [
        "ano_sexo, contagem = zip(*gb['matricula'].count().items())"
      ],
      "execution_count": 184,
      "outputs": []
    },
    {
      "cell_type": "code",
      "metadata": {
        "id": "uvrHb9r6jrVM"
      },
      "source": [
        "ano, sexo = zip(*ano_sexo)"
      ],
      "execution_count": 186,
      "outputs": []
    },
    {
      "cell_type": "code",
      "metadata": {
        "id": "Lolh2ue5knoM"
      },
      "source": [
        "ano = numpy.array(ano)\n",
        "contagem = numpy.array(contagem)"
      ],
      "execution_count": 203,
      "outputs": []
    },
    {
      "cell_type": "code",
      "metadata": {
        "id": "CDr2mqsYkOCU"
      },
      "source": [
        "id_m = [s == 'M' for s in sexo]"
      ],
      "execution_count": 204,
      "outputs": []
    },
    {
      "cell_type": "code",
      "metadata": {
        "id": "EAtbZSFPkdT8"
      },
      "source": [
        "id_f = [s == 'F' for s in sexo]"
      ],
      "execution_count": 205,
      "outputs": []
    },
    {
      "cell_type": "code",
      "metadata": {
        "id": "BwhiucrwkgL8"
      },
      "source": [
        "id_na = [s=='false' for s in sexo]"
      ],
      "execution_count": 206,
      "outputs": []
    },
    {
      "cell_type": "code",
      "metadata": {
        "colab": {
          "base_uri": "https://localhost:8080/"
        },
        "id": "g5xUJ4Mgkrs0",
        "outputId": "e9546f93-b28a-41db-f823-0c87dd3c7992"
      },
      "source": [
        ""
      ],
      "execution_count": 207,
      "outputs": [
        {
          "output_type": "execute_result",
          "data": {
            "text/plain": [
              "array([2009, 2009, 2010, 2010, 2010, 2011, 2011, 2011, 2012, 2012, 2012,\n",
              "       2013, 2013, 2013, 2014, 2014, 2014, 2015, 2015, 2015, 2016, 2016,\n",
              "       2016, 2017, 2017, 2017, 2018, 2018, 2018, 2019, 2019, 2019, 2020,\n",
              "       2020])"
            ]
          },
          "metadata": {
            "tags": []
          },
          "execution_count": 207
        }
      ]
    },
    {
      "cell_type": "code",
      "metadata": {
        "id": "eOO72Kzak-ws"
      },
      "source": [
        "pyplot.close(3)"
      ],
      "execution_count": 214,
      "outputs": []
    },
    {
      "cell_type": "code",
      "metadata": {
        "colab": {
          "base_uri": "https://localhost:8080/",
          "height": 269
        },
        "id": "dO41ELdElem0",
        "outputId": "be488065-7687-4e40-e4ec-cf42579212dd"
      },
      "source": [
        "axs[0]"
      ],
      "execution_count": 224,
      "outputs": [
        {
          "output_type": "execute_result",
          "data": {
            "image/png": "[encoded data removed]",
            "text/plain": [
              "<Figure size 432x288 with 3 Axes>"
            ]
          },
          "metadata": {
            "tags": []
          },
          "execution_count": 224
        }
      ]
    },
    {
      "cell_type": "code",
      "metadata": {
        "id": "0H7jGOqcli-k"
      },
      "source": [
        "pyplot.bar?"
      ],
      "execution_count": 239,
      "outputs": []
    },
    {
      "cell_type": "code",
      "metadata": {
        "id": "4vvjbbIOlrI9"
      },
      "source": [
        "pyplot.plot?"
      ],
      "execution_count": 240,
      "outputs": []
    },
    {
      "cell_type": "code",
      "metadata": {
        "colab": {
          "base_uri": "https://localhost:8080/",
          "height": 637
        },
        "id": "KsHql2kzkkyc",
        "outputId": "079c0ad4-65f8-447c-e9f6-56fb3c9f4879"
      },
      "source": [
        "figura_dois = pyplot.figure(2,(20,10))\n",
        "axs = pyplot.subplots(3,1,sharex=True,sharey=True)\n",
        "for ax,id in zip(axs[1],[id_m,id_f,id_na]):\n",
        "    pyplot.bar(x=ano[id_m],height=contagem[id_m],axes=ax)\n"
      ],
      "execution_count": 241,
      "outputs": [
        {
          "output_type": "error",
          "ename": "ValueError",
          "evalue": "ignored",
          "traceback": [
            "\u001b[0;31m---------------------------------------------------------------------------\u001b[0m",
            "\u001b[0;31mValueError\u001b[0m                                Traceback (most recent call last)",
            "\u001b[0;32m<ipython-input-241-1eadb880da95>\u001b[0m in \u001b[0;36m<module>\u001b[0;34m()\u001b[0m\n\u001b[1;32m      2\u001b[0m \u001b[0maxs\u001b[0m \u001b[0;34m=\u001b[0m \u001b[0mpyplot\u001b[0m\u001b[0;34m.\u001b[0m\u001b[0msubplots\u001b[0m\u001b[0;34m(\u001b[0m\u001b[0;36m3\u001b[0m\u001b[0;34m,\u001b[0m\u001b[0;36m1\u001b[0m\u001b[0;34m,\u001b[0m\u001b[0msharex\u001b[0m\u001b[0;34m=\u001b[0m\u001b[0;32mTrue\u001b[0m\u001b[0;34m,\u001b[0m\u001b[0msharey\u001b[0m\u001b[0;34m=\u001b[0m\u001b[0;32mTrue\u001b[0m\u001b[0;34m)\u001b[0m\u001b[0;34m\u001b[0m\u001b[0;34m\u001b[0m\u001b[0m\n\u001b[1;32m      3\u001b[0m \u001b[0;32mfor\u001b[0m \u001b[0max\u001b[0m\u001b[0;34m,\u001b[0m\u001b[0mid\u001b[0m \u001b[0;32min\u001b[0m \u001b[0mzip\u001b[0m\u001b[0;34m(\u001b[0m\u001b[0maxs\u001b[0m\u001b[0;34m[\u001b[0m\u001b[0;36m1\u001b[0m\u001b[0;34m]\u001b[0m\u001b[0;34m,\u001b[0m\u001b[0;34m[\u001b[0m\u001b[0mid_m\u001b[0m\u001b[0;34m,\u001b[0m\u001b[0mid_f\u001b[0m\u001b[0;34m,\u001b[0m\u001b[0mid_na\u001b[0m\u001b[0;34m]\u001b[0m\u001b[0;34m)\u001b[0m\u001b[0;34m:\u001b[0m\u001b[0;34m\u001b[0m\u001b[0;34m\u001b[0m\u001b[0m\n\u001b[0;32m----> 4\u001b[0;31m     \u001b[0mpyplot\u001b[0m\u001b[0;34m.\u001b[0m\u001b[0mbar\u001b[0m\u001b[0;34m(\u001b[0m\u001b[0mx\u001b[0m\u001b[0;34m=\u001b[0m\u001b[0mano\u001b[0m\u001b[0;34m[\u001b[0m\u001b[0mid_m\u001b[0m\u001b[0;34m]\u001b[0m\u001b[0;34m,\u001b[0m\u001b[0mheight\u001b[0m\u001b[0;34m=\u001b[0m\u001b[0mcontagem\u001b[0m\u001b[0;34m[\u001b[0m\u001b[0mid_m\u001b[0m\u001b[0;34m]\u001b[0m\u001b[0;34m,\u001b[0m\u001b[0maxes\u001b[0m\u001b[0;34m=\u001b[0m\u001b[0max\u001b[0m\u001b[0;34m)\u001b[0m\u001b[0;34m\u001b[0m\u001b[0;34m\u001b[0m\u001b[0m\n\u001b[0m",
            "\u001b[0;32m/usr/local/lib/python3.7/dist-packages/matplotlib/pyplot.py\u001b[0m in \u001b[0;36mbar\u001b[0;34m(x, height, width, bottom, align, data, **kwargs)\u001b[0m\n\u001b[1;32m   2407\u001b[0m     return gca().bar(\n\u001b[1;32m   2408\u001b[0m         \u001b[0mx\u001b[0m\u001b[0;34m,\u001b[0m \u001b[0mheight\u001b[0m\u001b[0;34m,\u001b[0m \u001b[0mwidth\u001b[0m\u001b[0;34m=\u001b[0m\u001b[0mwidth\u001b[0m\u001b[0;34m,\u001b[0m \u001b[0mbottom\u001b[0m\u001b[0;34m=\u001b[0m\u001b[0mbottom\u001b[0m\u001b[0;34m,\u001b[0m \u001b[0malign\u001b[0m\u001b[0;34m=\u001b[0m\u001b[0malign\u001b[0m\u001b[0;34m,\u001b[0m\u001b[0;34m\u001b[0m\u001b[0;34m\u001b[0m\u001b[0m\n\u001b[0;32m-> 2409\u001b[0;31m         **({\"data\": data} if data is not None else {}), **kwargs)\n\u001b[0m\u001b[1;32m   2410\u001b[0m \u001b[0;34m\u001b[0m\u001b[0m\n\u001b[1;32m   2411\u001b[0m \u001b[0;34m\u001b[0m\u001b[0m\n",
            "\u001b[0;32m/usr/local/lib/python3.7/dist-packages/matplotlib/__init__.py\u001b[0m in \u001b[0;36minner\u001b[0;34m(ax, data, *args, **kwargs)\u001b[0m\n\u001b[1;32m   1563\u001b[0m     \u001b[0;32mdef\u001b[0m \u001b[0minner\u001b[0m\u001b[0;34m(\u001b[0m\u001b[0max\u001b[0m\u001b[0;34m,\u001b[0m \u001b[0;34m*\u001b[0m\u001b[0margs\u001b[0m\u001b[0;34m,\u001b[0m \u001b[0mdata\u001b[0m\u001b[0;34m=\u001b[0m\u001b[0;32mNone\u001b[0m\u001b[0;34m,\u001b[0m \u001b[0;34m**\u001b[0m\u001b[0mkwargs\u001b[0m\u001b[0;34m)\u001b[0m\u001b[0;34m:\u001b[0m\u001b[0;34m\u001b[0m\u001b[0;34m\u001b[0m\u001b[0m\n\u001b[1;32m   1564\u001b[0m         \u001b[0;32mif\u001b[0m \u001b[0mdata\u001b[0m \u001b[0;32mis\u001b[0m \u001b[0;32mNone\u001b[0m\u001b[0;34m:\u001b[0m\u001b[0;34m\u001b[0m\u001b[0;34m\u001b[0m\u001b[0m\n\u001b[0;32m-> 1565\u001b[0;31m             \u001b[0;32mreturn\u001b[0m \u001b[0mfunc\u001b[0m\u001b[0;34m(\u001b[0m\u001b[0max\u001b[0m\u001b[0;34m,\u001b[0m \u001b[0;34m*\u001b[0m\u001b[0mmap\u001b[0m\u001b[0;34m(\u001b[0m\u001b[0msanitize_sequence\u001b[0m\u001b[0;34m,\u001b[0m \u001b[0margs\u001b[0m\u001b[0;34m)\u001b[0m\u001b[0;34m,\u001b[0m \u001b[0;34m**\u001b[0m\u001b[0mkwargs\u001b[0m\u001b[0;34m)\u001b[0m\u001b[0;34m\u001b[0m\u001b[0;34m\u001b[0m\u001b[0m\n\u001b[0m\u001b[1;32m   1566\u001b[0m \u001b[0;34m\u001b[0m\u001b[0m\n\u001b[1;32m   1567\u001b[0m         \u001b[0mbound\u001b[0m \u001b[0;34m=\u001b[0m \u001b[0mnew_sig\u001b[0m\u001b[0;34m.\u001b[0m\u001b[0mbind\u001b[0m\u001b[0;34m(\u001b[0m\u001b[0max\u001b[0m\u001b[0;34m,\u001b[0m \u001b[0;34m*\u001b[0m\u001b[0margs\u001b[0m\u001b[0;34m,\u001b[0m \u001b[0;34m**\u001b[0m\u001b[0mkwargs\u001b[0m\u001b[0;34m)\u001b[0m\u001b[0;34m\u001b[0m\u001b[0;34m\u001b[0m\u001b[0m\n",
            "\u001b[0;32m/usr/local/lib/python3.7/dist-packages/matplotlib/axes/_axes.py\u001b[0m in \u001b[0;36mbar\u001b[0;34m(self, x, height, width, bottom, align, **kwargs)\u001b[0m\n\u001b[1;32m   2402\u001b[0m             \u001b[0;32melif\u001b[0m \u001b[0morientation\u001b[0m \u001b[0;34m==\u001b[0m \u001b[0;34m'horizontal'\u001b[0m\u001b[0;34m:\u001b[0m\u001b[0;34m\u001b[0m\u001b[0;34m\u001b[0m\u001b[0m\n\u001b[1;32m   2403\u001b[0m                 \u001b[0mr\u001b[0m\u001b[0;34m.\u001b[0m\u001b[0msticky_edges\u001b[0m\u001b[0;34m.\u001b[0m\u001b[0mx\u001b[0m\u001b[0;34m.\u001b[0m\u001b[0mappend\u001b[0m\u001b[0;34m(\u001b[0m\u001b[0ml\u001b[0m\u001b[0;34m)\u001b[0m\u001b[0;34m\u001b[0m\u001b[0;34m\u001b[0m\u001b[0m\n\u001b[0;32m-> 2404\u001b[0;31m             \u001b[0mself\u001b[0m\u001b[0;34m.\u001b[0m\u001b[0madd_patch\u001b[0m\u001b[0;34m(\u001b[0m\u001b[0mr\u001b[0m\u001b[0;34m)\u001b[0m\u001b[0;34m\u001b[0m\u001b[0;34m\u001b[0m\u001b[0m\n\u001b[0m\u001b[1;32m   2405\u001b[0m             \u001b[0mpatches\u001b[0m\u001b[0;34m.\u001b[0m\u001b[0mappend\u001b[0m\u001b[0;34m(\u001b[0m\u001b[0mr\u001b[0m\u001b[0;34m)\u001b[0m\u001b[0;34m\u001b[0m\u001b[0;34m\u001b[0m\u001b[0m\n\u001b[1;32m   2406\u001b[0m \u001b[0;34m\u001b[0m\u001b[0m\n",
            "\u001b[0;32m/usr/local/lib/python3.7/dist-packages/matplotlib/axes/_base.py\u001b[0m in \u001b[0;36madd_patch\u001b[0;34m(self, p)\u001b[0m\n\u001b[1;32m   1914\u001b[0m         \u001b[0mAdd\u001b[0m \u001b[0ma\u001b[0m\u001b[0;31m \u001b[0m\u001b[0;31m`\u001b[0m\u001b[0;34m~\u001b[0m\u001b[0;34m.\u001b[0m\u001b[0mPatch\u001b[0m\u001b[0;31m`\u001b[0m \u001b[0mto\u001b[0m \u001b[0mthe\u001b[0m \u001b[0maxes\u001b[0m\u001b[0;31m'\u001b[0m \u001b[0mpatches\u001b[0m\u001b[0;34m;\u001b[0m \u001b[0;32mreturn\u001b[0m \u001b[0mthe\u001b[0m \u001b[0mpatch\u001b[0m\u001b[0;34m.\u001b[0m\u001b[0;34m\u001b[0m\u001b[0;34m\u001b[0m\u001b[0m\n\u001b[1;32m   1915\u001b[0m         \"\"\"\n\u001b[0;32m-> 1916\u001b[0;31m         \u001b[0mself\u001b[0m\u001b[0;34m.\u001b[0m\u001b[0m_set_artist_props\u001b[0m\u001b[0;34m(\u001b[0m\u001b[0mp\u001b[0m\u001b[0;34m)\u001b[0m\u001b[0;34m\u001b[0m\u001b[0;34m\u001b[0m\u001b[0m\n\u001b[0m\u001b[1;32m   1917\u001b[0m         \u001b[0;32mif\u001b[0m \u001b[0mp\u001b[0m\u001b[0;34m.\u001b[0m\u001b[0mget_clip_path\u001b[0m\u001b[0;34m(\u001b[0m\u001b[0;34m)\u001b[0m \u001b[0;32mis\u001b[0m \u001b[0;32mNone\u001b[0m\u001b[0;34m:\u001b[0m\u001b[0;34m\u001b[0m\u001b[0;34m\u001b[0m\u001b[0m\n\u001b[1;32m   1918\u001b[0m             \u001b[0mp\u001b[0m\u001b[0;34m.\u001b[0m\u001b[0mset_clip_path\u001b[0m\u001b[0;34m(\u001b[0m\u001b[0mself\u001b[0m\u001b[0;34m.\u001b[0m\u001b[0mpatch\u001b[0m\u001b[0;34m)\u001b[0m\u001b[0;34m\u001b[0m\u001b[0;34m\u001b[0m\u001b[0m\n",
            "\u001b[0;32m/usr/local/lib/python3.7/dist-packages/matplotlib/axes/_base.py\u001b[0m in \u001b[0;36m_set_artist_props\u001b[0;34m(self, a)\u001b[0m\n\u001b[1;32m    907\u001b[0m             \u001b[0ma\u001b[0m\u001b[0;34m.\u001b[0m\u001b[0mset_transform\u001b[0m\u001b[0;34m(\u001b[0m\u001b[0mself\u001b[0m\u001b[0;34m.\u001b[0m\u001b[0mtransData\u001b[0m\u001b[0;34m)\u001b[0m\u001b[0;34m\u001b[0m\u001b[0;34m\u001b[0m\u001b[0m\n\u001b[1;32m    908\u001b[0m \u001b[0;34m\u001b[0m\u001b[0m\n\u001b[0;32m--> 909\u001b[0;31m         \u001b[0ma\u001b[0m\u001b[0;34m.\u001b[0m\u001b[0maxes\u001b[0m \u001b[0;34m=\u001b[0m \u001b[0mself\u001b[0m\u001b[0;34m\u001b[0m\u001b[0;34m\u001b[0m\u001b[0m\n\u001b[0m\u001b[1;32m    910\u001b[0m         \u001b[0;32mif\u001b[0m \u001b[0ma\u001b[0m\u001b[0;34m.\u001b[0m\u001b[0mmouseover\u001b[0m\u001b[0;34m:\u001b[0m\u001b[0;34m\u001b[0m\u001b[0;34m\u001b[0m\u001b[0m\n\u001b[1;32m    911\u001b[0m             \u001b[0mself\u001b[0m\u001b[0;34m.\u001b[0m\u001b[0m_mouseover_set\u001b[0m\u001b[0;34m.\u001b[0m\u001b[0madd\u001b[0m\u001b[0;34m(\u001b[0m\u001b[0ma\u001b[0m\u001b[0;34m)\u001b[0m\u001b[0;34m\u001b[0m\u001b[0;34m\u001b[0m\u001b[0m\n",
            "\u001b[0;32m/usr/local/lib/python3.7/dist-packages/matplotlib/artist.py\u001b[0m in \u001b[0;36maxes\u001b[0;34m(self, new_axes)\u001b[0m\n\u001b[1;32m    199\u001b[0m         if (new_axes is not None and self._axes is not None\n\u001b[1;32m    200\u001b[0m                 and new_axes != self._axes):\n\u001b[0;32m--> 201\u001b[0;31m             raise ValueError(\"Can not reset the axes.  You are probably \"\n\u001b[0m\u001b[1;32m    202\u001b[0m                              \u001b[0;34m\"trying to re-use an artist in more than one \"\u001b[0m\u001b[0;34m\u001b[0m\u001b[0;34m\u001b[0m\u001b[0m\n\u001b[1;32m    203\u001b[0m                              \"Axes which is not supported\")\n",
            "\u001b[0;31mValueError\u001b[0m: Can not reset the axes.  You are probably trying to re-use an artist in more than one Axes which is not supported"
          ]
        },
        {
          "output_type": "display_data",
          "data": {
            "text/plain": [
              "<Figure size 1440x720 with 0 Axes>"
            ]
          },
          "metadata": {
            "tags": []
          }
        },
        {
          "output_type": "display_data",
          "data": {
            "image/png": "[encoded data removed]",
            "text/plain": [
              "<Figure size 432x288 with 3 Axes>"
            ]
          },
          "metadata": {
            "tags": [],
            "needs_background": "light"
          }
        }
      ]
    },
    {
      "cell_type": "code",
      "metadata": {
        "id": "LFvCZlMdkLI0"
      },
      "source": [
        "\n"
      ],
      "execution_count": null,
      "outputs": []
    }
  ]
}