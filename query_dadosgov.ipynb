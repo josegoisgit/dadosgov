{
  "nbformat": 4,
  "nbformat_minor": 0,
  "metadata": {
    "colab": {
      "name": "query_dadosgov.ipynb",
      "provenance": [],
      "collapsed_sections": [
        "UrOkZJCFx3OT",
        "V4IG3zlMn8tV",
        "D0mCIUWOoLjL",
        "AbLc4GnFx5Dq",
        "CWc14YGDoaGk",
        "4flb2Nv1opzk",
        "uzUmdjFgp3_7",
        "7Xh_L4Vnp8Cr",
        "5QAe2IePqBA7",
        "LmOKgNVfqL_D",
        "39PWBSKmqwaz",
        "I1IjZx5eq0rU",
        "0CZwsdnWyQeS",
        "3J3ny2yXrsDV",
        "xON07H_IrPOM",
        "NLug4b6G_anI"
      ],
      "toc_visible": true,
      "authorship_tag": "ABX9TyPJ7a9W1i9LtAFmEA0oUyT0",
      "include_colab_link": true
    },
    "kernelspec": {
      "name": "python3",
      "display_name": "Python 3"
    },
    "language_info": {
      "name": "python"
    },
    "widgets": {
      "application/vnd.jupyter.widget-state+json": {
        "da9293b039514b4eaa533dbad3b37aa2": {
          "model_module": "@jupyter-widgets/controls",
          "model_name": "VBoxModel",
          "state": {
            "_view_name": "VBoxView",
            "_dom_classes": [],
            "_model_name": "VBoxModel",
            "_view_module": "@jupyter-widgets/controls",
            "_model_module_version": "1.5.0",
            "_view_count": null,
            "_view_module_version": "1.5.0",
            "box_style": "",
            "layout": "IPY_MODEL_577d825e242047a4bdc3ff2faf858ab3",
            "_model_module": "@jupyter-widgets/controls",
            "children": [
              "IPY_MODEL_944ea5f7ca184a219b98956f16fb0b8c"
            ]
          }
        },
        "577d825e242047a4bdc3ff2faf858ab3": {
          "model_module": "@jupyter-widgets/base",
          "model_name": "LayoutModel",
          "state": {
            "_view_name": "LayoutView",
            "grid_template_rows": null,
            "right": null,
            "justify_content": null,
            "_view_module": "@jupyter-widgets/base",
            "overflow": null,
            "_model_module_version": "1.2.0",
            "_view_count": null,
            "flex_flow": null,
            "width": null,
            "min_width": null,
            "border": null,
            "align_items": null,
            "bottom": null,
            "_model_module": "@jupyter-widgets/base",
            "top": null,
            "grid_column": null,
            "overflow_y": null,
            "overflow_x": null,
            "grid_auto_flow": null,
            "grid_area": null,
            "grid_template_columns": null,
            "flex": null,
            "_model_name": "LayoutModel",
            "justify_items": null,
            "grid_row": null,
            "max_height": null,
            "align_content": null,
            "visibility": null,
            "align_self": null,
            "height": null,
            "min_height": null,
            "padding": null,
            "grid_auto_rows": null,
            "grid_gap": null,
            "max_width": null,
            "order": null,
            "_view_module_version": "1.2.0",
            "grid_template_areas": null,
            "object_position": null,
            "object_fit": null,
            "grid_auto_columns": null,
            "margin": null,
            "display": null,
            "left": null
          }
        },
        "944ea5f7ca184a219b98956f16fb0b8c": {
          "model_module": "@jupyter-widgets/controls",
          "model_name": "HBoxModel",
          "state": {
            "_view_name": "HBoxView",
            "_dom_classes": [],
            "_model_name": "HBoxModel",
            "_view_module": "@jupyter-widgets/controls",
            "_model_module_version": "1.5.0",
            "_view_count": null,
            "_view_module_version": "1.5.0",
            "box_style": "",
            "layout": "IPY_MODEL_26635fef73a641e78c1d259679e48daf",
            "_model_module": "@jupyter-widgets/controls",
            "children": [
              "IPY_MODEL_8cb0e0553a3848738a98759f9c4d2851",
              "IPY_MODEL_af36e79a4490423bb88bf4f8918f691e"
            ]
          }
        },
        "26635fef73a641e78c1d259679e48daf": {
          "model_module": "@jupyter-widgets/base",
          "model_name": "LayoutModel",
          "state": {
            "_view_name": "LayoutView",
            "grid_template_rows": null,
            "right": null,
            "justify_content": null,
            "_view_module": "@jupyter-widgets/base",
            "overflow": null,
            "_model_module_version": "1.2.0",
            "_view_count": null,
            "flex_flow": null,
            "width": null,
            "min_width": null,
            "border": null,
            "align_items": null,
            "bottom": null,
            "_model_module": "@jupyter-widgets/base",
            "top": null,
            "grid_column": null,
            "overflow_y": null,
            "overflow_x": null,
            "grid_auto_flow": null,
            "grid_area": null,
            "grid_template_columns": null,
            "flex": null,
            "_model_name": "LayoutModel",
            "justify_items": null,
            "grid_row": null,
            "max_height": null,
            "align_content": null,
            "visibility": null,
            "align_self": null,
            "height": null,
            "min_height": null,
            "padding": null,
            "grid_auto_rows": null,
            "grid_gap": null,
            "max_width": null,
            "order": null,
            "_view_module_version": "1.2.0",
            "grid_template_areas": null,
            "object_position": null,
            "object_fit": null,
            "grid_auto_columns": null,
            "margin": null,
            "display": null,
            "left": null
          }
        },
        "8cb0e0553a3848738a98759f9c4d2851": {
          "model_module": "@jupyter-widgets/controls",
          "model_name": "LabelModel",
          "state": {
            "_view_name": "LabelView",
            "style": "IPY_MODEL_b87df06f011c4389a4207a9c1e4d15f0",
            "_dom_classes": [],
            "description": "",
            "_model_name": "LabelModel",
            "placeholder": "​",
            "_view_module": "@jupyter-widgets/controls",
            "_model_module_version": "1.5.0",
            "value": "Query",
            "_view_count": null,
            "_view_module_version": "1.5.0",
            "description_tooltip": null,
            "_model_module": "@jupyter-widgets/controls",
            "layout": "IPY_MODEL_8dd9b2f433764fa3820c3d124c08681a"
          }
        },
        "af36e79a4490423bb88bf4f8918f691e": {
          "model_module": "@jupyter-widgets/controls",
          "model_name": "TextModel",
          "state": {
            "_view_name": "TextView",
            "style": "IPY_MODEL_1e9d1c7699ec45a7872ac3d5fa719f4b",
            "_dom_classes": [],
            "description": "",
            "_model_name": "TextModel",
            "placeholder": "​",
            "_view_module": "@jupyter-widgets/controls",
            "_model_module_version": "1.5.0",
            "value": "UFRN discentes",
            "_view_count": null,
            "disabled": false,
            "_view_module_version": "1.5.0",
            "continuous_update": true,
            "description_tooltip": null,
            "_model_module": "@jupyter-widgets/controls",
            "layout": "IPY_MODEL_a7fc91206414438b8ba8f84e4b4e2cef"
          }
        },
        "b87df06f011c4389a4207a9c1e4d15f0": {
          "model_module": "@jupyter-widgets/controls",
          "model_name": "DescriptionStyleModel",
          "state": {
            "_view_name": "StyleView",
            "_model_name": "DescriptionStyleModel",
            "description_width": "",
            "_view_module": "@jupyter-widgets/base",
            "_model_module_version": "1.5.0",
            "_view_count": null,
            "_view_module_version": "1.2.0",
            "_model_module": "@jupyter-widgets/controls"
          }
        },
        "8dd9b2f433764fa3820c3d124c08681a": {
          "model_module": "@jupyter-widgets/base",
          "model_name": "LayoutModel",
          "state": {
            "_view_name": "LayoutView",
            "grid_template_rows": null,
            "right": null,
            "justify_content": null,
            "_view_module": "@jupyter-widgets/base",
            "overflow": null,
            "_model_module_version": "1.2.0",
            "_view_count": null,
            "flex_flow": null,
            "width": null,
            "min_width": null,
            "border": null,
            "align_items": null,
            "bottom": null,
            "_model_module": "@jupyter-widgets/base",
            "top": null,
            "grid_column": null,
            "overflow_y": null,
            "overflow_x": null,
            "grid_auto_flow": null,
            "grid_area": null,
            "grid_template_columns": null,
            "flex": null,
            "_model_name": "LayoutModel",
            "justify_items": null,
            "grid_row": null,
            "max_height": null,
            "align_content": null,
            "visibility": null,
            "align_self": null,
            "height": null,
            "min_height": null,
            "padding": null,
            "grid_auto_rows": null,
            "grid_gap": null,
            "max_width": null,
            "order": null,
            "_view_module_version": "1.2.0",
            "grid_template_areas": null,
            "object_position": null,
            "object_fit": null,
            "grid_auto_columns": null,
            "margin": null,
            "display": null,
            "left": null
          }
        },
        "1e9d1c7699ec45a7872ac3d5fa719f4b": {
          "model_module": "@jupyter-widgets/controls",
          "model_name": "DescriptionStyleModel",
          "state": {
            "_view_name": "StyleView",
            "_model_name": "DescriptionStyleModel",
            "description_width": "",
            "_view_module": "@jupyter-widgets/base",
            "_model_module_version": "1.5.0",
            "_view_count": null,
            "_view_module_version": "1.2.0",
            "_model_module": "@jupyter-widgets/controls"
          }
        },
        "a7fc91206414438b8ba8f84e4b4e2cef": {
          "model_module": "@jupyter-widgets/base",
          "model_name": "LayoutModel",
          "state": {
            "_view_name": "LayoutView",
            "grid_template_rows": null,
            "right": null,
            "justify_content": null,
            "_view_module": "@jupyter-widgets/base",
            "overflow": null,
            "_model_module_version": "1.2.0",
            "_view_count": null,
            "flex_flow": null,
            "width": null,
            "min_width": null,
            "border": null,
            "align_items": null,
            "bottom": null,
            "_model_module": "@jupyter-widgets/base",
            "top": null,
            "grid_column": null,
            "overflow_y": null,
            "overflow_x": null,
            "grid_auto_flow": null,
            "grid_area": null,
            "grid_template_columns": null,
            "flex": null,
            "_model_name": "LayoutModel",
            "justify_items": null,
            "grid_row": null,
            "max_height": null,
            "align_content": null,
            "visibility": null,
            "align_self": null,
            "height": null,
            "min_height": null,
            "padding": null,
            "grid_auto_rows": null,
            "grid_gap": null,
            "max_width": null,
            "order": null,
            "_view_module_version": "1.2.0",
            "grid_template_areas": null,
            "object_position": null,
            "object_fit": null,
            "grid_auto_columns": null,
            "margin": null,
            "display": null,
            "left": null
          }
        }
      }
    }
  },
  "cells": [
    {
      "cell_type": "markdown",
      "metadata": {
        "id": "view-in-github",
        "colab_type": "text"
      },
      "source": [
        "<a href=\"https://colab.research.google.com/github/josegoisgit/dadosgov/blob/main/query_dadosgov.ipynb\" target=\"_parent\"><img src=\"https://colab.research.google.com/assets/colab-badge.svg\" alt=\"Open In Colab\"/></a>"
      ]
    },
    {
      "cell_type": "markdown",
      "metadata": {
        "id": "UrOkZJCFx3OT"
      },
      "source": [
        "# Módulos e pacotes"
      ]
    },
    {
      "cell_type": "markdown",
      "metadata": {
        "id": "V4IG3zlMn8tV"
      },
      "source": [
        "## Instalação"
      ]
    },
    {
      "cell_type": "code",
      "metadata": {
        "id": "-2_riDgSq_w0",
        "colab": {
          "base_uri": "https://localhost:8080/"
        },
        "outputId": "0f76302c-5682-4ce2-ccb7-a84bd665ba9c"
      },
      "source": [
        "!pip install unidecode"
      ],
      "execution_count": 39,
      "outputs": [
        {
          "output_type": "stream",
          "text": [
            "Requirement already satisfied: unidecode in /usr/local/lib/python3.7/dist-packages (1.2.0)\n"
          ],
          "name": "stdout"
        }
      ]
    },
    {
      "cell_type": "markdown",
      "metadata": {
        "id": "D0mCIUWOoLjL"
      },
      "source": [
        "## Importação"
      ]
    },
    {
      "cell_type": "code",
      "metadata": {
        "id": "9YGE8e28pa8e"
      },
      "source": [
        "import re\n",
        "import requests\n",
        "import pandas\n",
        "\n",
        "import unidecode\n",
        "\n",
        "\n",
        "from itertools import chain\n",
        "from lxml.etree import HTML\n",
        "\n",
        "import IPython\n",
        "import ipywidgets\n",
        "import google.colab"
      ],
      "execution_count": 40,
      "outputs": []
    },
    {
      "cell_type": "markdown",
      "metadata": {
        "id": "AbLc4GnFx5Dq"
      },
      "source": [
        "# Funções"
      ]
    },
    {
      "cell_type": "markdown",
      "metadata": {
        "id": "CWc14YGDoaGk"
      },
      "source": [
        "## auxiliares"
      ]
    },
    {
      "cell_type": "code",
      "metadata": {
        "id": "frgu1nD3qCxc"
      },
      "source": [
        "\n",
        "strip = lambda X: ('\\n'.join(set(x.strip() for x in X if x.strip()))).strip()\n",
        "plain = lambda i: list(chain.from_iterable(i))\n"
      ],
      "execution_count": 41,
      "outputs": []
    },
    {
      "cell_type": "markdown",
      "metadata": {
        "id": "4flb2Nv1opzk"
      },
      "source": [
        "## get_url_html"
      ]
    },
    {
      "cell_type": "code",
      "metadata": {
        "id": "eJhufngCqCQM"
      },
      "source": [
        "def get_url_html(url):\n",
        "    requested         = requests.request('GET', url)\n",
        "    html              = HTML(requested.text)    \n",
        "    html.nsmap['url'] = url\n",
        "\n",
        "    return html\n"
      ],
      "execution_count": 42,
      "outputs": []
    },
    {
      "cell_type": "code",
      "metadata": {
        "colab": {
          "base_uri": "https://localhost:8080/"
        },
        "id": "BFWCbHgjov01",
        "outputId": "82fd4ca2-49eb-4f99-b16a-5163d5309658"
      },
      "source": [
        "#Exemplo:\n",
        "html = get_url_html('https://docs.python.org')\n",
        "html.xpath('.//a/@href')"
      ],
      "execution_count": 43,
      "outputs": [
        {
          "output_type": "execute_result",
          "data": {
            "text/plain": [
              "['genindex.html',\n",
              " 'py-modindex.html',\n",
              " 'https://www.python.org/',\n",
              " '#',\n",
              " 'whatsnew/3.9.html',\n",
              " 'whatsnew/index.html',\n",
              " 'tutorial/index.html',\n",
              " 'library/index.html',\n",
              " 'reference/index.html',\n",
              " 'using/index.html',\n",
              " 'howto/index.html',\n",
              " 'installing/index.html',\n",
              " 'distributing/index.html',\n",
              " 'extending/index.html',\n",
              " 'c-api/index.html',\n",
              " 'faq/index.html',\n",
              " 'py-modindex.html',\n",
              " 'genindex.html',\n",
              " 'glossary.html',\n",
              " 'search.html',\n",
              " 'contents.html',\n",
              " 'bugs.html',\n",
              " 'https://devguide.python.org/docquality/#helping-with-documentation',\n",
              " 'about.html',\n",
              " 'license.html',\n",
              " 'copyright.html',\n",
              " 'download.html',\n",
              " 'https://docs.python.org/3.10/',\n",
              " 'https://docs.python.org/3.9/',\n",
              " 'https://docs.python.org/3.8/',\n",
              " 'https://docs.python.org/3.7/',\n",
              " 'https://docs.python.org/3.6/',\n",
              " 'https://docs.python.org/3.5/',\n",
              " 'https://docs.python.org/2.7/',\n",
              " 'https://www.python.org/doc/versions/',\n",
              " 'https://www.python.org/dev/peps/',\n",
              " 'https://wiki.python.org/moin/BeginnersGuide',\n",
              " 'https://wiki.python.org/moin/PythonBooks',\n",
              " 'https://www.python.org/doc/av/',\n",
              " 'https://devguide.python.org/',\n",
              " 'genindex.html',\n",
              " 'py-modindex.html',\n",
              " 'https://www.python.org/',\n",
              " '#',\n",
              " 'copyright.html',\n",
              " 'https://www.python.org/psf/donations/',\n",
              " 'https://docs.python.org/3/bugs.html',\n",
              " 'https://www.sphinx-doc.org/']"
            ]
          },
          "metadata": {
            "tags": []
          },
          "execution_count": 43
        }
      ]
    },
    {
      "cell_type": "markdown",
      "metadata": {
        "id": "FGczy-3ypgTT"
      },
      "source": [
        "## xpath"
      ]
    },
    {
      "cell_type": "markdown",
      "metadata": {
        "id": "XpDHRaKhpwu7"
      },
      "source": [
        "### contains_clause"
      ]
    },
    {
      "cell_type": "code",
      "metadata": {
        "id": "cZQ8-Om_qBtE"
      },
      "source": [
        "def contains_clause(dic, operator='OR'):\n",
        "    predicados = [\"contains(@{k},'{v}')\".format(k=k,v=v) for k,v in dic.items()]\n",
        "\n",
        "    return operator.join(predicados)\n"
      ],
      "execution_count": 44,
      "outputs": []
    },
    {
      "cell_type": "markdown",
      "metadata": {
        "id": "uzUmdjFgp3_7"
      },
      "source": [
        "### compose_xpath"
      ]
    },
    {
      "cell_type": "code",
      "metadata": {
        "id": "AIU4h78ZqBEc"
      },
      "source": [
        "\n",
        "def compose_xpath(element,attribute,content):\n",
        "    dictionary = contains_clause({attribute:content})\n",
        "\n",
        "    str_dict = {\n",
        "        'element' : element,\n",
        "        'dictionary' : dictionary \n",
        "    }\n",
        "\n",
        "    return \"{element}[{dictionary}]\".format(**str_dict)\n"
      ],
      "execution_count": 45,
      "outputs": []
    },
    {
      "cell_type": "markdown",
      "metadata": {
        "id": "7Xh_L4Vnp8Cr"
      },
      "source": [
        "### get_xnodes"
      ]
    },
    {
      "cell_type": "code",
      "metadata": {
        "id": "NdaFErYzp-L9"
      },
      "source": [
        "\n",
        "def get_xnodes(html, element, attribute='class', content='', complement=''):\n",
        "    if complement:\n",
        "        xnode = html.xpath(compose_xpath(element,attribute,content) + complement)\n",
        "    else:\n",
        "        xnode = html.xpath(compose_xpath(element,attribute,content) )\n",
        "    return xnode if xnode else None\n"
      ],
      "execution_count": 46,
      "outputs": []
    },
    {
      "cell_type": "markdown",
      "metadata": {
        "id": "5QAe2IePqBA7"
      },
      "source": [
        "### get_xnode"
      ]
    },
    {
      "cell_type": "code",
      "metadata": {
        "id": "Mje8LSF0p9qc"
      },
      "source": [
        "\n",
        "def get_xnode(html, element, attribute='class', content='', complement=''):\n",
        "    xnodes = get_xnodes(html, element, attribute, content, complement)\n",
        "    return xnodes[0] if xnodes else None\n"
      ],
      "execution_count": 47,
      "outputs": []
    },
    {
      "cell_type": "markdown",
      "metadata": {
        "id": "KT5FdFGGyjdK"
      },
      "source": [
        "## datasets"
      ]
    },
    {
      "cell_type": "markdown",
      "metadata": {
        "id": "BgH8HhVKqHdr"
      },
      "source": [
        "### get_html_page_count"
      ]
    },
    {
      "cell_type": "code",
      "metadata": {
        "id": "JXuWP7cbp9R0"
      },
      "source": [
        "\n",
        "def get_html_page_count(html):\n",
        "    xnode = get_xnode( html, '//div', 'class', 'pagination' ) \n",
        "    \n",
        "    if not xnode:\n",
        "        return 1\n",
        "    \n",
        "    pdiv = xnode.xpath( '//li/a/text()' )\n",
        "    \n",
        "    def pmax(pdiv):\n",
        "        V = [1]\n",
        "        for p in pdiv:\n",
        "            try:\n",
        "                v = int(p)\n",
        "                V.append(v)       \n",
        "            except:\n",
        "                continue\n",
        "        return max(V)    \n",
        "    return pmax(pdiv)\n"
      ],
      "execution_count": 48,
      "outputs": []
    },
    {
      "cell_type": "markdown",
      "metadata": {
        "id": "gyCmBNOyqKxL"
      },
      "source": [
        "### get_query_page_count"
      ]
    },
    {
      "cell_type": "code",
      "metadata": {
        "id": "B_81PAJRp8GF"
      },
      "source": [
        "\n",
        "def get_query_page_count(hyperlink,query):\n",
        "    html = get_url_html( hyperlink + '/dataset?q=%s' % query)\n",
        "    return get_html_page_count( html )\n"
      ],
      "execution_count": 49,
      "outputs": []
    },
    {
      "cell_type": "markdown",
      "metadata": {
        "id": "LmOKgNVfqL_D"
      },
      "source": [
        "### get_html_items_href\n",
        "\n",
        "\n",
        "\n",
        "\n"
      ]
    },
    {
      "cell_type": "code",
      "metadata": {
        "id": "rYf9ogE9p7V0"
      },
      "source": [
        "\n",
        "def get_html_items_href(html):\n",
        "    xnodes = get_xnodes( html, './/h3', 'class', 'dataset-heading' , '//a/@href' ) \n",
        "    return xnodes\n"
      ],
      "execution_count": 50,
      "outputs": []
    },
    {
      "cell_type": "markdown",
      "metadata": {
        "id": "A1JwakD7qrsj"
      },
      "source": [
        "### get_html_dataset"
      ]
    },
    {
      "cell_type": "code",
      "metadata": {
        "id": "tSe2-_Slp67V"
      },
      "source": [
        "\n",
        "def get_html_dataset(html):    \n",
        "    article_html = get_xnode(html , '//article')\n",
        "    \n",
        "    dataset = dict()\n",
        "    \n",
        "    dataset['organization'] = ' '.join([x.strip() for x in get_xnodes(html, './/section','class','module-content','//h1//text()')])\n",
        "    dataset['title']        = strip( get_xnodes( article_html , 'div/h1/text()') ) \n",
        "    dataset['key']          = re.sub('[^\\w]','_',unidecode.unidecode(dataset['title']).lower())\n",
        "    z = get_xnodes(article_html,'//div','class','notes','//p/text()')\n",
        "    dataset['text'] = strip(z) if z else ''\n",
        "    dataset['url']          = get_xnodes( article_html, '//ol', 'class', 'breadcrumb', '//li/a/@href')\n",
        "\n",
        "    return dataset\n"
      ],
      "execution_count": 51,
      "outputs": []
    },
    {
      "cell_type": "markdown",
      "metadata": {
        "id": "39PWBSKmqwaz"
      },
      "source": [
        "### get_html_dataset_license"
      ]
    },
    {
      "cell_type": "code",
      "metadata": {
        "id": "E-HcpP3ip6aV"
      },
      "source": [
        "\n",
        "def get_html_dataset_license(html,hyperlink='https://dados.gov.br'):\n",
        "    xnode = get_xnode( html, '//section','class','license') \n",
        "\n",
        "    if not xnode: return dict(title='NA',href='',text='',logo='')\n",
        "\n",
        "    license_title = xnode.xpath( './/@title' )\n",
        "    license_href  = xnode.xpath( './/@href')\n",
        "    license_text  = [ text.strip() for text in xnode.xpath( './/text()' ) if text.strip() ]\n",
        "    license_logo  = [ hyperlink + p for p in xnode.xpath( './/img//@src' ) ]\n",
        "    \n",
        "    license_dict          = dict()\n",
        "    license_dict['title'] = license_title\n",
        "    license_dict['href']  = license_href\n",
        "    license_dict['text']  = license_text\n",
        "    license_dict['logo']  = license_logo\n",
        "\n",
        "    return license_dict\n"
      ],
      "execution_count": 52,
      "outputs": []
    },
    {
      "cell_type": "markdown",
      "metadata": {
        "id": "I1IjZx5eq0rU"
      },
      "source": [
        "### get_html_dataset_resources_href"
      ]
    },
    {
      "cell_type": "code",
      "metadata": {
        "id": "d-fGhsAop5JU"
      },
      "source": [
        "\n",
        "def get_html_dataset_resources_href(html):\n",
        "    return get_xnodes(html,'//a','class','heading','/@href')\n"
      ],
      "execution_count": 53,
      "outputs": []
    },
    {
      "cell_type": "markdown",
      "metadata": {
        "id": "0CZwsdnWyQeS"
      },
      "source": [
        "### get_html_resource_info\n",
        "\n",
        "\n",
        "\n"
      ]
    },
    {
      "cell_type": "code",
      "metadata": {
        "id": "5clS2Cq7p5uF"
      },
      "source": [
        "\n",
        "def get_html_resource_info(html):\n",
        "    \n",
        "    ths     = get_xnodes( html, '//table', 'class', 'table-condensed','/tbody//th/text()')\n",
        "    headers = [re.sub('[^\\w]','_',unidecode.unidecode(th.lower())) for th in ths]\n",
        "    tds     = get_xnodes( html, '//table', 'class', 'table-condensed','/tbody//td')\n",
        "    data    = [strip(get_xnodes(td, './/text()')).strip() for td in tds]\n",
        "\n",
        "    info_dict        = {h:d for h,d in zip(headers,data)}\n",
        "    info_dict['url'] = get_xnode( html, '//a','class','resource-url-analytic','/@href')    \n",
        "\n",
        "    return info_dict"
      ],
      "execution_count": 54,
      "outputs": []
    },
    {
      "cell_type": "code",
      "metadata": {
        "id": "ZBoZDn-4ybs7"
      },
      "source": [
        ""
      ],
      "execution_count": 54,
      "outputs": []
    },
    {
      "cell_type": "markdown",
      "metadata": {
        "id": "mKdqeEW-y7hq"
      },
      "source": [
        "### auxiliares"
      ]
    },
    {
      "cell_type": "code",
      "metadata": {
        "id": "j6PWvTCpp3F9"
      },
      "source": [
        "\n",
        "def __dir_repr__(variable=dict,pattern=''):\n",
        "    dir_type_dict = dict()\n",
        "    \n",
        "    for attribute in dir(variable):\n",
        "        if not re.findall(pattern, attribute): continue\n",
        "        value = getattr(variable,attribute)\n",
        "        typename = type(value).__name__\n",
        "        \n",
        "        if typename not in dir_type_dict:\n",
        "            dir_type_dict[typename] = [(attribute,value)]\n",
        "        else:\n",
        "            dir_type_dict[typename].append((attribute,value))\n",
        "        \n",
        "    for key, items in dir_type_dict.items():\n",
        "        print(key)\n",
        "        print()\n",
        "        for attribute,value in items:\n",
        "            print('\\t',attribute)\n",
        "        print()\n",
        "        #print('{: <30s}{:<20s}'.format(typename, attribute))\n"
      ],
      "execution_count": 55,
      "outputs": []
    },
    {
      "cell_type": "code",
      "metadata": {
        "id": "aKQwCMedp_T1"
      },
      "source": [
        "\n",
        "def show_url( url='https://dados.gov.br'):\n",
        "    dadosgov_frame = IPython.display.IFrame(src=url,width='100%',height='500px')\n",
        "    display(dadosgov_frame)\n",
        "    return\n"
      ],
      "execution_count": 56,
      "outputs": []
    },
    {
      "cell_type": "code",
      "metadata": {
        "id": "_tGdDMDPqADM"
      },
      "source": [
        "\n",
        "def query_site( query=''):\n",
        "    query = query.lower()\n",
        "    query = unidecode.unidecode(query)\n",
        "    query = re.sub('[^a-z\\s\\'\\\"]','',query)\n",
        "    query = re.sub('\\s+','+',query)\n",
        "    \n",
        "    url = 'https://dados.gov.br/dataset?q=%s' % query\n",
        "    dadosgov_frame = IPython.display.IFrame(src=url,width='100%',height='500px')\n",
        "    display(dadosgov_frame)\n",
        "    return dadosgov_frame\n",
        "\n"
      ],
      "execution_count": 57,
      "outputs": []
    },
    {
      "cell_type": "code",
      "metadata": {
        "id": "v8Xus5wqwaI7"
      },
      "source": [
        "\n",
        "get_query_page_url   = lambda h, q, p : h + '/dataset' + '?q=' + q + '&page=' + str(p)\n",
        "get_query_page_html  = lambda h, q, p : get_url_html( get_query_page_url( h, q, p ) )\n",
        "get_query_page_items = lambda h, q, p : get_html_items_href( get_query_page_html( h, q, p ) )\n",
        "get_query_items_href = lambda h, q    : plain([ get_query_page_items( h, q, p+1 ) for p in range( get_query_page_count( h, q ) ) ])\n"
      ],
      "execution_count": 58,
      "outputs": []
    },
    {
      "cell_type": "markdown",
      "metadata": {
        "id": "4gtGqwUlre5U"
      },
      "source": [
        "# Leitura"
      ]
    },
    {
      "cell_type": "markdown",
      "metadata": {
        "id": "3J3ny2yXrsDV"
      },
      "source": [
        "## argumentos"
      ]
    },
    {
      "cell_type": "code",
      "metadata": {
        "id": "9y4fbVLktdJN"
      },
      "source": [
        "query     = 'UFRN discentes'\n",
        "hyperlink = 'https://dados.gov.br'"
      ],
      "execution_count": 59,
      "outputs": []
    },
    {
      "cell_type": "code",
      "metadata": {
        "id": "vIc1W-PHryA8"
      },
      "source": [
        "qri_label = ipywidgets.widgets.Label('Query')\n",
        "qri_text  = ipywidgets.widgets.Text(query)"
      ],
      "execution_count": 60,
      "outputs": []
    },
    {
      "cell_type": "code",
      "metadata": {
        "id": "HHdEygemtuyM"
      },
      "source": [
        "qri_box = ipywidgets.widgets.HBox([qri_label, qri_text])"
      ],
      "execution_count": 61,
      "outputs": []
    },
    {
      "cell_type": "code",
      "metadata": {
        "id": "VhWkNldJsO4s",
        "colab": {
          "base_uri": "https://localhost:8080/",
          "height": 0,
          "referenced_widgets": [
            "da9293b039514b4eaa533dbad3b37aa2",
            "577d825e242047a4bdc3ff2faf858ab3",
            "944ea5f7ca184a219b98956f16fb0b8c",
            "26635fef73a641e78c1d259679e48daf",
            "8cb0e0553a3848738a98759f9c4d2851",
            "af36e79a4490423bb88bf4f8918f691e",
            "b87df06f011c4389a4207a9c1e4d15f0",
            "8dd9b2f433764fa3820c3d124c08681a",
            "1e9d1c7699ec45a7872ac3d5fa719f4b",
            "a7fc91206414438b8ba8f84e4b4e2cef"
          ]
        },
        "outputId": "981eeb55-ee8f-4aa6-c1fe-c2435b374c9c"
      },
      "source": [
        "display(ipywidgets.widgets.VBox([qri_box]))"
      ],
      "execution_count": 62,
      "outputs": [
        {
          "output_type": "display_data",
          "data": {
            "application/vnd.jupyter.widget-view+json": {
              "model_id": "da9293b039514b4eaa533dbad3b37aa2",
              "version_minor": 0,
              "version_major": 2
            },
            "text/plain": [
              "VBox(children=(HBox(children=(Label(value='Query'), Text(value='UFRN discentes'))),))"
            ]
          },
          "metadata": {
            "tags": []
          }
        }
      ]
    },
    {
      "cell_type": "code",
      "metadata": {
        "id": "bvzvt5E_wEKl"
      },
      "source": [
        "query     = qri_text.value"
      ],
      "execution_count": 63,
      "outputs": []
    },
    {
      "cell_type": "code",
      "metadata": {
        "id": "huOvlIK65hSw"
      },
      "source": [
        "query_url = get_query_page_url(hyperlink,query,1)"
      ],
      "execution_count": 64,
      "outputs": []
    },
    {
      "cell_type": "code",
      "metadata": {
        "id": "POFmG501zWdK",
        "colab": {
          "base_uri": "https://localhost:8080/",
          "height": 0
        },
        "outputId": "def213e1-ea41-470c-b779-3f9454184737"
      },
      "source": [
        "show_url(query_url)"
      ],
      "execution_count": 65,
      "outputs": [
        {
          "output_type": "display_data",
          "data": {
            "text/html": [
              "\n",
              "        <iframe\n",
              "            width=\"100%\"\n",
              "            height=\"500px\"\n",
              "            src=\"https://dados.gov.br/dataset?q=UFRN discentes&page=1\"\n",
              "            frameborder=\"0\"\n",
              "            allowfullscreen\n",
              "        ></iframe>\n",
              "        "
            ],
            "text/plain": [
              "<IPython.lib.display.IFrame at 0x7f19d8f5b310>"
            ]
          },
          "metadata": {
            "tags": []
          }
        }
      ]
    },
    {
      "cell_type": "markdown",
      "metadata": {
        "id": "xON07H_IrPOM"
      },
      "source": [
        "## visualização"
      ]
    },
    {
      "cell_type": "code",
      "metadata": {
        "id": "WvoF60n_-YRg"
      },
      "source": [
        ""
      ],
      "execution_count": 65,
      "outputs": []
    },
    {
      "cell_type": "code",
      "metadata": {
        "id": "kk04Fshz-a8w"
      },
      "source": [
        "get_xnode( html, './/class','pagination')"
      ],
      "execution_count": 66,
      "outputs": []
    },
    {
      "cell_type": "code",
      "metadata": {
        "id": "s-r8DtUz-wKZ"
      },
      "source": [
        "resources = []\n",
        "items_href = get_query_items_href(hyperlink,query)"
      ],
      "execution_count": 67,
      "outputs": []
    },
    {
      "cell_type": "code",
      "metadata": {
        "id": "55V8Pwrqrqnc",
        "colab": {
          "base_uri": "https://localhost:8080/",
          "height": 0
        },
        "outputId": "9ecaa02e-ac5b-4d93-dccb-10135d5d9d23"
      },
      "source": [
        "ih = 0\n",
        "\n",
        "print(hyperlink + items_href[ih])\n",
        "show_url(hyperlink + items_href[ih])"
      ],
      "execution_count": 68,
      "outputs": [
        {
          "output_type": "stream",
          "text": [
            "https://dados.gov.br/dataset/discentes\n"
          ],
          "name": "stdout"
        },
        {
          "output_type": "display_data",
          "data": {
            "text/html": [
              "\n",
              "        <iframe\n",
              "            width=\"100%\"\n",
              "            height=\"500px\"\n",
              "            src=\"https://dados.gov.br/dataset/discentes\"\n",
              "            frameborder=\"0\"\n",
              "            allowfullscreen\n",
              "        ></iframe>\n",
              "        "
            ],
            "text/plain": [
              "<IPython.lib.display.IFrame at 0x7f19d8f5b550>"
            ]
          },
          "metadata": {
            "tags": []
          }
        }
      ]
    },
    {
      "cell_type": "markdown",
      "metadata": {
        "id": "NLug4b6G_anI"
      },
      "source": [
        "## acesso"
      ]
    },
    {
      "cell_type": "code",
      "metadata": {
        "id": "MUggTpxR_Gap"
      },
      "source": [
        "import time"
      ],
      "execution_count": 69,
      "outputs": []
    },
    {
      "cell_type": "code",
      "metadata": {
        "id": "-Y6YqmrGqirM",
        "colab": {
          "base_uri": "https://localhost:8080/"
        },
        "outputId": "af6de9ad-22f5-45aa-bcf3-215008627b54"
      },
      "source": [
        "import pandas\n",
        "\n",
        "for item_href in items_href:\n",
        "    item_url = hyperlink + item_href\n",
        "\n",
        "    print('\\n\\n\\t', item_url, end='\\n\\n')\n",
        "    dataset_html   = get_url_html( item_url )\n",
        "\n",
        "    dataset        = get_html_dataset( dataset_html )\n",
        "    license        = get_html_dataset_license ( dataset_html )\n",
        "    resources_href = get_html_dataset_resources_href( dataset_html )\n",
        "\n",
        "    for resource_href in resources_href:\n",
        "        resource_url  = hyperlink + resource_href \n",
        "\n",
        "        resource_html = get_url_html( resource_url )  \n",
        "        resource_dict = get_html_resource_info(resource_html)\n",
        "\n",
        "        a = 'http://landpage-h.cgu.gov.br/dadosabertos/index.php?url='\n",
        "\n",
        "        if resource_dict['url']:\n",
        "            resource_dict['url_out'] = resource_dict['url'].replace(a,'')\n",
        "        else:\n",
        "            resource_dict['url_out'] = None\n",
        "        resource_dict['dataset'] = dataset.copy()\n",
        "        resource_dict['license'] = license\n",
        "\n",
        "        resource_dict['havested'] = time.ctime()\n",
        "        \n",
        "        print('\\t\\t',resource_dict['url_out'], end='\\n')\n",
        "\n",
        "        resources.append( resource_dict )\n",
        "    \n"
      ],
      "execution_count": 70,
      "outputs": [
        {
          "output_type": "stream",
          "text": [
            "\n",
            "\n",
            "\t https://dados.gov.br/dataset/discentes\n",
            "\n"
          ],
          "name": "stdout"
        },
        {
          "output_type": "stream",
          "text": [
            "/usr/local/lib/python3.7/dist-packages/ipykernel_launcher.py:5: FutureWarning: The behavior of this method will change in future versions. Use specific 'len(elem)' or 'elem is not None' test instead.\n",
            "  \"\"\"\n"
          ],
          "name": "stderr"
        },
        {
          "output_type": "stream",
          "text": [
            "\t\t http://dados.ufrn.br/dataset/554c2d41-cfce-4278-93c6-eb9aa49c5d16/resource/a55aef81-e094-4267-8643-f283524e3dd7/download/discentes-2019.csv\n",
            "\t\t http://dados.ufrn.br/dataset/554c2d41-cfce-4278-93c6-eb9aa49c5d16/resource/146b749b-b9d0-49b2-b114-ac6cc82a4051/download/discentes-2018.csv\n",
            "\t\t http://dados.ufrn.br/dataset/554c2d41-cfce-4278-93c6-eb9aa49c5d16/resource/dc732572-a51a-4d4a-a39d-2db37cbe5382/download/discentes-2017.csv\n",
            "\t\t http://dados.ufrn.br/dataset/554c2d41-cfce-4278-93c6-eb9aa49c5d16/resource/7d2fa5b3-743f-465f-8450-91719b34a002/download/discentes-2016.csv\n",
            "\t\t http://dados.ufrn.br/dataset/554c2d41-cfce-4278-93c6-eb9aa49c5d16/resource/e2b5b843-4f58-497e-8979-44daf8df8f94/download/discentes-2015.csv\n",
            "\t\t http://dados.ufrn.br/dataset/554c2d41-cfce-4278-93c6-eb9aa49c5d16/resource/6c23a430-9a7c-4d0f-9602-1d5d97d40e6a/download/discentes-2014.csv\n",
            "\t\t http://dados.ufrn.br/dataset/554c2d41-cfce-4278-93c6-eb9aa49c5d16/resource/dba208c2-822f-4e26-adc3-b61d4cb110b6/download/discentes-2013.csv\n",
            "\t\t http://dados.ufrn.br/dataset/554c2d41-cfce-4278-93c6-eb9aa49c5d16/resource/fc283aa9-61a7-4cf0-91fb-c403c0817b48/download/discentes-2012.csv\n",
            "\t\t http://dados.ufrn.br/dataset/554c2d41-cfce-4278-93c6-eb9aa49c5d16/resource/2bb3dec9-7f23-434c-a179-21515f91abc8/download/discentes-2011.csv\n",
            "\t\t http://dados.ufrn.br/dataset/554c2d41-cfce-4278-93c6-eb9aa49c5d16/resource/5fc61f78-19b4-4020-9f3c-c298cb8a63aa/download/discentes-2010.csv\n",
            "\t\t http://dados.ufrn.br/dataset/554c2d41-cfce-4278-93c6-eb9aa49c5d16/resource/861b96a8-5304-4e6a-a8c4-068533ec7cb9/download/discentes-2009.csv\n",
            "\t\t http://dados.ufrn.br/dataset/554c2d41-cfce-4278-93c6-eb9aa49c5d16/resource/b5144c99-81f3-4cfc-8938-18adb81ae3c0/download/discentesdicionario.pdf\n",
            "\t\t http://dados.ufrn.br/dataset/554c2d41-cfce-4278-93c6-eb9aa49c5d16/resource/7795c538-86fc-483f-9da9-67b2fcc834ae/download/discentes-2020.csv\n",
            "\n",
            "\n",
            "\t https://dados.gov.br/dataset/dados-complementares-de-discentes\n",
            "\n",
            "\t\t http://dados.ufrn.br/dataset/80b1a8e9-2e40-4c6c-97ea-d595a3c8b8f5/resource/0e287fe5-badb-4b34-b1bf-8815db5dfbeb/download/dados-pessoais-discentes.csv\n",
            "\t\t http://dados.ufrn.br/dataset/80b1a8e9-2e40-4c6c-97ea-d595a3c8b8f5/resource/c49d5f58-41e4-4ec0-8774-cc0da45f149d/download/dicionario-de-dados---discentes-da-instituicao.pdf\n",
            "\n",
            "\n",
            "\t https://dados.gov.br/dataset/dados-socio-economicos-de-discentes\n",
            "\n",
            "\t\t http://dados.ufrn.br/dataset/8e0cb3ac-b6fa-48ef-a1ee-f2df0b893b72/resource/2b8de259-1674-4713-bbf5-167e644af5d9/download/dados-socioeconomicos-discentes-20191.csv\n",
            "\t\t http://dados.ufrn.br/dataset/8e0cb3ac-b6fa-48ef-a1ee-f2df0b893b72/resource/333ba797-a810-4265-b189-2887d0f77dfe/download/dados-socioeconomicos-discentes-20182.csv\n",
            "\t\t http://dados.ufrn.br/dataset/8e0cb3ac-b6fa-48ef-a1ee-f2df0b893b72/resource/365454a6-0f0e-4028-a418-ac20f18339f6/download/dados-socioeconomicos-discentes-20181.csv\n",
            "\t\t http://dados.ufrn.br/dataset/8e0cb3ac-b6fa-48ef-a1ee-f2df0b893b72/resource/15353bfe-dbae-4b92-ba72-095dca8c086d/download/dados-socio-economicos-20172.csv\n",
            "\t\t http://dados.ufrn.br/dataset/8e0cb3ac-b6fa-48ef-a1ee-f2df0b893b72/resource/07eb5987-63c4-4848-acc6-550e2390b405/download/dados-socioeconomicos-discentes-20171.csv\n",
            "\t\t http://dados.ufrn.br/dataset/8e0cb3ac-b6fa-48ef-a1ee-f2df0b893b72/resource/bb3f78da-55a7-4b23-abdc-9de974dc1e31/download/dados-socioeconomicos-discentes-20162.csv\n",
            "\t\t http://dados.ufrn.br/dataset/8e0cb3ac-b6fa-48ef-a1ee-f2df0b893b72/resource/2f195ce7-f01a-4b41-acbd-b6245ccf0145/download/dados-socioeconomicos-discentes-20161.csv\n",
            "\t\t http://dados.ufrn.br/dataset/8e0cb3ac-b6fa-48ef-a1ee-f2df0b893b72/resource/c5e502e5-50b3-46be-8185-a1ce30415db5/download/dados-socioeconomicos-discentes-20152.csv\n",
            "\t\t http://dados.ufrn.br/dataset/8e0cb3ac-b6fa-48ef-a1ee-f2df0b893b72/resource/ddb2a4d8-590f-4fd1-8edc-8238d855f47b/download/dados-socioeconomicos-discentes-20151.csv\n",
            "\t\t http://dados.ufrn.br/dataset/8e0cb3ac-b6fa-48ef-a1ee-f2df0b893b72/resource/6a4c927a-150a-4630-b858-a32ec5c6495a/download/dados-socio-economicos-20142.csv\n",
            "\t\t http://dados.ufrn.br/dataset/8e0cb3ac-b6fa-48ef-a1ee-f2df0b893b72/resource/c7204eb0-7202-423f-ae2e-d844fee66492/download/dados-socio-economicos-20141.csv\n",
            "\t\t http://dados.ufrn.br/dataset/8e0cb3ac-b6fa-48ef-a1ee-f2df0b893b72/resource/67c56b36-b036-452c-af5d-f7aaa87fce47/download/dados-socio-economicos-20132.csv\n",
            "\t\t http://dados.ufrn.br/dataset/8e0cb3ac-b6fa-48ef-a1ee-f2df0b893b72/resource/40831ad5-2e94-4110-8eba-bae4da1c9797/download/dados-socio-economicos-20131.csv\n",
            "\t\t http://dados.ufrn.br/dataset/8e0cb3ac-b6fa-48ef-a1ee-f2df0b893b72/resource/3c2ae687-e541-40f0-9494-d005e89a1cb2/download/dados-socio-economicos-20122.csv\n",
            "\t\t http://dados.ufrn.br/dataset/8e0cb3ac-b6fa-48ef-a1ee-f2df0b893b72/resource/7c5957ac-5146-438a-83ac-423c20bd4c57/download/dados-socio-economicos-20121.csv\n",
            "\t\t http://dados.ufrn.br/dataset/8e0cb3ac-b6fa-48ef-a1ee-f2df0b893b72/resource/a54200ea-09fe-4ed5-8d31-44860608de2c/download/dados-socio-economicos-20112.csv\n",
            "\t\t http://dados.ufrn.br/dataset/8e0cb3ac-b6fa-48ef-a1ee-f2df0b893b72/resource/7f819fb4-9a70-4bd7-8a7b-48182ba7ad72/download/dados-socio-economicos-20111.csv\n",
            "\t\t http://dados.ufrn.br/dataset/8e0cb3ac-b6fa-48ef-a1ee-f2df0b893b72/resource/1ebaedfb-280a-4a14-a929-b96f2c0ea2c2/download/dados-socio-economicos-20102.csv\n",
            "\t\t http://dados.ufrn.br/dataset/8e0cb3ac-b6fa-48ef-a1ee-f2df0b893b72/resource/f8e91076-eae7-41e5-8adf-2209e66966eb/download/dados-socio-economicos-discentes.pdf\n",
            "\t\t http://dados.ufrn.br/dataset/8e0cb3ac-b6fa-48ef-a1ee-f2df0b893b72/resource/a947133d-ad21-4907-af12-8f0a91135af4/download/dados-socio-economicos-discentes-2019.2.csv\n",
            "\t\t http://dados.ufrn.br/dataset/8e0cb3ac-b6fa-48ef-a1ee-f2df0b893b72/resource/cf818b90-0867-4d2f-a5db-9c4707db34b7/download/dados-socio-economicos-discentes-2020.1.csv\n",
            "\t\t http://dados.ufrn.br/dataset/8e0cb3ac-b6fa-48ef-a1ee-f2df0b893b72/resource/103ded7f-c045-4e44-9004-4a7f9e465a38/download/dados-socio-economicos-20112.csv\n",
            "\t\t http://dados.ufrn.br/dataset/8e0cb3ac-b6fa-48ef-a1ee-f2df0b893b72/resource/488347cb-6d8d-4bda-8398-46c49f4b075d/download/dados-socioeconomicos-discentes-2020.2.csv\n"
          ],
          "name": "stdout"
        }
      ]
    },
    {
      "cell_type": "code",
      "metadata": {
        "id": "MOA1Cgzof6o2"
      },
      "source": [
        "for r,resource in enumerate(resources):\n",
        "    d2 = resources[r].copy()\n",
        "    for field,value in sorted(resource.items(),key=lambda e: e[0]):\n",
        "        value = d2[field]\n",
        "        if isinstance(value, dict):\n",
        "            for key, door in value.items():\n",
        "                d2[field+'_'+key] = door\n",
        "            d2.pop(field)\n",
        "    resources[r] = d2"
      ],
      "execution_count": 71,
      "outputs": []
    },
    {
      "cell_type": "markdown",
      "metadata": {
        "id": "YyEXDWNE_igo"
      },
      "source": [
        "# Dados"
      ]
    },
    {
      "cell_type": "code",
      "metadata": {
        "id": "qtk-Bj44qlgk"
      },
      "source": [
        "df_datagov = pandas.DataFrame(resources)"
      ],
      "execution_count": 72,
      "outputs": []
    },
    {
      "cell_type": "code",
      "metadata": {
        "id": "XPYbbxdZtVnD"
      },
      "source": [
        "df_datagov = df_datagov[sorted(df_datagov.keys())]"
      ],
      "execution_count": 73,
      "outputs": []
    },
    {
      "cell_type": "code",
      "metadata": {
        "colab": {
          "base_uri": "https://localhost:8080/"
        },
        "id": "xK07hliL9zlB",
        "outputId": "9fed3d09-f66b-426a-fa0c-0b8521958402"
      },
      "source": [
        "df_datagov.iloc[5]"
      ],
      "execution_count": 74,
      "outputs": [
        {
          "output_type": "execute_result",
          "data": {
            "text/plain": [
              "created                                                  há mais de 3 anos\n",
              "criado                                                     27/Outubro/2017\n",
              "dataset_key                                                      discentes\n",
              "dataset_organization     Universidade Federal do Rio Grande do Norte - ...\n",
              "dataset_text                                Relação dos discentes da UFRN.\n",
              "dataset_title                                                    Discentes\n",
              "dataset_url              [/, /organization, /organization/universidade-...\n",
              "datastore_active                                                      True\n",
              "format                                                                 CSV\n",
              "formato                                                                CSV\n",
              "havested                                          Sun Apr 25 07:48:07 2021\n",
              "id                                    6c23a430-9a7c-4d0f-9602-1d5d97d40e6a\n",
              "last_modified                                                12 dias atrás\n",
              "licenca                                                       Other (Open)\n",
              "license_href                              [http://opendefinition.org/okd/]\n",
              "license_logo             [https://dados.gov.br/base/images/od_80x15_blu...\n",
              "license_text                                       [Licença, Other (Open)]\n",
              "license_title            [Este conjunto de dados satisfaz a Definição d...\n",
              "package_id                            554c2d41-cfce-4278-93c6-eb9aa49c5d16\n",
              "position                                                                 5\n",
              "revision_id                           0f33ccdc-fdce-46a4-9abe-75fa56705b74\n",
              "state                                                               active\n",
              "ultima_atualizacao                                           12/Abril/2021\n",
              "url                      http://landpage-h.cgu.gov.br/dadosabertos/inde...\n",
              "url_out                  http://dados.ufrn.br/dataset/554c2d41-cfce-427...\n",
              "webstore_last_updated                                                 None\n",
              "webstore_url                                                          None\n",
              "Name: 5, dtype: object"
            ]
          },
          "metadata": {
            "tags": []
          },
          "execution_count": 74
        }
      ]
    },
    {
      "cell_type": "code",
      "metadata": {
        "id": "8ofdO-dr_xho",
        "colab": {
          "base_uri": "https://localhost:8080/",
          "height": 17
        },
        "outputId": "8cba6c45-e902-41b3-946e-80e5e81ad699"
      },
      "source": [
        "df_datagov.to_csv('./resultado.csv')\n",
        "google.colab.files.download('./resultado.csv')"
      ],
      "execution_count": 75,
      "outputs": [
        {
          "output_type": "display_data",
          "data": {
            "application/javascript": [
              "\n",
              "    async function download(id, filename, size) {\n",
              "      if (!google.colab.kernel.accessAllowed) {\n",
              "        return;\n",
              "      }\n",
              "      const div = document.createElement('div');\n",
              "      const label = document.createElement('label');\n",
              "      label.textContent = `Downloading \"${filename}\": `;\n",
              "      div.appendChild(label);\n",
              "      const progress = document.createElement('progress');\n",
              "      progress.max = size;\n",
              "      div.appendChild(progress);\n",
              "      document.body.appendChild(div);\n",
              "\n",
              "      const buffers = [];\n",
              "      let downloaded = 0;\n",
              "\n",
              "      const channel = await google.colab.kernel.comms.open(id);\n",
              "      // Send a message to notify the kernel that we're ready.\n",
              "      channel.send({})\n",
              "\n",
              "      for await (const message of channel.messages) {\n",
              "        // Send a message to notify the kernel that we're ready.\n",
              "        channel.send({})\n",
              "        if (message.buffers) {\n",
              "          for (const buffer of message.buffers) {\n",
              "            buffers.push(buffer);\n",
              "            downloaded += buffer.byteLength;\n",
              "            progress.value = downloaded;\n",
              "          }\n",
              "        }\n",
              "      }\n",
              "      const blob = new Blob(buffers, {type: 'application/binary'});\n",
              "      const a = document.createElement('a');\n",
              "      a.href = window.URL.createObjectURL(blob);\n",
              "      a.download = filename;\n",
              "      div.appendChild(a);\n",
              "      a.click();\n",
              "      div.remove();\n",
              "    }\n",
              "  "
            ],
            "text/plain": [
              "<IPython.core.display.Javascript object>"
            ]
          },
          "metadata": {
            "tags": []
          }
        },
        {
          "output_type": "display_data",
          "data": {
            "application/javascript": [
              "download(\"download_a96c3dcf-6343-46f5-aa66-9da9f5fb5077\", \"resultado.csv\", 44882)"
            ],
            "text/plain": [
              "<IPython.core.display.Javascript object>"
            ]
          },
          "metadata": {
            "tags": []
          }
        }
      ]
    },
    {
      "cell_type": "markdown",
      "metadata": {
        "id": "jWsP5mPqrumU"
      },
      "source": [
        "## texto"
      ]
    },
    {
      "cell_type": "code",
      "metadata": {
        "colab": {
          "base_uri": "https://localhost:8080/"
        },
        "id": "8bv1BmGn5F1p",
        "outputId": "29f56e1f-cb81-4363-8362-a77f4ef5a650"
      },
      "source": [
        "for a,b in df_datagov.groupby('package_id'):\n",
        "    print(b.iloc[0].dataset_key,a,end='\\n\\n')\n",
        "\n",
        "    for url in b.url_out.values:\n",
        "        print('\\t',url)\n",
        "    print()\n",
        "    "
      ],
      "execution_count": 76,
      "outputs": [
        {
          "output_type": "stream",
          "text": [
            "discentes 554c2d41-cfce-4278-93c6-eb9aa49c5d16\n",
            "\n",
            "\t http://dados.ufrn.br/dataset/554c2d41-cfce-4278-93c6-eb9aa49c5d16/resource/a55aef81-e094-4267-8643-f283524e3dd7/download/discentes-2019.csv\n",
            "\t http://dados.ufrn.br/dataset/554c2d41-cfce-4278-93c6-eb9aa49c5d16/resource/146b749b-b9d0-49b2-b114-ac6cc82a4051/download/discentes-2018.csv\n",
            "\t http://dados.ufrn.br/dataset/554c2d41-cfce-4278-93c6-eb9aa49c5d16/resource/dc732572-a51a-4d4a-a39d-2db37cbe5382/download/discentes-2017.csv\n",
            "\t http://dados.ufrn.br/dataset/554c2d41-cfce-4278-93c6-eb9aa49c5d16/resource/7d2fa5b3-743f-465f-8450-91719b34a002/download/discentes-2016.csv\n",
            "\t http://dados.ufrn.br/dataset/554c2d41-cfce-4278-93c6-eb9aa49c5d16/resource/e2b5b843-4f58-497e-8979-44daf8df8f94/download/discentes-2015.csv\n",
            "\t http://dados.ufrn.br/dataset/554c2d41-cfce-4278-93c6-eb9aa49c5d16/resource/6c23a430-9a7c-4d0f-9602-1d5d97d40e6a/download/discentes-2014.csv\n",
            "\t http://dados.ufrn.br/dataset/554c2d41-cfce-4278-93c6-eb9aa49c5d16/resource/dba208c2-822f-4e26-adc3-b61d4cb110b6/download/discentes-2013.csv\n",
            "\t http://dados.ufrn.br/dataset/554c2d41-cfce-4278-93c6-eb9aa49c5d16/resource/fc283aa9-61a7-4cf0-91fb-c403c0817b48/download/discentes-2012.csv\n",
            "\t http://dados.ufrn.br/dataset/554c2d41-cfce-4278-93c6-eb9aa49c5d16/resource/2bb3dec9-7f23-434c-a179-21515f91abc8/download/discentes-2011.csv\n",
            "\t http://dados.ufrn.br/dataset/554c2d41-cfce-4278-93c6-eb9aa49c5d16/resource/5fc61f78-19b4-4020-9f3c-c298cb8a63aa/download/discentes-2010.csv\n",
            "\t http://dados.ufrn.br/dataset/554c2d41-cfce-4278-93c6-eb9aa49c5d16/resource/861b96a8-5304-4e6a-a8c4-068533ec7cb9/download/discentes-2009.csv\n",
            "\t http://dados.ufrn.br/dataset/554c2d41-cfce-4278-93c6-eb9aa49c5d16/resource/b5144c99-81f3-4cfc-8938-18adb81ae3c0/download/discentesdicionario.pdf\n",
            "\t http://dados.ufrn.br/dataset/554c2d41-cfce-4278-93c6-eb9aa49c5d16/resource/7795c538-86fc-483f-9da9-67b2fcc834ae/download/discentes-2020.csv\n",
            "\n",
            "dados_complementares_de_discentes 80b1a8e9-2e40-4c6c-97ea-d595a3c8b8f5\n",
            "\n",
            "\t http://dados.ufrn.br/dataset/80b1a8e9-2e40-4c6c-97ea-d595a3c8b8f5/resource/0e287fe5-badb-4b34-b1bf-8815db5dfbeb/download/dados-pessoais-discentes.csv\n",
            "\t http://dados.ufrn.br/dataset/80b1a8e9-2e40-4c6c-97ea-d595a3c8b8f5/resource/c49d5f58-41e4-4ec0-8774-cc0da45f149d/download/dicionario-de-dados---discentes-da-instituicao.pdf\n",
            "\n",
            "dados_socio_economicos_de_discentes 8e0cb3ac-b6fa-48ef-a1ee-f2df0b893b72\n",
            "\n",
            "\t http://dados.ufrn.br/dataset/8e0cb3ac-b6fa-48ef-a1ee-f2df0b893b72/resource/2b8de259-1674-4713-bbf5-167e644af5d9/download/dados-socioeconomicos-discentes-20191.csv\n",
            "\t http://dados.ufrn.br/dataset/8e0cb3ac-b6fa-48ef-a1ee-f2df0b893b72/resource/333ba797-a810-4265-b189-2887d0f77dfe/download/dados-socioeconomicos-discentes-20182.csv\n",
            "\t http://dados.ufrn.br/dataset/8e0cb3ac-b6fa-48ef-a1ee-f2df0b893b72/resource/365454a6-0f0e-4028-a418-ac20f18339f6/download/dados-socioeconomicos-discentes-20181.csv\n",
            "\t http://dados.ufrn.br/dataset/8e0cb3ac-b6fa-48ef-a1ee-f2df0b893b72/resource/15353bfe-dbae-4b92-ba72-095dca8c086d/download/dados-socio-economicos-20172.csv\n",
            "\t http://dados.ufrn.br/dataset/8e0cb3ac-b6fa-48ef-a1ee-f2df0b893b72/resource/07eb5987-63c4-4848-acc6-550e2390b405/download/dados-socioeconomicos-discentes-20171.csv\n",
            "\t http://dados.ufrn.br/dataset/8e0cb3ac-b6fa-48ef-a1ee-f2df0b893b72/resource/bb3f78da-55a7-4b23-abdc-9de974dc1e31/download/dados-socioeconomicos-discentes-20162.csv\n",
            "\t http://dados.ufrn.br/dataset/8e0cb3ac-b6fa-48ef-a1ee-f2df0b893b72/resource/2f195ce7-f01a-4b41-acbd-b6245ccf0145/download/dados-socioeconomicos-discentes-20161.csv\n",
            "\t http://dados.ufrn.br/dataset/8e0cb3ac-b6fa-48ef-a1ee-f2df0b893b72/resource/c5e502e5-50b3-46be-8185-a1ce30415db5/download/dados-socioeconomicos-discentes-20152.csv\n",
            "\t http://dados.ufrn.br/dataset/8e0cb3ac-b6fa-48ef-a1ee-f2df0b893b72/resource/ddb2a4d8-590f-4fd1-8edc-8238d855f47b/download/dados-socioeconomicos-discentes-20151.csv\n",
            "\t http://dados.ufrn.br/dataset/8e0cb3ac-b6fa-48ef-a1ee-f2df0b893b72/resource/6a4c927a-150a-4630-b858-a32ec5c6495a/download/dados-socio-economicos-20142.csv\n",
            "\t http://dados.ufrn.br/dataset/8e0cb3ac-b6fa-48ef-a1ee-f2df0b893b72/resource/c7204eb0-7202-423f-ae2e-d844fee66492/download/dados-socio-economicos-20141.csv\n",
            "\t http://dados.ufrn.br/dataset/8e0cb3ac-b6fa-48ef-a1ee-f2df0b893b72/resource/67c56b36-b036-452c-af5d-f7aaa87fce47/download/dados-socio-economicos-20132.csv\n",
            "\t http://dados.ufrn.br/dataset/8e0cb3ac-b6fa-48ef-a1ee-f2df0b893b72/resource/40831ad5-2e94-4110-8eba-bae4da1c9797/download/dados-socio-economicos-20131.csv\n",
            "\t http://dados.ufrn.br/dataset/8e0cb3ac-b6fa-48ef-a1ee-f2df0b893b72/resource/3c2ae687-e541-40f0-9494-d005e89a1cb2/download/dados-socio-economicos-20122.csv\n",
            "\t http://dados.ufrn.br/dataset/8e0cb3ac-b6fa-48ef-a1ee-f2df0b893b72/resource/7c5957ac-5146-438a-83ac-423c20bd4c57/download/dados-socio-economicos-20121.csv\n",
            "\t http://dados.ufrn.br/dataset/8e0cb3ac-b6fa-48ef-a1ee-f2df0b893b72/resource/a54200ea-09fe-4ed5-8d31-44860608de2c/download/dados-socio-economicos-20112.csv\n",
            "\t http://dados.ufrn.br/dataset/8e0cb3ac-b6fa-48ef-a1ee-f2df0b893b72/resource/7f819fb4-9a70-4bd7-8a7b-48182ba7ad72/download/dados-socio-economicos-20111.csv\n",
            "\t http://dados.ufrn.br/dataset/8e0cb3ac-b6fa-48ef-a1ee-f2df0b893b72/resource/1ebaedfb-280a-4a14-a929-b96f2c0ea2c2/download/dados-socio-economicos-20102.csv\n",
            "\t http://dados.ufrn.br/dataset/8e0cb3ac-b6fa-48ef-a1ee-f2df0b893b72/resource/f8e91076-eae7-41e5-8adf-2209e66966eb/download/dados-socio-economicos-discentes.pdf\n",
            "\t http://dados.ufrn.br/dataset/8e0cb3ac-b6fa-48ef-a1ee-f2df0b893b72/resource/a947133d-ad21-4907-af12-8f0a91135af4/download/dados-socio-economicos-discentes-2019.2.csv\n",
            "\t http://dados.ufrn.br/dataset/8e0cb3ac-b6fa-48ef-a1ee-f2df0b893b72/resource/cf818b90-0867-4d2f-a5db-9c4707db34b7/download/dados-socio-economicos-discentes-2020.1.csv\n",
            "\t http://dados.ufrn.br/dataset/8e0cb3ac-b6fa-48ef-a1ee-f2df0b893b72/resource/103ded7f-c045-4e44-9004-4a7f9e465a38/download/dados-socio-economicos-20112.csv\n",
            "\t http://dados.ufrn.br/dataset/8e0cb3ac-b6fa-48ef-a1ee-f2df0b893b72/resource/488347cb-6d8d-4bda-8398-46c49f4b075d/download/dados-socioeconomicos-discentes-2020.2.csv\n",
            "\n"
          ],
          "name": "stdout"
        }
      ]
    },
    {
      "cell_type": "code",
      "metadata": {
        "id": "okP6LLU08ugZ"
      },
      "source": [
        ""
      ],
      "execution_count": 76,
      "outputs": []
    }
  ]
}