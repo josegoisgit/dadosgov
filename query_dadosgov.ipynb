{
  "nbformat": 4,
  "nbformat_minor": 0,
  "metadata": {
    "colab": {
      "name": "query_dadosgov.ipynb",
      "provenance": [],
      "collapsed_sections": [
        "UrOkZJCFx3OT",
        "V4IG3zlMn8tV",
        "D0mCIUWOoLjL",
        "AbLc4GnFx5Dq",
        "CWc14YGDoaGk",
        "4flb2Nv1opzk",
        "uzUmdjFgp3_7",
        "7Xh_L4Vnp8Cr",
        "5QAe2IePqBA7",
        "BgH8HhVKqHdr",
        "gyCmBNOyqKxL",
        "LmOKgNVfqL_D",
        "39PWBSKmqwaz",
        "I1IjZx5eq0rU",
        "0CZwsdnWyQeS",
        "3J3ny2yXrsDV"
      ],
      "toc_visible": true,
      "authorship_tag": "ABX9TyNiIXq5c2CJ/DOCY5UdQ+c9",
      "include_colab_link": true
    },
    "kernelspec": {
      "name": "python3",
      "display_name": "Python 3"
    },
    "language_info": {
      "name": "python"
    },
    "widgets": {
      "application/vnd.jupyter.widget-state+json": {
        "6b17e2a78687498ab5994efdc93b715e": {
          "model_module": "@jupyter-widgets/controls",
          "model_name": "VBoxModel",
          "state": {
            "_view_name": "VBoxView",
            "_dom_classes": [],
            "_model_name": "VBoxModel",
            "_view_module": "@jupyter-widgets/controls",
            "_model_module_version": "1.5.0",
            "_view_count": null,
            "_view_module_version": "1.5.0",
            "box_style": "",
            "layout": "IPY_MODEL_3bd10b6f67ef41dc981828dad5da9b0d",
            "_model_module": "@jupyter-widgets/controls",
            "children": [
              "IPY_MODEL_b47420cf07124f588c9115ce27eba39d",
              "IPY_MODEL_399b840e21394b8d83316997ce57d510"
            ]
          }
        },
        "3bd10b6f67ef41dc981828dad5da9b0d": {
          "model_module": "@jupyter-widgets/base",
          "model_name": "LayoutModel",
          "state": {
            "_view_name": "LayoutView",
            "grid_template_rows": null,
            "right": null,
            "justify_content": null,
            "_view_module": "@jupyter-widgets/base",
            "overflow": null,
            "_model_module_version": "1.2.0",
            "_view_count": null,
            "flex_flow": null,
            "width": null,
            "min_width": null,
            "border": null,
            "align_items": null,
            "bottom": null,
            "_model_module": "@jupyter-widgets/base",
            "top": null,
            "grid_column": null,
            "overflow_y": null,
            "overflow_x": null,
            "grid_auto_flow": null,
            "grid_area": null,
            "grid_template_columns": null,
            "flex": null,
            "_model_name": "LayoutModel",
            "justify_items": null,
            "grid_row": null,
            "max_height": null,
            "align_content": null,
            "visibility": null,
            "align_self": null,
            "height": null,
            "min_height": null,
            "padding": null,
            "grid_auto_rows": null,
            "grid_gap": null,
            "max_width": null,
            "order": null,
            "_view_module_version": "1.2.0",
            "grid_template_areas": null,
            "object_position": null,
            "object_fit": null,
            "grid_auto_columns": null,
            "margin": null,
            "display": null,
            "left": null
          }
        },
        "b47420cf07124f588c9115ce27eba39d": {
          "model_module": "@jupyter-widgets/controls",
          "model_name": "HBoxModel",
          "state": {
            "_view_name": "HBoxView",
            "_dom_classes": [],
            "_model_name": "HBoxModel",
            "_view_module": "@jupyter-widgets/controls",
            "_model_module_version": "1.5.0",
            "_view_count": null,
            "_view_module_version": "1.5.0",
            "box_style": "",
            "layout": "IPY_MODEL_0fbcfa3cb9b94ce598f6a393f387717c",
            "_model_module": "@jupyter-widgets/controls",
            "children": [
              "IPY_MODEL_17faa29ba4cd41048517794c1637f710",
              "IPY_MODEL_46cab83209324e19998b94f17e849794"
            ]
          }
        },
        "399b840e21394b8d83316997ce57d510": {
          "model_module": "@jupyter-widgets/controls",
          "model_name": "HBoxModel",
          "state": {
            "_view_name": "HBoxView",
            "_dom_classes": [],
            "_model_name": "HBoxModel",
            "_view_module": "@jupyter-widgets/controls",
            "_model_module_version": "1.5.0",
            "_view_count": null,
            "_view_module_version": "1.5.0",
            "box_style": "",
            "layout": "IPY_MODEL_f76df722d4eb4c90b13c082db0087e69",
            "_model_module": "@jupyter-widgets/controls",
            "children": [
              "IPY_MODEL_1a2b2a1f57784cd2b2167011d14df7c3",
              "IPY_MODEL_b82b1152714d49f18f057995cdacd489"
            ]
          }
        },
        "0fbcfa3cb9b94ce598f6a393f387717c": {
          "model_module": "@jupyter-widgets/base",
          "model_name": "LayoutModel",
          "state": {
            "_view_name": "LayoutView",
            "grid_template_rows": null,
            "right": null,
            "justify_content": null,
            "_view_module": "@jupyter-widgets/base",
            "overflow": null,
            "_model_module_version": "1.2.0",
            "_view_count": null,
            "flex_flow": null,
            "width": null,
            "min_width": null,
            "border": null,
            "align_items": null,
            "bottom": null,
            "_model_module": "@jupyter-widgets/base",
            "top": null,
            "grid_column": null,
            "overflow_y": null,
            "overflow_x": null,
            "grid_auto_flow": null,
            "grid_area": null,
            "grid_template_columns": null,
            "flex": null,
            "_model_name": "LayoutModel",
            "justify_items": null,
            "grid_row": null,
            "max_height": null,
            "align_content": null,
            "visibility": null,
            "align_self": null,
            "height": null,
            "min_height": null,
            "padding": null,
            "grid_auto_rows": null,
            "grid_gap": null,
            "max_width": null,
            "order": null,
            "_view_module_version": "1.2.0",
            "grid_template_areas": null,
            "object_position": null,
            "object_fit": null,
            "grid_auto_columns": null,
            "margin": null,
            "display": null,
            "left": null
          }
        },
        "17faa29ba4cd41048517794c1637f710": {
          "model_module": "@jupyter-widgets/controls",
          "model_name": "LabelModel",
          "state": {
            "_view_name": "LabelView",
            "style": "IPY_MODEL_a2ef6767dc0c4b6abb7802f2c438ecf7",
            "_dom_classes": [],
            "description": "",
            "_model_name": "LabelModel",
            "placeholder": "​",
            "_view_module": "@jupyter-widgets/controls",
            "_model_module_version": "1.5.0",
            "value": "Query",
            "_view_count": null,
            "_view_module_version": "1.5.0",
            "description_tooltip": null,
            "_model_module": "@jupyter-widgets/controls",
            "layout": "IPY_MODEL_db961adbc47b431fb0b6004575b05a79"
          }
        },
        "46cab83209324e19998b94f17e849794": {
          "model_module": "@jupyter-widgets/controls",
          "model_name": "TextModel",
          "state": {
            "_view_name": "TextView",
            "style": "IPY_MODEL_33d0cd3a466f413faff53a15a19a8755",
            "_dom_classes": [],
            "description": "",
            "_model_name": "TextModel",
            "placeholder": "​",
            "_view_module": "@jupyter-widgets/controls",
            "_model_module_version": "1.5.0",
            "value": "UFRN relação de docentes",
            "_view_count": null,
            "disabled": false,
            "_view_module_version": "1.5.0",
            "continuous_update": true,
            "description_tooltip": null,
            "_model_module": "@jupyter-widgets/controls",
            "layout": "IPY_MODEL_48ddcc2920a94e19b9ec4afef99f5114"
          }
        },
        "f76df722d4eb4c90b13c082db0087e69": {
          "model_module": "@jupyter-widgets/base",
          "model_name": "LayoutModel",
          "state": {
            "_view_name": "LayoutView",
            "grid_template_rows": null,
            "right": null,
            "justify_content": null,
            "_view_module": "@jupyter-widgets/base",
            "overflow": null,
            "_model_module_version": "1.2.0",
            "_view_count": null,
            "flex_flow": null,
            "width": null,
            "min_width": null,
            "border": null,
            "align_items": null,
            "bottom": null,
            "_model_module": "@jupyter-widgets/base",
            "top": null,
            "grid_column": null,
            "overflow_y": null,
            "overflow_x": null,
            "grid_auto_flow": null,
            "grid_area": null,
            "grid_template_columns": null,
            "flex": null,
            "_model_name": "LayoutModel",
            "justify_items": null,
            "grid_row": null,
            "max_height": null,
            "align_content": null,
            "visibility": null,
            "align_self": null,
            "height": null,
            "min_height": null,
            "padding": null,
            "grid_auto_rows": null,
            "grid_gap": null,
            "max_width": null,
            "order": null,
            "_view_module_version": "1.2.0",
            "grid_template_areas": null,
            "object_position": null,
            "object_fit": null,
            "grid_auto_columns": null,
            "margin": null,
            "display": null,
            "left": null
          }
        },
        "1a2b2a1f57784cd2b2167011d14df7c3": {
          "model_module": "@jupyter-widgets/controls",
          "model_name": "LabelModel",
          "state": {
            "_view_name": "LabelView",
            "style": "IPY_MODEL_26bf94b05d1b4a1fa40e2427dc27f5bb",
            "_dom_classes": [],
            "description": "",
            "_model_name": "LabelModel",
            "placeholder": "​",
            "_view_module": "@jupyter-widgets/controls",
            "_model_module_version": "1.5.0",
            "value": "Hyperlink",
            "_view_count": null,
            "_view_module_version": "1.5.0",
            "description_tooltip": null,
            "_model_module": "@jupyter-widgets/controls",
            "layout": "IPY_MODEL_26a4e1b14aff48a6afaf02a09163a211"
          }
        },
        "b82b1152714d49f18f057995cdacd489": {
          "model_module": "@jupyter-widgets/controls",
          "model_name": "TextModel",
          "state": {
            "_view_name": "TextView",
            "style": "IPY_MODEL_44273ac6140f474bb4731f4d23c4795a",
            "_dom_classes": [],
            "description": "",
            "_model_name": "TextModel",
            "placeholder": "​",
            "_view_module": "@jupyter-widgets/controls",
            "_model_module_version": "1.5.0",
            "value": "https://dados.gov.br",
            "_view_count": null,
            "disabled": false,
            "_view_module_version": "1.5.0",
            "continuous_update": true,
            "description_tooltip": null,
            "_model_module": "@jupyter-widgets/controls",
            "layout": "IPY_MODEL_4148fa35c2024677a49bcc3e87792812"
          }
        },
        "a2ef6767dc0c4b6abb7802f2c438ecf7": {
          "model_module": "@jupyter-widgets/controls",
          "model_name": "DescriptionStyleModel",
          "state": {
            "_view_name": "StyleView",
            "_model_name": "DescriptionStyleModel",
            "description_width": "",
            "_view_module": "@jupyter-widgets/base",
            "_model_module_version": "1.5.0",
            "_view_count": null,
            "_view_module_version": "1.2.0",
            "_model_module": "@jupyter-widgets/controls"
          }
        },
        "db961adbc47b431fb0b6004575b05a79": {
          "model_module": "@jupyter-widgets/base",
          "model_name": "LayoutModel",
          "state": {
            "_view_name": "LayoutView",
            "grid_template_rows": null,
            "right": null,
            "justify_content": null,
            "_view_module": "@jupyter-widgets/base",
            "overflow": null,
            "_model_module_version": "1.2.0",
            "_view_count": null,
            "flex_flow": null,
            "width": null,
            "min_width": null,
            "border": null,
            "align_items": null,
            "bottom": null,
            "_model_module": "@jupyter-widgets/base",
            "top": null,
            "grid_column": null,
            "overflow_y": null,
            "overflow_x": null,
            "grid_auto_flow": null,
            "grid_area": null,
            "grid_template_columns": null,
            "flex": null,
            "_model_name": "LayoutModel",
            "justify_items": null,
            "grid_row": null,
            "max_height": null,
            "align_content": null,
            "visibility": null,
            "align_self": null,
            "height": null,
            "min_height": null,
            "padding": null,
            "grid_auto_rows": null,
            "grid_gap": null,
            "max_width": null,
            "order": null,
            "_view_module_version": "1.2.0",
            "grid_template_areas": null,
            "object_position": null,
            "object_fit": null,
            "grid_auto_columns": null,
            "margin": null,
            "display": null,
            "left": null
          }
        },
        "33d0cd3a466f413faff53a15a19a8755": {
          "model_module": "@jupyter-widgets/controls",
          "model_name": "DescriptionStyleModel",
          "state": {
            "_view_name": "StyleView",
            "_model_name": "DescriptionStyleModel",
            "description_width": "",
            "_view_module": "@jupyter-widgets/base",
            "_model_module_version": "1.5.0",
            "_view_count": null,
            "_view_module_version": "1.2.0",
            "_model_module": "@jupyter-widgets/controls"
          }
        },
        "48ddcc2920a94e19b9ec4afef99f5114": {
          "model_module": "@jupyter-widgets/base",
          "model_name": "LayoutModel",
          "state": {
            "_view_name": "LayoutView",
            "grid_template_rows": null,
            "right": null,
            "justify_content": null,
            "_view_module": "@jupyter-widgets/base",
            "overflow": null,
            "_model_module_version": "1.2.0",
            "_view_count": null,
            "flex_flow": null,
            "width": null,
            "min_width": null,
            "border": null,
            "align_items": null,
            "bottom": null,
            "_model_module": "@jupyter-widgets/base",
            "top": null,
            "grid_column": null,
            "overflow_y": null,
            "overflow_x": null,
            "grid_auto_flow": null,
            "grid_area": null,
            "grid_template_columns": null,
            "flex": null,
            "_model_name": "LayoutModel",
            "justify_items": null,
            "grid_row": null,
            "max_height": null,
            "align_content": null,
            "visibility": null,
            "align_self": null,
            "height": null,
            "min_height": null,
            "padding": null,
            "grid_auto_rows": null,
            "grid_gap": null,
            "max_width": null,
            "order": null,
            "_view_module_version": "1.2.0",
            "grid_template_areas": null,
            "object_position": null,
            "object_fit": null,
            "grid_auto_columns": null,
            "margin": null,
            "display": null,
            "left": null
          }
        },
        "26bf94b05d1b4a1fa40e2427dc27f5bb": {
          "model_module": "@jupyter-widgets/controls",
          "model_name": "DescriptionStyleModel",
          "state": {
            "_view_name": "StyleView",
            "_model_name": "DescriptionStyleModel",
            "description_width": "",
            "_view_module": "@jupyter-widgets/base",
            "_model_module_version": "1.5.0",
            "_view_count": null,
            "_view_module_version": "1.2.0",
            "_model_module": "@jupyter-widgets/controls"
          }
        },
        "26a4e1b14aff48a6afaf02a09163a211": {
          "model_module": "@jupyter-widgets/base",
          "model_name": "LayoutModel",
          "state": {
            "_view_name": "LayoutView",
            "grid_template_rows": null,
            "right": null,
            "justify_content": null,
            "_view_module": "@jupyter-widgets/base",
            "overflow": null,
            "_model_module_version": "1.2.0",
            "_view_count": null,
            "flex_flow": null,
            "width": null,
            "min_width": null,
            "border": null,
            "align_items": null,
            "bottom": null,
            "_model_module": "@jupyter-widgets/base",
            "top": null,
            "grid_column": null,
            "overflow_y": null,
            "overflow_x": null,
            "grid_auto_flow": null,
            "grid_area": null,
            "grid_template_columns": null,
            "flex": null,
            "_model_name": "LayoutModel",
            "justify_items": null,
            "grid_row": null,
            "max_height": null,
            "align_content": null,
            "visibility": null,
            "align_self": null,
            "height": null,
            "min_height": null,
            "padding": null,
            "grid_auto_rows": null,
            "grid_gap": null,
            "max_width": null,
            "order": null,
            "_view_module_version": "1.2.0",
            "grid_template_areas": null,
            "object_position": null,
            "object_fit": null,
            "grid_auto_columns": null,
            "margin": null,
            "display": null,
            "left": null
          }
        },
        "44273ac6140f474bb4731f4d23c4795a": {
          "model_module": "@jupyter-widgets/controls",
          "model_name": "DescriptionStyleModel",
          "state": {
            "_view_name": "StyleView",
            "_model_name": "DescriptionStyleModel",
            "description_width": "",
            "_view_module": "@jupyter-widgets/base",
            "_model_module_version": "1.5.0",
            "_view_count": null,
            "_view_module_version": "1.2.0",
            "_model_module": "@jupyter-widgets/controls"
          }
        },
        "4148fa35c2024677a49bcc3e87792812": {
          "model_module": "@jupyter-widgets/base",
          "model_name": "LayoutModel",
          "state": {
            "_view_name": "LayoutView",
            "grid_template_rows": null,
            "right": null,
            "justify_content": null,
            "_view_module": "@jupyter-widgets/base",
            "overflow": null,
            "_model_module_version": "1.2.0",
            "_view_count": null,
            "flex_flow": null,
            "width": null,
            "min_width": null,
            "border": null,
            "align_items": null,
            "bottom": null,
            "_model_module": "@jupyter-widgets/base",
            "top": null,
            "grid_column": null,
            "overflow_y": null,
            "overflow_x": null,
            "grid_auto_flow": null,
            "grid_area": null,
            "grid_template_columns": null,
            "flex": null,
            "_model_name": "LayoutModel",
            "justify_items": null,
            "grid_row": null,
            "max_height": null,
            "align_content": null,
            "visibility": null,
            "align_self": null,
            "height": null,
            "min_height": null,
            "padding": null,
            "grid_auto_rows": null,
            "grid_gap": null,
            "max_width": null,
            "order": null,
            "_view_module_version": "1.2.0",
            "grid_template_areas": null,
            "object_position": null,
            "object_fit": null,
            "grid_auto_columns": null,
            "margin": null,
            "display": null,
            "left": null
          }
        }
      }
    }
  },
  "cells": [
    {
      "cell_type": "markdown",
      "metadata": {
        "id": "view-in-github",
        "colab_type": "text"
      },
      "source": [
        "<a href=\"https://colab.research.google.com/github/josegoisgit/dadosgov/blob/main/query_dadosgov.ipynb\" target=\"_parent\"><img src=\"https://colab.research.google.com/assets/colab-badge.svg\" alt=\"Open In Colab\"/></a>"
      ]
    },
    {
      "cell_type": "markdown",
      "metadata": {
        "id": "UrOkZJCFx3OT"
      },
      "source": [
        "# Módulos e pacotes"
      ]
    },
    {
      "cell_type": "markdown",
      "metadata": {
        "id": "V4IG3zlMn8tV"
      },
      "source": [
        "## Instalação"
      ]
    },
    {
      "cell_type": "code",
      "metadata": {
        "id": "-2_riDgSq_w0",
        "colab": {
          "base_uri": "https://localhost:8080/"
        },
        "outputId": "202c7754-5b5f-4eba-e606-c8d01107a35c"
      },
      "source": [
        "!pip install unidecode"
      ],
      "execution_count": 1,
      "outputs": [
        {
          "output_type": "stream",
          "text": [
            "Requirement already satisfied: unidecode in /usr/local/lib/python3.7/dist-packages (1.2.0)\n"
          ],
          "name": "stdout"
        }
      ]
    },
    {
      "cell_type": "markdown",
      "metadata": {
        "id": "D0mCIUWOoLjL"
      },
      "source": [
        "## Importação"
      ]
    },
    {
      "cell_type": "code",
      "metadata": {
        "id": "9YGE8e28pa8e"
      },
      "source": [
        "import re\n",
        "import requests\n",
        "import pandas\n",
        "\n",
        "import unidecode\n",
        "\n",
        "\n",
        "from itertools import chain\n",
        "from lxml.etree import HTML\n",
        "\n",
        "import IPython\n",
        "import ipywidgets\n",
        "import google.colab"
      ],
      "execution_count": 2,
      "outputs": []
    },
    {
      "cell_type": "markdown",
      "metadata": {
        "id": "AbLc4GnFx5Dq"
      },
      "source": [
        "# Funções"
      ]
    },
    {
      "cell_type": "markdown",
      "metadata": {
        "id": "CWc14YGDoaGk"
      },
      "source": [
        "## auxiliares"
      ]
    },
    {
      "cell_type": "code",
      "metadata": {
        "id": "frgu1nD3qCxc"
      },
      "source": [
        "\n",
        "strip = lambda X: ('\\n'.join(set(x.strip() for x in X if x.strip()))).strip()\n",
        "plain = lambda i: list(chain.from_iterable(i))\n"
      ],
      "execution_count": 3,
      "outputs": []
    },
    {
      "cell_type": "markdown",
      "metadata": {
        "id": "4flb2Nv1opzk"
      },
      "source": [
        "## get_url_html"
      ]
    },
    {
      "cell_type": "code",
      "metadata": {
        "id": "eJhufngCqCQM"
      },
      "source": [
        "def get_url_html(url):\n",
        "    requested         = requests.request('GET', url)\n",
        "    html              = HTML(requested.text)    \n",
        "    html.nsmap['url'] = url\n",
        "\n",
        "    return html\n"
      ],
      "execution_count": 4,
      "outputs": []
    },
    {
      "cell_type": "code",
      "metadata": {
        "colab": {
          "base_uri": "https://localhost:8080/"
        },
        "id": "BFWCbHgjov01",
        "outputId": "d55115b5-b304-43b3-eeef-f6c6754a524c"
      },
      "source": [
        "#Exemplo:\n",
        "html = get_url_html('https://docs.python.org')\n",
        "html.xpath('.//a/@href')"
      ],
      "execution_count": 5,
      "outputs": [
        {
          "output_type": "execute_result",
          "data": {
            "text/plain": [
              "['genindex.html',\n",
              " 'py-modindex.html',\n",
              " 'https://www.python.org/',\n",
              " '#',\n",
              " 'whatsnew/3.9.html',\n",
              " 'whatsnew/index.html',\n",
              " 'tutorial/index.html',\n",
              " 'library/index.html',\n",
              " 'reference/index.html',\n",
              " 'using/index.html',\n",
              " 'howto/index.html',\n",
              " 'installing/index.html',\n",
              " 'distributing/index.html',\n",
              " 'extending/index.html',\n",
              " 'c-api/index.html',\n",
              " 'faq/index.html',\n",
              " 'py-modindex.html',\n",
              " 'genindex.html',\n",
              " 'glossary.html',\n",
              " 'search.html',\n",
              " 'contents.html',\n",
              " 'bugs.html',\n",
              " 'https://devguide.python.org/docquality/#helping-with-documentation',\n",
              " 'about.html',\n",
              " 'license.html',\n",
              " 'copyright.html',\n",
              " 'download.html',\n",
              " 'https://docs.python.org/3.10/',\n",
              " 'https://docs.python.org/3.9/',\n",
              " 'https://docs.python.org/3.8/',\n",
              " 'https://docs.python.org/3.7/',\n",
              " 'https://docs.python.org/3.6/',\n",
              " 'https://docs.python.org/3.5/',\n",
              " 'https://docs.python.org/2.7/',\n",
              " 'https://www.python.org/doc/versions/',\n",
              " 'https://www.python.org/dev/peps/',\n",
              " 'https://wiki.python.org/moin/BeginnersGuide',\n",
              " 'https://wiki.python.org/moin/PythonBooks',\n",
              " 'https://www.python.org/doc/av/',\n",
              " 'https://devguide.python.org/',\n",
              " 'genindex.html',\n",
              " 'py-modindex.html',\n",
              " 'https://www.python.org/',\n",
              " '#',\n",
              " 'copyright.html',\n",
              " 'https://www.python.org/psf/donations/',\n",
              " 'https://docs.python.org/3/bugs.html',\n",
              " 'https://www.sphinx-doc.org/']"
            ]
          },
          "metadata": {
            "tags": []
          },
          "execution_count": 5
        }
      ]
    },
    {
      "cell_type": "markdown",
      "metadata": {
        "id": "FGczy-3ypgTT"
      },
      "source": [
        "## xpath"
      ]
    },
    {
      "cell_type": "markdown",
      "metadata": {
        "id": "XpDHRaKhpwu7"
      },
      "source": [
        "### contains_clause"
      ]
    },
    {
      "cell_type": "code",
      "metadata": {
        "id": "cZQ8-Om_qBtE"
      },
      "source": [
        "def contains_clause(dic, operator='OR'):\n",
        "    predicados = [\"contains(@{k},'{v}')\".format(k=k,v=v) for k,v in dic.items()]\n",
        "\n",
        "    return operator.join(predicados)\n"
      ],
      "execution_count": 6,
      "outputs": []
    },
    {
      "cell_type": "markdown",
      "metadata": {
        "id": "uzUmdjFgp3_7"
      },
      "source": [
        "### compose_xpath"
      ]
    },
    {
      "cell_type": "code",
      "metadata": {
        "id": "AIU4h78ZqBEc"
      },
      "source": [
        "\n",
        "def compose_xpath(element,attribute,content):\n",
        "    dictionary = contains_clause({attribute:content})\n",
        "\n",
        "    str_dict = {\n",
        "        'element' : element,\n",
        "        'dictionary' : dictionary \n",
        "    }\n",
        "\n",
        "    return \"{element}[{dictionary}]\".format(**str_dict)\n"
      ],
      "execution_count": 7,
      "outputs": []
    },
    {
      "cell_type": "markdown",
      "metadata": {
        "id": "7Xh_L4Vnp8Cr"
      },
      "source": [
        "### get_xnodes"
      ]
    },
    {
      "cell_type": "code",
      "metadata": {
        "id": "NdaFErYzp-L9"
      },
      "source": [
        "\n",
        "def get_xnodes(html, element, attribute='class', content='', complement=''):\n",
        "    if complement:\n",
        "        xnode = html.xpath(compose_xpath(element,attribute,content) + complement)\n",
        "    else:\n",
        "        xnode = html.xpath(compose_xpath(element,attribute,content) )\n",
        "    return xnode if xnode else None\n"
      ],
      "execution_count": 8,
      "outputs": []
    },
    {
      "cell_type": "markdown",
      "metadata": {
        "id": "5QAe2IePqBA7"
      },
      "source": [
        "### get_xnode"
      ]
    },
    {
      "cell_type": "code",
      "metadata": {
        "id": "Mje8LSF0p9qc"
      },
      "source": [
        "\n",
        "def get_xnode(html, element, attribute='class', content='', complement=''):\n",
        "    xnodes = get_xnodes(html, element, attribute, content, complement)\n",
        "    return xnodes[0] if xnodes else None\n"
      ],
      "execution_count": 9,
      "outputs": []
    },
    {
      "cell_type": "markdown",
      "metadata": {
        "id": "KT5FdFGGyjdK"
      },
      "source": [
        "## datasets"
      ]
    },
    {
      "cell_type": "markdown",
      "metadata": {
        "id": "BgH8HhVKqHdr"
      },
      "source": [
        "### get_html_page_count"
      ]
    },
    {
      "cell_type": "code",
      "metadata": {
        "id": "JXuWP7cbp9R0"
      },
      "source": [
        "\n",
        "def get_html_page_count(html):\n",
        "    xnode = get_xnode( html, '//div', 'class', 'pagination' ) \n",
        "    \n",
        "    if len(xnode):\n",
        "        return 1\n",
        "    \n",
        "    pdiv = xnode.xpath( '//li/a/text()' )\n",
        "    \n",
        "    def pmax(pdiv):\n",
        "        V = [1]\n",
        "        for p in pdiv:\n",
        "            try:\n",
        "                v = int(p)\n",
        "                V.append(v)       \n",
        "            except:\n",
        "                continue\n",
        "        return max(V)    \n",
        "    return pmax(pdiv)\n"
      ],
      "execution_count": 10,
      "outputs": []
    },
    {
      "cell_type": "markdown",
      "metadata": {
        "id": "gyCmBNOyqKxL"
      },
      "source": [
        "### get_query_page_count"
      ]
    },
    {
      "cell_type": "code",
      "metadata": {
        "id": "B_81PAJRp8GF"
      },
      "source": [
        "\n",
        "def get_query_page_count(hyperlink, query):\n",
        "    html = get_url_html( hyperlink + '/dataset?q=%s' % query)\n",
        "    return get_html_page_count( html )\n"
      ],
      "execution_count": 11,
      "outputs": []
    },
    {
      "cell_type": "markdown",
      "metadata": {
        "id": "LmOKgNVfqL_D"
      },
      "source": [
        "### get_html_items_href\n",
        "\n",
        "\n",
        "\n",
        "\n"
      ]
    },
    {
      "cell_type": "code",
      "metadata": {
        "id": "rYf9ogE9p7V0"
      },
      "source": [
        "\n",
        "def get_html_items_href(html):\n",
        "    xnodes = get_xnodes( html, './/h3', 'class', 'dataset-heading' , '//a/@href' ) \n",
        "    return xnodes\n"
      ],
      "execution_count": 12,
      "outputs": []
    },
    {
      "cell_type": "markdown",
      "metadata": {
        "id": "A1JwakD7qrsj"
      },
      "source": [
        "### get_html_dataset"
      ]
    },
    {
      "cell_type": "code",
      "metadata": {
        "id": "tSe2-_Slp67V"
      },
      "source": [
        "\n",
        "def get_html_dataset(html):    \n",
        "    article_html = get_xnode(html , '//article')\n",
        "    \n",
        "    dataset = dict()\n",
        "    \n",
        "    dataset['organization'] = ' '.join([x.strip() for x in get_xnodes(html, './/section','class','module-content','//h1//text()')])\n",
        "    dataset['title']        = strip( get_xnodes( article_html , 'div/h1/text()') ) \n",
        "    dataset['key']          = re.sub('[^\\w]','_',unidecode.unidecode(dataset['title']).lower())\n",
        "    z = get_xnodes(article_html,'//div','class','notes','//p/text()')\n",
        "    dataset['text'] = strip(z) if z else ''\n",
        "    dataset['url']          = get_xnodes( article_html, '//ol', 'class', 'breadcrumb', '//li/a/@href')\n",
        "\n",
        "    return dataset\n"
      ],
      "execution_count": 42,
      "outputs": []
    },
    {
      "cell_type": "markdown",
      "metadata": {
        "id": "39PWBSKmqwaz"
      },
      "source": [
        "### get_html_dataset_license"
      ]
    },
    {
      "cell_type": "code",
      "metadata": {
        "id": "E-HcpP3ip6aV"
      },
      "source": [
        "\n",
        "def get_html_dataset_license(html,hyperlink='https://dados.gov.br'):\n",
        "    xnode = get_xnode( html, '//section','class','license') \n",
        "\n",
        "    if not xnode: return dict(title='NA',href='',text='',logo='')\n",
        "\n",
        "    license_title = xnode.xpath( './/@title' )\n",
        "    license_href  = xnode.xpath( './/@href')\n",
        "    license_text  = [ text.strip() for text in xnode.xpath( './/text()' ) if text.strip() ]\n",
        "    license_logo  = [ hyperlink + p for p in xnode.xpath( './/img//@src' ) ]\n",
        "    \n",
        "    license_dict          = dict()\n",
        "    license_dict['title'] = license_title\n",
        "    license_dict['href']  = license_href\n",
        "    license_dict['text']  = license_text\n",
        "    license_dict['logo']  = license_logo\n",
        "\n",
        "    return license_dict\n"
      ],
      "execution_count": 14,
      "outputs": []
    },
    {
      "cell_type": "markdown",
      "metadata": {
        "id": "I1IjZx5eq0rU"
      },
      "source": [
        "### get_html_dataset_resources_href"
      ]
    },
    {
      "cell_type": "code",
      "metadata": {
        "id": "d-fGhsAop5JU"
      },
      "source": [
        "\n",
        "def get_html_dataset_resources_href(html):\n",
        "    return get_xnodes(html,'//a','class','heading','/@href')\n"
      ],
      "execution_count": 15,
      "outputs": []
    },
    {
      "cell_type": "markdown",
      "metadata": {
        "id": "0CZwsdnWyQeS"
      },
      "source": [
        "### get_html_resource_info\n",
        "\n",
        "\n",
        "\n"
      ]
    },
    {
      "cell_type": "code",
      "metadata": {
        "id": "5clS2Cq7p5uF"
      },
      "source": [
        "\n",
        "def get_html_resource_info(html):\n",
        "    \n",
        "    ths     = get_xnodes( html, '//table', 'class', 'table-condensed','/tbody//th/text()')\n",
        "    headers = [re.sub('[^\\w]','_',unidecode.unidecode(th.lower())) for th in ths]\n",
        "    tds     = get_xnodes( html, '//table', 'class', 'table-condensed','/tbody//td')\n",
        "    data    = [strip(get_xnodes(td, './/text()')).strip() for td in tds]\n",
        "\n",
        "    info_dict        = {h:d for h,d in zip(headers,data)}\n",
        "    info_dict['url'] = get_xnode( html, '//a','class','resource-url-analytic','/@href')    \n",
        "\n",
        "    return info_dict"
      ],
      "execution_count": 16,
      "outputs": []
    },
    {
      "cell_type": "code",
      "metadata": {
        "id": "ZBoZDn-4ybs7"
      },
      "source": [
        ""
      ],
      "execution_count": 16,
      "outputs": []
    },
    {
      "cell_type": "markdown",
      "metadata": {
        "id": "mKdqeEW-y7hq"
      },
      "source": [
        "### auxiliares"
      ]
    },
    {
      "cell_type": "code",
      "metadata": {
        "id": "j6PWvTCpp3F9"
      },
      "source": [
        "\n",
        "def __dir_repr__(variable=dict,pattern=''):\n",
        "    dir_type_dict = dict()\n",
        "    \n",
        "    for attribute in dir(variable):\n",
        "        if not re.findall(pattern, attribute): continue\n",
        "        value = getattr(variable,attribute)\n",
        "        typename = type(value).__name__\n",
        "        \n",
        "        if typename not in dir_type_dict:\n",
        "            dir_type_dict[typename] = [(attribute,value)]\n",
        "        else:\n",
        "            dir_type_dict[typename].append((attribute,value))\n",
        "        \n",
        "    for key, items in dir_type_dict.items():\n",
        "        print(key)\n",
        "        print()\n",
        "        for attribute,value in items:\n",
        "            print('\\t',attribute)\n",
        "        print()\n",
        "        #print('{: <30s}{:<20s}'.format(typename, attribute))\n"
      ],
      "execution_count": 17,
      "outputs": []
    },
    {
      "cell_type": "code",
      "metadata": {
        "id": "aKQwCMedp_T1"
      },
      "source": [
        "\n",
        "def show_url( url='https://dados.gov.br'):\n",
        "    dadosgov_frame = IPython.display.IFrame(src=url,width='100%',height='500px')\n",
        "    display(dadosgov_frame)\n",
        "    return\n"
      ],
      "execution_count": 18,
      "outputs": []
    },
    {
      "cell_type": "code",
      "metadata": {
        "id": "_tGdDMDPqADM"
      },
      "source": [
        "\n",
        "def query_site( query=''):\n",
        "    query = query.lower()\n",
        "    query = unidecode.unidecode(query)\n",
        "    query = re.sub('[^a-z\\s\\'\\\"]','',query)\n",
        "    query = re.sub('\\s+','+',query)\n",
        "    \n",
        "    url = 'https://dados.gov.br/dataset?q=%s' % query\n",
        "    dadosgov_frame = IPython.display.IFrame(src=url,width='100%',height='500px')\n",
        "    display(dadosgov_frame)\n",
        "    return dadosgov_frame\n",
        "\n"
      ],
      "execution_count": 19,
      "outputs": []
    },
    {
      "cell_type": "code",
      "metadata": {
        "id": "v8Xus5wqwaI7"
      },
      "source": [
        "\n",
        "get_query_page_url   = lambda h, q, p : h + '/dataset' + '?q=' + q + '&page=' + str(p)\n",
        "get_query_page_html  = lambda h, q, p : get_url_html( get_query_page_url( h, q, p ) )\n",
        "get_query_page_items = lambda h, q, p : get_html_items_href( get_query_page_html( h, q, p ) )\n",
        "get_query_items_href = lambda h, q    : plain([ get_query_page_items( h, q, p+1 ) for p in range( get_query_page_count( h, q ) ) ])\n"
      ],
      "execution_count": 20,
      "outputs": []
    },
    {
      "cell_type": "markdown",
      "metadata": {
        "id": "4gtGqwUlre5U"
      },
      "source": [
        "# Leitura"
      ]
    },
    {
      "cell_type": "markdown",
      "metadata": {
        "id": "3J3ny2yXrsDV"
      },
      "source": [
        "## argumentos"
      ]
    },
    {
      "cell_type": "code",
      "metadata": {
        "id": "9y4fbVLktdJN"
      },
      "source": [
        "query     = 'UFRN relação de docentes'\n",
        "hyperlink = 'https://dados.gov.br'"
      ],
      "execution_count": 21,
      "outputs": []
    },
    {
      "cell_type": "code",
      "metadata": {
        "id": "vIc1W-PHryA8"
      },
      "source": [
        "qri_label = ipywidgets.widgets.Label('Query')\n",
        "qri_text  = ipywidgets.widgets.Text(query)\n",
        "\n",
        "hyperlink_text  = ipywidgets.widgets.Text(hyperlink)\n",
        "hyperlink_label = ipywidgets.widgets.Label('Hyperlink')"
      ],
      "execution_count": 22,
      "outputs": []
    },
    {
      "cell_type": "code",
      "metadata": {
        "id": "HHdEygemtuyM"
      },
      "source": [
        "qri_box = ipywidgets.widgets.HBox([qri_label, qri_text])\n",
        "hyperlink_box = ipywidgets.widgets.HBox([hyperlink_label, hyperlink_text])"
      ],
      "execution_count": 23,
      "outputs": []
    },
    {
      "cell_type": "code",
      "metadata": {
        "id": "VhWkNldJsO4s",
        "colab": {
          "base_uri": "https://localhost:8080/",
          "height": 0,
          "referenced_widgets": [
            "6b17e2a78687498ab5994efdc93b715e",
            "3bd10b6f67ef41dc981828dad5da9b0d",
            "b47420cf07124f588c9115ce27eba39d",
            "399b840e21394b8d83316997ce57d510",
            "0fbcfa3cb9b94ce598f6a393f387717c",
            "17faa29ba4cd41048517794c1637f710",
            "46cab83209324e19998b94f17e849794",
            "f76df722d4eb4c90b13c082db0087e69",
            "1a2b2a1f57784cd2b2167011d14df7c3",
            "b82b1152714d49f18f057995cdacd489",
            "a2ef6767dc0c4b6abb7802f2c438ecf7",
            "db961adbc47b431fb0b6004575b05a79",
            "33d0cd3a466f413faff53a15a19a8755",
            "48ddcc2920a94e19b9ec4afef99f5114",
            "26bf94b05d1b4a1fa40e2427dc27f5bb",
            "26a4e1b14aff48a6afaf02a09163a211",
            "44273ac6140f474bb4731f4d23c4795a",
            "4148fa35c2024677a49bcc3e87792812"
          ]
        },
        "outputId": "523f66df-b747-4db5-e775-e9f3589f2e6f"
      },
      "source": [
        "display(ipywidgets.widgets.VBox([qri_box,hyperlink_box]))"
      ],
      "execution_count": 24,
      "outputs": [
        {
          "output_type": "display_data",
          "data": {
            "application/vnd.jupyter.widget-view+json": {
              "model_id": "6b17e2a78687498ab5994efdc93b715e",
              "version_minor": 0,
              "version_major": 2
            },
            "text/plain": [
              "VBox(children=(HBox(children=(Label(value='Query'), Text(value='UFRN relação de docentes'))), HBox(children=(L…"
            ]
          },
          "metadata": {
            "tags": []
          }
        }
      ]
    },
    {
      "cell_type": "code",
      "metadata": {
        "id": "bvzvt5E_wEKl"
      },
      "source": [
        "query     = qri_text.value\n",
        "hyperlink = hyperlink_text.value"
      ],
      "execution_count": 25,
      "outputs": []
    },
    {
      "cell_type": "code",
      "metadata": {
        "id": "huOvlIK65hSw"
      },
      "source": [
        "query_url = get_query_page_url(hyperlink,query,1)"
      ],
      "execution_count": 26,
      "outputs": []
    },
    {
      "cell_type": "code",
      "metadata": {
        "id": "POFmG501zWdK",
        "colab": {
          "base_uri": "https://localhost:8080/",
          "height": 0
        },
        "outputId": "097a4fdc-5413-4e0b-9686-5e5bf5e92ccb"
      },
      "source": [
        "show_url(query_url)"
      ],
      "execution_count": 27,
      "outputs": [
        {
          "output_type": "display_data",
          "data": {
            "text/html": [
              "\n",
              "        <iframe\n",
              "            width=\"100%\"\n",
              "            height=\"500px\"\n",
              "            src=\"https://dados.gov.br/dataset?q=UFRN relação de docentes&page=1\"\n",
              "            frameborder=\"0\"\n",
              "            allowfullscreen\n",
              "        ></iframe>\n",
              "        "
            ],
            "text/plain": [
              "<IPython.lib.display.IFrame at 0x7f91e8746790>"
            ]
          },
          "metadata": {
            "tags": []
          }
        }
      ]
    },
    {
      "cell_type": "markdown",
      "metadata": {
        "id": "xON07H_IrPOM"
      },
      "source": [
        "## leitura"
      ]
    },
    {
      "cell_type": "code",
      "metadata": {
        "id": "h10v9R53wd6L",
        "colab": {
          "base_uri": "https://localhost:8080/"
        },
        "outputId": "1bc6c548-2962-4313-d442-b2b4d1f328a9"
      },
      "source": [
        "page_count = get_query_page_count( hyperlink, query )\n",
        "page_count"
      ],
      "execution_count": 28,
      "outputs": [
        {
          "output_type": "execute_result",
          "data": {
            "text/plain": [
              "1"
            ]
          },
          "metadata": {
            "tags": []
          },
          "execution_count": 28
        }
      ]
    },
    {
      "cell_type": "code",
      "metadata": {
        "id": "s-r8DtUz-wKZ"
      },
      "source": [
        "resources = []\n",
        "items_href = get_query_items_href(hyperlink,query)"
      ],
      "execution_count": 29,
      "outputs": []
    },
    {
      "cell_type": "code",
      "metadata": {
        "id": "55V8Pwrqrqnc",
        "colab": {
          "base_uri": "https://localhost:8080/",
          "height": 539
        },
        "outputId": "f294ca92-3e9a-42c5-cbdd-c82d5d844f97"
      },
      "source": [
        "ih = 0\n",
        "\n",
        "print(hyperlink + items_href[ih])\n",
        "show_url(hyperlink + items_href[ih])"
      ],
      "execution_count": 30,
      "outputs": [
        {
          "output_type": "stream",
          "text": [
            "https://dados.gov.br/dataset/docentes\n"
          ],
          "name": "stdout"
        },
        {
          "output_type": "display_data",
          "data": {
            "text/html": [
              "\n",
              "        <iframe\n",
              "            width=\"100%\"\n",
              "            height=\"500px\"\n",
              "            src=\"https://dados.gov.br/dataset/docentes\"\n",
              "            frameborder=\"0\"\n",
              "            allowfullscreen\n",
              "        ></iframe>\n",
              "        "
            ],
            "text/plain": [
              "<IPython.lib.display.IFrame at 0x7f91e8bc4e90>"
            ]
          },
          "metadata": {
            "tags": []
          }
        }
      ]
    },
    {
      "cell_type": "code",
      "metadata": {
        "id": "-Y6YqmrGqirM",
        "colab": {
          "base_uri": "https://localhost:8080/"
        },
        "outputId": "3a58b08d-d8d9-49fd-ea62-152e4f0d551b"
      },
      "source": [
        "import pandas\n",
        "\n",
        "for item_href in items_href:\n",
        "    item_url = hyperlink + item_href\n",
        "\n",
        "    print('\\n\\n\\t', item_url, end='\\n\\n')\n",
        "    dataset_html   = get_url_html( item_url )\n",
        "\n",
        "    dataset        = get_html_dataset( dataset_html )\n",
        "    license        = get_html_dataset_license ( dataset_html )\n",
        "    resources_href = get_html_dataset_resources_href( dataset_html )\n",
        "\n",
        "    for resource_href in resources_href:\n",
        "        resource_url  = hyperlink + resource_href \n",
        "\n",
        "        resource_html = get_url_html( resource_url )  \n",
        "        resource_dict = get_html_resource_info(resource_html)\n",
        "\n",
        "        a = 'http://landpage-h.cgu.gov.br/dadosabertos/index.php?url='\n",
        "\n",
        "        if resource_dict['url']:\n",
        "            resource_dict['url_out'] = resource_dict['url'].replace(a,'')\n",
        "        else:\n",
        "            resource_dict['url_out'] = None\n",
        "        resource_dict['dataset'] = dataset.copy()\n",
        "        resource_dict['license'] = license\n",
        "\n",
        "        print('\\t\\t',resource_dict['url_out'], end='\\n')\n",
        "\n",
        "        resources.append( resource_dict )\n",
        "    \n"
      ],
      "execution_count": 43,
      "outputs": [
        {
          "output_type": "stream",
          "text": [
            "\n",
            "\n",
            "\t https://dados.gov.br/dataset/docentes\n",
            "\n"
          ],
          "name": "stdout"
        },
        {
          "output_type": "stream",
          "text": [
            "/usr/local/lib/python3.7/dist-packages/ipykernel_launcher.py:5: FutureWarning: The behavior of this method will change in future versions. Use specific 'len(elem)' or 'elem is not None' test instead.\n",
            "  \"\"\"\n"
          ],
          "name": "stderr"
        },
        {
          "output_type": "stream",
          "text": [
            "\t\t http://dados.ufrn.br/dataset/8bf1a468-48ff-4f4d-95ee-b17b7a3a5592/resource/ff0a457e-76fa-4aca-ad99-48aebd7db070/download/docentes.csv\n",
            "\t\t http://dados.ufrn.br/dataset/8bf1a468-48ff-4f4d-95ee-b17b7a3a5592/resource/83988d39-6dd6-4003-91ca-b5ebdbe740f5/download/docentesdicionario.pdf\n",
            "\n",
            "\n",
            "\t https://dados.gov.br/dataset/relacao-de-servidores-docentes\n",
            "\n",
            "\t\t https://dados.ufrr.br/dataset/52722fb1-ea4b-4c07-978f-4ecba4c32b51/resource/776ab277-906f-472e-a325-6e43137f8feb/download/relacao-de-docentes.csv\n",
            "\t\t https://dados.ufrr.br/dataset/52722fb1-ea4b-4c07-978f-4ecba4c32b51/resource/c2e9f6fb-09dd-432b-ae78-38548772218a/download/dicionario-de-dados_relacao-de-docentes-da-ufrr.pdf\n",
            "\n",
            "\n",
            "\t https://dados.gov.br/dataset/relacao-docentes-ativos\n",
            "\n",
            "\t\t https://dados.ufrr.br/dataset/80850532-2121-4191-86e6-79f0a57cb30b/resource/19973135-258f-4263-9fc0-c942c19fd5b6/download/dicionario-de-dados_relacao-de-docentes-ativos-na-ufrr.pdf\n",
            "\t\t https://dados.ufrr.br/dataset/80850532-2121-4191-86e6-79f0a57cb30b/resource/d0f090bd-600b-4ecf-af4e-077c3ee0f5e9/download/relacao-de-docentes-ativos-na-ufrr.csv\n",
            "\n",
            "\n",
            "\t https://dados.gov.br/dataset/docentes-2017\n",
            "\n",
            "\t\t http://dadosabertos.ufma.br/dataset/334d89c8-629f-49c5-aa06-171e35c1d33b/resource/1b8ac54e-6ecf-4079-9dd7-cf3a7f81eab1/download/metadados_rh_docentes.pdf\n",
            "\t\t http://dadosabertos.ufma.br/dataset/334d89c8-629f-49c5-aa06-171e35c1d33b/resource/69e18121-8297-4596-88b0-f2aea9837148/download/docentes_-_2017.csv\n",
            "\t\t http://dadosabertos.ufma.br/dataset/334d89c8-629f-49c5-aa06-171e35c1d33b/resource/c02019a8-6afb-4684-b4d8-407e9af1953b/download/docentes_-_2018.csv\n",
            "\t\t http://dadosabertos.ufma.br/dataset/334d89c8-629f-49c5-aa06-171e35c1d33b/resource/026f8e6a-f042-45c4-93c9-d1c2e78c2bb8/download/docentes_-_2019.csv\n",
            "\n",
            "\n",
            "\t https://dados.gov.br/dataset/docentes2\n",
            "\n",
            "\t\t http://ckan.ifc.edu.br/dataset/2142f66e-5b2c-4767-b143-704c510d395c/resource/709bee44-2278-4abe-a09c-1a7cd9f0c4b4/download/dicionario-dados-docentes.pdf\n",
            "\t\t http://ckan.ifc.edu.br/dataset/2142f66e-5b2c-4767-b143-704c510d395c/resource/1ce4833a-217b-470e-92e8-c0e63b75f97c/download/docentes-dez2018.csv\n",
            "\n",
            "\n",
            "\t https://dados.gov.br/dataset/docentes-ifg\n",
            "\n",
            "\t\t https://ifg.edu.br/attachments/article/6469/docentes_ifg.pdf\n",
            "\t\t https://barramento.ifg.edu.br/ifg_barramento_ws/ws/402\n",
            "\n",
            "\n",
            "\t https://dados.gov.br/dataset/cursos-ufrn\n",
            "\n",
            "\t\t http://dados.ufrn.br/dataset/08b0dc59-faa9-4281-bd1e-2a39f532489e/resource/949be3d1-e85b-4d0f-9f60-1d9a7484bb06/download/cursos-ufrn.csv\n",
            "\t\t http://dados.ufrn.br/dataset/08b0dc59-faa9-4281-bd1e-2a39f532489e/resource/b4546812-20c4-42e9-a126-0e597d25f7ad/download/dicionario-de-dados---cursos-da-ufrn.pdf\n",
            "\n",
            "\n",
            "\t https://dados.gov.br/dataset/docentes3\n",
            "\n",
            "\t\t https://dados.ufrgs.br/dataset/a1443875-3cd0-4a40-8b02-d446625c48d5/resource/a1dbff01-c3c9-4e59-992d-b9426981c960/download/dadosabertos_pessoal_docentes.csv\n",
            "\t\t https://dados.ufrgs.br/dataset/a1443875-3cd0-4a40-8b02-d446625c48d5/resource/4963e2e6-8315-498f-91f8-9996dff49b77/download/docentes-dicionario.pdf\n",
            "\n",
            "\n",
            "\t https://dados.gov.br/dataset/perfil-corpo-docente\n",
            "\n",
            "\t\t http://dados.ufpi.br/dataset/636f0d08-eab2-4b80-a211-6f3f1fcece7a/resource/a34d7d7e-30af-41f0-81cf-cd10b6f078bd/download/docentes_novo.csv\n",
            "\t\t http://dados.ufpi.br/dataset/636f0d08-eab2-4b80-a211-6f3f1fcece7a/resource/8616662c-eaea-42c5-93ba-be42ad07dc80/download/dicionario-de-docentes_ativos.pdf\n",
            "\n",
            "\n",
            "\t https://dados.gov.br/dataset/perfil-dos-professores\n",
            "\n",
            "\t\t http://dados.ufop.br/dataset/1f37b440-1c01-43f8-ac8f-8c1e632a6288/resource/ced9450d-ab54-40ae-9451-8388cbb3cc43/download/dicionario-de-dados-dados-funcionais-de-docentes.pdf\n",
            "\t\t http://dados.ufop.br/dataset/1f37b440-1c01-43f8-ac8f-8c1e632a6288/resource/0a2d0f9f-35b9-417c-b53b-2c9aee3e5d33/download/perfil-do-docente-nome-setor-de-lotacao-titulacao-regime-de-trabalho.csv\n",
            "\n",
            "\n",
            "\t https://dados.gov.br/dataset/relacao-de-servidores-ativos\n",
            "\n",
            "\t\t http://ckan.unifesspa.edu.br/dataset/f450ff1b-5343-45ba-9486-00098eb7da0d/resource/e86eb704-2fb2-441c-a860-1d0cd76bd0bd/download/20180314servidoresativos.csv\n",
            "\t\t http://ckan.unifesspa.edu.br/dataset/f450ff1b-5343-45ba-9486-00098eb7da0d/resource/000e3988-b351-4f29-8e56-7a24b2f1d0ea/download/dicionario-de-dados-servidores-docentes-com-titulacao-academica.pdf\n",
            "\t\t http://ckan.unifesspa.edu.br/dataset/f450ff1b-5343-45ba-9486-00098eb7da0d/resource/ce2adc3a-b4e8-4dad-a60e-b892f87fd4b7/download/servidores-docentes-titulacao-acad-unifesspa-mar19.csv\n",
            "\t\t http://ckan.unifesspa.edu.br/dataset/f450ff1b-5343-45ba-9486-00098eb7da0d/resource/0bb9c819-fcbb-4d5b-b176-4c3185c75f9b/download/servidores-docentes-titulacao-acad-unifesspa-abr19.csv\n",
            "\t\t http://ckan.unifesspa.edu.br/dataset/f450ff1b-5343-45ba-9486-00098eb7da0d/resource/36f8088c-85d2-4189-a3c0-d83463c64ff7/download/servidores-docentes-titulacao-acad-unifesspa-mai19.csv\n",
            "\t\t http://ckan.unifesspa.edu.br/dataset/f450ff1b-5343-45ba-9486-00098eb7da0d/resource/cb9ec680-cedc-4329-91a7-9fff9c9218dd/download/servidores-docentes-titulacao-acad-unifesspa-jun19-ok.csv\n",
            "\t\t http://ckan.unifesspa.edu.br/dataset/f450ff1b-5343-45ba-9486-00098eb7da0d/resource/55ac9f06-c702-4412-833c-2b033bf664e7/download/4---servidores-docentes-titulacao-acad-unifesspa-jul19.csv\n",
            "\t\t http://ckan.unifesspa.edu.br/dataset/f450ff1b-5343-45ba-9486-00098eb7da0d/resource/bd7d0749-f1af-455e-8d40-9fbc7e56fb6c/download/servidores-docentes-titulacao-acad-unifesspa-ago19.csv\n",
            "\t\t http://ckan.unifesspa.edu.br/dataset/f450ff1b-5343-45ba-9486-00098eb7da0d/resource/fcd27073-49d0-4774-bb92-b5e30678b009/download/servidores-docentes-titulacao-acad-unifesspa-set19-ok.csv\n",
            "\t\t http://ckan.unifesspa.edu.br/dataset/f450ff1b-5343-45ba-9486-00098eb7da0d/resource/d6a64f69-bb66-4235-bd7a-ae812f4c92d3/download/servidores-docentes-titulacao-acad-unifesspa-out19.csv\n",
            "\t\t http://ckan.unifesspa.edu.br/dataset/f450ff1b-5343-45ba-9486-00098eb7da0d/resource/e29b8647-47b3-4aef-996e-e11c18191ad3/download/servidores-docentes-titulacao-acad-unifesspa-nov19.csv\n",
            "\t\t http://ckan.unifesspa.edu.br/dataset/f450ff1b-5343-45ba-9486-00098eb7da0d/resource/eff99b8c-09d3-453b-b7dd-1de846ab18a7/download/servidores-docentes-titulacao-acad-unifesspa-dez19.csv\n",
            "\t\t http://ckan.unifesspa.edu.br/dataset/f450ff1b-5343-45ba-9486-00098eb7da0d/resource/5b5fa623-77ff-440d-9a5c-d095d839305b/download/3.csv\n",
            "\t\t http://ckan.unifesspa.edu.br/dataset/f450ff1b-5343-45ba-9486-00098eb7da0d/resource/39580c51-d880-40e8-9ef6-7cb6af22be18/download/3-2.csv\n",
            "\t\t http://ckan.unifesspa.edu.br/dataset/f450ff1b-5343-45ba-9486-00098eb7da0d/resource/dc268f77-74d4-46bc-803f-222c80ca3aae/download/servidores-docentes-titulacao-acad-unifesspa-mar20.csv\n",
            "\t\t http://ckan.unifesspa.edu.br/dataset/f450ff1b-5343-45ba-9486-00098eb7da0d/resource/3b0f0d43-cfd3-47b9-a076-37b06b7601a7/download/servidores-docentes-titulacao-acad-unifesspa-abr2020.csv\n",
            "\t\t http://ckan.unifesspa.edu.br/dataset/f450ff1b-5343-45ba-9486-00098eb7da0d/resource/699e2ce6-a8e7-4c8a-b865-ef6c3e338ca8/download/servidores-docentes-titulacao-acad-unifesspa-mai2020.csv\n",
            "\t\t http://ckan.unifesspa.edu.br/dataset/f450ff1b-5343-45ba-9486-00098eb7da0d/resource/314106ce-b274-46f7-b913-aa951f9c8695/download/servidores-docentes-titulacao-acad-unifesspa-jun20.csv\n",
            "\t\t http://ckan.unifesspa.edu.br/dataset/f450ff1b-5343-45ba-9486-00098eb7da0d/resource/8d8961a0-78ec-46c5-84da-571baca21bbd/download/servidores-docentes-titulacao-acad-unifesspa-julho2020.csv\n",
            "\t\t http://ckan.unifesspa.edu.br/dataset/f450ff1b-5343-45ba-9486-00098eb7da0d/resource/60512e39-cbf9-49b5-9c54-b5fc8e25584a/download/servidores-docentes-titulacao-acad-unifesspa-ago-2020.csv\n",
            "\t\t http://ckan.unifesspa.edu.br/dataset/f450ff1b-5343-45ba-9486-00098eb7da0d/resource/8d246d5d-ece7-4636-aa53-71cfd0f3a72f/download/servidores-docentes-titulacao-acad-unifesspa-set2020.csv\n",
            "\t\t http://ckan.unifesspa.edu.br/dataset/f450ff1b-5343-45ba-9486-00098eb7da0d/resource/3b22c485-6a4d-4ea2-beae-d8aad7ebbab6/download/servidores-docentes-titulacao-acad-unifesspa-out2020.csv\n",
            "\t\t http://ckan.unifesspa.edu.br/dataset/f450ff1b-5343-45ba-9486-00098eb7da0d/resource/468c0061-c909-47f7-acf8-13fc9311b063/download/servidores-docentes-titulacao-acad-unifesspa-nov2020.csv\n",
            "\t\t http://ckan.unifesspa.edu.br/dataset/f450ff1b-5343-45ba-9486-00098eb7da0d/resource/b2d13624-cf7a-4d38-94cc-094608f69a08/download/servidores-docentes-titulacao-acad-unifesspa-dez2020.csv\n",
            "\t\t http://ckan.unifesspa.edu.br/dataset/f450ff1b-5343-45ba-9486-00098eb7da0d/resource/e1b224ec-e03e-4534-b388-662ef22f3910/download/servidores-docentes-titulacao-acad-unifesspa-jan-2021.csv\n",
            "\n",
            "\n",
            "\t https://dados.gov.br/dataset/publicacoes-de-livros-e-capitulos\n",
            "\n",
            "\t\t http://dados.ufrn.br/dataset/bf5e6b2f-87af-495b-bd81-e509c81ea2d6/resource/4692063e-be2b-418d-a77a-ac4026749d72/download/publicacoes-livros-capitulos-2010.csv\n",
            "\t\t http://dados.ufrn.br/dataset/bf5e6b2f-87af-495b-bd81-e509c81ea2d6/resource/e3082bd8-98ac-4ff0-8b37-207f1648e398/download/publicacoes-livros-capitulos-2011.csv\n",
            "\t\t http://dados.ufrn.br/dataset/bf5e6b2f-87af-495b-bd81-e509c81ea2d6/resource/1e0daaa0-23fa-4e57-8846-5aa34ff78c74/download/publicacoes-livros-capitulos-2012.csv\n",
            "\t\t http://dados.ufrn.br/dataset/bf5e6b2f-87af-495b-bd81-e509c81ea2d6/resource/61bfbf96-1052-4172-b0f2-f90d48b91bfb/download/publicacoes-livros-capitulos-2013.csv\n",
            "\t\t http://dados.ufrn.br/dataset/bf5e6b2f-87af-495b-bd81-e509c81ea2d6/resource/79412ea8-1075-453e-aa95-1b0883a63b13/download/publicacoes-livros-capitulos-2014.csv\n",
            "\t\t http://dados.ufrn.br/dataset/bf5e6b2f-87af-495b-bd81-e509c81ea2d6/resource/6ddb5eca-e588-4913-b266-03dbb5bd7a8b/download/publicacoes-livros-capitulos-2015.csv\n",
            "\t\t http://dados.ufrn.br/dataset/bf5e6b2f-87af-495b-bd81-e509c81ea2d6/resource/a0c78e12-ed6f-4075-b686-577eff73d797/download/publicacoes-livros-capitulos-2016.csv\n",
            "\t\t http://dados.ufrn.br/dataset/bf5e6b2f-87af-495b-bd81-e509c81ea2d6/resource/d7d7ca25-e47d-48ae-a370-64d4779da1a7/download/publicacoes-livros-capitulos-2017.csv\n",
            "\t\t http://dados.ufrn.br/dataset/bf5e6b2f-87af-495b-bd81-e509c81ea2d6/resource/1fa782d4-9e6b-4737-847e-d0d87d7227fe/download/publicacoes-livros-capitulos-2018.csv\n",
            "\t\t http://dados.ufrn.br/dataset/bf5e6b2f-87af-495b-bd81-e509c81ea2d6/resource/eb76198e-8fdc-4e71-98b3-5bd801b3cfcb/download/publicacoes-livros-capitulos-2019.csv\n",
            "\t\t http://dados.ufrn.br/dataset/bf5e6b2f-87af-495b-bd81-e509c81ea2d6/resource/1869eda4-f9bf-4ff8-9c59-798fa137300a/download/publicacoes-livros-capitulos-2020.csv\n",
            "\t\t http://dados.ufrn.br/dataset/bf5e6b2f-87af-495b-bd81-e509c81ea2d6/resource/9ca53f2e-e0b2-4093-b9aa-e6853e108652/download/dicionario-de-dados---publicacoes-de-livros-e-capitulos.pdf\n",
            "\n",
            "\n",
            "\t https://dados.gov.br/dataset/concursos-publicos-docentes\n",
            "\n",
            "\t\t http://dadosabertos.ufma.br/dataset/03ef14c1-5b4d-41b3-8208-c0d6f6032d1c/resource/8ba54959-895a-4840-88aa-74eed5d3f9fd/download/rh_concursos_docentes.csv\n",
            "\t\t http://dadosabertos.ufma.br/dataset/03ef14c1-5b4d-41b3-8208-c0d6f6032d1c/resource/6d543811-d140-4218-8a7e-e7f38212bed6/download/metadados_rh_concursos_docentes.pdf\n",
            "\t\t http://dadosabertos.ufma.br/dataset/03ef14c1-5b4d-41b3-8208-c0d6f6032d1c/resource/bb3fba58-5711-4e73-a412-3c41577dcdbb/download/2018-2019_concursos_docentes.csv\n",
            "\n",
            "\n",
            "\t https://dados.gov.br/dataset/trabalhos-em-eventos\n",
            "\n",
            "\t\t http://dados.ufrn.br/dataset/37b4d9e1-e17f-44fd-91f3-416d67ec221a/resource/d60cf147-e6c5-44cd-b875-8c949284800c/download/publicacoes-trabalhos-em-eventos-2010.csv\n",
            "\t\t http://dados.ufrn.br/dataset/37b4d9e1-e17f-44fd-91f3-416d67ec221a/resource/83101c4c-75f7-473b-9034-7d546d684137/download/publicacoes-trabalhos-em-eventos-2011.csv\n",
            "\t\t http://dados.ufrn.br/dataset/37b4d9e1-e17f-44fd-91f3-416d67ec221a/resource/1f7d1a71-352d-4702-a122-d69ded386e2b/download/publicacoes-trabalhos-em-eventos-2012.csv\n",
            "\t\t http://dados.ufrn.br/dataset/37b4d9e1-e17f-44fd-91f3-416d67ec221a/resource/d6332fdc-eb2d-48c8-9da9-1fdcac472065/download/publicacoes-trabalhos-em-eventos-2013.csv\n",
            "\t\t http://dados.ufrn.br/dataset/37b4d9e1-e17f-44fd-91f3-416d67ec221a/resource/ac62d219-ea4d-40b8-b3c0-bef49f3d7c66/download/publicacoes-trabalhos-em-eventos-2014.csv\n",
            "\t\t http://dados.ufrn.br/dataset/37b4d9e1-e17f-44fd-91f3-416d67ec221a/resource/9af8f1bc-bf28-4bc4-a1ef-29c5c295f665/download/publicacoes-trabalhos-em-eventos-2015.csv\n",
            "\t\t http://dados.ufrn.br/dataset/37b4d9e1-e17f-44fd-91f3-416d67ec221a/resource/38c3579c-f817-4f65-90c9-654049abb4e3/download/publicacoes-trabalhos-em-eventos-2016.csv\n",
            "\t\t http://dados.ufrn.br/dataset/37b4d9e1-e17f-44fd-91f3-416d67ec221a/resource/99eb222c-dd0f-4ed5-867b-558d4cafe00d/download/publicacoes-trabalhos-em-eventos-2017.csv\n",
            "\t\t http://dados.ufrn.br/dataset/37b4d9e1-e17f-44fd-91f3-416d67ec221a/resource/a321dba4-eb8a-4aca-83de-93a7dff2f493/download/publicacoes-trabalhos-em-eventos-2014.csv\n",
            "\t\t http://dados.ufrn.br/dataset/37b4d9e1-e17f-44fd-91f3-416d67ec221a/resource/b5ad8f27-a318-4279-9ff8-1d42999009fc/download/publicacoes-trabalhos-em-eventos-2014.csv\n",
            "\t\t http://dados.ufrn.br/dataset/37b4d9e1-e17f-44fd-91f3-416d67ec221a/resource/4ba62642-c485-41cb-8fab-d14711232ac2/download/publicacoes-trabalhos-em-eventos-2020.csv\n",
            "\t\t http://dados.ufrn.br/dataset/37b4d9e1-e17f-44fd-91f3-416d67ec221a/resource/4ac187c4-940f-4e53-a8ad-78a95a727e62/download/dicionario-de-dados---trabalhos-em-eventos.pdf\n",
            "\n",
            "\n",
            "\t https://dados.gov.br/dataset/orientacoes-docentes\n",
            "\n",
            "\t\t http://dados.ufrn.br/dataset/1a21faeb-23a8-49a9-94c8-5abafa4825b5/resource/9a42ee8c-a59f-414e-af74-1d4e1a8316ef/download/orientacoes2019.csv\n",
            "\t\t http://dados.ufrn.br/dataset/1a21faeb-23a8-49a9-94c8-5abafa4825b5/resource/152b07dc-5b97-40dc-90a6-ab9de667f8e1/download/orientacoes2018.csv\n",
            "\t\t http://dados.ufrn.br/dataset/1a21faeb-23a8-49a9-94c8-5abafa4825b5/resource/fb0213f6-d4ae-41b1-8264-efbff24b3051/download/orientacoes2017.csv\n",
            "\t\t http://dados.ufrn.br/dataset/1a21faeb-23a8-49a9-94c8-5abafa4825b5/resource/3fa37647-3b6e-4ad1-abf8-b66ef589dae3/download/orientacoes2016.csv\n",
            "\t\t http://dados.ufrn.br/dataset/1a21faeb-23a8-49a9-94c8-5abafa4825b5/resource/0391561f-dc9e-422c-8d04-f4933fcb4bb3/download/orientacoes2015.csv\n",
            "\t\t http://dados.ufrn.br/dataset/1a21faeb-23a8-49a9-94c8-5abafa4825b5/resource/da29def9-46c0-487d-8853-a319c9fc7648/download/orientacoes2014.csv\n",
            "\t\t http://dados.ufrn.br/dataset/1a21faeb-23a8-49a9-94c8-5abafa4825b5/resource/5cb1eea7-e384-4f02-9df9-d1afbf61895e/download/orientacoes2013.csv\n",
            "\t\t http://dados.ufrn.br/dataset/1a21faeb-23a8-49a9-94c8-5abafa4825b5/resource/3f8efef4-21fa-49e0-abf1-20066085ced7/download/orientacoes2012.csv\n",
            "\t\t http://dados.ufrn.br/dataset/1a21faeb-23a8-49a9-94c8-5abafa4825b5/resource/763e23e4-018d-4adf-9615-b882dc4e1a0d/download/orientacoes2011.csv\n",
            "\t\t http://dados.ufrn.br/dataset/1a21faeb-23a8-49a9-94c8-5abafa4825b5/resource/851cadcb-9167-452d-bef4-de4def8631a7/download/orientacoes2010.csv\n",
            "\t\t http://dados.ufrn.br/dataset/1a21faeb-23a8-49a9-94c8-5abafa4825b5/resource/3c507622-aefb-47d2-8e6c-2dc5234a1be4/download/orientacoes2009.csv\n",
            "\t\t http://dados.ufrn.br/dataset/1a21faeb-23a8-49a9-94c8-5abafa4825b5/resource/c1cd05f7-90ae-4558-9186-48aabf24b380/download/orientacoes2008.csv\n",
            "\t\t http://dados.ufrn.br/dataset/1a21faeb-23a8-49a9-94c8-5abafa4825b5/resource/8a16e5cb-ebda-41e3-91ba-3e1e1ce97b62/download/orientacoes2007.csv\n",
            "\t\t http://dados.ufrn.br/dataset/1a21faeb-23a8-49a9-94c8-5abafa4825b5/resource/2711956c-b4e3-40ac-a9d5-1f7318bf853d/download/orientacoes2006.csv\n",
            "\t\t http://dados.ufrn.br/dataset/1a21faeb-23a8-49a9-94c8-5abafa4825b5/resource/fa929867-efd5-4d42-bcf9-08057fec4c8b/download/orientacoes2005.csv\n",
            "\t\t http://dados.ufrn.br/dataset/1a21faeb-23a8-49a9-94c8-5abafa4825b5/resource/9988f113-c642-42fe-875c-14de32e4eff2/download/dicionario-de-dados---orientacoes-de-docentes.pdf\n",
            "\t\t http://dados.ufrn.br/dataset/1a21faeb-23a8-49a9-94c8-5abafa4825b5/resource/a153a006-bccd-4d1d-be5a-289473843301/download/orientacoes2020.csv\n",
            "\n",
            "\n",
            "\t https://dados.gov.br/dataset/planos-individuais-docentes\n",
            "\n",
            "\t\t http://dados.ufrn.br/dataset/ea03b616-16e0-4ddd-afde-4f21d7343540/resource/ddd195fd-9b25-4799-9f45-1ce65d99e982/download/dicionario-de-dados-pid.pdf\n",
            "\t\t http://dados.ufrn.br/dataset/ea03b616-16e0-4ddd-afde-4f21d7343540/resource/2e65d53c-b494-4d73-b18b-9989947e7e08/download/pids-20091.json\n",
            "\t\t http://dados.ufrn.br/dataset/ea03b616-16e0-4ddd-afde-4f21d7343540/resource/e2d3914e-da6d-41d9-b961-f5c6e38f2f99/download/pids-20092.json\n",
            "\t\t http://dados.ufrn.br/dataset/ea03b616-16e0-4ddd-afde-4f21d7343540/resource/cd317054-7153-4f1f-8e38-27277c47619a/download/pids-20101.json\n",
            "\t\t http://dados.ufrn.br/dataset/ea03b616-16e0-4ddd-afde-4f21d7343540/resource/7e692af5-1bbc-49aa-9847-3698237692b0/download/pids-20102.json\n",
            "\t\t http://dados.ufrn.br/dataset/ea03b616-16e0-4ddd-afde-4f21d7343540/resource/8c0dced1-00a5-412f-9b83-ebd798d397f2/download/pids-20111.json\n",
            "\t\t http://dados.ufrn.br/dataset/ea03b616-16e0-4ddd-afde-4f21d7343540/resource/41f6f304-3be9-4980-80f6-a8b0cab60a15/download/pids-20112.json\n",
            "\t\t http://dados.ufrn.br/dataset/ea03b616-16e0-4ddd-afde-4f21d7343540/resource/600df798-2bd9-45ad-8c85-75a0c01c7fce/download/pids-20121.json\n",
            "\t\t http://dados.ufrn.br/dataset/ea03b616-16e0-4ddd-afde-4f21d7343540/resource/9b412dac-dcd4-48ca-8b11-8898b487ca2c/download/pids-20122.json\n",
            "\t\t http://dados.ufrn.br/dataset/ea03b616-16e0-4ddd-afde-4f21d7343540/resource/260f67fc-a335-45d7-a5de-b7cd4eebae09/download/pids-20131.json\n",
            "\t\t http://dados.ufrn.br/dataset/ea03b616-16e0-4ddd-afde-4f21d7343540/resource/84ee16e3-ecef-4cd6-8de1-6f049ad733b6/download/pids-20132.json\n",
            "\t\t http://dados.ufrn.br/dataset/ea03b616-16e0-4ddd-afde-4f21d7343540/resource/dc4a9af3-158d-4032-be3f-3ee5b043f7ae/download/pids-20141.json\n",
            "\t\t http://dados.ufrn.br/dataset/ea03b616-16e0-4ddd-afde-4f21d7343540/resource/330d377c-447b-4cf3-819f-af6787a16084/download/pids-20142.json\n",
            "\t\t http://dados.ufrn.br/dataset/ea03b616-16e0-4ddd-afde-4f21d7343540/resource/036037fc-56e2-4a5c-9815-af342bede98f/download/pids-20151.json\n",
            "\t\t http://dados.ufrn.br/dataset/ea03b616-16e0-4ddd-afde-4f21d7343540/resource/eef93610-86f4-4724-85a4-e5785e9bbb92/download/pids-20152.json\n",
            "\t\t http://dados.ufrn.br/dataset/ea03b616-16e0-4ddd-afde-4f21d7343540/resource/b98a7358-6cc7-4bac-94bc-0a0335fad139/download/pids-20161.json\n",
            "\t\t http://dados.ufrn.br/dataset/ea03b616-16e0-4ddd-afde-4f21d7343540/resource/8c20a9f7-c6cb-4209-a1fa-40de7dffc798/download/pids-20162.json\n",
            "\t\t http://dados.ufrn.br/dataset/ea03b616-16e0-4ddd-afde-4f21d7343540/resource/0e1cb11c-6ca1-4625-8908-fc8969ceda55/download/pids-20171.json\n",
            "\t\t http://dados.ufrn.br/dataset/ea03b616-16e0-4ddd-afde-4f21d7343540/resource/51ee9f55-b48d-4552-a758-aaeab4adb268/download/pids-20172.json\n",
            "\t\t http://dados.ufrn.br/dataset/ea03b616-16e0-4ddd-afde-4f21d7343540/resource/e42bb7d2-8d33-444c-bf24-d68d6ef224a0/download/pids-20181.json\n",
            "\t\t http://dados.ufrn.br/dataset/ea03b616-16e0-4ddd-afde-4f21d7343540/resource/099d0284-94a3-477b-808c-8aa4872b810e/download/pids-20182.json\n",
            "\t\t http://dados.ufrn.br/dataset/ea03b616-16e0-4ddd-afde-4f21d7343540/resource/16145a40-282d-4068-b43a-9117c99ae926/download/pids-20191.json\n",
            "\t\t http://dados.ufrn.br/dataset/ea03b616-16e0-4ddd-afde-4f21d7343540/resource/9d7b1dca-0606-4b66-be5b-7731ca842670/download/pids-20192.json\n",
            "\t\t http://dados.ufrn.br/dataset/ea03b616-16e0-4ddd-afde-4f21d7343540/resource/6fc9d64f-35e5-449d-a013-f614f398ac6d/download/pids-20201.json\n",
            "\n",
            "\n",
            "\t https://dados.gov.br/dataset/avaliacoes-de-desempenho-de-docentes\n",
            "\n",
            "\t\t http://dados.ufrn.br/dataset/e3536933-52ec-4ab2-aae6-1dad48f31d2c/resource/28f2570b-170b-43af-a43e-8f0c56b1872c/download/dicionario---avaliacoes-de-desempenho-de-docentes.pdf\n",
            "\t\t http://dados.ufrn.br/dataset/e3536933-52ec-4ab2-aae6-1dad48f31d2c/resource/21808e6c-4a01-409d-b97c-404c2dd5a24b/download/avaliacao-desempenho-docente.csv\n",
            "\n",
            "\n",
            "\t https://dados.gov.br/dataset/docentes4\n",
            "\n",
            "\t\t http://dados.ufrb.edu.br/dataset/a058fc7b-6a3a-4bbb-9225-a37eb2309408/resource/2a7f5ce0-fdce-44f9-8ddb-24e81ebbcafa/download/docentes.csv\n",
            "\t\t http://dados.ufrb.edu.br/dataset/a058fc7b-6a3a-4bbb-9225-a37eb2309408/resource/f2d43f28-3ad3-4160-8690-c3a95e8cc4e0/download/docentes.xls\n",
            "\n",
            "\n",
            "\t https://dados.gov.br/dataset/relacao-de-docentes-ativos-na-ufrr\n",
            "\n",
            "\t\t https://dados.ufrr.br/dataset/b3f6fd5e-bcc0-4582-8624-68489022c4b5/resource/a7dd7c61-bbfc-43f2-b982-18232ab72bf6/download/relacao-de-docentes-ativos-na-ufrr.csv\n",
            "\t\t https://dados.ufrr.br/dataset/b3f6fd5e-bcc0-4582-8624-68489022c4b5/resource/3e9c9e33-4b97-4e57-8a61-c2bf46021aa1/download/dicionario-de-dados_relacao-de-docentes-ativos-na-ufrr.pdf\n",
            "\n",
            "\n",
            "\t https://dados.gov.br/dataset/relacao-de-servidores-docentes-e-tecnico-administrativos-da-ativa\n",
            "\n",
            "\t\t https://dados.ufvjm.edu.br/dataset/relacao_de_servidores_docentes_e_tecnico-administrativos_da_ativa/resource/7468b27f-3c3f-4055-8734-c6358fa64311\n",
            "\t\t https://dados.ufvjm.edu.br/dataset/relacao_de_servidores_docentes_e_tecnico-administrativos_da_ativa/resource/e1f95637-fa3b-4dcd-bcc3-68120c5ebc2a\n"
          ],
          "name": "stdout"
        }
      ]
    },
    {
      "cell_type": "code",
      "metadata": {
        "id": "MOA1Cgzof6o2"
      },
      "source": [
        "for r,resource in enumerate(resources):\n",
        "    d2 = resources[r].copy()\n",
        "    for field,value in sorted(resource.items(),key=lambda e: e[0]):\n",
        "        value = d2[field]\n",
        "        if isinstance(value, dict):\n",
        "            for key, door in value.items():\n",
        "                d2[field+'_'+key] = door\n",
        "            d2.pop(field)\n",
        "    resources[r] = d2"
      ],
      "execution_count": 44,
      "outputs": []
    },
    {
      "cell_type": "markdown",
      "metadata": {
        "id": "YyEXDWNE_igo"
      },
      "source": [
        "## tabela dos dados"
      ]
    },
    {
      "cell_type": "code",
      "metadata": {
        "id": "qtk-Bj44qlgk"
      },
      "source": [
        "df_datagov = pandas.DataFrame(resources)"
      ],
      "execution_count": 45,
      "outputs": []
    },
    {
      "cell_type": "code",
      "metadata": {
        "id": "XPYbbxdZtVnD"
      },
      "source": [
        "df_datagov = df_datagov[sorted(df_datagov.keys())]"
      ],
      "execution_count": 46,
      "outputs": []
    },
    {
      "cell_type": "code",
      "metadata": {
        "colab": {
          "base_uri": "https://localhost:8080/"
        },
        "id": "xK07hliL9zlB",
        "outputId": "70252495-465a-49f8-d882-3c35403ccca8"
      },
      "source": [
        "df_datagov.iloc[5]"
      ],
      "execution_count": 47,
      "outputs": [
        {
          "output_type": "execute_result",
          "data": {
            "text/plain": [
              "created                                                  há mais de 4 anos\n",
              "criado                                                     14/Outubro/2016\n",
              "dataset_key                                                       docentes\n",
              "dataset_organization                                                   NaN\n",
              "dataset_text                                   Relação de docentes da UFRN\n",
              "dataset_title                                                     Docentes\n",
              "dataset_url              [/, /organization, /organization/universidade-...\n",
              "datastore_active                                                       NaN\n",
              "format                                                                 PDF\n",
              "formato                                                                PDF\n",
              "id                                    83988d39-6dd6-4003-91ca-b5ebdbe740f5\n",
              "last_modified                                             há mais de 1 ano\n",
              "licenca                                                       Other (Open)\n",
              "license_href                              [http://opendefinition.org/okd/]\n",
              "license_logo             [https://dados.gov.br/base/images/od_80x15_blu...\n",
              "license_text                                       [Licença, Other (Open)]\n",
              "license_title            [Este conjunto de dados satisfaz a Definição d...\n",
              "mimetype                                                               NaN\n",
              "package_id                            8bf1a468-48ff-4f4d-95ee-b17b7a3a5592\n",
              "position                                                                 1\n",
              "resource_type                                                          NaN\n",
              "revision_id                           5b422372-faf7-40d3-a325-7833942ba092\n",
              "size                                                                   NaN\n",
              "state                                                               active\n",
              "ultima_atualizacao                                            1/Julho/2019\n",
              "url                      http://landpage-h.cgu.gov.br/dadosabertos/inde...\n",
              "url_out                  http://dados.ufrn.br/dataset/8bf1a468-48ff-4f4...\n",
              "webstore_last_updated                                                 None\n",
              "webstore_url                                                          None\n",
              "Name: 5, dtype: object"
            ]
          },
          "metadata": {
            "tags": []
          },
          "execution_count": 47
        }
      ]
    },
    {
      "cell_type": "code",
      "metadata": {
        "id": "8ofdO-dr_xho",
        "colab": {
          "base_uri": "https://localhost:8080/",
          "height": 17
        },
        "outputId": "ad2e56c3-73e0-4815-dc5a-bf400b2c7534"
      },
      "source": [
        "df_datagov.to_csv('./resultado.csv')\n",
        "google.colab.files.download('./resultado.csv')"
      ],
      "execution_count": 48,
      "outputs": [
        {
          "output_type": "display_data",
          "data": {
            "application/javascript": [
              "\n",
              "    async function download(id, filename, size) {\n",
              "      if (!google.colab.kernel.accessAllowed) {\n",
              "        return;\n",
              "      }\n",
              "      const div = document.createElement('div');\n",
              "      const label = document.createElement('label');\n",
              "      label.textContent = `Downloading \"${filename}\": `;\n",
              "      div.appendChild(label);\n",
              "      const progress = document.createElement('progress');\n",
              "      progress.max = size;\n",
              "      div.appendChild(progress);\n",
              "      document.body.appendChild(div);\n",
              "\n",
              "      const buffers = [];\n",
              "      let downloaded = 0;\n",
              "\n",
              "      const channel = await google.colab.kernel.comms.open(id);\n",
              "      // Send a message to notify the kernel that we're ready.\n",
              "      channel.send({})\n",
              "\n",
              "      for await (const message of channel.messages) {\n",
              "        // Send a message to notify the kernel that we're ready.\n",
              "        channel.send({})\n",
              "        if (message.buffers) {\n",
              "          for (const buffer of message.buffers) {\n",
              "            buffers.push(buffer);\n",
              "            downloaded += buffer.byteLength;\n",
              "            progress.value = downloaded;\n",
              "          }\n",
              "        }\n",
              "      }\n",
              "      const blob = new Blob(buffers, {type: 'application/binary'});\n",
              "      const a = document.createElement('a');\n",
              "      a.href = window.URL.createObjectURL(blob);\n",
              "      a.download = filename;\n",
              "      div.appendChild(a);\n",
              "      a.click();\n",
              "      div.remove();\n",
              "    }\n",
              "  "
            ],
            "text/plain": [
              "<IPython.core.display.Javascript object>"
            ]
          },
          "metadata": {
            "tags": []
          }
        },
        {
          "output_type": "display_data",
          "data": {
            "application/javascript": [
              "download(\"download_27e0c76e-8dc0-4451-bdfd-bac247675bbc\", \"resultado.csv\", 147371)"
            ],
            "text/plain": [
              "<IPython.core.display.Javascript object>"
            ]
          },
          "metadata": {
            "tags": []
          }
        }
      ]
    },
    {
      "cell_type": "markdown",
      "metadata": {
        "id": "jWsP5mPqrumU"
      },
      "source": [
        "## texto"
      ]
    },
    {
      "cell_type": "code",
      "metadata": {
        "colab": {
          "base_uri": "https://localhost:8080/",
          "height": 251
        },
        "id": "YGCI1eg67_mJ",
        "outputId": "864a5d50-7284-4a3e-c28c-9cdb138e9e63"
      },
      "source": [
        "\n",
        "left = list(('{: <%is} = ' % n).format( \"%s\" % key ) for key in arcevo_dict.keys())\n",
        "\n",
        "arcevo_str = 'arcevo_dict = {\\n\\n'\n",
        "\n",
        "for key in sorted(arcevo_dict.keys(),key=lambda e: e):\n",
        "    links = arcevo_dict[key]\n",
        "    entry = ('\\t{: <' + str(n) + 's} = [' ).format(dict_key_str(key))\n",
        "    for link in sorted(links, key=lambda e: os.path.splitext(e)[1],reverse=True):\n",
        "        entry += \"'{link}', \".format(link=link)\n",
        "    entry += \"] , \\n\"\n",
        "    arcevo_str += entry\n",
        "arcevo_str += '\\n}'\n",
        "print(arcevo_str)"
      ],
      "execution_count": 78,
      "outputs": [
        {
          "output_type": "error",
          "ename": "NameError",
          "evalue": "ignored",
          "traceback": [
            "\u001b[0;31m---------------------------------------------------------------------------\u001b[0m",
            "\u001b[0;31mNameError\u001b[0m                                 Traceback (most recent call last)",
            "\u001b[0;32m<ipython-input-78-8f4f9fe204c5>\u001b[0m in \u001b[0;36m<module>\u001b[0;34m()\u001b[0m\n\u001b[1;32m      1\u001b[0m \u001b[0;34m\u001b[0m\u001b[0m\n\u001b[0;32m----> 2\u001b[0;31m \u001b[0mleft\u001b[0m \u001b[0;34m=\u001b[0m \u001b[0mlist\u001b[0m\u001b[0;34m(\u001b[0m\u001b[0;34m(\u001b[0m\u001b[0;34m'{: <%is} = '\u001b[0m \u001b[0;34m%\u001b[0m \u001b[0mn\u001b[0m\u001b[0;34m)\u001b[0m\u001b[0;34m.\u001b[0m\u001b[0mformat\u001b[0m\u001b[0;34m(\u001b[0m \u001b[0;34m\"%s\"\u001b[0m \u001b[0;34m%\u001b[0m \u001b[0mkey\u001b[0m \u001b[0;34m)\u001b[0m \u001b[0;32mfor\u001b[0m \u001b[0mkey\u001b[0m \u001b[0;32min\u001b[0m \u001b[0marcevo_dict\u001b[0m\u001b[0;34m.\u001b[0m\u001b[0mkeys\u001b[0m\u001b[0;34m(\u001b[0m\u001b[0;34m)\u001b[0m\u001b[0;34m)\u001b[0m\u001b[0;34m\u001b[0m\u001b[0;34m\u001b[0m\u001b[0m\n\u001b[0m\u001b[1;32m      3\u001b[0m \u001b[0;34m\u001b[0m\u001b[0m\n\u001b[1;32m      4\u001b[0m \u001b[0marcevo_str\u001b[0m \u001b[0;34m=\u001b[0m \u001b[0;34m'arcevo_dict = {\\n\\n'\u001b[0m\u001b[0;34m\u001b[0m\u001b[0;34m\u001b[0m\u001b[0m\n\u001b[1;32m      5\u001b[0m \u001b[0;34m\u001b[0m\u001b[0m\n",
            "\u001b[0;31mNameError\u001b[0m: name 'arcevo_dict' is not defined"
          ]
        }
      ]
    }
  ]
}