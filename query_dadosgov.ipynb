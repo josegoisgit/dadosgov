{
  "nbformat": 4,
  "nbformat_minor": 0,
  "metadata": {
    "colab": {
      "name": "query_dadosgov.ipynb",
      "provenance": [],
      "collapsed_sections": [
        "UrOkZJCFx3OT",
        "AbLc4GnFx5Dq",
        "IprvRuDbx91y",
        "KT5FdFGGyjdK",
        "apynqaj5yflS",
        "0CZwsdnWyQeS",
        "mKdqeEW-y7hq"
      ],
      "authorship_tag": "ABX9TyPcyqd+5OnniJ0XowFMolDv",
      "include_colab_link": true
    },
    "kernelspec": {
      "name": "python3",
      "display_name": "Python 3"
    },
    "language_info": {
      "name": "python"
    },
    "widgets": {
      "application/vnd.jupyter.widget-state+json": {
        "6e39b977c93f41619cbd3be721bc3174": {
          "model_module": "@jupyter-widgets/controls",
          "model_name": "VBoxModel",
          "state": {
            "_view_name": "VBoxView",
            "_dom_classes": [],
            "_model_name": "VBoxModel",
            "_view_module": "@jupyter-widgets/controls",
            "_model_module_version": "1.5.0",
            "_view_count": null,
            "_view_module_version": "1.5.0",
            "box_style": "",
            "layout": "IPY_MODEL_56f003bd319e45c5b23990eacdddc97a",
            "_model_module": "@jupyter-widgets/controls",
            "children": [
              "IPY_MODEL_894aae4f9ae2499a87e323046303ca1e",
              "IPY_MODEL_d9617577f4c24a22852ffd44386042eb"
            ]
          }
        },
        "56f003bd319e45c5b23990eacdddc97a": {
          "model_module": "@jupyter-widgets/base",
          "model_name": "LayoutModel",
          "state": {
            "_view_name": "LayoutView",
            "grid_template_rows": null,
            "right": null,
            "justify_content": null,
            "_view_module": "@jupyter-widgets/base",
            "overflow": null,
            "_model_module_version": "1.2.0",
            "_view_count": null,
            "flex_flow": null,
            "width": null,
            "min_width": null,
            "border": null,
            "align_items": null,
            "bottom": null,
            "_model_module": "@jupyter-widgets/base",
            "top": null,
            "grid_column": null,
            "overflow_y": null,
            "overflow_x": null,
            "grid_auto_flow": null,
            "grid_area": null,
            "grid_template_columns": null,
            "flex": null,
            "_model_name": "LayoutModel",
            "justify_items": null,
            "grid_row": null,
            "max_height": null,
            "align_content": null,
            "visibility": null,
            "align_self": null,
            "height": null,
            "min_height": null,
            "padding": null,
            "grid_auto_rows": null,
            "grid_gap": null,
            "max_width": null,
            "order": null,
            "_view_module_version": "1.2.0",
            "grid_template_areas": null,
            "object_position": null,
            "object_fit": null,
            "grid_auto_columns": null,
            "margin": null,
            "display": null,
            "left": null
          }
        },
        "894aae4f9ae2499a87e323046303ca1e": {
          "model_module": "@jupyter-widgets/controls",
          "model_name": "HBoxModel",
          "state": {
            "_view_name": "HBoxView",
            "_dom_classes": [],
            "_model_name": "HBoxModel",
            "_view_module": "@jupyter-widgets/controls",
            "_model_module_version": "1.5.0",
            "_view_count": null,
            "_view_module_version": "1.5.0",
            "box_style": "",
            "layout": "IPY_MODEL_2f7af6f9d7e24536bad78e4786163064",
            "_model_module": "@jupyter-widgets/controls",
            "children": [
              "IPY_MODEL_b4e8acb4c68248049d168d52f1bc568e",
              "IPY_MODEL_89b134ff5b4a4493a90ac8c1af584979"
            ]
          }
        },
        "d9617577f4c24a22852ffd44386042eb": {
          "model_module": "@jupyter-widgets/controls",
          "model_name": "HBoxModel",
          "state": {
            "_view_name": "HBoxView",
            "_dom_classes": [],
            "_model_name": "HBoxModel",
            "_view_module": "@jupyter-widgets/controls",
            "_model_module_version": "1.5.0",
            "_view_count": null,
            "_view_module_version": "1.5.0",
            "box_style": "",
            "layout": "IPY_MODEL_990b272f24e94147bf94ed60f4469328",
            "_model_module": "@jupyter-widgets/controls",
            "children": [
              "IPY_MODEL_0bc80e02af694896ae59c6a7a255c2bb",
              "IPY_MODEL_2cb124cdebad4ac0b5ac2c159def6eee"
            ]
          }
        },
        "2f7af6f9d7e24536bad78e4786163064": {
          "model_module": "@jupyter-widgets/base",
          "model_name": "LayoutModel",
          "state": {
            "_view_name": "LayoutView",
            "grid_template_rows": null,
            "right": null,
            "justify_content": null,
            "_view_module": "@jupyter-widgets/base",
            "overflow": null,
            "_model_module_version": "1.2.0",
            "_view_count": null,
            "flex_flow": null,
            "width": null,
            "min_width": null,
            "border": null,
            "align_items": null,
            "bottom": null,
            "_model_module": "@jupyter-widgets/base",
            "top": null,
            "grid_column": null,
            "overflow_y": null,
            "overflow_x": null,
            "grid_auto_flow": null,
            "grid_area": null,
            "grid_template_columns": null,
            "flex": null,
            "_model_name": "LayoutModel",
            "justify_items": null,
            "grid_row": null,
            "max_height": null,
            "align_content": null,
            "visibility": null,
            "align_self": null,
            "height": null,
            "min_height": null,
            "padding": null,
            "grid_auto_rows": null,
            "grid_gap": null,
            "max_width": null,
            "order": null,
            "_view_module_version": "1.2.0",
            "grid_template_areas": null,
            "object_position": null,
            "object_fit": null,
            "grid_auto_columns": null,
            "margin": null,
            "display": null,
            "left": null
          }
        },
        "b4e8acb4c68248049d168d52f1bc568e": {
          "model_module": "@jupyter-widgets/controls",
          "model_name": "LabelModel",
          "state": {
            "_view_name": "LabelView",
            "style": "IPY_MODEL_e8ca9ed34c4242c3b690e2cde876f83d",
            "_dom_classes": [],
            "description": "",
            "_model_name": "LabelModel",
            "placeholder": "​",
            "_view_module": "@jupyter-widgets/controls",
            "_model_module_version": "1.5.0",
            "value": "Query",
            "_view_count": null,
            "_view_module_version": "1.5.0",
            "description_tooltip": null,
            "_model_module": "@jupyter-widgets/controls",
            "layout": "IPY_MODEL_b8adcac075364d238b6a4e6c2738c2d6"
          }
        },
        "89b134ff5b4a4493a90ac8c1af584979": {
          "model_module": "@jupyter-widgets/controls",
          "model_name": "TextModel",
          "state": {
            "_view_name": "TextView",
            "style": "IPY_MODEL_afc7500a1d2a4103a1030e4726985711",
            "_dom_classes": [],
            "description": "",
            "_model_name": "TextModel",
            "placeholder": "​",
            "_view_module": "@jupyter-widgets/controls",
            "_model_module_version": "1.5.0",
            "value": "DOCENTES UFRN",
            "_view_count": null,
            "disabled": false,
            "_view_module_version": "1.5.0",
            "continuous_update": true,
            "description_tooltip": null,
            "_model_module": "@jupyter-widgets/controls",
            "layout": "IPY_MODEL_93367877d8f142de87fddfe2cb38eee4"
          }
        },
        "990b272f24e94147bf94ed60f4469328": {
          "model_module": "@jupyter-widgets/base",
          "model_name": "LayoutModel",
          "state": {
            "_view_name": "LayoutView",
            "grid_template_rows": null,
            "right": null,
            "justify_content": null,
            "_view_module": "@jupyter-widgets/base",
            "overflow": null,
            "_model_module_version": "1.2.0",
            "_view_count": null,
            "flex_flow": null,
            "width": null,
            "min_width": null,
            "border": null,
            "align_items": null,
            "bottom": null,
            "_model_module": "@jupyter-widgets/base",
            "top": null,
            "grid_column": null,
            "overflow_y": null,
            "overflow_x": null,
            "grid_auto_flow": null,
            "grid_area": null,
            "grid_template_columns": null,
            "flex": null,
            "_model_name": "LayoutModel",
            "justify_items": null,
            "grid_row": null,
            "max_height": null,
            "align_content": null,
            "visibility": null,
            "align_self": null,
            "height": null,
            "min_height": null,
            "padding": null,
            "grid_auto_rows": null,
            "grid_gap": null,
            "max_width": null,
            "order": null,
            "_view_module_version": "1.2.0",
            "grid_template_areas": null,
            "object_position": null,
            "object_fit": null,
            "grid_auto_columns": null,
            "margin": null,
            "display": null,
            "left": null
          }
        },
        "0bc80e02af694896ae59c6a7a255c2bb": {
          "model_module": "@jupyter-widgets/controls",
          "model_name": "LabelModel",
          "state": {
            "_view_name": "LabelView",
            "style": "IPY_MODEL_46c01ac485ea496fae628831626afdad",
            "_dom_classes": [],
            "description": "",
            "_model_name": "LabelModel",
            "placeholder": "​",
            "_view_module": "@jupyter-widgets/controls",
            "_model_module_version": "1.5.0",
            "value": "Hyperlink",
            "_view_count": null,
            "_view_module_version": "1.5.0",
            "description_tooltip": null,
            "_model_module": "@jupyter-widgets/controls",
            "layout": "IPY_MODEL_fe153fa42f2044849b5310ca48f67146"
          }
        },
        "2cb124cdebad4ac0b5ac2c159def6eee": {
          "model_module": "@jupyter-widgets/controls",
          "model_name": "TextModel",
          "state": {
            "_view_name": "TextView",
            "style": "IPY_MODEL_c50e1fd5e1fc467992b4fb6bdb93b5a1",
            "_dom_classes": [],
            "description": "",
            "_model_name": "TextModel",
            "placeholder": "​",
            "_view_module": "@jupyter-widgets/controls",
            "_model_module_version": "1.5.0",
            "value": "https://dados.gov.br",
            "_view_count": null,
            "disabled": false,
            "_view_module_version": "1.5.0",
            "continuous_update": true,
            "description_tooltip": null,
            "_model_module": "@jupyter-widgets/controls",
            "layout": "IPY_MODEL_25f1b80790e444abb7d41c35997fd053"
          }
        },
        "e8ca9ed34c4242c3b690e2cde876f83d": {
          "model_module": "@jupyter-widgets/controls",
          "model_name": "DescriptionStyleModel",
          "state": {
            "_view_name": "StyleView",
            "_model_name": "DescriptionStyleModel",
            "description_width": "",
            "_view_module": "@jupyter-widgets/base",
            "_model_module_version": "1.5.0",
            "_view_count": null,
            "_view_module_version": "1.2.0",
            "_model_module": "@jupyter-widgets/controls"
          }
        },
        "b8adcac075364d238b6a4e6c2738c2d6": {
          "model_module": "@jupyter-widgets/base",
          "model_name": "LayoutModel",
          "state": {
            "_view_name": "LayoutView",
            "grid_template_rows": null,
            "right": null,
            "justify_content": null,
            "_view_module": "@jupyter-widgets/base",
            "overflow": null,
            "_model_module_version": "1.2.0",
            "_view_count": null,
            "flex_flow": null,
            "width": null,
            "min_width": null,
            "border": null,
            "align_items": null,
            "bottom": null,
            "_model_module": "@jupyter-widgets/base",
            "top": null,
            "grid_column": null,
            "overflow_y": null,
            "overflow_x": null,
            "grid_auto_flow": null,
            "grid_area": null,
            "grid_template_columns": null,
            "flex": null,
            "_model_name": "LayoutModel",
            "justify_items": null,
            "grid_row": null,
            "max_height": null,
            "align_content": null,
            "visibility": null,
            "align_self": null,
            "height": null,
            "min_height": null,
            "padding": null,
            "grid_auto_rows": null,
            "grid_gap": null,
            "max_width": null,
            "order": null,
            "_view_module_version": "1.2.0",
            "grid_template_areas": null,
            "object_position": null,
            "object_fit": null,
            "grid_auto_columns": null,
            "margin": null,
            "display": null,
            "left": null
          }
        },
        "afc7500a1d2a4103a1030e4726985711": {
          "model_module": "@jupyter-widgets/controls",
          "model_name": "DescriptionStyleModel",
          "state": {
            "_view_name": "StyleView",
            "_model_name": "DescriptionStyleModel",
            "description_width": "",
            "_view_module": "@jupyter-widgets/base",
            "_model_module_version": "1.5.0",
            "_view_count": null,
            "_view_module_version": "1.2.0",
            "_model_module": "@jupyter-widgets/controls"
          }
        },
        "93367877d8f142de87fddfe2cb38eee4": {
          "model_module": "@jupyter-widgets/base",
          "model_name": "LayoutModel",
          "state": {
            "_view_name": "LayoutView",
            "grid_template_rows": null,
            "right": null,
            "justify_content": null,
            "_view_module": "@jupyter-widgets/base",
            "overflow": null,
            "_model_module_version": "1.2.0",
            "_view_count": null,
            "flex_flow": null,
            "width": null,
            "min_width": null,
            "border": null,
            "align_items": null,
            "bottom": null,
            "_model_module": "@jupyter-widgets/base",
            "top": null,
            "grid_column": null,
            "overflow_y": null,
            "overflow_x": null,
            "grid_auto_flow": null,
            "grid_area": null,
            "grid_template_columns": null,
            "flex": null,
            "_model_name": "LayoutModel",
            "justify_items": null,
            "grid_row": null,
            "max_height": null,
            "align_content": null,
            "visibility": null,
            "align_self": null,
            "height": null,
            "min_height": null,
            "padding": null,
            "grid_auto_rows": null,
            "grid_gap": null,
            "max_width": null,
            "order": null,
            "_view_module_version": "1.2.0",
            "grid_template_areas": null,
            "object_position": null,
            "object_fit": null,
            "grid_auto_columns": null,
            "margin": null,
            "display": null,
            "left": null
          }
        },
        "46c01ac485ea496fae628831626afdad": {
          "model_module": "@jupyter-widgets/controls",
          "model_name": "DescriptionStyleModel",
          "state": {
            "_view_name": "StyleView",
            "_model_name": "DescriptionStyleModel",
            "description_width": "",
            "_view_module": "@jupyter-widgets/base",
            "_model_module_version": "1.5.0",
            "_view_count": null,
            "_view_module_version": "1.2.0",
            "_model_module": "@jupyter-widgets/controls"
          }
        },
        "fe153fa42f2044849b5310ca48f67146": {
          "model_module": "@jupyter-widgets/base",
          "model_name": "LayoutModel",
          "state": {
            "_view_name": "LayoutView",
            "grid_template_rows": null,
            "right": null,
            "justify_content": null,
            "_view_module": "@jupyter-widgets/base",
            "overflow": null,
            "_model_module_version": "1.2.0",
            "_view_count": null,
            "flex_flow": null,
            "width": null,
            "min_width": null,
            "border": null,
            "align_items": null,
            "bottom": null,
            "_model_module": "@jupyter-widgets/base",
            "top": null,
            "grid_column": null,
            "overflow_y": null,
            "overflow_x": null,
            "grid_auto_flow": null,
            "grid_area": null,
            "grid_template_columns": null,
            "flex": null,
            "_model_name": "LayoutModel",
            "justify_items": null,
            "grid_row": null,
            "max_height": null,
            "align_content": null,
            "visibility": null,
            "align_self": null,
            "height": null,
            "min_height": null,
            "padding": null,
            "grid_auto_rows": null,
            "grid_gap": null,
            "max_width": null,
            "order": null,
            "_view_module_version": "1.2.0",
            "grid_template_areas": null,
            "object_position": null,
            "object_fit": null,
            "grid_auto_columns": null,
            "margin": null,
            "display": null,
            "left": null
          }
        },
        "c50e1fd5e1fc467992b4fb6bdb93b5a1": {
          "model_module": "@jupyter-widgets/controls",
          "model_name": "DescriptionStyleModel",
          "state": {
            "_view_name": "StyleView",
            "_model_name": "DescriptionStyleModel",
            "description_width": "",
            "_view_module": "@jupyter-widgets/base",
            "_model_module_version": "1.5.0",
            "_view_count": null,
            "_view_module_version": "1.2.0",
            "_model_module": "@jupyter-widgets/controls"
          }
        },
        "25f1b80790e444abb7d41c35997fd053": {
          "model_module": "@jupyter-widgets/base",
          "model_name": "LayoutModel",
          "state": {
            "_view_name": "LayoutView",
            "grid_template_rows": null,
            "right": null,
            "justify_content": null,
            "_view_module": "@jupyter-widgets/base",
            "overflow": null,
            "_model_module_version": "1.2.0",
            "_view_count": null,
            "flex_flow": null,
            "width": null,
            "min_width": null,
            "border": null,
            "align_items": null,
            "bottom": null,
            "_model_module": "@jupyter-widgets/base",
            "top": null,
            "grid_column": null,
            "overflow_y": null,
            "overflow_x": null,
            "grid_auto_flow": null,
            "grid_area": null,
            "grid_template_columns": null,
            "flex": null,
            "_model_name": "LayoutModel",
            "justify_items": null,
            "grid_row": null,
            "max_height": null,
            "align_content": null,
            "visibility": null,
            "align_self": null,
            "height": null,
            "min_height": null,
            "padding": null,
            "grid_auto_rows": null,
            "grid_gap": null,
            "max_width": null,
            "order": null,
            "_view_module_version": "1.2.0",
            "grid_template_areas": null,
            "object_position": null,
            "object_fit": null,
            "grid_auto_columns": null,
            "margin": null,
            "display": null,
            "left": null
          }
        }
      }
    }
  },
  "cells": [
    {
      "cell_type": "markdown",
      "metadata": {
        "id": "view-in-github",
        "colab_type": "text"
      },
      "source": [
        "<a href=\"https://colab.research.google.com/github/josegoisgit/dadosgov/blob/main/query_dadosgov.ipynb\" target=\"_parent\"><img src=\"https://colab.research.google.com/assets/colab-badge.svg\" alt=\"Open In Colab\"/></a>"
      ]
    },
    {
      "cell_type": "markdown",
      "metadata": {
        "id": "UrOkZJCFx3OT"
      },
      "source": [
        "# import"
      ]
    },
    {
      "cell_type": "code",
      "metadata": {
        "colab": {
          "base_uri": "https://localhost:8080/"
        },
        "id": "-2_riDgSq_w0",
        "outputId": "72863e0a-1486-4590-92a9-f952c154a8c2"
      },
      "source": [
        "!pip install unidecode"
      ],
      "execution_count": 3,
      "outputs": [
        {
          "output_type": "stream",
          "text": [
            "Collecting unidecode\n",
            "\u001b[?25l  Downloading https://files.pythonhosted.org/packages/9e/25/723487ca2a52ebcee88a34d7d1f5a4b80b793f179ee0f62d5371938dfa01/Unidecode-1.2.0-py2.py3-none-any.whl (241kB)\n",
            "\r\u001b[K     |█▍                              | 10kB 17.1MB/s eta 0:00:01\r\u001b[K     |██▊                             | 20kB 23.4MB/s eta 0:00:01\r\u001b[K     |████                            | 30kB 23.8MB/s eta 0:00:01\r\u001b[K     |█████▍                          | 40kB 26.0MB/s eta 0:00:01\r\u001b[K     |██████▉                         | 51kB 23.2MB/s eta 0:00:01\r\u001b[K     |████████▏                       | 61kB 19.9MB/s eta 0:00:01\r\u001b[K     |█████████▌                      | 71kB 19.6MB/s eta 0:00:01\r\u001b[K     |██████████▉                     | 81kB 18.5MB/s eta 0:00:01\r\u001b[K     |████████████▏                   | 92kB 16.6MB/s eta 0:00:01\r\u001b[K     |█████████████▋                  | 102kB 16.8MB/s eta 0:00:01\r\u001b[K     |███████████████                 | 112kB 16.8MB/s eta 0:00:01\r\u001b[K     |████████████████▎               | 122kB 16.8MB/s eta 0:00:01\r\u001b[K     |█████████████████▋              | 133kB 16.8MB/s eta 0:00:01\r\u001b[K     |███████████████████             | 143kB 16.8MB/s eta 0:00:01\r\u001b[K     |████████████████████▍           | 153kB 16.8MB/s eta 0:00:01\r\u001b[K     |█████████████████████▊          | 163kB 16.8MB/s eta 0:00:01\r\u001b[K     |███████████████████████         | 174kB 16.8MB/s eta 0:00:01\r\u001b[K     |████████████████████████▍       | 184kB 16.8MB/s eta 0:00:01\r\u001b[K     |█████████████████████████▊      | 194kB 16.8MB/s eta 0:00:01\r\u001b[K     |███████████████████████████▏    | 204kB 16.8MB/s eta 0:00:01\r\u001b[K     |████████████████████████████▌   | 215kB 16.8MB/s eta 0:00:01\r\u001b[K     |█████████████████████████████▉  | 225kB 16.8MB/s eta 0:00:01\r\u001b[K     |███████████████████████████████▏| 235kB 16.8MB/s eta 0:00:01\r\u001b[K     |████████████████████████████████| 245kB 16.8MB/s \n",
            "\u001b[?25hInstalling collected packages: unidecode\n",
            "Successfully installed unidecode-1.2.0\n"
          ],
          "name": "stdout"
        }
      ]
    },
    {
      "cell_type": "code",
      "metadata": {
        "id": "9YGE8e28pa8e"
      },
      "source": [
        "import re\n",
        "import requests\n",
        "import pandas\n",
        "\n",
        "import unidecode\n",
        "\n",
        "\n",
        "from itertools import chain\n",
        "from lxml.etree import HTML\n",
        "\n",
        "import IPython"
      ],
      "execution_count": 4,
      "outputs": []
    },
    {
      "cell_type": "markdown",
      "metadata": {
        "id": "AbLc4GnFx5Dq"
      },
      "source": [
        "# funções"
      ]
    },
    {
      "cell_type": "code",
      "metadata": {
        "id": "frgu1nD3qCxc"
      },
      "source": [
        "\n",
        "strip = lambda X: ('\\n'.join(set(x.strip() for x in X if x.strip()))).strip()\n",
        "plain = lambda i: list(chain.from_iterable(i))\n"
      ],
      "execution_count": 13,
      "outputs": []
    },
    {
      "cell_type": "markdown",
      "metadata": {
        "id": "IprvRuDbx91y"
      },
      "source": [
        "### get request e html dom: document object model\n",
        "\n",
        "modelo do objeto documento"
      ]
    },
    {
      "cell_type": "code",
      "metadata": {
        "id": "eJhufngCqCQM"
      },
      "source": [
        "\n",
        "def get_url_html(url):\n",
        "    requested         = requests.request('GET', url)\n",
        "    html              = HTML(requested.text)    \n",
        "    html.nsmap['url'] = url\n",
        "\n",
        "    return html\n"
      ],
      "execution_count": 14,
      "outputs": []
    },
    {
      "cell_type": "code",
      "metadata": {
        "id": "cZQ8-Om_qBtE"
      },
      "source": [
        "\n",
        "def contains_clause(dic, operator='OR'):\n",
        "    predicados = [\"contains(@{k},'{v}')\".format(k=k,v=v) for k,v in dic.items()]\n",
        "\n",
        "    return operator.join(predicados)\n",
        "\n"
      ],
      "execution_count": 15,
      "outputs": []
    },
    {
      "cell_type": "code",
      "metadata": {
        "id": "AIU4h78ZqBEc"
      },
      "source": [
        "\n",
        "def compose_xpath(element,attribute,content):\n",
        "    dictionary = contains_clause({attribute:content})\n",
        "\n",
        "    str_dict = {\n",
        "        'element' : element,\n",
        "        'dictionary' : dictionary \n",
        "    }\n",
        "\n",
        "    return \"{element}[{dictionary}]\".format(**str_dict)\n"
      ],
      "execution_count": 16,
      "outputs": []
    },
    {
      "cell_type": "code",
      "metadata": {
        "id": "NdaFErYzp-L9"
      },
      "source": [
        "\n",
        "def get_xnodes(html, element, attribute='class', content='', complement=''):\n",
        "    if complement:\n",
        "        xnode = html.xpath(compose_xpath(element,attribute,content) + complement)\n",
        "    else:\n",
        "        xnode = html.xpath(compose_xpath(element,attribute,content) )\n",
        "    return xnode if xnode else None\n"
      ],
      "execution_count": 17,
      "outputs": []
    },
    {
      "cell_type": "code",
      "metadata": {
        "id": "Mje8LSF0p9qc"
      },
      "source": [
        "\n",
        "def get_xnode(html, element, attribute='class', content='', complement=''):\n",
        "    xnodes = get_xnodes(html, element, attribute, content, complement)\n",
        "    return xnodes[0] if xnodes else None\n"
      ],
      "execution_count": 18,
      "outputs": []
    },
    {
      "cell_type": "markdown",
      "metadata": {
        "id": "KT5FdFGGyjdK"
      },
      "source": [
        "### informações da busca"
      ]
    },
    {
      "cell_type": "code",
      "metadata": {
        "id": "JXuWP7cbp9R0"
      },
      "source": [
        "\n",
        "def get_html_page_count(html):\n",
        "    xnode = get_xnode( html, '//div', 'class', 'pagination' ) \n",
        "    \n",
        "    if len(xnode):\n",
        "        return 1\n",
        "    \n",
        "    pdiv = xnode.xpath( '//li/a/text()' )\n",
        "    \n",
        "    def pmax(pdiv):\n",
        "        V = [1]\n",
        "        for p in pdiv:\n",
        "            try:\n",
        "                v = int(p)\n",
        "                V.append(v)       \n",
        "            except:\n",
        "                continue\n",
        "        return max(V)    \n",
        "    return pmax(pdiv)\n"
      ],
      "execution_count": 19,
      "outputs": []
    },
    {
      "cell_type": "code",
      "metadata": {
        "id": "B_81PAJRp8GF"
      },
      "source": [
        "\n",
        "def get_query_page_count(hyperlink, query):\n",
        "    html = get_url_html( hyperlink + '/dataset?q=%s' % query)\n",
        "    return get_html_page_count( html )\n"
      ],
      "execution_count": 78,
      "outputs": []
    },
    {
      "cell_type": "code",
      "metadata": {
        "id": "rYf9ogE9p7V0"
      },
      "source": [
        "\n",
        "def get_html_items_href(html):\n",
        "    xnodes = get_xnodes( html, './/h3', 'class', 'dataset-heading' , '//a/@href' ) \n",
        "    return xnodes\n"
      ],
      "execution_count": 21,
      "outputs": []
    },
    {
      "cell_type": "markdown",
      "metadata": {
        "id": "apynqaj5yflS"
      },
      "source": [
        "### informações do dataset"
      ]
    },
    {
      "cell_type": "code",
      "metadata": {
        "id": "tSe2-_Slp67V"
      },
      "source": [
        "\n",
        "def get_html_dataset(html):    \n",
        "    article_html = get_xnode(html , '//article')\n",
        "    \n",
        "    dataset = dict()\n",
        "    \n",
        "    dataset['title'] = strip( get_xnodes( article_html , 'div/h1/text()') ) \n",
        "    dataset['key']   = re.sub('[^\\w]','_',unidecode.unidecode(dataset['title']).lower())\n",
        "    dataset['text']  = strip( get_xnodes(article_html,'//div','class','notes','//p/text()') ) \n",
        "    dataset['url']   = get_xnodes( article_html, '//ol', 'class', 'breadcrumb', '//li/a/@href')\n",
        "\n",
        "    return dataset\n"
      ],
      "execution_count": 22,
      "outputs": []
    },
    {
      "cell_type": "code",
      "metadata": {
        "id": "E-HcpP3ip6aV"
      },
      "source": [
        "\n",
        "def get_html_dataset_license(html,hyperlink='https://dados.gov.br'):\n",
        "    xnode = get_xnode( html, '//section','class','license') \n",
        "\n",
        "    license_title = xnode.xpath( './/@title' )\n",
        "    license_href  = xnode.xpath( './/@href')\n",
        "    license_text  = [ text.strip() for text in xnode.xpath( './/text()' ) if text.strip() ]\n",
        "    license_logo  = [ hyperlink + p for p in xnode.xpath( './/img//@src' ) ]\n",
        "    \n",
        "    license_dict          = dict()\n",
        "    license_dict['title'] = license_title\n",
        "    license_dict['href']  = license_href\n",
        "    license_dict['text']  = license_text\n",
        "    license_dict['logo']  = license_logo\n",
        "\n",
        "    return license_dict\n"
      ],
      "execution_count": 23,
      "outputs": []
    },
    {
      "cell_type": "code",
      "metadata": {
        "id": "d-fGhsAop5JU"
      },
      "source": [
        "\n",
        "def get_html_dataset_resources_href(html):\n",
        "    return get_xnodes(html,'//a','class','heading','/@href')\n"
      ],
      "execution_count": 24,
      "outputs": []
    },
    {
      "cell_type": "markdown",
      "metadata": {
        "id": "0CZwsdnWyQeS"
      },
      "source": [
        "### informações do recurso"
      ]
    },
    {
      "cell_type": "code",
      "metadata": {
        "id": "5clS2Cq7p5uF"
      },
      "source": [
        "\n",
        "def get_html_resource_info(html):\n",
        "    \n",
        "    ths     = get_xnodes( html, '//table', 'class', 'table-condensed','/tbody//th/text()')\n",
        "    headers = [re.sub('[^\\w]','_',unidecode.unidecode(th.lower())) for th in ths]\n",
        "    tds     = get_xnodes( html, '//table', 'class', 'table-condensed','/tbody//td')\n",
        "    data    = [strip(get_xnodes(td, './/text()')).strip() for td in tds]\n",
        "\n",
        "    info_dict        = {h:d for h,d in zip(headers,data)}\n",
        "    info_dict['url'] = get_xnode( html, '//a','class','resource-url-analytic','/@href')    \n",
        "\n",
        "    return info_dict"
      ],
      "execution_count": 25,
      "outputs": []
    },
    {
      "cell_type": "code",
      "metadata": {
        "id": "ZBoZDn-4ybs7"
      },
      "source": [
        ""
      ],
      "execution_count": null,
      "outputs": []
    },
    {
      "cell_type": "markdown",
      "metadata": {
        "id": "mKdqeEW-y7hq"
      },
      "source": [
        "### auxiliares"
      ]
    },
    {
      "cell_type": "code",
      "metadata": {
        "id": "j6PWvTCpp3F9"
      },
      "source": [
        "\n",
        "def __dir_repr__(variable=dict,pattern=''):\n",
        "    dir_type_dict = dict()\n",
        "    \n",
        "    for attribute in dir(variable):\n",
        "        if not re.findall(pattern, attribute): continue\n",
        "        value = getattr(variable,attribute)\n",
        "        typename = type(value).__name__\n",
        "        \n",
        "        if typename not in dir_type_dict:\n",
        "            dir_type_dict[typename] = [(attribute,value)]\n",
        "        else:\n",
        "            dir_type_dict[typename].append((attribute,value))\n",
        "        \n",
        "    for key, items in dir_type_dict.items():\n",
        "        print(key)\n",
        "        print()\n",
        "        for attribute,value in items:\n",
        "            print('\\t',attribute)\n",
        "        print()\n",
        "        #print('{: <30s}{:<20s}'.format(typename, attribute))\n"
      ],
      "execution_count": null,
      "outputs": []
    },
    {
      "cell_type": "code",
      "metadata": {
        "id": "aKQwCMedp_T1"
      },
      "source": [
        "\n",
        "def show_url( url='https://dados.gov.br'):\n",
        "    dadosgov_frame = IPython.display.IFrame(src=url,width='100%',height='500px')\n",
        "    display(dadosgov_frame)\n",
        "    return\n"
      ],
      "execution_count": null,
      "outputs": []
    },
    {
      "cell_type": "code",
      "metadata": {
        "id": "_tGdDMDPqADM"
      },
      "source": [
        "\n",
        "def query_site( query=''):\n",
        "    query = query.lower()\n",
        "    query = unidecode.unidecode(query)\n",
        "    query = re.sub('[^a-z\\s\\'\\\"]','',query)\n",
        "    query = re.sub('\\s+','+',query)\n",
        "    \n",
        "    url = 'https://dados.gov.br/dataset?q=%s' % query\n",
        "    dadosgov_frame = IPython.display.IFrame(src=url,width='100%',height='500px')\n",
        "    display(dadosgov_frame)\n",
        "    return dadosgov_frame\n",
        "\n"
      ],
      "execution_count": null,
      "outputs": []
    },
    {
      "cell_type": "code",
      "metadata": {
        "id": "v8Xus5wqwaI7"
      },
      "source": [
        "\n",
        "get_query_page_url   = lambda h, q, p : h + '/dataset' + '?q=' + q + '&page=' + str(p)\n",
        "get_query_page_html  = lambda h, q, p : get_url_html( get_query_page_url( h, q, p ) )\n",
        "get_query_page_items = lambda h, q, p : get_html_items_href( get_query_page_html( h, q, p ) )\n",
        "get_query_items_href = lambda h, q    : plain([ get_query_page_items( h, q, p+1 ) for p in range( get_query_page_count( h, q ) ) ])\n"
      ],
      "execution_count": 109,
      "outputs": []
    },
    {
      "cell_type": "markdown",
      "metadata": {
        "id": "3J3ny2yXrsDV"
      },
      "source": [
        "# Argumentos de busca"
      ]
    },
    {
      "cell_type": "code",
      "metadata": {
        "id": "W6ZttypRrwd0"
      },
      "source": [
        "import ipywidgets"
      ],
      "execution_count": 110,
      "outputs": []
    },
    {
      "cell_type": "code",
      "metadata": {
        "id": "9y4fbVLktdJN"
      },
      "source": [
        "query     = 'UFRN'\n",
        "hyperlink = 'https://dados.gov.br'"
      ],
      "execution_count": 111,
      "outputs": []
    },
    {
      "cell_type": "code",
      "metadata": {
        "id": "vIc1W-PHryA8"
      },
      "source": [
        "qri_label = ipywidgets.widgets.Label('Query')\n",
        "qri_text  = ipywidgets.widgets.Text(query)\n",
        "\n",
        "hyperlink_text  = ipywidgets.widgets.Text(hyperlink)\n",
        "hyperlink_label = ipywidgets.widgets.Label('Hyperlink')"
      ],
      "execution_count": 112,
      "outputs": []
    },
    {
      "cell_type": "code",
      "metadata": {
        "id": "HHdEygemtuyM"
      },
      "source": [
        "qri_box = ipywidgets.widgets.HBox([qri_label, qri_text])\n",
        "hyperlink_box = ipywidgets.widgets.HBox([hyperlink_label, hyperlink_text])"
      ],
      "execution_count": 113,
      "outputs": []
    },
    {
      "cell_type": "code",
      "metadata": {
        "colab": {
          "base_uri": "https://localhost:8080/",
          "height": 81,
          "referenced_widgets": [
            "6e39b977c93f41619cbd3be721bc3174",
            "56f003bd319e45c5b23990eacdddc97a",
            "894aae4f9ae2499a87e323046303ca1e",
            "d9617577f4c24a22852ffd44386042eb",
            "2f7af6f9d7e24536bad78e4786163064",
            "b4e8acb4c68248049d168d52f1bc568e",
            "89b134ff5b4a4493a90ac8c1af584979",
            "990b272f24e94147bf94ed60f4469328",
            "0bc80e02af694896ae59c6a7a255c2bb",
            "2cb124cdebad4ac0b5ac2c159def6eee",
            "e8ca9ed34c4242c3b690e2cde876f83d",
            "b8adcac075364d238b6a4e6c2738c2d6",
            "afc7500a1d2a4103a1030e4726985711",
            "93367877d8f142de87fddfe2cb38eee4",
            "46c01ac485ea496fae628831626afdad",
            "fe153fa42f2044849b5310ca48f67146",
            "c50e1fd5e1fc467992b4fb6bdb93b5a1",
            "25f1b80790e444abb7d41c35997fd053"
          ]
        },
        "id": "VhWkNldJsO4s",
        "outputId": "a601c00d-e632-4ebc-f233-721308d42dfc"
      },
      "source": [
        "display(ipywidgets.widgets.VBox([qri_box,hyperlink_box]))"
      ],
      "execution_count": 114,
      "outputs": [
        {
          "output_type": "display_data",
          "data": {
            "application/vnd.jupyter.widget-view+json": {
              "model_id": "6e39b977c93f41619cbd3be721bc3174",
              "version_minor": 0,
              "version_major": 2
            },
            "text/plain": [
              "VBox(children=(HBox(children=(Label(value='Query'), Text(value='UFRN'))), HBox(children=(Label(value='Hyperlin…"
            ]
          },
          "metadata": {
            "tags": []
          }
        }
      ]
    },
    {
      "cell_type": "code",
      "metadata": {
        "id": "bvzvt5E_wEKl"
      },
      "source": [
        "query     = qri_text.value\n",
        "hyperlink = hyperlink_text.value"
      ],
      "execution_count": 127,
      "outputs": []
    },
    {
      "cell_type": "code",
      "metadata": {
        "id": "huOvlIK65hSw"
      },
      "source": [
        "query_url = get_query_page_url(hyperlink,query,1)"
      ],
      "execution_count": 128,
      "outputs": []
    },
    {
      "cell_type": "code",
      "metadata": {
        "colab": {
          "base_uri": "https://localhost:8080/",
          "height": 521
        },
        "id": "POFmG501zWdK",
        "outputId": "5436c6ff-1934-4561-c294-c315de1ec5be"
      },
      "source": [
        "show_url(query_url)"
      ],
      "execution_count": 129,
      "outputs": [
        {
          "output_type": "display_data",
          "data": {
            "text/html": [
              "\n",
              "        <iframe\n",
              "            width=\"100%\"\n",
              "            height=\"500px\"\n",
              "            src=\"https://dados.gov.br/dataset?q=DOCENTES UFRN&page=1\"\n",
              "            frameborder=\"0\"\n",
              "            allowfullscreen\n",
              "        ></iframe>\n",
              "        "
            ],
            "text/plain": [
              "<IPython.lib.display.IFrame at 0x7f953da25b10>"
            ]
          },
          "metadata": {
            "tags": []
          }
        }
      ]
    },
    {
      "cell_type": "code",
      "metadata": {
        "colab": {
          "base_uri": "https://localhost:8080/"
        },
        "id": "h10v9R53wd6L",
        "outputId": "2de08f9a-dd80-4ed2-975d-768a32af0663"
      },
      "source": [
        "page_count = get_query_page_count( hyperlink, query )\n",
        "page_count"
      ],
      "execution_count": 130,
      "outputs": [
        {
          "output_type": "execute_result",
          "data": {
            "text/plain": [
              "1"
            ]
          },
          "metadata": {
            "tags": []
          },
          "execution_count": 130
        }
      ]
    },
    {
      "cell_type": "code",
      "metadata": {
        "id": "55V8Pwrqrqnc"
      },
      "source": [
        "resources = []\n",
        "items_href = get_query_items_href(hyperlink,query)"
      ],
      "execution_count": 131,
      "outputs": []
    },
    {
      "cell_type": "code",
      "metadata": {
        "colab": {
          "base_uri": "https://localhost:8080/",
          "height": 521
        },
        "id": "zk2sywU06lMZ",
        "outputId": "96c6820d-3acb-4e83-a3e5-4eb506803759"
      },
      "source": [
        "show_url(hyperlink + resources_href[0])"
      ],
      "execution_count": 138,
      "outputs": [
        {
          "output_type": "display_data",
          "data": {
            "text/html": [
              "\n",
              "        <iframe\n",
              "            width=\"100%\"\n",
              "            height=\"500px\"\n",
              "            src=\"https://dados.gov.br/dataset/docentes/resource/ff0a457e-76fa-4aca-ad99-48aebd7db070\"\n",
              "            frameborder=\"0\"\n",
              "            allowfullscreen\n",
              "        ></iframe>\n",
              "        "
            ],
            "text/plain": [
              "<IPython.lib.display.IFrame at 0x7f953d918350>"
            ]
          },
          "metadata": {
            "tags": []
          }
        }
      ]
    },
    {
      "cell_type": "code",
      "metadata": {
        "colab": {
          "base_uri": "https://localhost:8080/",
          "height": 136
        },
        "id": "-Y6YqmrGqirM",
        "outputId": "0651dabf-01b5-49d7-f656-72ff4ec1fc32"
      },
      "source": [
        "import pandas\n",
        "\n",
        "for item_href in items_href:\n",
        "    item_url = hyperlink + item_href\n",
        "\n",
        "    print('\\n\\n\\t', item_url, end='\\n\\n')\n",
        "    dataset_html   = get_url_html( item_url )\n",
        "\n",
        "    dataset        = get_html_dataset( dataset_html )\n",
        "    license        = get_html_dataset_license ( dataset_html )\n",
        "    resources_href = get_html_dataset_resources_href( dataset_html )\n",
        "\n",
        "    for resource_href in resources_href:\n",
        "        resource_url  = hyperlink + resource_href \n",
        "\n",
        "        resource_html = get_url_html( resource_url )  \n",
        "        resource_dict = get_html_resource_info(resource_html)\n",
        "\n",
        "        a = 'http://landpage-h.cgu.gov.br/dadosabertos/index.php?url='\n",
        "\n",
        "        if resource_dict['url']:\n",
        "            resource_dict['url_out'] = resource_dict['url'].replace(a,'')\n",
        "        else:\n",
        "            resource_dict['url_out'] = None\n",
        "        resource_dict['dataset'] = dataset.copy()\n",
        "        resource_dict['license'] = license\n",
        "\n",
        "        print('\\t\\t',resource_dict['url_out'], end='\\n')\n",
        "\n",
        "        resources.append( resource_dict )\n",
        "    \n"
      ],
      "execution_count": 140,
      "outputs": [
        {
          "output_type": "error",
          "ename": "SyntaxError",
          "evalue": "ignored",
          "traceback": [
            "\u001b[0;36m  File \u001b[0;32m\"<ipython-input-140-3431fec953ea>\"\u001b[0;36m, line \u001b[0;32m13\u001b[0m\n\u001b[0;31m    async for resource_href in resources_href:\u001b[0m\n\u001b[0m    ^\u001b[0m\n\u001b[0;31mSyntaxError\u001b[0m\u001b[0;31m:\u001b[0m 'async for' outside async function\n"
          ]
        }
      ]
    },
    {
      "cell_type": "code",
      "metadata": {
        "id": "qtk-Bj44qlgk"
      },
      "source": [
        "df_datagov = pandas.DataFrame(resources)"
      ],
      "execution_count": 141,
      "outputs": []
    },
    {
      "cell_type": "code",
      "metadata": {
        "colab": {
          "base_uri": "https://localhost:8080/",
          "height": 1000
        },
        "id": "2qM0vBPy7djZ",
        "outputId": "46ab14b8-729c-44ad-e7ce-f66936707170"
      },
      "source": [
        "df_datagov"
      ],
      "execution_count": 142,
      "outputs": [
        {
          "output_type": "execute_result",
          "data": {
            "text/html": [
              "<div>\n",
              "<style scoped>\n",
              "    .dataframe tbody tr th:only-of-type {\n",
              "        vertical-align: middle;\n",
              "    }\n",
              "\n",
              "    .dataframe tbody tr th {\n",
              "        vertical-align: top;\n",
              "    }\n",
              "\n",
              "    .dataframe thead th {\n",
              "        text-align: right;\n",
              "    }\n",
              "</style>\n",
              "<table border=\"1\" class=\"dataframe\">\n",
              "  <thead>\n",
              "    <tr style=\"text-align: right;\">\n",
              "      <th></th>\n",
              "      <th>ultima_atualizacao</th>\n",
              "      <th>criado</th>\n",
              "      <th>formato</th>\n",
              "      <th>licenca</th>\n",
              "      <th>created</th>\n",
              "      <th>datastore_active</th>\n",
              "      <th>format</th>\n",
              "      <th>id</th>\n",
              "      <th>last_modified</th>\n",
              "      <th>package_id</th>\n",
              "      <th>resource_type</th>\n",
              "      <th>revision_id</th>\n",
              "      <th>size</th>\n",
              "      <th>state</th>\n",
              "      <th>webstore_last_updated</th>\n",
              "      <th>webstore_url</th>\n",
              "      <th>url</th>\n",
              "      <th>url_out</th>\n",
              "      <th>dataset</th>\n",
              "      <th>license</th>\n",
              "      <th>position</th>\n",
              "    </tr>\n",
              "  </thead>\n",
              "  <tbody>\n",
              "    <tr>\n",
              "      <th>0</th>\n",
              "      <td>2/Abril/2021</td>\n",
              "      <td>15/Agosto/2017</td>\n",
              "      <td>CSV</td>\n",
              "      <td>Other (Open)</td>\n",
              "      <td>há mais de 3 anos</td>\n",
              "      <td>True</td>\n",
              "      <td>CSV</td>\n",
              "      <td>ff0a457e-76fa-4aca-ad99-48aebd7db070</td>\n",
              "      <td>22 dias atrás</td>\n",
              "      <td>8bf1a468-48ff-4f4d-95ee-b17b7a3a5592</td>\n",
              "      <td>csv</td>\n",
              "      <td>b51067ab-ca4a-46a5-a0a6-a05eeb4f5f72</td>\n",
              "      <td>741,8 KiB</td>\n",
              "      <td>active</td>\n",
              "      <td>None</td>\n",
              "      <td>None</td>\n",
              "      <td>http://landpage-h.cgu.gov.br/dadosabertos/inde...</td>\n",
              "      <td>http://dados.ufrn.br/dataset/8bf1a468-48ff-4f4...</td>\n",
              "      <td>{'title': 'Docentes', 'key': 'docentes', 'text...</td>\n",
              "      <td>{'title': ['Este conjunto de dados satisfaz a ...</td>\n",
              "      <td>NaN</td>\n",
              "    </tr>\n",
              "    <tr>\n",
              "      <th>1</th>\n",
              "      <td>1/Julho/2019</td>\n",
              "      <td>14/Outubro/2016</td>\n",
              "      <td>PDF</td>\n",
              "      <td>Other (Open)</td>\n",
              "      <td>há mais de 4 anos</td>\n",
              "      <td>NaN</td>\n",
              "      <td>PDF</td>\n",
              "      <td>83988d39-6dd6-4003-91ca-b5ebdbe740f5</td>\n",
              "      <td>há mais de 1 ano</td>\n",
              "      <td>8bf1a468-48ff-4f4d-95ee-b17b7a3a5592</td>\n",
              "      <td>NaN</td>\n",
              "      <td>5b422372-faf7-40d3-a325-7833942ba092</td>\n",
              "      <td>NaN</td>\n",
              "      <td>active</td>\n",
              "      <td>None</td>\n",
              "      <td>None</td>\n",
              "      <td>http://landpage-h.cgu.gov.br/dadosabertos/inde...</td>\n",
              "      <td>http://dados.ufrn.br/dataset/8bf1a468-48ff-4f4...</td>\n",
              "      <td>{'title': 'Docentes', 'key': 'docentes', 'text...</td>\n",
              "      <td>{'title': ['Este conjunto de dados satisfaz a ...</td>\n",
              "      <td>1</td>\n",
              "    </tr>\n",
              "    <tr>\n",
              "      <th>2</th>\n",
              "      <td>23/Março/2021</td>\n",
              "      <td>19/Setembro/2019</td>\n",
              "      <td>CSV</td>\n",
              "      <td>Other (Open)</td>\n",
              "      <td>há mais de 1 ano</td>\n",
              "      <td>NaN</td>\n",
              "      <td>CSV</td>\n",
              "      <td>9a42ee8c-a59f-414e-af74-1d4e1a8316ef</td>\n",
              "      <td>há 1 mês</td>\n",
              "      <td>1a21faeb-23a8-49a9-94c8-5abafa4825b5</td>\n",
              "      <td>NaN</td>\n",
              "      <td>812382fe-b005-42a4-ad0b-12627866eebf</td>\n",
              "      <td>NaN</td>\n",
              "      <td>active</td>\n",
              "      <td>None</td>\n",
              "      <td>None</td>\n",
              "      <td>http://landpage-h.cgu.gov.br/dadosabertos/inde...</td>\n",
              "      <td>http://dados.ufrn.br/dataset/1a21faeb-23a8-49a...</td>\n",
              "      <td>{'title': 'Orientações de Docentes', 'key': 'o...</td>\n",
              "      <td>{'title': ['Este conjunto de dados satisfaz a ...</td>\n",
              "      <td>NaN</td>\n",
              "    </tr>\n",
              "    <tr>\n",
              "      <th>3</th>\n",
              "      <td>23/Março/2021</td>\n",
              "      <td>19/Setembro/2019</td>\n",
              "      <td>CSV</td>\n",
              "      <td>Other (Open)</td>\n",
              "      <td>há mais de 1 ano</td>\n",
              "      <td>True</td>\n",
              "      <td>CSV</td>\n",
              "      <td>152b07dc-5b97-40dc-90a6-ab9de667f8e1</td>\n",
              "      <td>há 1 mês</td>\n",
              "      <td>1a21faeb-23a8-49a9-94c8-5abafa4825b5</td>\n",
              "      <td>NaN</td>\n",
              "      <td>812382fe-b005-42a4-ad0b-12627866eebf</td>\n",
              "      <td>NaN</td>\n",
              "      <td>active</td>\n",
              "      <td>None</td>\n",
              "      <td>None</td>\n",
              "      <td>http://landpage-h.cgu.gov.br/dadosabertos/inde...</td>\n",
              "      <td>http://dados.ufrn.br/dataset/1a21faeb-23a8-49a...</td>\n",
              "      <td>{'title': 'Orientações de Docentes', 'key': 'o...</td>\n",
              "      <td>{'title': ['Este conjunto de dados satisfaz a ...</td>\n",
              "      <td>1</td>\n",
              "    </tr>\n",
              "    <tr>\n",
              "      <th>4</th>\n",
              "      <td>23/Março/2021</td>\n",
              "      <td>15/Janeiro/2018</td>\n",
              "      <td>CSV</td>\n",
              "      <td>Other (Open)</td>\n",
              "      <td>há mais de 3 anos</td>\n",
              "      <td>True</td>\n",
              "      <td>CSV</td>\n",
              "      <td>fb0213f6-d4ae-41b1-8264-efbff24b3051</td>\n",
              "      <td>há 1 mês</td>\n",
              "      <td>1a21faeb-23a8-49a9-94c8-5abafa4825b5</td>\n",
              "      <td>NaN</td>\n",
              "      <td>812382fe-b005-42a4-ad0b-12627866eebf</td>\n",
              "      <td>NaN</td>\n",
              "      <td>active</td>\n",
              "      <td>None</td>\n",
              "      <td>None</td>\n",
              "      <td>http://landpage-h.cgu.gov.br/dadosabertos/inde...</td>\n",
              "      <td>http://dados.ufrn.br/dataset/1a21faeb-23a8-49a...</td>\n",
              "      <td>{'title': 'Orientações de Docentes', 'key': 'o...</td>\n",
              "      <td>{'title': ['Este conjunto de dados satisfaz a ...</td>\n",
              "      <td>2</td>\n",
              "    </tr>\n",
              "    <tr>\n",
              "      <th>...</th>\n",
              "      <td>...</td>\n",
              "      <td>...</td>\n",
              "      <td>...</td>\n",
              "      <td>...</td>\n",
              "      <td>...</td>\n",
              "      <td>...</td>\n",
              "      <td>...</td>\n",
              "      <td>...</td>\n",
              "      <td>...</td>\n",
              "      <td>...</td>\n",
              "      <td>...</td>\n",
              "      <td>...</td>\n",
              "      <td>...</td>\n",
              "      <td>...</td>\n",
              "      <td>...</td>\n",
              "      <td>...</td>\n",
              "      <td>...</td>\n",
              "      <td>...</td>\n",
              "      <td>...</td>\n",
              "      <td>...</td>\n",
              "      <td>...</td>\n",
              "    </tr>\n",
              "    <tr>\n",
              "      <th>114</th>\n",
              "      <td>17/Março/2021</td>\n",
              "      <td>9/Março/2020</td>\n",
              "      <td>CSV</td>\n",
              "      <td>Creative Commons Attribution</td>\n",
              "      <td>há mais de 1 ano</td>\n",
              "      <td>NaN</td>\n",
              "      <td>CSV</td>\n",
              "      <td>49bbd54d-9f0a-439a-b492-59390f90b2d2</td>\n",
              "      <td>há 1 mês</td>\n",
              "      <td>2e8d3459-1a3a-4e9a-8b7c-332d9e8fe00e</td>\n",
              "      <td>NaN</td>\n",
              "      <td>0e6cb1c1-a666-4ca0-bff3-8ab9749459ec</td>\n",
              "      <td>NaN</td>\n",
              "      <td>active</td>\n",
              "      <td>None</td>\n",
              "      <td>None</td>\n",
              "      <td>http://landpage-h.cgu.gov.br/dadosabertos/inde...</td>\n",
              "      <td>http://dados.ufrn.br/dataset/2e8d3459-1a3a-4e9...</td>\n",
              "      <td>{'title': 'Indicadores de Pesquisa', 'key': 'i...</td>\n",
              "      <td>{'title': ['Este conjunto de dados satisfaz a ...</td>\n",
              "      <td>7</td>\n",
              "    </tr>\n",
              "    <tr>\n",
              "      <th>115</th>\n",
              "      <td>17/Março/2021</td>\n",
              "      <td>9/Março/2020</td>\n",
              "      <td>CSV</td>\n",
              "      <td>Creative Commons Attribution</td>\n",
              "      <td>há mais de 1 ano</td>\n",
              "      <td>True</td>\n",
              "      <td>CSV</td>\n",
              "      <td>7e4da4ea-8f31-492e-9bed-6f53e72bff17</td>\n",
              "      <td>há 1 mês</td>\n",
              "      <td>2e8d3459-1a3a-4e9a-8b7c-332d9e8fe00e</td>\n",
              "      <td>NaN</td>\n",
              "      <td>0e6cb1c1-a666-4ca0-bff3-8ab9749459ec</td>\n",
              "      <td>NaN</td>\n",
              "      <td>active</td>\n",
              "      <td>None</td>\n",
              "      <td>None</td>\n",
              "      <td>http://landpage-h.cgu.gov.br/dadosabertos/inde...</td>\n",
              "      <td>http://dados.ufrn.br/dataset/2e8d3459-1a3a-4e9...</td>\n",
              "      <td>{'title': 'Indicadores de Pesquisa', 'key': 'i...</td>\n",
              "      <td>{'title': ['Este conjunto de dados satisfaz a ...</td>\n",
              "      <td>8</td>\n",
              "    </tr>\n",
              "    <tr>\n",
              "      <th>116</th>\n",
              "      <td>16/Abril/2021</td>\n",
              "      <td>9/Março/2020</td>\n",
              "      <td>CSV</td>\n",
              "      <td>Creative Commons Attribution</td>\n",
              "      <td>há mais de 1 ano</td>\n",
              "      <td>NaN</td>\n",
              "      <td>CSV</td>\n",
              "      <td>c063d5ec-e8d8-47fc-99bd-d3effe6aec32</td>\n",
              "      <td>8 dias atrás</td>\n",
              "      <td>2e8d3459-1a3a-4e9a-8b7c-332d9e8fe00e</td>\n",
              "      <td>NaN</td>\n",
              "      <td>fd98e6c0-3b30-49a8-b7ca-cdec375d55e3</td>\n",
              "      <td>NaN</td>\n",
              "      <td>active</td>\n",
              "      <td>None</td>\n",
              "      <td>None</td>\n",
              "      <td>http://landpage-h.cgu.gov.br/dadosabertos/inde...</td>\n",
              "      <td>http://dados.ufrn.br/dataset/2e8d3459-1a3a-4e9...</td>\n",
              "      <td>{'title': 'Indicadores de Pesquisa', 'key': 'i...</td>\n",
              "      <td>{'title': ['Este conjunto de dados satisfaz a ...</td>\n",
              "      <td>9</td>\n",
              "    </tr>\n",
              "    <tr>\n",
              "      <th>117</th>\n",
              "      <td>16/Abril/2021</td>\n",
              "      <td>9/Março/2020</td>\n",
              "      <td>CSV</td>\n",
              "      <td>Creative Commons Attribution</td>\n",
              "      <td>há mais de 1 ano</td>\n",
              "      <td>True</td>\n",
              "      <td>CSV</td>\n",
              "      <td>daf57850-420f-41dc-933b-b4fa4bbb5a23</td>\n",
              "      <td>8 dias atrás</td>\n",
              "      <td>2e8d3459-1a3a-4e9a-8b7c-332d9e8fe00e</td>\n",
              "      <td>NaN</td>\n",
              "      <td>fd98e6c0-3b30-49a8-b7ca-cdec375d55e3</td>\n",
              "      <td>NaN</td>\n",
              "      <td>active</td>\n",
              "      <td>None</td>\n",
              "      <td>None</td>\n",
              "      <td>http://landpage-h.cgu.gov.br/dadosabertos/inde...</td>\n",
              "      <td>http://dados.ufrn.br/dataset/2e8d3459-1a3a-4e9...</td>\n",
              "      <td>{'title': 'Indicadores de Pesquisa', 'key': 'i...</td>\n",
              "      <td>{'title': ['Este conjunto de dados satisfaz a ...</td>\n",
              "      <td>10</td>\n",
              "    </tr>\n",
              "    <tr>\n",
              "      <th>118</th>\n",
              "      <td>9/Março/2020</td>\n",
              "      <td>9/Março/2020</td>\n",
              "      <td>PDF</td>\n",
              "      <td>Creative Commons Attribution</td>\n",
              "      <td>há mais de 1 ano</td>\n",
              "      <td>NaN</td>\n",
              "      <td>PDF</td>\n",
              "      <td>5fa1d1f2-dd2e-4b66-846e-64b9e94ee026</td>\n",
              "      <td>há mais de 1 ano</td>\n",
              "      <td>2e8d3459-1a3a-4e9a-8b7c-332d9e8fe00e</td>\n",
              "      <td>NaN</td>\n",
              "      <td>6d82a9f4-9d61-4e40-a4df-a5894411b8b5</td>\n",
              "      <td>NaN</td>\n",
              "      <td>active</td>\n",
              "      <td>None</td>\n",
              "      <td>None</td>\n",
              "      <td>http://landpage-h.cgu.gov.br/dadosabertos/inde...</td>\n",
              "      <td>http://dados.ufrn.br/dataset/2e8d3459-1a3a-4e9...</td>\n",
              "      <td>{'title': 'Indicadores de Pesquisa', 'key': 'i...</td>\n",
              "      <td>{'title': ['Este conjunto de dados satisfaz a ...</td>\n",
              "      <td>11</td>\n",
              "    </tr>\n",
              "  </tbody>\n",
              "</table>\n",
              "<p>119 rows × 21 columns</p>\n",
              "</div>"
            ],
            "text/plain": [
              "    ultima_atualizacao  ... position\n",
              "0         2/Abril/2021  ...      NaN\n",
              "1         1/Julho/2019  ...        1\n",
              "2        23/Março/2021  ...      NaN\n",
              "3        23/Março/2021  ...        1\n",
              "4        23/Março/2021  ...        2\n",
              "..                 ...  ...      ...\n",
              "114      17/Março/2021  ...        7\n",
              "115      17/Março/2021  ...        8\n",
              "116      16/Abril/2021  ...        9\n",
              "117      16/Abril/2021  ...       10\n",
              "118       9/Março/2020  ...       11\n",
              "\n",
              "[119 rows x 21 columns]"
            ]
          },
          "metadata": {
            "tags": []
          },
          "execution_count": 142
        }
      ]
    },
    {
      "cell_type": "code",
      "metadata": {
        "colab": {
          "base_uri": "https://localhost:8080/"
        },
        "id": "N3ydZSriwp7z",
        "outputId": "7e9b71d3-288e-454a-b56a-a463c33730b3"
      },
      "source": [
        "\n",
        "resources"
      ],
      "execution_count": 77,
      "outputs": [
        {
          "output_type": "execute_result",
          "data": {
            "text/plain": [
              "[]"
            ]
          },
          "metadata": {
            "tags": []
          },
          "execution_count": 77
        }
      ]
    },
    {
      "cell_type": "code",
      "metadata": {
        "id": "VGKm-ekGqmSk"
      },
      "source": [
        "arcevo_dict = dict()\n",
        "for resource in resources:\n",
        "    key = resource['dataset']['key']\n",
        "    if not key in arcevo_dict: arcevo_dict[key] = []\n",
        "    arcevo_dict[key].append( resource['url_out'] )\n"
      ],
      "execution_count": 143,
      "outputs": []
    },
    {
      "cell_type": "code",
      "metadata": {
        "colab": {
          "base_uri": "https://localhost:8080/"
        },
        "id": "FMQNueA47x9r",
        "outputId": "ebf66746-8f87-4e2e-dc5b-82bf910459dc"
      },
      "source": [
        "\n",
        "dict_key_str = lambda key : \"arcevo_dict['%s']\" % key\n",
        "n = max([len(dict_key_str(key)) for key in arcevo_dict.keys()])\n",
        "\n"
      ],
      "execution_count": 148,
      "outputs": [
        {
          "output_type": "stream",
          "text": [
            "http://dados.ufrn.br/dataset/8bf1a468-48ff-4f4d-95ee-b17b7a3a5592/resource/ff0a457e-76fa-4aca-ad99-48aebd7db070/download/docentes.csv\n",
            "http://dados.ufrn.br/dataset/8bf1a468-48ff-4f4d-95ee-b17b7a3a5592/resource/83988d39-6dd6-4003-91ca-b5ebdbe740f5/download/docentesdicionario.pdf\n",
            "\n",
            "http://dados.ufrn.br/dataset/1a21faeb-23a8-49a9-94c8-5abafa4825b5/resource/9a42ee8c-a59f-414e-af74-1d4e1a8316ef/download/orientacoes2019.csv\n",
            "http://dados.ufrn.br/dataset/1a21faeb-23a8-49a9-94c8-5abafa4825b5/resource/152b07dc-5b97-40dc-90a6-ab9de667f8e1/download/orientacoes2018.csv\n",
            "http://dados.ufrn.br/dataset/1a21faeb-23a8-49a9-94c8-5abafa4825b5/resource/fb0213f6-d4ae-41b1-8264-efbff24b3051/download/orientacoes2017.csv\n",
            "http://dados.ufrn.br/dataset/1a21faeb-23a8-49a9-94c8-5abafa4825b5/resource/3fa37647-3b6e-4ad1-abf8-b66ef589dae3/download/orientacoes2016.csv\n",
            "http://dados.ufrn.br/dataset/1a21faeb-23a8-49a9-94c8-5abafa4825b5/resource/0391561f-dc9e-422c-8d04-f4933fcb4bb3/download/orientacoes2015.csv\n",
            "http://dados.ufrn.br/dataset/1a21faeb-23a8-49a9-94c8-5abafa4825b5/resource/da29def9-46c0-487d-8853-a319c9fc7648/download/orientacoes2014.csv\n",
            "http://dados.ufrn.br/dataset/1a21faeb-23a8-49a9-94c8-5abafa4825b5/resource/5cb1eea7-e384-4f02-9df9-d1afbf61895e/download/orientacoes2013.csv\n",
            "http://dados.ufrn.br/dataset/1a21faeb-23a8-49a9-94c8-5abafa4825b5/resource/3f8efef4-21fa-49e0-abf1-20066085ced7/download/orientacoes2012.csv\n",
            "http://dados.ufrn.br/dataset/1a21faeb-23a8-49a9-94c8-5abafa4825b5/resource/763e23e4-018d-4adf-9615-b882dc4e1a0d/download/orientacoes2011.csv\n",
            "http://dados.ufrn.br/dataset/1a21faeb-23a8-49a9-94c8-5abafa4825b5/resource/851cadcb-9167-452d-bef4-de4def8631a7/download/orientacoes2010.csv\n",
            "http://dados.ufrn.br/dataset/1a21faeb-23a8-49a9-94c8-5abafa4825b5/resource/3c507622-aefb-47d2-8e6c-2dc5234a1be4/download/orientacoes2009.csv\n",
            "http://dados.ufrn.br/dataset/1a21faeb-23a8-49a9-94c8-5abafa4825b5/resource/c1cd05f7-90ae-4558-9186-48aabf24b380/download/orientacoes2008.csv\n",
            "http://dados.ufrn.br/dataset/1a21faeb-23a8-49a9-94c8-5abafa4825b5/resource/8a16e5cb-ebda-41e3-91ba-3e1e1ce97b62/download/orientacoes2007.csv\n",
            "http://dados.ufrn.br/dataset/1a21faeb-23a8-49a9-94c8-5abafa4825b5/resource/2711956c-b4e3-40ac-a9d5-1f7318bf853d/download/orientacoes2006.csv\n",
            "http://dados.ufrn.br/dataset/1a21faeb-23a8-49a9-94c8-5abafa4825b5/resource/fa929867-efd5-4d42-bcf9-08057fec4c8b/download/orientacoes2005.csv\n",
            "http://dados.ufrn.br/dataset/1a21faeb-23a8-49a9-94c8-5abafa4825b5/resource/9988f113-c642-42fe-875c-14de32e4eff2/download/dicionario-de-dados---orientacoes-de-docentes.pdf\n",
            "http://dados.ufrn.br/dataset/1a21faeb-23a8-49a9-94c8-5abafa4825b5/resource/a153a006-bccd-4d1d-be5a-289473843301/download/orientacoes2020.csv\n",
            "\n",
            "http://dados.ufrn.br/dataset/ea03b616-16e0-4ddd-afde-4f21d7343540/resource/ddd195fd-9b25-4799-9f45-1ce65d99e982/download/dicionario-de-dados-pid.pdf\n",
            "http://dados.ufrn.br/dataset/ea03b616-16e0-4ddd-afde-4f21d7343540/resource/2e65d53c-b494-4d73-b18b-9989947e7e08/download/pids-20091.json\n",
            "http://dados.ufrn.br/dataset/ea03b616-16e0-4ddd-afde-4f21d7343540/resource/e2d3914e-da6d-41d9-b961-f5c6e38f2f99/download/pids-20092.json\n",
            "http://dados.ufrn.br/dataset/ea03b616-16e0-4ddd-afde-4f21d7343540/resource/cd317054-7153-4f1f-8e38-27277c47619a/download/pids-20101.json\n",
            "http://dados.ufrn.br/dataset/ea03b616-16e0-4ddd-afde-4f21d7343540/resource/7e692af5-1bbc-49aa-9847-3698237692b0/download/pids-20102.json\n",
            "http://dados.ufrn.br/dataset/ea03b616-16e0-4ddd-afde-4f21d7343540/resource/8c0dced1-00a5-412f-9b83-ebd798d397f2/download/pids-20111.json\n",
            "http://dados.ufrn.br/dataset/ea03b616-16e0-4ddd-afde-4f21d7343540/resource/41f6f304-3be9-4980-80f6-a8b0cab60a15/download/pids-20112.json\n",
            "http://dados.ufrn.br/dataset/ea03b616-16e0-4ddd-afde-4f21d7343540/resource/600df798-2bd9-45ad-8c85-75a0c01c7fce/download/pids-20121.json\n",
            "http://dados.ufrn.br/dataset/ea03b616-16e0-4ddd-afde-4f21d7343540/resource/9b412dac-dcd4-48ca-8b11-8898b487ca2c/download/pids-20122.json\n",
            "http://dados.ufrn.br/dataset/ea03b616-16e0-4ddd-afde-4f21d7343540/resource/260f67fc-a335-45d7-a5de-b7cd4eebae09/download/pids-20131.json\n",
            "http://dados.ufrn.br/dataset/ea03b616-16e0-4ddd-afde-4f21d7343540/resource/84ee16e3-ecef-4cd6-8de1-6f049ad733b6/download/pids-20132.json\n",
            "http://dados.ufrn.br/dataset/ea03b616-16e0-4ddd-afde-4f21d7343540/resource/dc4a9af3-158d-4032-be3f-3ee5b043f7ae/download/pids-20141.json\n",
            "http://dados.ufrn.br/dataset/ea03b616-16e0-4ddd-afde-4f21d7343540/resource/330d377c-447b-4cf3-819f-af6787a16084/download/pids-20142.json\n",
            "http://dados.ufrn.br/dataset/ea03b616-16e0-4ddd-afde-4f21d7343540/resource/036037fc-56e2-4a5c-9815-af342bede98f/download/pids-20151.json\n",
            "http://dados.ufrn.br/dataset/ea03b616-16e0-4ddd-afde-4f21d7343540/resource/eef93610-86f4-4724-85a4-e5785e9bbb92/download/pids-20152.json\n",
            "http://dados.ufrn.br/dataset/ea03b616-16e0-4ddd-afde-4f21d7343540/resource/b98a7358-6cc7-4bac-94bc-0a0335fad139/download/pids-20161.json\n",
            "http://dados.ufrn.br/dataset/ea03b616-16e0-4ddd-afde-4f21d7343540/resource/8c20a9f7-c6cb-4209-a1fa-40de7dffc798/download/pids-20162.json\n",
            "http://dados.ufrn.br/dataset/ea03b616-16e0-4ddd-afde-4f21d7343540/resource/0e1cb11c-6ca1-4625-8908-fc8969ceda55/download/pids-20171.json\n",
            "http://dados.ufrn.br/dataset/ea03b616-16e0-4ddd-afde-4f21d7343540/resource/51ee9f55-b48d-4552-a758-aaeab4adb268/download/pids-20172.json\n",
            "http://dados.ufrn.br/dataset/ea03b616-16e0-4ddd-afde-4f21d7343540/resource/e42bb7d2-8d33-444c-bf24-d68d6ef224a0/download/pids-20181.json\n",
            "http://dados.ufrn.br/dataset/ea03b616-16e0-4ddd-afde-4f21d7343540/resource/099d0284-94a3-477b-808c-8aa4872b810e/download/pids-20182.json\n",
            "http://dados.ufrn.br/dataset/ea03b616-16e0-4ddd-afde-4f21d7343540/resource/16145a40-282d-4068-b43a-9117c99ae926/download/pids-20191.json\n",
            "http://dados.ufrn.br/dataset/ea03b616-16e0-4ddd-afde-4f21d7343540/resource/9d7b1dca-0606-4b66-be5b-7731ca842670/download/pids-20192.json\n",
            "http://dados.ufrn.br/dataset/ea03b616-16e0-4ddd-afde-4f21d7343540/resource/6fc9d64f-35e5-449d-a013-f614f398ac6d/download/pids-20201.json\n",
            "\n",
            "http://dados.ufrn.br/dataset/e3536933-52ec-4ab2-aae6-1dad48f31d2c/resource/28f2570b-170b-43af-a43e-8f0c56b1872c/download/dicionario---avaliacoes-de-desempenho-de-docentes.pdf\n",
            "http://dados.ufrn.br/dataset/e3536933-52ec-4ab2-aae6-1dad48f31d2c/resource/21808e6c-4a01-409d-b97c-404c2dd5a24b/download/avaliacao-desempenho-docente.csv\n",
            "\n",
            "http://dados.ufrn.br/dataset/d5723d75-7e6e-4264-82aa-b96909b69f63/resource/7accd1d2-2793-460e-b98d-87a0679b9155/download/avaliacaodocencia.csv\n",
            "http://dados.ufrn.br/dataset/d5723d75-7e6e-4264-82aa-b96909b69f63/resource/781c88a6-80c9-4591-b626-3015501e33a5/download/dicionario-de-dados---avaliacoes-de-docentes.pdf\n",
            "\n",
            "http://dados.ufrn.br/dataset/37b4d9e1-e17f-44fd-91f3-416d67ec221a/resource/d60cf147-e6c5-44cd-b875-8c949284800c/download/publicacoes-trabalhos-em-eventos-2010.csv\n",
            "http://dados.ufrn.br/dataset/37b4d9e1-e17f-44fd-91f3-416d67ec221a/resource/83101c4c-75f7-473b-9034-7d546d684137/download/publicacoes-trabalhos-em-eventos-2011.csv\n",
            "http://dados.ufrn.br/dataset/37b4d9e1-e17f-44fd-91f3-416d67ec221a/resource/1f7d1a71-352d-4702-a122-d69ded386e2b/download/publicacoes-trabalhos-em-eventos-2012.csv\n",
            "http://dados.ufrn.br/dataset/37b4d9e1-e17f-44fd-91f3-416d67ec221a/resource/d6332fdc-eb2d-48c8-9da9-1fdcac472065/download/publicacoes-trabalhos-em-eventos-2013.csv\n",
            "http://dados.ufrn.br/dataset/37b4d9e1-e17f-44fd-91f3-416d67ec221a/resource/ac62d219-ea4d-40b8-b3c0-bef49f3d7c66/download/publicacoes-trabalhos-em-eventos-2014.csv\n",
            "http://dados.ufrn.br/dataset/37b4d9e1-e17f-44fd-91f3-416d67ec221a/resource/9af8f1bc-bf28-4bc4-a1ef-29c5c295f665/download/publicacoes-trabalhos-em-eventos-2015.csv\n",
            "http://dados.ufrn.br/dataset/37b4d9e1-e17f-44fd-91f3-416d67ec221a/resource/38c3579c-f817-4f65-90c9-654049abb4e3/download/publicacoes-trabalhos-em-eventos-2016.csv\n",
            "http://dados.ufrn.br/dataset/37b4d9e1-e17f-44fd-91f3-416d67ec221a/resource/99eb222c-dd0f-4ed5-867b-558d4cafe00d/download/publicacoes-trabalhos-em-eventos-2017.csv\n",
            "http://dados.ufrn.br/dataset/37b4d9e1-e17f-44fd-91f3-416d67ec221a/resource/a321dba4-eb8a-4aca-83de-93a7dff2f493/download/publicacoes-trabalhos-em-eventos-2014.csv\n",
            "http://dados.ufrn.br/dataset/37b4d9e1-e17f-44fd-91f3-416d67ec221a/resource/b5ad8f27-a318-4279-9ff8-1d42999009fc/download/publicacoes-trabalhos-em-eventos-2014.csv\n",
            "http://dados.ufrn.br/dataset/37b4d9e1-e17f-44fd-91f3-416d67ec221a/resource/4ba62642-c485-41cb-8fab-d14711232ac2/download/publicacoes-trabalhos-em-eventos-2020.csv\n",
            "http://dados.ufrn.br/dataset/37b4d9e1-e17f-44fd-91f3-416d67ec221a/resource/4ac187c4-940f-4e53-a8ad-78a95a727e62/download/dicionario-de-dados---trabalhos-em-eventos.pdf\n",
            "\n",
            "http://dados.ufrn.br/dataset/4dc4352e-2db7-442e-bdb2-b821cfef5fb8/resource/6cf942ee-be8d-47a1-8a9c-07bfde69487f/download/participacao-bancas-orientacoes-2010.csv\n",
            "http://dados.ufrn.br/dataset/4dc4352e-2db7-442e-bdb2-b821cfef5fb8/resource/e4641542-fb70-475c-905e-a9ead54563b6/download/participacao-bancas-orientacoes-2011\n",
            "http://dados.ufrn.br/dataset/4dc4352e-2db7-442e-bdb2-b821cfef5fb8/resource/271b22ef-ebee-44e9-960e-c74f4a78ae28/download/participacao-bancas-orientacoes-2012.csv\n",
            "http://dados.ufrn.br/dataset/4dc4352e-2db7-442e-bdb2-b821cfef5fb8/resource/13f047de-55a5-4224-8ed1-ad498c16d573/download/participacao-bancas-orientacoes-2013.csv\n",
            "http://dados.ufrn.br/dataset/4dc4352e-2db7-442e-bdb2-b821cfef5fb8/resource/a8b1f44a-1268-4825-9cde-947933a2cba0/download/participacao-bancas-orientacoes-2014.csv\n",
            "http://dados.ufrn.br/dataset/4dc4352e-2db7-442e-bdb2-b821cfef5fb8/resource/bdede092-7562-465e-a7b1-960bc563e3c3/download/participacao-bancas-orientacoes-2015.csv\n",
            "http://dados.ufrn.br/dataset/4dc4352e-2db7-442e-bdb2-b821cfef5fb8/resource/b25d54e6-d484-409e-9135-6accd3c0ab98/download/participacao-bancas-orientacoes-2016.csv\n",
            "http://dados.ufrn.br/dataset/4dc4352e-2db7-442e-bdb2-b821cfef5fb8/resource/7c208fe7-60cf-446d-b922-368722d8b309/download/participacao-bancas-orientacoes-2017.csv\n",
            "http://dados.ufrn.br/dataset/4dc4352e-2db7-442e-bdb2-b821cfef5fb8/resource/cda8ebea-e6d2-434f-9fc6-61ac736c3152/download/participacao-bancas-orientacoes-2018.csv\n",
            "http://dados.ufrn.br/dataset/4dc4352e-2db7-442e-bdb2-b821cfef5fb8/resource/f35a05e9-59a5-4c71-9442-ce75c005915b/download/participacao-bancas-orientacoes-2019.csv\n",
            "http://dados.ufrn.br/dataset/4dc4352e-2db7-442e-bdb2-b821cfef5fb8/resource/5211f659-a21c-4ad6-b833-2ff8a09dcf43/download/participacao-bancas-orientacoes-2020.csv\n",
            "http://dados.ufrn.br/dataset/4dc4352e-2db7-442e-bdb2-b821cfef5fb8/resource/0d6e8ee5-506f-45de-ad19-07ef48c73e99/download/dicionario-de-dados---participacoes-em-bancas-e-orientacoes.pdf\n",
            "\n",
            "http://dados.ufrn.br/dataset/d95b6598-f9be-4594-854c-df0f945b955f/resource/70589da1-2a0b-4233-889b-dbff397bec7a/download/publicacoes-em-revistas-2010.csv\n",
            "http://dados.ufrn.br/dataset/d95b6598-f9be-4594-854c-df0f945b955f/resource/36a7178a-6537-4a5c-a51b-72b20cf621bb/download/publicacoes-em-revistas-2011.csv\n",
            "http://dados.ufrn.br/dataset/d95b6598-f9be-4594-854c-df0f945b955f/resource/34afbda7-9bca-4f41-bce7-67210e07bbf4/download/publicacoes-em-revistas-2012.csv\n",
            "http://dados.ufrn.br/dataset/d95b6598-f9be-4594-854c-df0f945b955f/resource/76012110-9c25-4ec6-a606-d21a90252939/download/publicacoes-em-revistas-2013.csv\n",
            "http://dados.ufrn.br/dataset/d95b6598-f9be-4594-854c-df0f945b955f/resource/d6d3391d-1fdf-4036-8f2c-366f3af0d4dd/download/publicacoes-em-revistas-2014.csv\n",
            "http://dados.ufrn.br/dataset/d95b6598-f9be-4594-854c-df0f945b955f/resource/dacbefbb-db6d-40bc-82ad-c77c33c47027/download/publicacoes-em-revistas-2015.csv\n",
            "http://dados.ufrn.br/dataset/d95b6598-f9be-4594-854c-df0f945b955f/resource/88861f4f-f72a-43f7-bbae-5b7a9375735c/download/publicacoes-em-revistas-2016.csv\n",
            "http://dados.ufrn.br/dataset/d95b6598-f9be-4594-854c-df0f945b955f/resource/8c06cb90-7bb6-408d-ac25-d4adf3eb9946/download/publicacoes-em-revistas-2017.csv\n",
            "http://dados.ufrn.br/dataset/d95b6598-f9be-4594-854c-df0f945b955f/resource/18d68913-aef6-4bee-9603-fb02e2abb125/download/publicacoes-em-revistas-2018.csv\n",
            "http://dados.ufrn.br/dataset/d95b6598-f9be-4594-854c-df0f945b955f/resource/b0584335-e607-4de5-a977-3018fef54d89/download/publicacoes-em-revistas-2019.csv\n",
            "http://dados.ufrn.br/dataset/d95b6598-f9be-4594-854c-df0f945b955f/resource/e5ee15ac-a1aa-47de-8b32-9f4fb90cfef5/download/publicacoes-em-revistas-2020.csv\n",
            "http://dados.ufrn.br/dataset/d95b6598-f9be-4594-854c-df0f945b955f/resource/a915f484-bfa6-470b-b243-19ec2b9420c8/download/dicionario-de-dados---publicacoes-em-revistas.pdf\n",
            "\n",
            "http://dados.ufrn.br/dataset/bf5e6b2f-87af-495b-bd81-e509c81ea2d6/resource/4692063e-be2b-418d-a77a-ac4026749d72/download/publicacoes-livros-capitulos-2010.csv\n",
            "http://dados.ufrn.br/dataset/bf5e6b2f-87af-495b-bd81-e509c81ea2d6/resource/e3082bd8-98ac-4ff0-8b37-207f1648e398/download/publicacoes-livros-capitulos-2011.csv\n",
            "http://dados.ufrn.br/dataset/bf5e6b2f-87af-495b-bd81-e509c81ea2d6/resource/1e0daaa0-23fa-4e57-8846-5aa34ff78c74/download/publicacoes-livros-capitulos-2012.csv\n",
            "http://dados.ufrn.br/dataset/bf5e6b2f-87af-495b-bd81-e509c81ea2d6/resource/61bfbf96-1052-4172-b0f2-f90d48b91bfb/download/publicacoes-livros-capitulos-2013.csv\n",
            "http://dados.ufrn.br/dataset/bf5e6b2f-87af-495b-bd81-e509c81ea2d6/resource/79412ea8-1075-453e-aa95-1b0883a63b13/download/publicacoes-livros-capitulos-2014.csv\n",
            "http://dados.ufrn.br/dataset/bf5e6b2f-87af-495b-bd81-e509c81ea2d6/resource/6ddb5eca-e588-4913-b266-03dbb5bd7a8b/download/publicacoes-livros-capitulos-2015.csv\n",
            "http://dados.ufrn.br/dataset/bf5e6b2f-87af-495b-bd81-e509c81ea2d6/resource/a0c78e12-ed6f-4075-b686-577eff73d797/download/publicacoes-livros-capitulos-2016.csv\n",
            "http://dados.ufrn.br/dataset/bf5e6b2f-87af-495b-bd81-e509c81ea2d6/resource/d7d7ca25-e47d-48ae-a370-64d4779da1a7/download/publicacoes-livros-capitulos-2017.csv\n",
            "http://dados.ufrn.br/dataset/bf5e6b2f-87af-495b-bd81-e509c81ea2d6/resource/1fa782d4-9e6b-4737-847e-d0d87d7227fe/download/publicacoes-livros-capitulos-2018.csv\n",
            "http://dados.ufrn.br/dataset/bf5e6b2f-87af-495b-bd81-e509c81ea2d6/resource/eb76198e-8fdc-4e71-98b3-5bd801b3cfcb/download/publicacoes-livros-capitulos-2019.csv\n",
            "http://dados.ufrn.br/dataset/bf5e6b2f-87af-495b-bd81-e509c81ea2d6/resource/1869eda4-f9bf-4ff8-9c59-798fa137300a/download/publicacoes-livros-capitulos-2020.csv\n",
            "http://dados.ufrn.br/dataset/bf5e6b2f-87af-495b-bd81-e509c81ea2d6/resource/9ca53f2e-e0b2-4093-b9aa-e6853e108652/download/dicionario-de-dados---publicacoes-de-livros-e-capitulos.pdf\n",
            "\n",
            "http://dados.ufrn.br/dataset/27aa54ef-b8b4-415f-9f55-cf8d367fe170/resource/f8d814b8-eaaa-43cb-9f50-4b47a95a66f5/download/patentes-produtos-registros-outras-publicacoes-2010.csv\n",
            "http://dados.ufrn.br/dataset/27aa54ef-b8b4-415f-9f55-cf8d367fe170/resource/f390d13a-b533-4267-869f-bb5d9c7ecca8/download/patentes-produtos-registros-outras-publicacoes-2011.csv\n",
            "http://dados.ufrn.br/dataset/27aa54ef-b8b4-415f-9f55-cf8d367fe170/resource/9cfdf78c-4d8c-4b7e-94f0-3c7feb26fac7/download/patentes-produtos-registros-outras-publicacoes-2012.csv\n",
            "http://dados.ufrn.br/dataset/27aa54ef-b8b4-415f-9f55-cf8d367fe170/resource/46d59c6f-5f14-45a3-90d1-040b98aa6c11/download/patentes-produtos-registros-outras-publicacoes-2013.csv\n",
            "http://dados.ufrn.br/dataset/27aa54ef-b8b4-415f-9f55-cf8d367fe170/resource/c0bf0584-7ad3-440c-99e2-cfa29816abce/download/patentes-produtos-registros-outras-publicacoes-2014.csv\n",
            "http://dados.ufrn.br/dataset/27aa54ef-b8b4-415f-9f55-cf8d367fe170/resource/b979a24a-a8be-4fb0-a9ed-5b89e82e5e4d/download/patentes-produtos-registros-outras-publicacoes-2015.csv\n",
            "http://dados.ufrn.br/dataset/27aa54ef-b8b4-415f-9f55-cf8d367fe170/resource/33df3806-65f3-488f-9c54-4981f08ce790/download/patentes-produtos-registros-outras-publicacoes-2016.csv\n",
            "http://dados.ufrn.br/dataset/27aa54ef-b8b4-415f-9f55-cf8d367fe170/resource/ffe200c4-84c1-4a69-9a1a-aab230f04d5d/download/patentes-produtos-registros-outras-publicacoes-2017.csv\n",
            "http://dados.ufrn.br/dataset/27aa54ef-b8b4-415f-9f55-cf8d367fe170/resource/ae35a521-6897-487e-91fc-c4ebf7a97aa1/download/patentes-produtos-registros-outras-publicacoes-2018.csv\n",
            "http://dados.ufrn.br/dataset/27aa54ef-b8b4-415f-9f55-cf8d367fe170/resource/db3918f7-e9ba-4a04-b7a1-54930d7b22e2/download/patentes-produtos-registros-outras-publicacoes-2019.csv\n",
            "http://dados.ufrn.br/dataset/27aa54ef-b8b4-415f-9f55-cf8d367fe170/resource/b37ea2ec-05d7-476a-a6e2-499ad2d83446/download/patentes-produtos-registros-outras-publicacoes-2020.csv\n",
            "http://dados.ufrn.br/dataset/27aa54ef-b8b4-415f-9f55-cf8d367fe170/resource/caf305b0-63a7-4f33-8d95-65997209b894/download/dicionario-de-dados---patentes-produtos-registros-e-outros-produtos.pdf\n",
            "\n",
            "http://dados.ufrn.br/dataset/2e8d3459-1a3a-4e9a-8b7c-332d9e8fe00e/resource/c7e53244-4bc3-4c01-959d-6a18e9bef8fa/download/indicadores-pesquisa-2010.csv\n",
            "http://dados.ufrn.br/dataset/2e8d3459-1a3a-4e9a-8b7c-332d9e8fe00e/resource/77f0877d-2136-49cd-b4bd-7020d8a86520/download/indicadores-pesquisa-2011.csv\n",
            "http://dados.ufrn.br/dataset/2e8d3459-1a3a-4e9a-8b7c-332d9e8fe00e/resource/db3675eb-3e30-4b70-9c07-cd435e46f602/download/indicadores-pesquisa-2012.csv\n",
            "http://dados.ufrn.br/dataset/2e8d3459-1a3a-4e9a-8b7c-332d9e8fe00e/resource/3df4a0c1-df0c-494f-8290-e2aabe2613af/download/indicadores-pesquisa-2013.csv\n",
            "http://dados.ufrn.br/dataset/2e8d3459-1a3a-4e9a-8b7c-332d9e8fe00e/resource/9ce21102-eb44-4075-b0b0-cea8f041b75d/download/indicadores-pesquisa-2014.csv\n",
            "http://dados.ufrn.br/dataset/2e8d3459-1a3a-4e9a-8b7c-332d9e8fe00e/resource/76124c39-28dd-45a7-ad8a-3af639b7d156/download/indicadores-pesquisa-2015.csv\n",
            "http://dados.ufrn.br/dataset/2e8d3459-1a3a-4e9a-8b7c-332d9e8fe00e/resource/22800229-fc91-432a-a741-93a6cece2a40/download/indicadores-pesquisa-2016.csv\n",
            "http://dados.ufrn.br/dataset/2e8d3459-1a3a-4e9a-8b7c-332d9e8fe00e/resource/49bbd54d-9f0a-439a-b492-59390f90b2d2/download/indicadores-pesquisa-2017.csv\n",
            "http://dados.ufrn.br/dataset/2e8d3459-1a3a-4e9a-8b7c-332d9e8fe00e/resource/7e4da4ea-8f31-492e-9bed-6f53e72bff17/download/indicadores-pesquisa-2018.csv\n",
            "http://dados.ufrn.br/dataset/2e8d3459-1a3a-4e9a-8b7c-332d9e8fe00e/resource/c063d5ec-e8d8-47fc-99bd-d3effe6aec32/download/indicadores-pesquisa-2019.csv\n",
            "http://dados.ufrn.br/dataset/2e8d3459-1a3a-4e9a-8b7c-332d9e8fe00e/resource/daf57850-420f-41dc-933b-b4fa4bbb5a23/download/indicadores-pesquisa-2020.csv\n",
            "http://dados.ufrn.br/dataset/2e8d3459-1a3a-4e9a-8b7c-332d9e8fe00e/resource/5fa1d1f2-dd2e-4b66-846e-64b9e94ee026/download/dicionario-de-dados---indicadores-de-pesquisa.pdf\n",
            "\n"
          ],
          "name": "stdout"
        }
      ]
    },
    {
      "cell_type": "code",
      "metadata": {
        "id": "YGCI1eg67_mJ"
      },
      "source": [
        "\n",
        "left = list(('{: <%is} = ' % n).format( \"arcevo_dict[%s]\" % key ) for key in arcevo_dict.keys())\n",
        "\n",
        "arcevo_str = ''\n",
        "\n",
        "for key in sorted(arcevo_dict.keys(),key=lambda e: e):\n",
        "    links = arcevo_dict[key]\n",
        "    entry = ('{: <' + str(n) + 's} = [' ).format(dict_key_str(key))\n",
        "    for link in sorted(links, key=lambda e: os.path.splitext(e)[1],reverse=True):\n",
        "        entry += \"'{link}', \".format(link=link)\n",
        "    entry += \"]\\n\"\n",
        "    arcevo_str += entry"
      ],
      "execution_count": null,
      "outputs": []
    },
    {
      "cell_type": "code",
      "metadata": {
        "colab": {
          "base_uri": "https://localhost:8080/"
        },
        "id": "eun-y76H71YJ",
        "outputId": "0cec8d6c-4f59-4ef6-e61a-cda65a2a09c7"
      },
      "source": [
        "print(arcevo_str)"
      ],
      "execution_count": 150,
      "outputs": [
        {
          "output_type": "stream",
          "text": [
            "arcevo_dict['avaliacao_de_docencia']                            = ['http://dados.ufrn.br/dataset/d5723d75-7e6e-4264-82aa-b96909b69f63/resource/781c88a6-80c9-4591-b626-3015501e33a5/download/dicionario-de-dados---avaliacoes-de-docentes.pdf', 'http://dados.ufrn.br/dataset/d5723d75-7e6e-4264-82aa-b96909b69f63/resource/7accd1d2-2793-460e-b98d-87a0679b9155/download/avaliacaodocencia.csv', ]\n",
            "arcevo_dict['avaliacoes_de_desempenho_de_docentes']             = ['http://dados.ufrn.br/dataset/e3536933-52ec-4ab2-aae6-1dad48f31d2c/resource/28f2570b-170b-43af-a43e-8f0c56b1872c/download/dicionario---avaliacoes-de-desempenho-de-docentes.pdf', 'http://dados.ufrn.br/dataset/e3536933-52ec-4ab2-aae6-1dad48f31d2c/resource/21808e6c-4a01-409d-b97c-404c2dd5a24b/download/avaliacao-desempenho-docente.csv', ]\n",
            "arcevo_dict['docentes']                                         = ['http://dados.ufrn.br/dataset/8bf1a468-48ff-4f4d-95ee-b17b7a3a5592/resource/83988d39-6dd6-4003-91ca-b5ebdbe740f5/download/docentesdicionario.pdf', 'http://dados.ufrn.br/dataset/8bf1a468-48ff-4f4d-95ee-b17b7a3a5592/resource/ff0a457e-76fa-4aca-ad99-48aebd7db070/download/docentes.csv', ]\n",
            "arcevo_dict['indicadores_de_pesquisa']                          = ['http://dados.ufrn.br/dataset/2e8d3459-1a3a-4e9a-8b7c-332d9e8fe00e/resource/5fa1d1f2-dd2e-4b66-846e-64b9e94ee026/download/dicionario-de-dados---indicadores-de-pesquisa.pdf', 'http://dados.ufrn.br/dataset/2e8d3459-1a3a-4e9a-8b7c-332d9e8fe00e/resource/c7e53244-4bc3-4c01-959d-6a18e9bef8fa/download/indicadores-pesquisa-2010.csv', 'http://dados.ufrn.br/dataset/2e8d3459-1a3a-4e9a-8b7c-332d9e8fe00e/resource/77f0877d-2136-49cd-b4bd-7020d8a86520/download/indicadores-pesquisa-2011.csv', 'http://dados.ufrn.br/dataset/2e8d3459-1a3a-4e9a-8b7c-332d9e8fe00e/resource/db3675eb-3e30-4b70-9c07-cd435e46f602/download/indicadores-pesquisa-2012.csv', 'http://dados.ufrn.br/dataset/2e8d3459-1a3a-4e9a-8b7c-332d9e8fe00e/resource/3df4a0c1-df0c-494f-8290-e2aabe2613af/download/indicadores-pesquisa-2013.csv', 'http://dados.ufrn.br/dataset/2e8d3459-1a3a-4e9a-8b7c-332d9e8fe00e/resource/9ce21102-eb44-4075-b0b0-cea8f041b75d/download/indicadores-pesquisa-2014.csv', 'http://dados.ufrn.br/dataset/2e8d3459-1a3a-4e9a-8b7c-332d9e8fe00e/resource/76124c39-28dd-45a7-ad8a-3af639b7d156/download/indicadores-pesquisa-2015.csv', 'http://dados.ufrn.br/dataset/2e8d3459-1a3a-4e9a-8b7c-332d9e8fe00e/resource/22800229-fc91-432a-a741-93a6cece2a40/download/indicadores-pesquisa-2016.csv', 'http://dados.ufrn.br/dataset/2e8d3459-1a3a-4e9a-8b7c-332d9e8fe00e/resource/49bbd54d-9f0a-439a-b492-59390f90b2d2/download/indicadores-pesquisa-2017.csv', 'http://dados.ufrn.br/dataset/2e8d3459-1a3a-4e9a-8b7c-332d9e8fe00e/resource/7e4da4ea-8f31-492e-9bed-6f53e72bff17/download/indicadores-pesquisa-2018.csv', 'http://dados.ufrn.br/dataset/2e8d3459-1a3a-4e9a-8b7c-332d9e8fe00e/resource/c063d5ec-e8d8-47fc-99bd-d3effe6aec32/download/indicadores-pesquisa-2019.csv', 'http://dados.ufrn.br/dataset/2e8d3459-1a3a-4e9a-8b7c-332d9e8fe00e/resource/daf57850-420f-41dc-933b-b4fa4bbb5a23/download/indicadores-pesquisa-2020.csv', ]\n",
            "arcevo_dict['orientacoes_de_docentes']                          = ['http://dados.ufrn.br/dataset/1a21faeb-23a8-49a9-94c8-5abafa4825b5/resource/9988f113-c642-42fe-875c-14de32e4eff2/download/dicionario-de-dados---orientacoes-de-docentes.pdf', 'http://dados.ufrn.br/dataset/1a21faeb-23a8-49a9-94c8-5abafa4825b5/resource/9a42ee8c-a59f-414e-af74-1d4e1a8316ef/download/orientacoes2019.csv', 'http://dados.ufrn.br/dataset/1a21faeb-23a8-49a9-94c8-5abafa4825b5/resource/152b07dc-5b97-40dc-90a6-ab9de667f8e1/download/orientacoes2018.csv', 'http://dados.ufrn.br/dataset/1a21faeb-23a8-49a9-94c8-5abafa4825b5/resource/fb0213f6-d4ae-41b1-8264-efbff24b3051/download/orientacoes2017.csv', 'http://dados.ufrn.br/dataset/1a21faeb-23a8-49a9-94c8-5abafa4825b5/resource/3fa37647-3b6e-4ad1-abf8-b66ef589dae3/download/orientacoes2016.csv', 'http://dados.ufrn.br/dataset/1a21faeb-23a8-49a9-94c8-5abafa4825b5/resource/0391561f-dc9e-422c-8d04-f4933fcb4bb3/download/orientacoes2015.csv', 'http://dados.ufrn.br/dataset/1a21faeb-23a8-49a9-94c8-5abafa4825b5/resource/da29def9-46c0-487d-8853-a319c9fc7648/download/orientacoes2014.csv', 'http://dados.ufrn.br/dataset/1a21faeb-23a8-49a9-94c8-5abafa4825b5/resource/5cb1eea7-e384-4f02-9df9-d1afbf61895e/download/orientacoes2013.csv', 'http://dados.ufrn.br/dataset/1a21faeb-23a8-49a9-94c8-5abafa4825b5/resource/3f8efef4-21fa-49e0-abf1-20066085ced7/download/orientacoes2012.csv', 'http://dados.ufrn.br/dataset/1a21faeb-23a8-49a9-94c8-5abafa4825b5/resource/763e23e4-018d-4adf-9615-b882dc4e1a0d/download/orientacoes2011.csv', 'http://dados.ufrn.br/dataset/1a21faeb-23a8-49a9-94c8-5abafa4825b5/resource/851cadcb-9167-452d-bef4-de4def8631a7/download/orientacoes2010.csv', 'http://dados.ufrn.br/dataset/1a21faeb-23a8-49a9-94c8-5abafa4825b5/resource/3c507622-aefb-47d2-8e6c-2dc5234a1be4/download/orientacoes2009.csv', 'http://dados.ufrn.br/dataset/1a21faeb-23a8-49a9-94c8-5abafa4825b5/resource/c1cd05f7-90ae-4558-9186-48aabf24b380/download/orientacoes2008.csv', 'http://dados.ufrn.br/dataset/1a21faeb-23a8-49a9-94c8-5abafa4825b5/resource/8a16e5cb-ebda-41e3-91ba-3e1e1ce97b62/download/orientacoes2007.csv', 'http://dados.ufrn.br/dataset/1a21faeb-23a8-49a9-94c8-5abafa4825b5/resource/2711956c-b4e3-40ac-a9d5-1f7318bf853d/download/orientacoes2006.csv', 'http://dados.ufrn.br/dataset/1a21faeb-23a8-49a9-94c8-5abafa4825b5/resource/fa929867-efd5-4d42-bcf9-08057fec4c8b/download/orientacoes2005.csv', 'http://dados.ufrn.br/dataset/1a21faeb-23a8-49a9-94c8-5abafa4825b5/resource/a153a006-bccd-4d1d-be5a-289473843301/download/orientacoes2020.csv', ]\n",
            "arcevo_dict['participacoes_em_bancas_e_orientacoes']            = ['http://dados.ufrn.br/dataset/4dc4352e-2db7-442e-bdb2-b821cfef5fb8/resource/0d6e8ee5-506f-45de-ad19-07ef48c73e99/download/dicionario-de-dados---participacoes-em-bancas-e-orientacoes.pdf', 'http://dados.ufrn.br/dataset/4dc4352e-2db7-442e-bdb2-b821cfef5fb8/resource/6cf942ee-be8d-47a1-8a9c-07bfde69487f/download/participacao-bancas-orientacoes-2010.csv', 'http://dados.ufrn.br/dataset/4dc4352e-2db7-442e-bdb2-b821cfef5fb8/resource/271b22ef-ebee-44e9-960e-c74f4a78ae28/download/participacao-bancas-orientacoes-2012.csv', 'http://dados.ufrn.br/dataset/4dc4352e-2db7-442e-bdb2-b821cfef5fb8/resource/13f047de-55a5-4224-8ed1-ad498c16d573/download/participacao-bancas-orientacoes-2013.csv', 'http://dados.ufrn.br/dataset/4dc4352e-2db7-442e-bdb2-b821cfef5fb8/resource/a8b1f44a-1268-4825-9cde-947933a2cba0/download/participacao-bancas-orientacoes-2014.csv', 'http://dados.ufrn.br/dataset/4dc4352e-2db7-442e-bdb2-b821cfef5fb8/resource/bdede092-7562-465e-a7b1-960bc563e3c3/download/participacao-bancas-orientacoes-2015.csv', 'http://dados.ufrn.br/dataset/4dc4352e-2db7-442e-bdb2-b821cfef5fb8/resource/b25d54e6-d484-409e-9135-6accd3c0ab98/download/participacao-bancas-orientacoes-2016.csv', 'http://dados.ufrn.br/dataset/4dc4352e-2db7-442e-bdb2-b821cfef5fb8/resource/7c208fe7-60cf-446d-b922-368722d8b309/download/participacao-bancas-orientacoes-2017.csv', 'http://dados.ufrn.br/dataset/4dc4352e-2db7-442e-bdb2-b821cfef5fb8/resource/cda8ebea-e6d2-434f-9fc6-61ac736c3152/download/participacao-bancas-orientacoes-2018.csv', 'http://dados.ufrn.br/dataset/4dc4352e-2db7-442e-bdb2-b821cfef5fb8/resource/f35a05e9-59a5-4c71-9442-ce75c005915b/download/participacao-bancas-orientacoes-2019.csv', 'http://dados.ufrn.br/dataset/4dc4352e-2db7-442e-bdb2-b821cfef5fb8/resource/5211f659-a21c-4ad6-b833-2ff8a09dcf43/download/participacao-bancas-orientacoes-2020.csv', 'http://dados.ufrn.br/dataset/4dc4352e-2db7-442e-bdb2-b821cfef5fb8/resource/e4641542-fb70-475c-905e-a9ead54563b6/download/participacao-bancas-orientacoes-2011', ]\n",
            "arcevo_dict['patentes__produtos__registros_e_outras_producoes'] = ['http://dados.ufrn.br/dataset/27aa54ef-b8b4-415f-9f55-cf8d367fe170/resource/caf305b0-63a7-4f33-8d95-65997209b894/download/dicionario-de-dados---patentes-produtos-registros-e-outros-produtos.pdf', 'http://dados.ufrn.br/dataset/27aa54ef-b8b4-415f-9f55-cf8d367fe170/resource/f8d814b8-eaaa-43cb-9f50-4b47a95a66f5/download/patentes-produtos-registros-outras-publicacoes-2010.csv', 'http://dados.ufrn.br/dataset/27aa54ef-b8b4-415f-9f55-cf8d367fe170/resource/f390d13a-b533-4267-869f-bb5d9c7ecca8/download/patentes-produtos-registros-outras-publicacoes-2011.csv', 'http://dados.ufrn.br/dataset/27aa54ef-b8b4-415f-9f55-cf8d367fe170/resource/9cfdf78c-4d8c-4b7e-94f0-3c7feb26fac7/download/patentes-produtos-registros-outras-publicacoes-2012.csv', 'http://dados.ufrn.br/dataset/27aa54ef-b8b4-415f-9f55-cf8d367fe170/resource/46d59c6f-5f14-45a3-90d1-040b98aa6c11/download/patentes-produtos-registros-outras-publicacoes-2013.csv', 'http://dados.ufrn.br/dataset/27aa54ef-b8b4-415f-9f55-cf8d367fe170/resource/c0bf0584-7ad3-440c-99e2-cfa29816abce/download/patentes-produtos-registros-outras-publicacoes-2014.csv', 'http://dados.ufrn.br/dataset/27aa54ef-b8b4-415f-9f55-cf8d367fe170/resource/b979a24a-a8be-4fb0-a9ed-5b89e82e5e4d/download/patentes-produtos-registros-outras-publicacoes-2015.csv', 'http://dados.ufrn.br/dataset/27aa54ef-b8b4-415f-9f55-cf8d367fe170/resource/33df3806-65f3-488f-9c54-4981f08ce790/download/patentes-produtos-registros-outras-publicacoes-2016.csv', 'http://dados.ufrn.br/dataset/27aa54ef-b8b4-415f-9f55-cf8d367fe170/resource/ffe200c4-84c1-4a69-9a1a-aab230f04d5d/download/patentes-produtos-registros-outras-publicacoes-2017.csv', 'http://dados.ufrn.br/dataset/27aa54ef-b8b4-415f-9f55-cf8d367fe170/resource/ae35a521-6897-487e-91fc-c4ebf7a97aa1/download/patentes-produtos-registros-outras-publicacoes-2018.csv', 'http://dados.ufrn.br/dataset/27aa54ef-b8b4-415f-9f55-cf8d367fe170/resource/db3918f7-e9ba-4a04-b7a1-54930d7b22e2/download/patentes-produtos-registros-outras-publicacoes-2019.csv', 'http://dados.ufrn.br/dataset/27aa54ef-b8b4-415f-9f55-cf8d367fe170/resource/b37ea2ec-05d7-476a-a6e2-499ad2d83446/download/patentes-produtos-registros-outras-publicacoes-2020.csv', ]\n",
            "arcevo_dict['planos_individuais_docentes']                      = ['http://dados.ufrn.br/dataset/ea03b616-16e0-4ddd-afde-4f21d7343540/resource/ddd195fd-9b25-4799-9f45-1ce65d99e982/download/dicionario-de-dados-pid.pdf', 'http://dados.ufrn.br/dataset/ea03b616-16e0-4ddd-afde-4f21d7343540/resource/2e65d53c-b494-4d73-b18b-9989947e7e08/download/pids-20091.json', 'http://dados.ufrn.br/dataset/ea03b616-16e0-4ddd-afde-4f21d7343540/resource/e2d3914e-da6d-41d9-b961-f5c6e38f2f99/download/pids-20092.json', 'http://dados.ufrn.br/dataset/ea03b616-16e0-4ddd-afde-4f21d7343540/resource/cd317054-7153-4f1f-8e38-27277c47619a/download/pids-20101.json', 'http://dados.ufrn.br/dataset/ea03b616-16e0-4ddd-afde-4f21d7343540/resource/7e692af5-1bbc-49aa-9847-3698237692b0/download/pids-20102.json', 'http://dados.ufrn.br/dataset/ea03b616-16e0-4ddd-afde-4f21d7343540/resource/8c0dced1-00a5-412f-9b83-ebd798d397f2/download/pids-20111.json', 'http://dados.ufrn.br/dataset/ea03b616-16e0-4ddd-afde-4f21d7343540/resource/41f6f304-3be9-4980-80f6-a8b0cab60a15/download/pids-20112.json', 'http://dados.ufrn.br/dataset/ea03b616-16e0-4ddd-afde-4f21d7343540/resource/600df798-2bd9-45ad-8c85-75a0c01c7fce/download/pids-20121.json', 'http://dados.ufrn.br/dataset/ea03b616-16e0-4ddd-afde-4f21d7343540/resource/9b412dac-dcd4-48ca-8b11-8898b487ca2c/download/pids-20122.json', 'http://dados.ufrn.br/dataset/ea03b616-16e0-4ddd-afde-4f21d7343540/resource/260f67fc-a335-45d7-a5de-b7cd4eebae09/download/pids-20131.json', 'http://dados.ufrn.br/dataset/ea03b616-16e0-4ddd-afde-4f21d7343540/resource/84ee16e3-ecef-4cd6-8de1-6f049ad733b6/download/pids-20132.json', 'http://dados.ufrn.br/dataset/ea03b616-16e0-4ddd-afde-4f21d7343540/resource/dc4a9af3-158d-4032-be3f-3ee5b043f7ae/download/pids-20141.json', 'http://dados.ufrn.br/dataset/ea03b616-16e0-4ddd-afde-4f21d7343540/resource/330d377c-447b-4cf3-819f-af6787a16084/download/pids-20142.json', 'http://dados.ufrn.br/dataset/ea03b616-16e0-4ddd-afde-4f21d7343540/resource/036037fc-56e2-4a5c-9815-af342bede98f/download/pids-20151.json', 'http://dados.ufrn.br/dataset/ea03b616-16e0-4ddd-afde-4f21d7343540/resource/eef93610-86f4-4724-85a4-e5785e9bbb92/download/pids-20152.json', 'http://dados.ufrn.br/dataset/ea03b616-16e0-4ddd-afde-4f21d7343540/resource/b98a7358-6cc7-4bac-94bc-0a0335fad139/download/pids-20161.json', 'http://dados.ufrn.br/dataset/ea03b616-16e0-4ddd-afde-4f21d7343540/resource/8c20a9f7-c6cb-4209-a1fa-40de7dffc798/download/pids-20162.json', 'http://dados.ufrn.br/dataset/ea03b616-16e0-4ddd-afde-4f21d7343540/resource/0e1cb11c-6ca1-4625-8908-fc8969ceda55/download/pids-20171.json', 'http://dados.ufrn.br/dataset/ea03b616-16e0-4ddd-afde-4f21d7343540/resource/51ee9f55-b48d-4552-a758-aaeab4adb268/download/pids-20172.json', 'http://dados.ufrn.br/dataset/ea03b616-16e0-4ddd-afde-4f21d7343540/resource/e42bb7d2-8d33-444c-bf24-d68d6ef224a0/download/pids-20181.json', 'http://dados.ufrn.br/dataset/ea03b616-16e0-4ddd-afde-4f21d7343540/resource/099d0284-94a3-477b-808c-8aa4872b810e/download/pids-20182.json', 'http://dados.ufrn.br/dataset/ea03b616-16e0-4ddd-afde-4f21d7343540/resource/16145a40-282d-4068-b43a-9117c99ae926/download/pids-20191.json', 'http://dados.ufrn.br/dataset/ea03b616-16e0-4ddd-afde-4f21d7343540/resource/9d7b1dca-0606-4b66-be5b-7731ca842670/download/pids-20192.json', 'http://dados.ufrn.br/dataset/ea03b616-16e0-4ddd-afde-4f21d7343540/resource/6fc9d64f-35e5-449d-a013-f614f398ac6d/download/pids-20201.json', ]\n",
            "arcevo_dict['publicacoes_de_livros_e_capitulos']                = ['http://dados.ufrn.br/dataset/bf5e6b2f-87af-495b-bd81-e509c81ea2d6/resource/9ca53f2e-e0b2-4093-b9aa-e6853e108652/download/dicionario-de-dados---publicacoes-de-livros-e-capitulos.pdf', 'http://dados.ufrn.br/dataset/bf5e6b2f-87af-495b-bd81-e509c81ea2d6/resource/4692063e-be2b-418d-a77a-ac4026749d72/download/publicacoes-livros-capitulos-2010.csv', 'http://dados.ufrn.br/dataset/bf5e6b2f-87af-495b-bd81-e509c81ea2d6/resource/e3082bd8-98ac-4ff0-8b37-207f1648e398/download/publicacoes-livros-capitulos-2011.csv', 'http://dados.ufrn.br/dataset/bf5e6b2f-87af-495b-bd81-e509c81ea2d6/resource/1e0daaa0-23fa-4e57-8846-5aa34ff78c74/download/publicacoes-livros-capitulos-2012.csv', 'http://dados.ufrn.br/dataset/bf5e6b2f-87af-495b-bd81-e509c81ea2d6/resource/61bfbf96-1052-4172-b0f2-f90d48b91bfb/download/publicacoes-livros-capitulos-2013.csv', 'http://dados.ufrn.br/dataset/bf5e6b2f-87af-495b-bd81-e509c81ea2d6/resource/79412ea8-1075-453e-aa95-1b0883a63b13/download/publicacoes-livros-capitulos-2014.csv', 'http://dados.ufrn.br/dataset/bf5e6b2f-87af-495b-bd81-e509c81ea2d6/resource/6ddb5eca-e588-4913-b266-03dbb5bd7a8b/download/publicacoes-livros-capitulos-2015.csv', 'http://dados.ufrn.br/dataset/bf5e6b2f-87af-495b-bd81-e509c81ea2d6/resource/a0c78e12-ed6f-4075-b686-577eff73d797/download/publicacoes-livros-capitulos-2016.csv', 'http://dados.ufrn.br/dataset/bf5e6b2f-87af-495b-bd81-e509c81ea2d6/resource/d7d7ca25-e47d-48ae-a370-64d4779da1a7/download/publicacoes-livros-capitulos-2017.csv', 'http://dados.ufrn.br/dataset/bf5e6b2f-87af-495b-bd81-e509c81ea2d6/resource/1fa782d4-9e6b-4737-847e-d0d87d7227fe/download/publicacoes-livros-capitulos-2018.csv', 'http://dados.ufrn.br/dataset/bf5e6b2f-87af-495b-bd81-e509c81ea2d6/resource/eb76198e-8fdc-4e71-98b3-5bd801b3cfcb/download/publicacoes-livros-capitulos-2019.csv', 'http://dados.ufrn.br/dataset/bf5e6b2f-87af-495b-bd81-e509c81ea2d6/resource/1869eda4-f9bf-4ff8-9c59-798fa137300a/download/publicacoes-livros-capitulos-2020.csv', ]\n",
            "arcevo_dict['publicacoes_em_revistas']                          = ['http://dados.ufrn.br/dataset/d95b6598-f9be-4594-854c-df0f945b955f/resource/a915f484-bfa6-470b-b243-19ec2b9420c8/download/dicionario-de-dados---publicacoes-em-revistas.pdf', 'http://dados.ufrn.br/dataset/d95b6598-f9be-4594-854c-df0f945b955f/resource/70589da1-2a0b-4233-889b-dbff397bec7a/download/publicacoes-em-revistas-2010.csv', 'http://dados.ufrn.br/dataset/d95b6598-f9be-4594-854c-df0f945b955f/resource/36a7178a-6537-4a5c-a51b-72b20cf621bb/download/publicacoes-em-revistas-2011.csv', 'http://dados.ufrn.br/dataset/d95b6598-f9be-4594-854c-df0f945b955f/resource/34afbda7-9bca-4f41-bce7-67210e07bbf4/download/publicacoes-em-revistas-2012.csv', 'http://dados.ufrn.br/dataset/d95b6598-f9be-4594-854c-df0f945b955f/resource/76012110-9c25-4ec6-a606-d21a90252939/download/publicacoes-em-revistas-2013.csv', 'http://dados.ufrn.br/dataset/d95b6598-f9be-4594-854c-df0f945b955f/resource/d6d3391d-1fdf-4036-8f2c-366f3af0d4dd/download/publicacoes-em-revistas-2014.csv', 'http://dados.ufrn.br/dataset/d95b6598-f9be-4594-854c-df0f945b955f/resource/dacbefbb-db6d-40bc-82ad-c77c33c47027/download/publicacoes-em-revistas-2015.csv', 'http://dados.ufrn.br/dataset/d95b6598-f9be-4594-854c-df0f945b955f/resource/88861f4f-f72a-43f7-bbae-5b7a9375735c/download/publicacoes-em-revistas-2016.csv', 'http://dados.ufrn.br/dataset/d95b6598-f9be-4594-854c-df0f945b955f/resource/8c06cb90-7bb6-408d-ac25-d4adf3eb9946/download/publicacoes-em-revistas-2017.csv', 'http://dados.ufrn.br/dataset/d95b6598-f9be-4594-854c-df0f945b955f/resource/18d68913-aef6-4bee-9603-fb02e2abb125/download/publicacoes-em-revistas-2018.csv', 'http://dados.ufrn.br/dataset/d95b6598-f9be-4594-854c-df0f945b955f/resource/b0584335-e607-4de5-a977-3018fef54d89/download/publicacoes-em-revistas-2019.csv', 'http://dados.ufrn.br/dataset/d95b6598-f9be-4594-854c-df0f945b955f/resource/e5ee15ac-a1aa-47de-8b32-9f4fb90cfef5/download/publicacoes-em-revistas-2020.csv', ]\n",
            "arcevo_dict['trabalhos_em_eventos']                             = ['http://dados.ufrn.br/dataset/37b4d9e1-e17f-44fd-91f3-416d67ec221a/resource/4ac187c4-940f-4e53-a8ad-78a95a727e62/download/dicionario-de-dados---trabalhos-em-eventos.pdf', 'http://dados.ufrn.br/dataset/37b4d9e1-e17f-44fd-91f3-416d67ec221a/resource/d60cf147-e6c5-44cd-b875-8c949284800c/download/publicacoes-trabalhos-em-eventos-2010.csv', 'http://dados.ufrn.br/dataset/37b4d9e1-e17f-44fd-91f3-416d67ec221a/resource/83101c4c-75f7-473b-9034-7d546d684137/download/publicacoes-trabalhos-em-eventos-2011.csv', 'http://dados.ufrn.br/dataset/37b4d9e1-e17f-44fd-91f3-416d67ec221a/resource/1f7d1a71-352d-4702-a122-d69ded386e2b/download/publicacoes-trabalhos-em-eventos-2012.csv', 'http://dados.ufrn.br/dataset/37b4d9e1-e17f-44fd-91f3-416d67ec221a/resource/d6332fdc-eb2d-48c8-9da9-1fdcac472065/download/publicacoes-trabalhos-em-eventos-2013.csv', 'http://dados.ufrn.br/dataset/37b4d9e1-e17f-44fd-91f3-416d67ec221a/resource/ac62d219-ea4d-40b8-b3c0-bef49f3d7c66/download/publicacoes-trabalhos-em-eventos-2014.csv', 'http://dados.ufrn.br/dataset/37b4d9e1-e17f-44fd-91f3-416d67ec221a/resource/9af8f1bc-bf28-4bc4-a1ef-29c5c295f665/download/publicacoes-trabalhos-em-eventos-2015.csv', 'http://dados.ufrn.br/dataset/37b4d9e1-e17f-44fd-91f3-416d67ec221a/resource/38c3579c-f817-4f65-90c9-654049abb4e3/download/publicacoes-trabalhos-em-eventos-2016.csv', 'http://dados.ufrn.br/dataset/37b4d9e1-e17f-44fd-91f3-416d67ec221a/resource/99eb222c-dd0f-4ed5-867b-558d4cafe00d/download/publicacoes-trabalhos-em-eventos-2017.csv', 'http://dados.ufrn.br/dataset/37b4d9e1-e17f-44fd-91f3-416d67ec221a/resource/a321dba4-eb8a-4aca-83de-93a7dff2f493/download/publicacoes-trabalhos-em-eventos-2014.csv', 'http://dados.ufrn.br/dataset/37b4d9e1-e17f-44fd-91f3-416d67ec221a/resource/b5ad8f27-a318-4279-9ff8-1d42999009fc/download/publicacoes-trabalhos-em-eventos-2014.csv', 'http://dados.ufrn.br/dataset/37b4d9e1-e17f-44fd-91f3-416d67ec221a/resource/4ba62642-c485-41cb-8fab-d14711232ac2/download/publicacoes-trabalhos-em-eventos-2020.csv', ]\n",
            "\n"
          ],
          "name": "stdout"
        }
      ]
    }
  ]
}